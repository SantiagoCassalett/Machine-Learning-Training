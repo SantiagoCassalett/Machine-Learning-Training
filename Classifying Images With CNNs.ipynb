{
 "cells": [
  {
   "cell_type": "code",
   "execution_count": 1,
   "metadata": {},
   "outputs": [],
   "source": [
    "###########################################\n",
    "# Computing Convolutions in one dimension #\n",
    "###########################################"
   ]
  },
  {
   "cell_type": "code",
   "execution_count": 2,
   "metadata": {},
   "outputs": [
    {
     "name": "stdout",
     "output_type": "stream",
     "text": [
      "Convld Implimentation: [ 5. 14. 16. 26. 24. 34. 19. 22.]\n",
      "NumPy Results: [ 5 14 16 26 24 34 19 22]\n"
     ]
    }
   ],
   "source": [
    "#Calculation convolutions by hand compared to numpy\n",
    "import numpy as np\n",
    "\n",
    "def convld(x, w, p = 0, s = 1):\n",
    "    w_rot = np.array(w[::-1])\n",
    "    x_padded = np.array(x)\n",
    "    if p > 0:\n",
    "        zero_pad = np.zeros(shape = p)\n",
    "        x_padded = np.concatenate([zero_pad,\n",
    "                                  x_padded,\n",
    "                                  zero_pad])\n",
    "    res = []\n",
    "    for i in range(0, int(len(x) / s), s):\n",
    "        res.append(np.sum(x_padded[i:i+w_rot.shape[0]] *\n",
    "                         w_rot))\n",
    "        \n",
    "    return np.array(res)\n",
    "\n",
    "## Testing\n",
    "x = [1, 3, 2, 4, 5, 6, 1, 3]\n",
    "w = [1, 0, 3, 1, 2]\n",
    "\n",
    "print('Convld Implimentation:',\n",
    "     convld(x, w, p = 2, s = 1))\n",
    "\n",
    "print('NumPy Results:', \n",
    "     np.convolve(x, w, mode = 'same')) # same is the main impentation used\n"
   ]
  },
  {
   "cell_type": "code",
   "execution_count": 3,
   "metadata": {},
   "outputs": [],
   "source": [
    "###########################################\n",
    "# Performing a discrete convolution in 2D #\n",
    "###########################################"
   ]
  },
  {
   "cell_type": "code",
   "execution_count": 11,
   "metadata": {},
   "outputs": [],
   "source": [
    "import numpy as np\n",
    "import scipy.signal\n",
    "\n",
    "def conv2d(X, W, p = (0, 0), s = (1, 1)):\n",
    "    W_rot = np.array(W)[::-1, ::-1]\n",
    "    X_orig = np.array(X)\n",
    "    n1 = X_orig.shape[0] + 2 * p[0]\n",
    "    n2 = X_orig.shape[1] + 2 * p[1]\n",
    "    X_padded = np.zeros(shape = (n1, n2))\n",
    "    X_padded[p[0]:p[0] + X_orig.shape[0],\n",
    "            p[1]:p[1] + X_orig.shape[1]] = X_orig\n",
    "    \n",
    "    res = []\n",
    "    for i in range(0, int((X_padded.shape[0] - \n",
    "                          W_rot.shape[0]) / s[0]) + 1, s[0]):\n",
    "        res.append([])\n",
    "        for j in range(0, int((X_padded.shape[1] -\n",
    "                              W_rot.shape[1]) / s[1]) + 1, s[1]):\n",
    "            X_sub = X_padded[i:i + W_rot.shape[0],\n",
    "                            j:j+ W_rot.shape[1]]\n",
    "            res[-1].append(np.sum(X_sub * W_rot))\n",
    "            \n",
    "    return(np.array(res))"
   ]
  },
  {
   "cell_type": "code",
   "execution_count": null,
   "metadata": {},
   "outputs": [],
   "source": []
  },
  {
   "cell_type": "code",
   "execution_count": 12,
   "metadata": {},
   "outputs": [],
   "source": [
    "X = [[1, 3, 2, 4], [5, 6, 1, 3], [1, 2, 0, 2], [3, 4, 3, 2]]\n",
    "W = [[1, 0, 3], [1, 2, 1], [0, 1, 1]]"
   ]
  },
  {
   "cell_type": "code",
   "execution_count": null,
   "metadata": {},
   "outputs": [],
   "source": []
  },
  {
   "cell_type": "code",
   "execution_count": 13,
   "metadata": {},
   "outputs": [
    {
     "name": "stdout",
     "output_type": "stream",
     "text": [
      "Conv2d Implimentation:\n",
      " [[11. 25. 32. 13.]\n",
      " [19. 25. 24. 13.]\n",
      " [13. 28. 25. 17.]\n",
      " [11. 17. 14.  9.]]\n"
     ]
    }
   ],
   "source": [
    "print('Conv2d Implimentation:\\n',\n",
    "     conv2d(X, W, p=(1, 1), s = (1, 1)))"
   ]
  },
  {
   "cell_type": "code",
   "execution_count": 14,
   "metadata": {},
   "outputs": [
    {
     "name": "stdout",
     "output_type": "stream",
     "text": [
      "SciPy Results:\n",
      " [[11 25 32 13]\n",
      " [19 25 24 13]\n",
      " [13 28 25 17]\n",
      " [11 17 14  9]]\n"
     ]
    }
   ],
   "source": [
    "print('SciPy Results:\\n',\n",
    "     scipy.signal.convolve2d(X, W, mode = 'same'))"
   ]
  },
  {
   "cell_type": "code",
   "execution_count": null,
   "metadata": {},
   "outputs": [],
   "source": [
    "#########################\n",
    "# Reading an image file #\n",
    "#########################"
   ]
  },
  {
   "cell_type": "code",
   "execution_count": 1,
   "metadata": {},
   "outputs": [
    {
     "name": "stdout",
     "output_type": "stream",
     "text": [
      "Image shape: (252, 221, 3)\n"
     ]
    }
   ],
   "source": [
    "#Reading via tensorflow\n",
    "import tensorflow as tf\n",
    "\n",
    "img_raw = tf.io.read_file('example-image.png')\n",
    "img = tf.image.decode_image(img_raw)\n",
    "print('Image shape:', img.shape) # shape is 252, 221, 3 - 3 is the number of channels - rgb"
   ]
  },
  {
   "cell_type": "code",
   "execution_count": 2,
   "metadata": {},
   "outputs": [
    {
     "name": "stdout",
     "output_type": "stream",
     "text": [
      "Image shape: (252, 221, 3)\n",
      "Number of channels: 3\n",
      "Image data type: uint8\n",
      "[[[179 134 110]\n",
      "  [182 136 112]]\n",
      "\n",
      " [[180 135 111]\n",
      "  [182 137 113]]]\n"
     ]
    }
   ],
   "source": [
    "# Reading via imageio\n",
    "import imageio\n",
    "\n",
    "img = imageio.imread('example-image.png')\n",
    "print('Image shape:', img.shape)\n",
    "\n",
    "print('Number of channels:', img.shape[2])\n",
    "print('Image data type:', img.dtype)\n",
    "print(img[100:102, 100:102, :])"
   ]
  },
  {
   "cell_type": "code",
   "execution_count": null,
   "metadata": {},
   "outputs": [],
   "source": [
    "###################################\n",
    "# Regularizing an NN with dropout #\n",
    "###################################"
   ]
  },
  {
   "cell_type": "code",
   "execution_count": 3,
   "metadata": {},
   "outputs": [],
   "source": [
    "# If we wanted to include an L2 penalty to NN\n",
    "# just need to add kernel_regularizer term\n",
    "from tensorflow import keras\n",
    "\n",
    "conv_layer = keras.layers.Conv2D(\n",
    "    filters = 16,\n",
    "    kernel_size=(3, 3),\n",
    "    kernel_regularizer=keras.regularizers.l2(0.001))\n",
    "\n",
    "fc_layers = keras.layers.Dense(\n",
    "    units = 16,\n",
    "    kernel_regularizer=keras.regularizers.l2(0.001))"
   ]
  },
  {
   "cell_type": "code",
   "execution_count": null,
   "metadata": {},
   "outputs": [],
   "source": [
    "######################################\n",
    "# Loss Functions for Classifications #\n",
    "######################################"
   ]
  },
  {
   "cell_type": "code",
   "execution_count": 4,
   "metadata": {},
   "outputs": [
    {
     "name": "stdout",
     "output_type": "stream",
     "text": [
      "BCE (w Probas): 0.3711 (w logits): 0.3711\n"
     ]
    }
   ],
   "source": [
    "# How to use the three loss functions with two different formats\n",
    "# the three loss functions are: BinaryCrossEntropy, CategoricalCrossentropy\n",
    "# and Sparse CategoricalCrossentropy - Sparse does not use one-hot encoding for labels\n",
    "\n",
    "import tensorflow_datasets as tfds\n",
    "\n",
    "### Binary Crossentropy\n",
    "bce_probas = tf.keras.losses.BinaryCrossentropy(from_logits=False)\n",
    "bce_logits = tf.keras.losses.BinaryCrossentropy(from_logits=True)\n",
    "\n",
    "logits = tf.constant([0.8])\n",
    "probas = tf.keras.activations.sigmoid(logits)\n",
    "\n",
    "tf.print('BCE (w Probas): {:.4f}'.format(\n",
    "    bce_probas(y_true = [1], y_pred = probas)),\n",
    "    '(w logits): {:.4f}'.format(\n",
    "    bce_logits(y_true = [1], y_pred = logits)))"
   ]
  },
  {
   "cell_type": "code",
   "execution_count": 7,
   "metadata": {},
   "outputs": [
    {
     "name": "stdout",
     "output_type": "stream",
     "text": [
      "CCE (w Probas): 0.5996 (w Logits): 0.5996\n"
     ]
    }
   ],
   "source": [
    "### Categorical Crossentropy\n",
    "cce_probas = tf.keras.losses.CategoricalCrossentropy(\n",
    "    from_logits=False)\n",
    "cce_logits = tf.keras.losses.CategoricalCrossentropy(\n",
    "    from_logits=True)\n",
    "\n",
    "logits = tf.constant([[1.5, 0.8, 2.1]])\n",
    "probas = tf.keras.activations.softmax(logits)\n",
    "\n",
    "tf.print(\n",
    "    'CCE (w Probas): {:.4f}'.format(\n",
    "        cce_probas(y_true = [[0, 0, 1]], y_pred = probas)),\n",
    "    '(w Logits): {:.4f}'.format(\n",
    "        cce_logits(y_true = [[0, 0, 1]], y_pred = logits)))\n",
    "\n"
   ]
  },
  {
   "cell_type": "code",
   "execution_count": 8,
   "metadata": {},
   "outputs": [
    {
     "name": "stdout",
     "output_type": "stream",
     "text": [
      "Sparse CEE (w Probas): 0.5996 (w Logits): 0.5996\n"
     ]
    }
   ],
   "source": [
    "### Sparse Categorical Crossentropy\n",
    "sp_cce_probas = tf.keras.losses.SparseCategoricalCrossentropy(\n",
    "    from_logits=False)\n",
    "sp_cce_logits = tf.keras.losses.SparseCategoricalCrossentropy(\n",
    "    from_logits=True)\n",
    "\n",
    "tf.print(\n",
    "    'Sparse CEE (w Probas): {:.4f}'.format(\n",
    "        sp_cce_probas(y_true = [2], y_pred = probas)),\n",
    "    '(w Logits): {:.4f}'.format(\n",
    "        sp_cce_logits(y_true = [2], y_pred = logits)))"
   ]
  },
  {
   "cell_type": "code",
   "execution_count": null,
   "metadata": {},
   "outputs": [],
   "source": [
    "############################################\n",
    "# Implimenting a deep CNN using TensorFlow #\n",
    "############################################"
   ]
  },
  {
   "cell_type": "code",
   "execution_count": 1,
   "metadata": {},
   "outputs": [],
   "source": [
    "# Loading and preprocessing the data\n",
    "\n",
    "import tensorflow_datasets as tfds\n",
    "\n",
    "#Loading the data\n",
    "\n",
    "mnist_bldr = tfds.builder('mnist')\n",
    "mnist_bldr.download_and_prepare()\n",
    "\n",
    "datasets = mnist_bldr.as_dataset(shuffle_files = False)\n",
    "\n",
    "mnist_train_orig = datasets['train']\n",
    "mnist_test_orig = datasets['test']\n",
    "\n"
   ]
  },
  {
   "cell_type": "code",
   "execution_count": null,
   "metadata": {},
   "outputs": [],
   "source": []
  },
  {
   "cell_type": "code",
   "execution_count": null,
   "metadata": {},
   "outputs": [],
   "source": []
  },
  {
   "cell_type": "code",
   "execution_count": 2,
   "metadata": {},
   "outputs": [],
   "source": [
    "# Splitting training and validation sets\n",
    "import tensorflow as tf\n",
    "\n",
    "BUFFER_SIZE = 10000\n",
    "BATCH_SIZE = 64\n",
    "NUM_EPOCHS = 20\n",
    "\n",
    "mnist_train = mnist_train_orig.map(\n",
    "    lambda item: (tf.cast(item['image'], tf.float32) / 255.0,\n",
    "                 tf.cast(item['label'], tf.int32)))\n",
    "\n",
    "mnist_test = mnist_test_orig.map(\n",
    "    lambda item: (tf.cast(item['image'], tf.float32) / 255.0,\n",
    "                 tf.cast(item['label'], tf.int32)))\n",
    "\n",
    "tf.random.set_seed(1)\n",
    "\n",
    "mnist_train = mnist_train.shuffle(buffer_size = BUFFER_SIZE,\n",
    "                                 reshuffle_each_iteration = False)\n",
    "\n",
    "mnist_valid = mnist_train.take(10000).batch(BATCH_SIZE)\n",
    "mnist_train = mnist_train.skip(10000).batch(BATCH_SIZE)"
   ]
  },
  {
   "cell_type": "code",
   "execution_count": null,
   "metadata": {},
   "outputs": [],
   "source": []
  },
  {
   "cell_type": "code",
   "execution_count": null,
   "metadata": {},
   "outputs": [],
   "source": [
    "###############################\n",
    "# Constructing a CNN in Keras # \n",
    "###############################"
   ]
  },
  {
   "cell_type": "code",
   "execution_count": null,
   "metadata": {},
   "outputs": [],
   "source": [
    "# After doing the above - we can now move on to construct the CNN model\n",
    "\n",
    "# Input: [batchsize x 28 x 28 x 1] - 1 being the channel\n",
    "# Conv_1: [batchsize x 28 x 28 x 32] - number of filters is 32 - regularly use 32, 64, 128\n",
    "# Pooling_1: [batchsize x 14 x 14 x 32] - pooling with either Maxpool or avgpool - reduces feature map size\n",
    "# Conv_2: [batchsize x 14 x 14 x 64] - doubling the number of filters in second conv is standard\n",
    "# Pooling_2: [batchsize x 7 x 7 x 64] - same the pooling above\n",
    "# FC_1: [batchsize x 1024] - first fully connected layer (Dense) \n",
    "# FC_2 and softmax layer: [batchsize x 10] - final fully connected layer with softmax applied to the output"
   ]
  },
  {
   "cell_type": "code",
   "execution_count": 5,
   "metadata": {},
   "outputs": [],
   "source": [
    "model = tf.keras.Sequential()\n",
    "model.add(tf.keras.layers.Conv2D(\n",
    "    filters = 32, kernel_size = (5,5),\n",
    "    strides = (1,1), padding = 'same',\n",
    "    data_format='channels_last',\n",
    "    name = 'conv_1', activation = 'relu')) # First convolution layer - 5 x 5 kernel size\n",
    "\n",
    "model.add(tf.keras.layers.MaxPool2D(\n",
    "    pool_size = (2, 2), name = 'pool_1')) # First MaxPooling layer - 2 x 2 pool size reduces dimensionality in half\n",
    "\n",
    "model.add(tf.keras.layers.Conv2D(\n",
    "    filters = 64, kernel_size = (5, 5),\n",
    "    strides = (1, 1), padding = 'same',\n",
    "    name = 'conv_2', activation = 'relu')) # No need to specify the data_format in second Conv2D layer\n",
    "\n",
    "model.add(tf.keras.layers.MaxPool2D(\n",
    "    pool_size = (2, 2), name = 'pool_2'))\n",
    "\n",
    "#Default stride for MaxPool2D is set equal to the pooling size - so here it is 2"
   ]
  },
  {
   "cell_type": "code",
   "execution_count": 6,
   "metadata": {},
   "outputs": [
    {
     "data": {
      "text/plain": [
       "TensorShape([16, 7, 7, 64])"
      ]
     },
     "execution_count": 6,
     "metadata": {},
     "output_type": "execute_result"
    }
   ],
   "source": [
    "#Computing the size of the feature maps\n",
    "model.compute_output_shape(input_shape=(16, 28, 28, 1))\n",
    "\n",
    "# The first dimension corresponds to the batch dimension size - arbitrary at 16\n",
    "# the resulting shape has 64 channels and a spatial size of 7x7"
   ]
  },
  {
   "cell_type": "code",
   "execution_count": 7,
   "metadata": {},
   "outputs": [
    {
     "data": {
      "text/plain": [
       "TensorShape([16, 3136])"
      ]
     },
     "execution_count": 7,
     "metadata": {},
     "output_type": "execute_result"
    }
   ],
   "source": [
    "#The next step is to add the fully connected dense layers\n",
    "# for implimenting the classifier on top of the current model\n",
    "# Input must be of rank 2 shape [batchsize x input_units]\n",
    "# We need to flatten the output (see shape above) to be rank2\n",
    "\n",
    "model.add(tf.keras.layers.Flatten())\n",
    "model.compute_output_shape(input_shape=(16, 28, 28, 1))"
   ]
  },
  {
   "cell_type": "code",
   "execution_count": 8,
   "metadata": {},
   "outputs": [],
   "source": [
    "# The shape of (16, 3136) shows the input is now correct\n",
    "# Next we add the two dense layers with a dropout layer in between\n",
    "\n",
    "model.add(tf.keras.layers.Dense(\n",
    "    units = 1024, name = 'fc_1',\n",
    "    activation = 'relu'))\n",
    "\n",
    "model.add(tf.keras.layers.Dropout(\n",
    "    rate = 0.5))\n",
    "\n",
    "model.add(tf.keras.layers.Dense(\n",
    "    units = 10, name = 'fc_2',\n",
    "    activation = 'softmax')) #10 out units to match the 10 class labels in the dataset\n",
    "# softmax provides the class-membership probabilities of each input example"
   ]
  },
  {
   "cell_type": "code",
   "execution_count": 9,
   "metadata": {},
   "outputs": [],
   "source": [
    "#We will use the SparseCategoricalEntropy for our loss because the data is sparse (integer and not one-hot coding) \n",
    "# and is multiclass\n",
    "\n",
    "#We will also call build() method for late variable creation \n",
    "# We will then compile the model\n",
    "\n",
    "tf.random.set_seed(1)\n",
    "model.build(input_shape = (None, 28, 28, 1)) # None is the batch size\n",
    "model.compile(\n",
    "    optimizer=tf.keras.optimizers.Adam(), # Adam is a robust, gradient-based method suited to nonconvex ML problems\n",
    "    loss = tf.keras.losses.SparseCategoricalCrossentropy(),\n",
    "    metrics = ['accuracy']) "
   ]
  },
  {
   "cell_type": "code",
   "execution_count": 10,
   "metadata": {},
   "outputs": [
    {
     "name": "stdout",
     "output_type": "stream",
     "text": [
      "Epoch 1/20\n",
      "782/782 [==============================] - 98s 126ms/step - loss: 0.1373 - accuracy: 0.9577 - val_loss: 0.0466 - val_accuracy: 0.9853\n",
      "Epoch 2/20\n",
      "782/782 [==============================] - 108s 139ms/step - loss: 0.0450 - accuracy: 0.9861 - val_loss: 0.0384 - val_accuracy: 0.9879\n",
      "Epoch 3/20\n",
      "782/782 [==============================] - 144s 184ms/step - loss: 0.0291 - accuracy: 0.9907 - val_loss: 0.0431 - val_accuracy: 0.9867\n",
      "Epoch 4/20\n",
      "782/782 [==============================] - 142s 182ms/step - loss: 0.0225 - accuracy: 0.9932 - val_loss: 0.0347 - val_accuracy: 0.9893\n",
      "Epoch 5/20\n",
      "782/782 [==============================] - 151s 193ms/step - loss: 0.0185 - accuracy: 0.9940 - val_loss: 0.0482 - val_accuracy: 0.9873\n",
      "Epoch 6/20\n",
      "782/782 [==============================] - 154s 197ms/step - loss: 0.0163 - accuracy: 0.9945 - val_loss: 0.0462 - val_accuracy: 0.9887\n",
      "Epoch 7/20\n",
      "782/782 [==============================] - 143s 183ms/step - loss: 0.0118 - accuracy: 0.9962 - val_loss: 0.0530 - val_accuracy: 0.9897\n",
      "Epoch 8/20\n",
      "782/782 [==============================] - 150s 192ms/step - loss: 0.0112 - accuracy: 0.9965 - val_loss: 0.0442 - val_accuracy: 0.9893\n",
      "Epoch 9/20\n",
      "782/782 [==============================] - 148s 189ms/step - loss: 0.0088 - accuracy: 0.9971 - val_loss: 0.0566 - val_accuracy: 0.9892\n",
      "Epoch 10/20\n",
      "782/782 [==============================] - 149s 191ms/step - loss: 0.0081 - accuracy: 0.9973 - val_loss: 0.0451 - val_accuracy: 0.9902\n",
      "Epoch 11/20\n",
      "782/782 [==============================] - 149s 190ms/step - loss: 0.0095 - accuracy: 0.9967 - val_loss: 0.0543 - val_accuracy: 0.9899\n",
      "Epoch 12/20\n",
      "782/782 [==============================] - 152s 195ms/step - loss: 0.0082 - accuracy: 0.9972 - val_loss: 0.0533 - val_accuracy: 0.9901\n",
      "Epoch 13/20\n",
      "782/782 [==============================] - 143s 183ms/step - loss: 0.0075 - accuracy: 0.9975 - val_loss: 0.0673 - val_accuracy: 0.9889\n",
      "Epoch 14/20\n",
      "782/782 [==============================] - 155s 198ms/step - loss: 0.0082 - accuracy: 0.9977 - val_loss: 0.0499 - val_accuracy: 0.9918\n",
      "Epoch 15/20\n",
      "782/782 [==============================] - 151s 192ms/step - loss: 0.0050 - accuracy: 0.9986 - val_loss: 0.0525 - val_accuracy: 0.9917\n",
      "Epoch 16/20\n",
      "782/782 [==============================] - 151s 194ms/step - loss: 0.0080 - accuracy: 0.9978 - val_loss: 0.0572 - val_accuracy: 0.9909\n",
      "Epoch 17/20\n",
      "782/782 [==============================] - 150s 192ms/step - loss: 0.0045 - accuracy: 0.9985 - val_loss: 0.0626 - val_accuracy: 0.9907\n",
      "Epoch 18/20\n",
      "782/782 [==============================] - 155s 198ms/step - loss: 0.0065 - accuracy: 0.9978 - val_loss: 0.0722 - val_accuracy: 0.9894\n",
      "Epoch 19/20\n",
      "782/782 [==============================] - 146s 187ms/step - loss: 0.0071 - accuracy: 0.9979 - val_loss: 0.0669 - val_accuracy: 0.9898\n",
      "Epoch 20/20\n",
      "782/782 [==============================] - 152s 194ms/step - loss: 0.0049 - accuracy: 0.9984 - val_loss: 0.0588 - val_accuracy: 0.9921\n"
     ]
    }
   ],
   "source": [
    "#Now is time to fit the model using .fit() method\n",
    "# Will use the validation dataset to monitor the learning progress\n",
    "\n",
    "history = model.fit(mnist_train, epochs=NUM_EPOCHS,\n",
    "                   validation_data=mnist_valid,\n",
    "                   shuffle=True)"
   ]
  },
  {
   "cell_type": "code",
   "execution_count": 12,
   "metadata": {},
   "outputs": [
    {
     "data": {
      "image/png": "[encoded data removed]",
      "text/plain": [
       "<Figure size 864x288 with 2 Axes>"
      ]
     },
     "metadata": {
      "needs_background": "light"
     },
     "output_type": "display_data"
    }
   ],
   "source": [
    "#Visualizing the learning curve\n",
    "\n",
    "import matplotlib.pyplot as plt\n",
    "import numpy as np\n",
    "\n",
    "hist = history.history\n",
    "x_arr = np.arange(len(hist['loss']))+1\n",
    "\n",
    "fig = plt.figure(figsize = (12, 4))\n",
    "ax = fig.add_subplot(1, 2, 1)\n",
    "ax.plot(x_arr, hist['loss'], '-o', label = 'Train loss')\n",
    "ax.plot(x_arr, hist['val_loss'], '--<', label = 'Validation loss')\n",
    "ax.legend(fontsize = 15)\n",
    "ax = fig.add_subplot(1, 2, 2)\n",
    "ax.plot(x_arr, hist['accuracy'], '-o', label = 'Train acc.')\n",
    "ax.plot(x_arr, hist['val_accuracy'], '--<', label = 'Validation acc.')\n",
    "ax.legend(fontsize = 15)\n",
    "plt.show()\n"
   ]
  },
  {
   "cell_type": "code",
   "execution_count": 32,
   "metadata": {},
   "outputs": [
    {
     "name": "stdout",
     "output_type": "stream",
     "text": [
      "1/1 [==============================] - 0s 942us/step - loss: 0.0483 - accuracy: 0.9924\n",
      "Test acc.: 99.24%\n"
     ]
    }
   ],
   "source": [
    "#Evaluating the trained model on a test dataset with .evaluate() method\n",
    "\n",
    "test_results = model.evaluate(mnist_test.batch(10000))\n",
    "print('Test acc.: {:.2f}%'.format(test_results[1]*100))\n",
    "\n",
    "#We achieve an accuracy of 99.24 - higher than the 90% we got using the DNNClassifier"
   ]
  },
  {
   "cell_type": "code",
   "execution_count": 36,
   "metadata": {},
   "outputs": [
    {
     "data": {
      "text/plain": [
       "<BatchDataset shapes: ((None, 28, 28, 1), (None,)), types: (tf.float32, tf.int32)>"
      ]
     },
     "execution_count": 36,
     "metadata": {},
     "output_type": "execute_result"
    }
   ],
   "source": [
    "mnist_test.batch(10000)"
   ]
  },
  {
   "cell_type": "code",
   "execution_count": null,
   "metadata": {},
   "outputs": [],
   "source": []
  },
  {
   "cell_type": "code",
   "execution_count": null,
   "metadata": {},
   "outputs": [],
   "source": []
  },
  {
   "cell_type": "code",
   "execution_count": null,
   "metadata": {},
   "outputs": [],
   "source": []
  },
  {
   "cell_type": "code",
   "execution_count": null,
   "metadata": {},
   "outputs": [],
   "source": []
  },
  {
   "cell_type": "code",
   "execution_count": 31,
   "metadata": {},
   "outputs": [
    {
     "data": {
      "text/plain": [
       "[0.04826178774237633, 0.9923999905586243]"
      ]
     },
     "execution_count": 31,
     "metadata": {},
     "output_type": "execute_result"
    }
   ],
   "source": []
  },
  {
   "cell_type": "code",
   "execution_count": null,
   "metadata": {},
   "outputs": [],
   "source": []
  },
  {
   "cell_type": "code",
   "execution_count": 21,
   "metadata": {},
   "outputs": [
    {
     "name": "stdout",
     "output_type": "stream",
     "text": [
      "tf.Tensor([2 0 4 8 7 6 0 6 3 1 8 0], shape=(12,), dtype=int32)\n",
      "TensorShape([12, 10])\n",
      "tf.Tensor([2 0 4 8 7 6 0 6 3 1 8 0], shape=(12,), dtype=int64)\n"
     ]
    },
    {
     "data": {
      "image/png": "[encoded data removed]",
      "text/plain": [
       "<Figure size 864x288 with 12 Axes>"
      ]
     },
     "metadata": {},
     "output_type": "display_data"
    }
   ],
   "source": [
    "# We can also get the predicted class-membership probabilities using tf.argmax function\n",
    "# Will do this on a batch of 12 samples\n",
    "\n",
    "batch_test = next(iter(mnist_test.batch(12)))\n",
    "print(batch_test[1])\n",
    "\n",
    "preds = model(batch_test[0])\n",
    "tf.print(preds.shape)\n",
    "\n",
    "preds = tf.argmax(preds, axis = 1)\n",
    "print(preds)\n",
    "\n",
    "fig = plt.figure(figsize=(12, 4))\n",
    "for i in range(12):\n",
    "    ax = fig.add_subplot(2, 6, i+1)\n",
    "    ax.set_xticks([]); ax.set_yticks([])\n",
    "    img = batch_test[0][i, :, :, 0]\n",
    "    ax.imshow(img, cmap = 'gray_r')\n",
    "    ax.text(0.9, 0.1, '{}'.format(preds[i]),\n",
    "           size = 15, color = 'blue',\n",
    "           horizontalalignment = 'center',\n",
    "           verticalalignment = 'center',\n",
    "           transform = ax.transAxes)\n",
    "    \n",
    "plt.show()\n"
   ]
  },
  {
   "cell_type": "code",
   "execution_count": 109,
   "metadata": {},
   "outputs": [
    {
     "name": "stdout",
     "output_type": "stream",
     "text": [
      "tf.Tensor(\n",
      "[7 2 7 7 6 8 2 9 8 6 4 7 2 6 9 8 2 7 4 6 3 6 7 6 9 8 7 9 4 9 9 7 9 2 9 2 3\n",
      " 6 5 6 7 8 7 7 5 0 9 4 5 3 0 8 7 6 8 5 5 7 8 5 6 6 5 7 1 3 1 4 6 8 2 9 5 7\n",
      " 6 4], shape=(76,), dtype=int32)\n",
      "tf.Tensor(\n",
      "[4 3 1 2 3 9 1 5 2 8 9 9 7 8 1 0 0 2 7 0 5 1 9 0 4 2 2 5 9 7 4 2 7 0 4 7 2\n",
      " 5 3 4 2 3 1 8 0 6 2 2 3 8 9 2 2 1 1 3 3 2 5 9 0 8 6 2 3 0 7 9 1 9 6 5 3 9\n",
      " 8 6], shape=(76,), dtype=int32)\n"
     ]
    },
    {
     "data": {
      "image/png": "[encoded data removed]",
      "text/plain": [
       "<Figure size 864x288 with 12 Axes>"
      ]
     },
     "metadata": {},
     "output_type": "display_data"
    }
   ],
   "source": [
    "#Showing the images that are misclassified from a batch of 10000 images\n",
    "# only 76 were misclassified from this group\n",
    "# smaller batchsizes did not return enough for a 12, 4 image\n",
    "# This is an unguided exercise from the book - similar to chap 12\n",
    "\n",
    "batch_test = next(iter(mnist_test.batch(10000))) # creates a batch of the test set of 10000\n",
    "\n",
    "preds = model(batch_test[0]) #predictions based on the images\n",
    "\n",
    "preds = tf.argmax(preds, axis = 1) #using argmax to find the class-membership with highest prob.\n",
    "\n",
    "preds2 = tf.dtypes.cast(preds, tf.int32) #have to cast this to int32 in order to !=\n",
    "\n",
    "incorrect_img = batch_test[0][batch_test[1] != preds2] # = X_test[y_test != y_test_pred]\n",
    "correct_lab = batch_test[1][batch_test[1] != preds2] # = y_test[y_test != y_test_pred]\n",
    "print(correct_lab)\n",
    "\n",
    "incorrect_lab = preds2[batch_test[1] != preds2] # = y_test_pred[y_test != y_test_pred]\n",
    "print(incorrect_lab)\n",
    "\n",
    "fig = plt.figure(figsize=(12, 4))\n",
    "for i in range(12):\n",
    "    ax = fig.add_subplot(2, 6, i+1)\n",
    "    ax.set_xticks([]); ax.set_yticks([])\n",
    "    img = incorrect_img[i, :, :, 0]\n",
    "    ax.imshow(img, cmap = 'gray_r')\n",
    "    ax.set_title('%d t: %d p: %d' % (i+1, correct_lab[i], incorrect_lab[i]))\n",
    "\n",
    "plt.show()"
   ]
  }
 ],
 "metadata": {
  "kernelspec": {
   "display_name": "Python 3",
   "language": "python",
   "name": "python3"
  },
  "language_info": {
   "codemirror_mode": {
    "name": "ipython",
    "version": 3
   },
   "file_extension": ".py",
   "mimetype": "text/x-python",
   "name": "python",
   "nbconvert_exporter": "python",
   "pygments_lexer": "ipython3",
   "version": "3.7.5"
  }
 },
 "nbformat": 4,
 "nbformat_minor": 4
}
