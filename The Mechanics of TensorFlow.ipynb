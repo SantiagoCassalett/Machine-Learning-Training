{
 "cells": [
  {
   "cell_type": "code",
   "execution_count": 1,
   "metadata": {},
   "outputs": [
    {
     "name": "stdout",
     "output_type": "stream",
     "text": [
      "Result: z =  1\n"
     ]
    }
   ],
   "source": [
    "#######################\n",
    "# TENSORFLOW V1 vs V2 #\n",
    "#######################\n",
    "\n",
    "\n",
    "#Defining a static graph in TF v1.x style \n",
    "\n",
    "import tensorflow as tf\n",
    "\n",
    "g = tf.Graph()\n",
    "\n",
    "with g.as_default():\n",
    "    a = tf.constant(1, name = 'a')\n",
    "    b = tf.constant(2, name = 'b')\n",
    "    c = tf.constant(3, name = 'c')\n",
    "    z = 2 * (a-b) + c\n",
    "    \n",
    "#Have to use .compat to make the current V2 compatible with V1\n",
    "\n",
    "with tf.compat.v1.Session(graph = g) as sess: # creates a session - in V1 is necessary for the\n",
    "                                              # operations and tensors of the graph to be executed\n",
    "    print('Result: z = ', sess.run(z))"
   ]
  },
  {
   "cell_type": "code",
   "execution_count": null,
   "metadata": {},
   "outputs": [],
   "source": []
  },
  {
   "cell_type": "code",
   "execution_count": 2,
   "metadata": {},
   "outputs": [
    {
     "name": "stdout",
     "output_type": "stream",
     "text": [
      "Result: z =  1\n"
     ]
    }
   ],
   "source": [
    "#TF v2 style - uses dynamic graphs (rather than static) \n",
    "# allows us to evaluate a operation on the fly \n",
    "# do not need to explicitly create a graph and a session\n",
    "\n",
    "a = tf.constant(1, name = 'a')\n",
    "b = tf.constant(2, name = 'b')\n",
    "c = tf.constant(3, name = 'c')\n",
    "z = 2 * (a-b) + c\n",
    "\n",
    "tf.print('Result: z = ', z)\n",
    "\n",
    "#way more convenient than v1.x"
   ]
  },
  {
   "cell_type": "code",
   "execution_count": 4,
   "metadata": {},
   "outputs": [
    {
     "name": "stdout",
     "output_type": "stream",
     "text": [
      "Result: z =  1\n"
     ]
    }
   ],
   "source": [
    "#Feeding data into a TF v1.x - had to use placeholder of the tensors and 'feed' them into a dictionary\n",
    "\n",
    "g = tf.Graph()\n",
    "\n",
    "with g.as_default():\n",
    "    a = tf.compat.v1.placeholder(shape = None,\n",
    "                                dtype = tf.int32, name = 'tf_a')\n",
    "    b = tf.compat.v1.placeholder(shape = None,\n",
    "                                dtype = tf.int32, name = 'tf_b')\n",
    "    c = tf.compat.v1.placeholder(shape = None,\n",
    "                                dtype = tf.int32, name = 'tf_c')\n",
    "    z = 2 * (a-b) + c\n",
    "    \n",
    "with tf.compat.v1.Session(graph = g) as sess:\n",
    "    feed_dict = {a:1, b:2, c: 3}\n",
    "    print('Result: z = ', sess.run(z, feed_dict=feed_dict))"
   ]
  },
  {
   "cell_type": "code",
   "execution_count": 5,
   "metadata": {},
   "outputs": [
    {
     "name": "stdout",
     "output_type": "stream",
     "text": [
      "Scalar inputs: 1\n",
      "Rank 1 inputs: [1]\n",
      "Rank 2 inputs: [[1]]\n"
     ]
    }
   ],
   "source": [
    "# In TF v2 you can feed data by defining a regular Python function\n",
    "\n",
    "def compute_z(a, b, c):\n",
    "    r1 = tf.subtract(a, b)\n",
    "    r2 = tf.multiply(2, r1)\n",
    "    z = tf.add(r2, c)\n",
    "    return z\n",
    "\n",
    "# We can then simply call this function with Tensor objects as functional arguments\n",
    "# you can also input tensors of higher ranks or numpy array or other python objects\n",
    "\n",
    "#Here we provide scalar inputs (rank 0), as well as rank 1 and rank 2 as lists\n",
    "\n",
    "tf.print('Scalar inputs:', compute_z(1, 2, 3))\n",
    "\n",
    "tf.print('Rank 1 inputs:', compute_z([1], [2], [3]))\n",
    "\n",
    "tf.print('Rank 2 inputs:', compute_z([[1]], [[2]], [[3]]))\n",
    "    \n",
    "#We will now leave behind TF v1.x and only use v2"
   ]
  },
  {
   "cell_type": "code",
   "execution_count": null,
   "metadata": {},
   "outputs": [],
   "source": [
    "################################################################\n",
    "# Improving Computational Performance With Function Decorators #\n",
    "################################################################"
   ]
  },
  {
   "cell_type": "code",
   "execution_count": null,
   "metadata": {},
   "outputs": [],
   "source": [
    "# Computations via 'eager execution' (dynamic graphs) is not efficient\n",
    "# V2 has a tool called AutoGraph that transforms Python code to TF graph code\n",
    "\n",
    "@tf.function # annotating our compute_z function for graph compilation\n",
    "def compute_z(a, b, c):\n",
    "    r1 = tf.subtract(a, b)\n",
    "    r2 = tf.multiply(2, r1)\n",
    "    z = tf.add(r2, c)\n",
    "    return z\n",
    "\n",
    "#The tf.function creates a static graph but with dynamic typing capabilities\n",
    "# not just static inputs (scalar ie) but can be int, float, list, or string inputs\n"
   ]
  },
  {
   "cell_type": "code",
   "execution_count": 6,
   "metadata": {},
   "outputs": [
    {
     "name": "stdout",
     "output_type": "stream",
     "text": [
      "Rank 1 inputs: [1]\n",
      "Rank 1 inputs: [1 2]\n"
     ]
    }
   ],
   "source": [
    "# TF using a tracing mechianism to construct graphs based on the input arguments.\n",
    "# It generates a tuple of keys based on the input \"signature\"\n",
    "# TF will check if the graph with a corresponding key has been generated,\n",
    "# if not, it will generate the graph and store the new key\n",
    "\n",
    "#You can limit the way a function can be called though - specify the input signature via\n",
    "# tf.TensorSpec objects\n",
    "\n",
    "@tf.function(input_signature = (tf.TensorSpec(shape = [None],\n",
    "                                             dtype = tf.int32),\n",
    "                               tf.TensorSpec(shape = [None],\n",
    "                                            dtype = tf.int32),\n",
    "                                tf.TensorSpec(shape = [None],\n",
    "                                            dtype = tf.int32)))\n",
    "\n",
    "def compute_z(a, b, c):\n",
    "    r1 = tf.subtract(a, b)\n",
    "    r2 = tf.multiply(2, r1)\n",
    "    z = tf.add(r2, c)\n",
    "    return z\n",
    "\n",
    "#Can now call this function with rank 1 tensors\n",
    "\n",
    "tf.print('Rank 1 inputs:', compute_z([1], [2], [3]))\n",
    "tf.print('Rank 1 inputs:', compute_z([1,2], [2,4], [3, 6]))"
   ]
  },
  {
   "cell_type": "code",
   "execution_count": null,
   "metadata": {},
   "outputs": [],
   "source": [
    "#However trying to call with other ranks will not work\n",
    "\n",
    "tf.print('Rank 0 inputs:', compute_z(1, 2, 3))\n",
    "\n",
    "tf.print('Rank 2 inputs:', compute_z([[1], [2]],\n",
    "                                    [[2], [4]],\n",
    "                                    [[3], [6]]))\n",
    "\n",
    "#Will print a large error message"
   ]
  },
  {
   "cell_type": "code",
   "execution_count": null,
   "metadata": {},
   "outputs": [],
   "source": [
    "#################################################################\n",
    "# TF Variable Objects for Storing and Updating Model Parameters #\n",
    "#################################################################"
   ]
  },
  {
   "cell_type": "code",
   "execution_count": 10,
   "metadata": {},
   "outputs": [
    {
     "name": "stdout",
     "output_type": "stream",
     "text": [
      "<tf.Variable 'var_a:0' shape=() dtype=float32, numpy=3.14>\n",
      "<tf.Variable 'var_b:0' shape=(3,) dtype=int32, numpy=array([1, 2, 3], dtype=int32)>\n",
      "<tf.Variable 'var_c:0' shape=(2,) dtype=bool, numpy=array([ True, False])>\n",
      "<tf.Variable 'var_d:0' shape=(1,) dtype=string, numpy=array([b'abc'], dtype=object)>\n"
     ]
    }
   ],
   "source": [
    "# Variables in TF are a special Tensor object\n",
    "# allow us to store and update the parameters of the model during training\n",
    "\n",
    "a = tf.Variable(initial_value = 3.14, name = 'var_a')\n",
    "print(a)\n",
    "\n",
    "b = tf.Variable(initial_value = [1, 2, 3], name = 'var_b')\n",
    "print(b)\n",
    "\n",
    "c = tf.Variable(initial_value = [True, False], name = 'var_c')\n",
    "print(c)\n",
    "\n",
    "d = tf.Variable(initial_value = ['abc'], name = 'var_d')\n",
    "print(d)\n"
   ]
  },
  {
   "cell_type": "code",
   "execution_count": 12,
   "metadata": {},
   "outputs": [
    {
     "name": "stdout",
     "output_type": "stream",
     "text": [
      "False\n"
     ]
    }
   ],
   "source": [
    "#Variables are trainable or have an attribute called trainable\n",
    "# default is trainable = True but can be set to False\n",
    "\n",
    "w = tf.Variable([1, 2, 3], trainable = False)\n",
    "print(w.trainable)"
   ]
  },
  {
   "cell_type": "code",
   "execution_count": 13,
   "metadata": {},
   "outputs": [
    {
     "name": "stdout",
     "output_type": "stream",
     "text": [
      "<tf.Variable 'UnreadVariable' shape=(3,) dtype=int32, numpy=array([3, 1, 4], dtype=int32)>\n",
      "tf.Tensor([5 0 6], shape=(3,), dtype=int32)\n"
     ]
    }
   ],
   "source": [
    "#Variables can be modified by running operations such as .assign() and .assign_add()\n",
    "print(w.assign([3, 1, 4], read_value = True))\n",
    "\n",
    "w.assign_add([2, -1, 2], read_value=True)\n",
    "print(w.value())\n",
    "\n",
    "#The assign_add does element addition - 3+2 = 5\n",
    "# The read_value = True (default) automatically returns the new values after updating\n",
    "# setting to False will suppress the automatic return - the Variable will still be updated though"
   ]
  },
  {
   "cell_type": "code",
   "execution_count": 18,
   "metadata": {},
   "outputs": [
    {
     "name": "stdout",
     "output_type": "stream",
     "text": [
      "[-0.722795904 1.01456821 0.251808226]\n",
      "[[0.28982234 -0.782292783 -0.0453658961]\n",
      " [0.960991383 -0.120003454 0.708528221]]\n"
     ]
    }
   ],
   "source": [
    "# Similar to initilization of NN with random weights to break the symmetry during backpropogation\n",
    "# you can do the same with Variables\n",
    "\n",
    "tf.random.set_seed(1)\n",
    "init = tf.keras.initializers.GlorotNormal() # object of a class GlorotNormal\n",
    "\n",
    "tf.print(init(shape=(3,)))\n",
    "\n",
    "#can use this to initiaze a Variable\n",
    "v = tf.Variable(init(shape = (2,3))) #variable shape is 2,3 (two rows and three columns)\n",
    "tf.print(v)"
   ]
  },
  {
   "cell_type": "code",
   "execution_count": 19,
   "metadata": {},
   "outputs": [
    {
     "name": "stdout",
     "output_type": "stream",
     "text": [
      "All module variables: [TensorShape([2, 3]), TensorShape([1, 2])]\n",
      "Trainable variable: [TensorShape([2, 3])]\n"
     ]
    }
   ],
   "source": [
    "#Putting the above into a more practical case\n",
    "# Defining a Variable inside the base tf.Module class with two variables (1 nontrainable)\n",
    "\n",
    "class MyModule(tf.Module):\n",
    "    def __init__(self):\n",
    "        init = tf.keras.initializers.GlorotNormal()\n",
    "        self.w1 = tf.Variable(init(shape = (2, 3)),\n",
    "                             trainable = True)\n",
    "        self.w2 = tf.Variable(init(shape = (1, 2)),\n",
    "                             trainable = False)\n",
    "\n",
    "m = MyModule()\n",
    "\n",
    "print('All module variables:', [v.shape for v in m.variables])\n",
    "\n",
    "print('Trainable variable:', [v.shape for v in m.trainable_variables])\n"
   ]
  },
  {
   "cell_type": "code",
   "execution_count": 21,
   "metadata": {},
   "outputs": [],
   "source": [
    "#You cannot create a Variable inside of a decorated function @tf.function\n",
    "\n",
    "@tf.function\n",
    "def f(x):\n",
    "    w = tf.Variable([1, 2, 3])\n",
    "    \n",
    "f(1)\n",
    "\n",
    "#This will return a long error message"
   ]
  },
  {
   "cell_type": "code",
   "execution_count": 24,
   "metadata": {},
   "outputs": [
    {
     "name": "stdout",
     "output_type": "stream",
     "text": [
      "[[4.68231201]\n",
      " [3.49924636]\n",
      " [2.97944832]]\n"
     ]
    }
   ],
   "source": [
    "#One way around the issue above is to the define the variable before the decorated function\n",
    "\n",
    "w = tf.Variable(tf.random.uniform((3, 3)))\n",
    "\n",
    "@tf.function\n",
    "def compute_z(x):\n",
    "    return tf.matmul(w, x)\n",
    "\n",
    "x = tf.constant([[1], [2], [3]], dtype = tf.float32)\n",
    "tf.print(compute_z(x))"
   ]
  },
  {
   "cell_type": "code",
   "execution_count": null,
   "metadata": {},
   "outputs": [],
   "source": [
    "###########################################################################\n",
    "# Computing the gradients of the loss with respect to trainable variables #\n",
    "###########################################################################"
   ]
  },
  {
   "cell_type": "code",
   "execution_count": 25,
   "metadata": {},
   "outputs": [
    {
     "name": "stdout",
     "output_type": "stream",
     "text": [
      "True True\n"
     ]
    }
   ],
   "source": [
    "#TF provides context for calculating gradients of the computed tensors\n",
    "# with respect to its dependent nodes in the computation graph\n",
    "# To compute these gradients - you must \"record\" the computations via tf.GradientTape\n",
    "\n",
    "#Below is a simple example with z = wx+b and loss of Loss = (y-z)^2 (squared loss btw target and prediction)\n",
    "\n",
    "w = tf.Variable(1.0)\n",
    "b = tf.Variable(0.5)\n",
    "print(w.trainable, b.trainable)"
   ]
  },
  {
   "cell_type": "code",
   "execution_count": 26,
   "metadata": {},
   "outputs": [
    {
     "name": "stdout",
     "output_type": "stream",
     "text": [
      "dL/dw:  -0.559999764\n"
     ]
    }
   ],
   "source": [
    "x = tf.convert_to_tensor([1.4])\n",
    "y = tf.convert_to_tensor([2.1])\n",
    "with tf.GradientTape() as tape:\n",
    "    z = tf.add(tf.multiply(w, x), b)\n",
    "    loss = tf.reduce_sum(tf.square(y - z))\n",
    "\n",
    "dloss_dw = tape.gradient(loss, w)\n",
    "tf.print('dL/dw: ', dloss_dw)"
   ]
  },
  {
   "cell_type": "code",
   "execution_count": null,
   "metadata": {},
   "outputs": [],
   "source": [
    "#############################################################\n",
    "# Computing Gradients with respect to non-trainable tensors #\n",
    "#############################################################"
   ]
  },
  {
   "cell_type": "code",
   "execution_count": 27,
   "metadata": {},
   "outputs": [
    {
     "name": "stdout",
     "output_type": "stream",
     "text": [
      "dL/dx: [-0.399999857]\n"
     ]
    }
   ],
   "source": [
    "#For non-trainable variables or other Tensor objects need to modify GradientTape to tape.watch()\n",
    "#Here x is a tensor (non-trainable)\n",
    "with tf.GradientTape() as tape:\n",
    "    tape.watch(x)\n",
    "    z = tf.add(tf.multiply(w, x), b)\n",
    "    loss = tf.reduce_sum(tf.square(y - z))\n",
    "\n",
    "dloss_dx = tape.gradient(loss, x)\n",
    "tf.print('dL/dx:', dloss_dx)"
   ]
  },
  {
   "cell_type": "code",
   "execution_count": null,
   "metadata": {},
   "outputs": [],
   "source": [
    "########################################################\n",
    "# Keeping resources for multiple gradient computations #\n",
    "########################################################"
   ]
  },
  {
   "cell_type": "code",
   "execution_count": 28,
   "metadata": {},
   "outputs": [
    {
     "name": "stdout",
     "output_type": "stream",
     "text": [
      "dL/dw: -0.559999764\n",
      "dL/db: -0.399999857\n"
     ]
    }
   ],
   "source": [
    "# tf.GradientTape by defauly only keeps the resources for a single gradient\n",
    "# calling tape.gradient() once releases the info and the tape is cleared\n",
    "# to compute more than one gradient - have to use tape persistent\n",
    "\n",
    "with tf.GradientTape(persistent=True) as tape:\n",
    "    z = tf.add(tf.multiply(w, x), b)\n",
    "    loss = tf.reduce_sum(tf.square(y - z))\n",
    "    \n",
    "dloss_dw = tape.gradient(loss, w)\n",
    "tf.print('dL/dw:', dloss_dw)\n",
    "\n",
    "dloss_db = tape.gradient(loss, b)\n",
    "tf.print('dL/db:', dloss_db)"
   ]
  },
  {
   "cell_type": "code",
   "execution_count": 29,
   "metadata": {},
   "outputs": [
    {
     "name": "stdout",
     "output_type": "stream",
     "text": [
      "Updated w: 1.0056\n",
      "Updated bias: 0.504\n"
     ]
    }
   ],
   "source": [
    "#If we are computing gradients of a loss term with respect to the parameters of a model\n",
    "# we can define a optimizer and apply the gradients to optimize the model parameters\n",
    "\n",
    "optimizer = tf.keras.optimizers.SGD()\n",
    "optimizer.apply_gradients(zip([dloss_dw, dloss_db], [w, b]))\n",
    "\n",
    "tf.print('Updated w:', w)\n",
    "tf.print('Updated bias:', b)\n"
   ]
  },
  {
   "cell_type": "code",
   "execution_count": null,
   "metadata": {},
   "outputs": [],
   "source": [
    "#########################################################################\n",
    "# Simplifying implimentations of common architecture vias the Keras API #\n",
    "#########################################################################"
   ]
  },
  {
   "cell_type": "code",
   "execution_count": 30,
   "metadata": {},
   "outputs": [
    {
     "name": "stdout",
     "output_type": "stream",
     "text": [
      "Model: \"sequential\"\n",
      "_________________________________________________________________\n",
      "Layer (type)                 Output Shape              Param #   \n",
      "=================================================================\n",
      "dense (Dense)                multiple                  80        \n",
      "_________________________________________________________________\n",
      "dense_1 (Dense)              multiple                  544       \n",
      "=================================================================\n",
      "Total params: 624\n",
      "Trainable params: 624\n",
      "Non-trainable params: 0\n",
      "_________________________________________________________________\n"
     ]
    }
   ],
   "source": [
    "#Recap the basic steps of building a two densely (fully) connected layers NN\n",
    "\n",
    "model = tf.keras.Sequential()\n",
    "model.add(tf.keras.layers.Dense(units = 16, activation = 'relu'))\n",
    "model.add(tf.keras.layers.Dense(units = 32, activation = 'relu'))\n",
    "\n",
    "#late variable creation\n",
    "model.build(input_shape = (None, 4))\n",
    "model.summary()\n",
    "\n",
    "#Param # for 1st layer is 80 because 16 * 4 + 16(extra bias node)\n",
    "# param # for the second layer is 544 because 16 * 32 + 32 (extra bias node)"
   ]
  },
  {
   "cell_type": "code",
   "execution_count": 34,
   "metadata": {},
   "outputs": [
    {
     "name": "stdout",
     "output_type": "stream",
     "text": [
      "dense/kernel:0       True (4, 16)\n",
      "dense/bias:0         True (16,)\n",
      "dense_1/kernel:0     True (16, 32)\n",
      "dense_1/bias:0       True (32,)\n"
     ]
    }
   ],
   "source": [
    "#we can access both trainable and non-trainable variables\n",
    "for v in model.variables:\n",
    "    print('{:20s}'.format(v.name), v.trainable, v.shape)"
   ]
  },
  {
   "cell_type": "code",
   "execution_count": 35,
   "metadata": {},
   "outputs": [],
   "source": [
    "#Next we will configure the layers by applying different activation functions,\n",
    "# variable initializers, or regularization methods\n",
    "\n",
    "#Here we configure the first layer - specifying the initalizers for the kernel (weights matrix) \n",
    "# and bias variables\n",
    "\n",
    "model = tf.keras.Sequential()\n",
    "model.add(tf.keras.layers.Dense(\n",
    "                    units = 16,\n",
    "                    activation = tf.keras.activations.relu,\n",
    "                    kernel_initializer= \\\n",
    "                        tf.keras.initializers.glorot_uniform(),\n",
    "                    bias_initializer = tf.keras.initializers.Constant(2.0)\n",
    "            ))\n",
    "\n",
    "#For the second layer - specifying an L1 regularizer for the kernel (weight matrix)\n",
    "model.add(tf.keras.layers.Dense(\n",
    "                    units = 32,\n",
    "                    activation = tf.keras.activations.sigmoid,\n",
    "                    kernel_regularizer = tf.keras.regularizers.l1))\n"
   ]
  },
  {
   "cell_type": "code",
   "execution_count": 36,
   "metadata": {},
   "outputs": [],
   "source": [
    "# We can then configure the model when we compile it after configuring the individual layers\n",
    "\n",
    "model.compile(\n",
    "    optimizer= tf.keras.optimizers.SGD(learning_rate=0.001),\n",
    "    loss = tf.keras.losses.BinaryCrossentropy(),\n",
    "    metrics = [tf.keras.metrics.Accuracy(),\n",
    "              tf.keras.metrics.Precision(),\n",
    "              tf.keras.metrics.Recall()])"
   ]
  },
  {
   "cell_type": "code",
   "execution_count": null,
   "metadata": {},
   "outputs": [],
   "source": [
    "#########################################\n",
    "# Solving an XOR classification problem #\n",
    "#########################################"
   ]
  },
  {
   "cell_type": "code",
   "execution_count": 1,
   "metadata": {},
   "outputs": [
    {
     "data": {
      "image/png": "[encoded data removed]",
      "text/plain": [
       "<Figure size 432x432 with 1 Axes>"
      ]
     },
     "metadata": {
      "needs_background": "light"
     },
     "output_type": "display_data"
    }
   ],
   "source": [
    "import tensorflow as tf\n",
    "import numpy as np\n",
    "import matplotlib.pyplot as plt\n",
    "\n",
    "tf.random.set_seed(1)\n",
    "np.random.seed(1)\n",
    "\n",
    "x = np.random.uniform(low = -1, high = 1, size = (200, 2))\n",
    "y = np.ones(len(x))\n",
    "y[x[:, 0] * x[:, 1] < 0] = 0 #if x0^i * x1^i < 0 then y^i is 0\n",
    "\n",
    "x_train = x[:100, :]\n",
    "y_train = y[:100]\n",
    "x_valid = x[100:, :]\n",
    "y_valid = y[100:]\n",
    "\n",
    "fig = plt.figure(figsize=(6, 6))\n",
    "plt.plot(x[y == 0, 0],\n",
    "        x[y == 0, 1], 'o', alpha = 0.75, markersize = 10)\n",
    "plt.plot(x[y == 1, 0],\n",
    "        x[y == 1, 1], '<', alpha = 0.75, markersize = 10)\n",
    "plt.xlabel(r'$x_1$', size = 15)\n",
    "plt.ylabel(r'$x_2$',size = 15)\n",
    "plt.show()\n",
    "\n",
    "#Below is a scatter plot of training and validation samples"
   ]
  },
  {
   "cell_type": "code",
   "execution_count": null,
   "metadata": {},
   "outputs": [],
   "source": []
  },
  {
   "cell_type": "code",
   "execution_count": 3,
   "metadata": {},
   "outputs": [
    {
     "name": "stdout",
     "output_type": "stream",
     "text": [
      "Model: \"sequential\"\n",
      "_________________________________________________________________\n",
      "Layer (type)                 Output Shape              Param #   \n",
      "=================================================================\n",
      "dense (Dense)                (None, 1)                 3         \n",
      "=================================================================\n",
      "Total params: 3\n",
      "Trainable params: 3\n",
      "Non-trainable params: 0\n",
      "_________________________________________________________________\n"
     ]
    }
   ],
   "source": [
    "# When deciding the architecture of the model - always a good idea to start simple\n",
    "# below is a simple logistic regression model\n",
    "\n",
    "model = tf.keras.Sequential()\n",
    "model.add(tf.keras.layers.Dense(units = 1,\n",
    "                               input_shape = (2,),\n",
    "                               activation = 'sigmoid'))\n",
    "\n",
    "model.summary()"
   ]
  },
  {
   "cell_type": "code",
   "execution_count": 4,
   "metadata": {},
   "outputs": [],
   "source": [
    "#The model has three parameters - a 2x1 weigth matrix (kernel) and a bias vector of size 1\n",
    "# We will compile the model and train it for 200 epochs using 2 batches\n",
    "\n",
    "model.compile(optimizer=tf.keras.optimizers.SGD(),\n",
    "             loss = tf.keras.losses.BinaryCrossentropy(),\n",
    "             metrics= [tf.keras.metrics.BinaryAccuracy()])\n",
    "hist = model.fit(x_train, y_train,\n",
    "                validation_data=(x_valid, y_valid),\n",
    "                epochs = 200, batch_size=2, verbose = 0)\n",
    "\n",
    "#we will plot the learning curves, including the training and validation loss,\n",
    "# as well as their accuracy"
   ]
  },
  {
   "cell_type": "code",
   "execution_count": 5,
   "metadata": {},
   "outputs": [
    {
     "data": {
      "image/png": "[encoded data removed]",
      "text/plain": [
       "<Figure size 1152x288 with 3 Axes>"
      ]
     },
     "metadata": {
      "needs_background": "light"
     },
     "output_type": "display_data"
    }
   ],
   "source": [
    "#Also use the MLxtend library to visualize the validation data and the decision boundary\n",
    "from mlxtend.plotting import plot_decision_regions\n",
    "\n",
    "history = hist.history\n",
    "\n",
    "fig = plt.figure(figsize = (16, 4))\n",
    "ax = fig.add_subplot(1, 3, 1)\n",
    "plt.plot(history['loss'], lw = 4)\n",
    "plt.plot(history['val_loss'], lw = 4)\n",
    "plt.legend(['Training loss', 'Validation loss'], fontsize = 15)\n",
    "ax.set_xlabel('Epochs', size = 15)\n",
    "\n",
    "ax = fig.add_subplot(1, 3, 2)\n",
    "plt.plot(history['binary_accuracy'], lw = 4)\n",
    "plt.plot(history['val_binary_accuracy'], lw = 4)\n",
    "plt.legend(['Train acc.', 'Validation acc.'], fontsize = 15)\n",
    "ax.set_xlabel('Epochs', size = 15)\n",
    "\n",
    "ax = fig.add_subplot(1, 3, 3)\n",
    "plot_decision_regions(X = x_valid, y = y_valid.astype(np.integer),\n",
    "                      clf = model)\n",
    "\n",
    "ax.set_xlabel(r'$x_1$', size = 15)\n",
    "ax.xaxis.set_label_coords(1, -0.025)\n",
    "ax.set_ylabel(r'$x_2$', size = 15)\n",
    "ax.yaxis.set_label_coords(-0.025, 1)\n",
    "plt.show()\n",
    "\n",
    "#Clearly see from the graph that a model without hidden layers is force to use a linear\n",
    "# decision boundary line\n",
    "#Very high loss (.68-.70) and poor accuracy (<70%)"
   ]
  },
  {
   "cell_type": "code",
   "execution_count": null,
   "metadata": {},
   "outputs": [],
   "source": []
  },
  {
   "cell_type": "code",
   "execution_count": 19,
   "metadata": {},
   "outputs": [
    {
     "name": "stdout",
     "output_type": "stream",
     "text": [
      "Model: \"sequential_7\"\n",
      "_________________________________________________________________\n",
      "Layer (type)                 Output Shape              Param #   \n",
      "=================================================================\n",
      "dense_14 (Dense)             (None, 1)                 3         \n",
      "=================================================================\n",
      "Total params: 3\n",
      "Trainable params: 3\n",
      "Non-trainable params: 0\n",
      "_________________________________________________________________\n"
     ]
    }
   ],
   "source": [
    "#To create a non-linear decision boundry - you must create a hidden layer\n",
    "# There are two options - you can go wide or deep - wide is a smaller number of layers but more\n",
    "# hidden units and deep is more layers but fewer units\n",
    "# Each approach has its pros and cons\n",
    "\n",
    "#Below is playing around with different depths of NN\n",
    "# Here is depth 1\n",
    "tf.random.set_seed(1)\n",
    "model = tf.keras.Sequential()\n",
    "model.add(tf.keras.layers.Dense(units = 4, input_shape=(2, ),\n",
    "                               activation = 'relu'))\n",
    "model.add(tf.keras.layers.Dense(units = 1, activation = 'sigmoid'))\n",
    "model.summary()\n",
    "\n",
    "model.compile(optimizer = tf.keras.optimizers.SGD(),\n",
    "             loss = tf.keras.losses.BinaryCrossentropy(),\n",
    "             metrics = [tf.keras.metrics.BinaryAccuracy()])\n",
    "\n",
    "hist = model.fit(x_train, y_train, \n",
    "                validation_data = (x_valid, y_valid),\n",
    "                epochs = 200, batch_size = 2, verbose = 0)"
   ]
  },
  {
   "cell_type": "code",
   "execution_count": null,
   "metadata": {},
   "outputs": [],
   "source": []
  },
  {
   "cell_type": "code",
   "execution_count": null,
   "metadata": {},
   "outputs": [],
   "source": []
  },
  {
   "cell_type": "code",
   "execution_count": 20,
   "metadata": {},
   "outputs": [
    {
     "data": {
      "image/png": "[encoded data removed]",
      "text/plain": [
       "<Figure size 1152x288 with 3 Axes>"
      ]
     },
     "metadata": {
      "needs_background": "light"
     },
     "output_type": "display_data"
    }
   ],
   "source": [
    "history = hist.history\n",
    "\n",
    "fig = plt.figure(figsize = (16, 4))\n",
    "ax = fig.add_subplot(1, 3, 1)\n",
    "plt.plot(history['loss'], lw = 4)\n",
    "plt.plot(history['val_loss'], lw = 4)\n",
    "plt.legend(['Training loss', 'Validation loss'], fontsize = 15)\n",
    "ax.set_xlabel('Epochs', size = 15)\n",
    "\n",
    "ax = fig.add_subplot(1, 3, 2)\n",
    "plt.plot(history['binary_accuracy'], lw = 4)\n",
    "plt.plot(history['val_binary_accuracy'], lw = 4)\n",
    "plt.legend(['Train acc.', 'Validation acc.'], fontsize = 15)\n",
    "ax.set_xlabel('Epochs', size = 15)\n",
    "\n",
    "ax = fig.add_subplot(1, 3, 3)\n",
    "plot_decision_regions(X = x_valid, y = y_valid.astype(np.integer),\n",
    "                      clf = model)\n",
    "\n",
    "ax.set_xlabel(r'$x_1$', size = 15)\n",
    "ax.xaxis.set_label_coords(1, -0.025)\n",
    "ax.set_ylabel(r'$x_2$', size = 15)\n",
    "ax.yaxis.set_label_coords(-0.025, 1)\n",
    "plt.show()"
   ]
  },
  {
   "cell_type": "code",
   "execution_count": null,
   "metadata": {},
   "outputs": [],
   "source": []
  },
  {
   "cell_type": "code",
   "execution_count": null,
   "metadata": {},
   "outputs": [],
   "source": []
  },
  {
   "cell_type": "code",
   "execution_count": 17,
   "metadata": {},
   "outputs": [
    {
     "name": "stdout",
     "output_type": "stream",
     "text": [
      "Model: \"sequential_6\"\n",
      "_________________________________________________________________\n",
      "Layer (type)                 Output Shape              Param #   \n",
      "=================================================================\n",
      "dense_11 (Dense)             (None, 4)                 12        \n",
      "_________________________________________________________________\n",
      "dense_12 (Dense)             (None, 4)                 20        \n",
      "_________________________________________________________________\n",
      "dense_13 (Dense)             (None, 1)                 5         \n",
      "=================================================================\n",
      "Total params: 37\n",
      "Trainable params: 37\n",
      "Non-trainable params: 0\n",
      "_________________________________________________________________\n"
     ]
    }
   ],
   "source": [
    "# Here is depth 2\n",
    "tf.random.set_seed(1)\n",
    "model = tf.keras.Sequential()\n",
    "model.add(tf.keras.layers.Dense(units = 4, input_shape=(2, ),\n",
    "                               activation = 'relu'))\n",
    "model.add(tf.keras.layers.Dense(units = 4, activation = 'relu'))\n",
    "model.add(tf.keras.layers.Dense(units = 1, activation = 'sigmoid'))\n",
    "model.summary()\n",
    "\n",
    "model.compile(optimizer = tf.keras.optimizers.SGD(),\n",
    "             loss = tf.keras.losses.BinaryCrossentropy(),\n",
    "             metrics = [tf.keras.metrics.BinaryAccuracy()])\n",
    "\n",
    "hist = model.fit(x_train, y_train, \n",
    "                validation_data = (x_valid, y_valid),\n",
    "                epochs = 200, batch_size = 2, verbose = 0)"
   ]
  },
  {
   "cell_type": "code",
   "execution_count": null,
   "metadata": {},
   "outputs": [],
   "source": []
  },
  {
   "cell_type": "code",
   "execution_count": 18,
   "metadata": {},
   "outputs": [
    {
     "data": {
      "image/png": "[encoded data removed]",
      "text/plain": [
       "<Figure size 1152x288 with 3 Axes>"
      ]
     },
     "metadata": {
      "needs_background": "light"
     },
     "output_type": "display_data"
    }
   ],
   "source": [
    "history = hist.history\n",
    "\n",
    "fig = plt.figure(figsize = (16, 4))\n",
    "ax = fig.add_subplot(1, 3, 1)\n",
    "plt.plot(history['loss'], lw = 4)\n",
    "plt.plot(history['val_loss'], lw = 4)\n",
    "plt.legend(['Training loss', 'Validation loss'], fontsize = 15)\n",
    "ax.set_xlabel('Epochs', size = 15)\n",
    "\n",
    "ax = fig.add_subplot(1, 3, 2)\n",
    "plt.plot(history['binary_accuracy'], lw = 4)\n",
    "plt.plot(history['val_binary_accuracy'], lw = 4)\n",
    "plt.legend(['Train acc.', 'Validation acc.'], fontsize = 15)\n",
    "ax.set_xlabel('Epochs', size = 15)\n",
    "\n",
    "ax = fig.add_subplot(1, 3, 3)\n",
    "plot_decision_regions(X = x_valid, y = y_valid.astype(np.integer),\n",
    "                      clf = model)\n",
    "\n",
    "ax.set_xlabel(r'$x_1$', size = 15)\n",
    "ax.xaxis.set_label_coords(1, -0.025)\n",
    "ax.set_ylabel(r'$x_2$', size = 15)\n",
    "ax.yaxis.set_label_coords(-0.025, 1)\n",
    "plt.show()"
   ]
  },
  {
   "cell_type": "code",
   "execution_count": null,
   "metadata": {},
   "outputs": [],
   "source": []
  },
  {
   "cell_type": "code",
   "execution_count": 13,
   "metadata": {},
   "outputs": [
    {
     "name": "stdout",
     "output_type": "stream",
     "text": [
      "Model: \"sequential_4\"\n",
      "_________________________________________________________________\n",
      "Layer (type)                 Output Shape              Param #   \n",
      "=================================================================\n",
      "dense_5 (Dense)              (None, 4)                 12        \n",
      "_________________________________________________________________\n",
      "dense_6 (Dense)              (None, 4)                 20        \n",
      "_________________________________________________________________\n",
      "dense_7 (Dense)              (None, 4)                 20        \n",
      "_________________________________________________________________\n",
      "dense_8 (Dense)              (None, 1)                 5         \n",
      "=================================================================\n",
      "Total params: 57\n",
      "Trainable params: 57\n",
      "Non-trainable params: 0\n",
      "_________________________________________________________________\n"
     ]
    }
   ],
   "source": [
    "# Here is depth 4\n",
    "tf.random.set_seed(1)\n",
    "model = tf.keras.Sequential()\n",
    "model.add(tf.keras.layers.Dense(units = 4, input_shape=(2, ),\n",
    "                               activation = 'relu'))\n",
    "model.add(tf.keras.layers.Dense(units = 4, activation = 'relu'))\n",
    "model.add(tf.keras.layers.Dense(units = 4, activation = 'relu'))\n",
    "model.add(tf.keras.layers.Dense(units = 1, activation = 'sigmoid'))\n",
    "model.summary()\n",
    "\n",
    "model.compile(optimizer = tf.keras.optimizers.SGD(),\n",
    "             loss = tf.keras.losses.BinaryCrossentropy(),\n",
    "             metrics = [tf.keras.metrics.BinaryAccuracy()])\n",
    "\n",
    "hist = model.fit(x_train, y_train, \n",
    "                validation_data = (x_valid, y_valid),\n",
    "                epochs = 200, batch_size = 2, verbose = 0)"
   ]
  },
  {
   "cell_type": "code",
   "execution_count": null,
   "metadata": {},
   "outputs": [],
   "source": []
  },
  {
   "cell_type": "code",
   "execution_count": 14,
   "metadata": {},
   "outputs": [
    {
     "data": {
      "image/png": "[encoded data removed]",
      "text/plain": [
       "<Figure size 1152x288 with 3 Axes>"
      ]
     },
     "metadata": {
      "needs_background": "light"
     },
     "output_type": "display_data"
    }
   ],
   "source": [
    "history = hist.history\n",
    "\n",
    "fig = plt.figure(figsize = (16, 4))\n",
    "ax = fig.add_subplot(1, 3, 1)\n",
    "plt.plot(history['loss'], lw = 4)\n",
    "plt.plot(history['val_loss'], lw = 4)\n",
    "plt.legend(['Training loss', 'Validation loss'], fontsize = 15)\n",
    "ax.set_xlabel('Epochs', size = 15)\n",
    "\n",
    "ax = fig.add_subplot(1, 3, 2)\n",
    "plt.plot(history['binary_accuracy'], lw = 4)\n",
    "plt.plot(history['val_binary_accuracy'], lw = 4)\n",
    "plt.legend(['Train acc.', 'Validation acc.'], fontsize = 15)\n",
    "ax.set_xlabel('Epochs', size = 15)\n",
    "\n",
    "ax = fig.add_subplot(1, 3, 3)\n",
    "plot_decision_regions(X = x_valid, y = y_valid.astype(np.integer),\n",
    "                      clf = model)\n",
    "\n",
    "ax.set_xlabel(r'$x_1$', size = 15)\n",
    "ax.xaxis.set_label_coords(1, -0.025)\n",
    "ax.set_ylabel(r'$x_2$', size = 15)\n",
    "ax.yaxis.set_label_coords(-0.025, 1)\n",
    "plt.show()\n",
    "\n",
    "#Much better than the other models above - there is 100% training acc and less ~95% \n",
    "# validation acc which suggests overfitting - but overall much better "
   ]
  },
  {
   "cell_type": "code",
   "execution_count": null,
   "metadata": {},
   "outputs": [],
   "source": [
    "##################################################################\n",
    "# Making model building more flexible with Keras' functional API #\n",
    "##################################################################"
   ]
  },
  {
   "cell_type": "code",
   "execution_count": 2,
   "metadata": {},
   "outputs": [
    {
     "name": "stdout",
     "output_type": "stream",
     "text": [
      "Model: \"model\"\n",
      "_________________________________________________________________\n",
      "Layer (type)                 Output Shape              Param #   \n",
      "=================================================================\n",
      "input_1 (InputLayer)         [(None, 2)]               0         \n",
      "_________________________________________________________________\n",
      "dense (Dense)                (None, 4)                 12        \n",
      "_________________________________________________________________\n",
      "dense_1 (Dense)              (None, 4)                 20        \n",
      "_________________________________________________________________\n",
      "dense_2 (Dense)              (None, 4)                 20        \n",
      "_________________________________________________________________\n",
      "dense_3 (Dense)              (None, 1)                 5         \n",
      "=================================================================\n",
      "Total params: 57\n",
      "Trainable params: 57\n",
      "Non-trainable params: 0\n",
      "_________________________________________________________________\n"
     ]
    }
   ],
   "source": [
    "# We can make more complex models than the one above using the functional API\n",
    "# Here we will first specify the input, construct the hidden layers (h1, h2, h3) with\n",
    "# the output from each layer acting at the input for the next layer. \n",
    "# Then we specify the output as the final layer that received h3 as the input\n",
    "\n",
    "tf.random.set_seed(1)\n",
    "\n",
    "#Input layer\n",
    "inputs = tf.keras.Input(shape = (2, ))\n",
    "\n",
    "# Hidden Layers\n",
    "h1 = tf.keras.layers.Dense(units = 4, activation = 'relu')(inputs)\n",
    "h2 = tf.keras.layers.Dense(units = 4, activation = 'relu')(h1)\n",
    "h3 = tf.keras.layers.Dense(units = 4, activation = 'relu')(h2)\n",
    "\n",
    "# Output\n",
    "outputs = tf.keras.layers.Dense(units = 1, activation = 'sigmoid')(h3)\n",
    "\n",
    "#Construct a model:\n",
    "model = tf.keras.Model(inputs = inputs, outputs = outputs)\n",
    "\n",
    "model.summary()\n",
    "\n",
    "#look very similar to the simplified version but with the input layer"
   ]
  },
  {
   "cell_type": "code",
   "execution_count": 4,
   "metadata": {},
   "outputs": [],
   "source": [
    "# Compile the model:\n",
    "model.compile(\n",
    "    optimizer=tf.keras.optimizers.SGD(),\n",
    "    loss = tf.keras.losses.BinaryCrossentropy(),\n",
    "    metrics = [tf.keras.metrics.BinaryAccuracy()])\n",
    "\n",
    "# Train the model:\n",
    "hist = model.fit(\n",
    "    x_train, y_train,\n",
    "    validation_data=(x_valid, y_valid),\n",
    "    epochs=200, batch_size=2, verbose=0)"
   ]
  },
  {
   "cell_type": "code",
   "execution_count": 6,
   "metadata": {},
   "outputs": [
    {
     "data": {
      "image/png": "[encoded data removed]",
      "text/plain": [
       "<Figure size 1152x288 with 3 Axes>"
      ]
     },
     "metadata": {
      "needs_background": "light"
     },
     "output_type": "display_data"
    }
   ],
   "source": [
    "history = hist.history\n",
    "\n",
    "fig = plt.figure(figsize = (16, 4))\n",
    "ax = fig.add_subplot(1, 3, 1)\n",
    "plt.plot(history['loss'], lw = 4)\n",
    "plt.plot(history['val_loss'], lw = 4)\n",
    "plt.legend(['Training loss', 'Validation loss'], fontsize = 15)\n",
    "ax.set_xlabel('Epochs', size = 15)\n",
    "\n",
    "ax = fig.add_subplot(1, 3, 2)\n",
    "plt.plot(history['binary_accuracy'], lw = 4)\n",
    "plt.plot(history['val_binary_accuracy'], lw = 4)\n",
    "plt.legend(['Train acc.', 'Validation acc.'], fontsize = 15)\n",
    "ax.set_xlabel('Epochs', size = 15)\n",
    "\n",
    "ax = fig.add_subplot(1, 3, 3)\n",
    "plot_decision_regions(X = x_valid, y = y_valid.astype(np.integer),\n",
    "                      clf = model)\n",
    "\n",
    "ax.set_xlabel(r'$x_1$', size = 15)\n",
    "ax.xaxis.set_label_coords(1, -0.025)\n",
    "ax.set_ylabel(r'$x_2$', size = 15)\n",
    "ax.yaxis.set_label_coords(-0.025, 1)\n",
    "plt.show()"
   ]
  },
  {
   "cell_type": "code",
   "execution_count": null,
   "metadata": {},
   "outputs": [],
   "source": [
    "###################################################\n",
    "# Implimenting models based on Keras' model class #\n",
    "###################################################"
   ]
  },
  {
   "cell_type": "code",
   "execution_count": 7,
   "metadata": {},
   "outputs": [],
   "source": [
    "# Can create complex models by using the subclass of tf.keras.Model\n",
    "# In the construction function __init__() we define the layers as attributes of the class\n",
    "# so that they can accessed via the self reference attribute.\n",
    "# Then the call() method - we specify how these layers are to be used in the forward pass\n",
    "\n",
    "class MyModel(tf.keras.Model):\n",
    "    def __init__(self):\n",
    "        super(MyModel, self).__init__()\n",
    "        self.hidden_1 = tf.keras.layers.Dense(\n",
    "            units = 4, activation = 'relu')\n",
    "        self.hidden_2 = tf.keras.layers.Dense(\n",
    "            units = 4, activation = 'relu')\n",
    "        self.hidden_3 = tf.keras.layers.Dense(\n",
    "            units = 4, activation = 'relu')\n",
    "        self.output_layer = tf.keras.layers.Dense(\n",
    "            units = 1, activation = 'sigmoid')\n",
    "        \n",
    "    def call(self, inputs):\n",
    "        h = self.hidden_1(inputs)\n",
    "        h = self.hidden_2(h)\n",
    "        h = self.hidden_3(h)\n",
    "        return self.output_layer(h)\n"
   ]
  },
  {
   "cell_type": "code",
   "execution_count": 8,
   "metadata": {},
   "outputs": [
    {
     "name": "stdout",
     "output_type": "stream",
     "text": [
      "Model: \"my_model\"\n",
      "_________________________________________________________________\n",
      "Layer (type)                 Output Shape              Param #   \n",
      "=================================================================\n",
      "dense_4 (Dense)              multiple                  12        \n",
      "_________________________________________________________________\n",
      "dense_5 (Dense)              multiple                  20        \n",
      "_________________________________________________________________\n",
      "dense_6 (Dense)              multiple                  20        \n",
      "_________________________________________________________________\n",
      "dense_7 (Dense)              multiple                  5         \n",
      "=================================================================\n",
      "Total params: 57\n",
      "Trainable params: 57\n",
      "Non-trainable params: 0\n",
      "_________________________________________________________________\n"
     ]
    }
   ],
   "source": [
    "# Because the class is built as a subclass of tf.keras.Model - it inherits the general model\n",
    "# attributes, such as build(), compile(), and fit().\n",
    "# Therefore, we can compile and train in the same way \n",
    "\n",
    "tf.random.set_seed(1)\n",
    "\n",
    "model = MyModel()\n",
    "model.build(input_shape = (None, 2))\n",
    "\n",
    "model.summary()"
   ]
  },
  {
   "cell_type": "code",
   "execution_count": 9,
   "metadata": {},
   "outputs": [
    {
     "data": {
      "text/plain": [
       "<tensorflow.python.keras.callbacks.History at 0x7fc1041c2950>"
      ]
     },
     "execution_count": 9,
     "metadata": {},
     "output_type": "execute_result"
    }
   ],
   "source": [
    "#Compile the model\n",
    "\n",
    "model.compile(optimizer=tf.keras.optimizers.SGD(),\n",
    "             loss = tf.keras.losses.BinaryCrossentropy(),\n",
    "             metrics = ([tf.keras.metrics.BinaryAccuracy()]))\n",
    "\n",
    "# Train the model\n",
    "model.fit(x_train, y_train,\n",
    "         validation_data=(x_valid, y_valid),\n",
    "         epochs=200, batch_size=2, verbose=0)"
   ]
  },
  {
   "cell_type": "code",
   "execution_count": 10,
   "metadata": {},
   "outputs": [
    {
     "data": {
      "image/png": "[encoded data removed]",
      "text/plain": [
       "<Figure size 1152x288 with 3 Axes>"
      ]
     },
     "metadata": {
      "needs_background": "light"
     },
     "output_type": "display_data"
    }
   ],
   "source": [
    "history = hist.history\n",
    "\n",
    "fig = plt.figure(figsize = (16, 4))\n",
    "ax = fig.add_subplot(1, 3, 1)\n",
    "plt.plot(history['loss'], lw = 4)\n",
    "plt.plot(history['val_loss'], lw = 4)\n",
    "plt.legend(['Training loss', 'Validation loss'], fontsize = 15)\n",
    "ax.set_xlabel('Epochs', size = 15)\n",
    "\n",
    "ax = fig.add_subplot(1, 3, 2)\n",
    "plt.plot(history['binary_accuracy'], lw = 4)\n",
    "plt.plot(history['val_binary_accuracy'], lw = 4)\n",
    "plt.legend(['Train acc.', 'Validation acc.'], fontsize = 15)\n",
    "ax.set_xlabel('Epochs', size = 15)\n",
    "\n",
    "ax = fig.add_subplot(1, 3, 3)\n",
    "plot_decision_regions(X = x_valid, y = y_valid.astype(np.integer),\n",
    "                      clf = model)\n",
    "\n",
    "ax.set_xlabel(r'$x_1$', size = 15)\n",
    "ax.xaxis.set_label_coords(1, -0.025)\n",
    "ax.set_ylabel(r'$x_2$', size = 15)\n",
    "ax.yaxis.set_label_coords(-0.025, 1)\n",
    "plt.show()"
   ]
  },
  {
   "cell_type": "code",
   "execution_count": null,
   "metadata": {},
   "outputs": [],
   "source": [
    "###############################\n",
    "# Writing Custom Keras Layers #\n",
    "###############################"
   ]
  },
  {
   "cell_type": "code",
   "execution_count": 20,
   "metadata": {},
   "outputs": [],
   "source": [
    "# If we want to define a layer that isnt already supported we can create a subclass\n",
    "# using keras.layers.Layers class. \n",
    "# We will define a constructor (__init__) and a call() method\n",
    "# In the constructor, we define the variables and other tensors for our customized layer\n",
    "# We can create variables and initialize them in the constructor with input_shape\n",
    "# or can delay and delegate it to the build() method for late variable creation.\n",
    "\n",
    "#We can also define get_config() for serialization which will save a model using the customized layer\n",
    "\n",
    "#We will define a new layer called NoisyLinear - w(x+e) + b\n",
    "\n",
    "class NoisyLinear(tf.keras.layers.Layer):\n",
    "    def __init__(self, output_dim, noise_stddev = 0.1, **kwargs):\n",
    "        self.output_dim = output_dim\n",
    "        self.noise_stddev = noise_stddev\n",
    "        super(NoisyLinear, self).__init__(**kwargs)\n",
    "    \n",
    "    def build(self, input_shape):\n",
    "        self.w = self.add_weight(name = 'weights',\n",
    "                                shape = (input_shape[1],\n",
    "                                        self.output_dim),\n",
    "                                initializer='random_normal',\n",
    "                                trainable=True)\n",
    "        self.b = self.add_weight(shape = (self.output_dim,),\n",
    "                                initializer='zeros',\n",
    "                                trainable=True)\n",
    "    \n",
    "    def call(self, inputs, training = False):\n",
    "        if training:\n",
    "            batch = tf.shape(inputs)[0]\n",
    "            dim = tf.shape(inputs)[1]\n",
    "            noise = tf.random.normal(shape = (batch, dim),\n",
    "                                    mean = 0.0,\n",
    "                                    stddev = self.noise_stddev)\n",
    "            \n",
    "            noisy_inputs = tf.add(inputs, noise)\n",
    "        else:\n",
    "            noisy_inputs = inputs\n",
    "        \n",
    "        z = tf.matmul(noisy_inputs, self.w) + self.b\n",
    "        \n",
    "        return tf.keras.activations.relu(z)\n",
    "    \n",
    "    def get_config(self):\n",
    "        config = super(NoisyLinear, self).get_config()\n",
    "        config.update({'output_dim': self.output_dim,\n",
    "                      'noise_stddev': self.noise_stddev})\n",
    "        return config\n",
    "    "
   ]
  },
  {
   "cell_type": "code",
   "execution_count": null,
   "metadata": {},
   "outputs": [],
   "source": []
  },
  {
   "cell_type": "code",
   "execution_count": null,
   "metadata": {},
   "outputs": [],
   "source": []
  },
  {
   "cell_type": "code",
   "execution_count": null,
   "metadata": {},
   "outputs": [],
   "source": []
  },
  {
   "cell_type": "code",
   "execution_count": 21,
   "metadata": {},
   "outputs": [
    {
     "name": "stdout",
     "output_type": "stream",
     "text": [
      "[[0 0.00821428 0 0]]\n"
     ]
    }
   ],
   "source": [
    "# Simple example to test the NoisyLinear\n",
    "# We will define a new instance of this layer, initialize it by calling .build()\n",
    "# and execute it on an input tensor. \n",
    "# We will then serialize it via .get_config() and restore via .from_config()\n",
    "\n",
    "tf.random.set_seed(1)\n",
    "noisy_layer = NoisyLinear(4)\n",
    "noisy_layer.build(input_shape = (None, 4))\n",
    "\n",
    "x = tf.zeros(shape = (1, 4))\n",
    "tf.print(noisy_layer(x, training = True))\n"
   ]
  },
  {
   "cell_type": "code",
   "execution_count": 22,
   "metadata": {},
   "outputs": [
    {
     "name": "stdout",
     "output_type": "stream",
     "text": [
      "[[0 0.0108502861 0 0]]\n"
     ]
    }
   ],
   "source": [
    "## re-building from config:\n",
    "config = noisy_layer.get_config()\n",
    "new_layer = NoisyLinear.from_config(config)\n",
    "tf.print(new_layer(x, training = True))\n",
    "\n",
    "#This value is different than the previous one despite the same input layer\n",
    "# this is because of the introduced noise from the noisy_layer"
   ]
  },
  {
   "cell_type": "code",
   "execution_count": 23,
   "metadata": {},
   "outputs": [
    {
     "name": "stdout",
     "output_type": "stream",
     "text": [
      "Model: \"sequential\"\n",
      "_________________________________________________________________\n",
      "Layer (type)                 Output Shape              Param #   \n",
      "=================================================================\n",
      "noisy_linear_5 (NoisyLinear) multiple                  12        \n",
      "_________________________________________________________________\n",
      "dense_8 (Dense)              multiple                  20        \n",
      "_________________________________________________________________\n",
      "dense_9 (Dense)              multiple                  20        \n",
      "_________________________________________________________________\n",
      "dense_10 (Dense)             multiple                  5         \n",
      "=================================================================\n",
      "Total params: 57\n",
      "Trainable params: 57\n",
      "Non-trainable params: 0\n",
      "_________________________________________________________________\n"
     ]
    },
    {
     "data": {
      "image/png": "[encoded data removed]",
      "text/plain": [
       "<Figure size 1152x288 with 3 Axes>"
      ]
     },
     "metadata": {
      "needs_background": "light"
     },
     "output_type": "display_data"
    }
   ],
   "source": [
    "# Create a model for the XOR classification tasks including our NoisyLinear layer\n",
    "tf.random.set_seed(1)\n",
    "\n",
    "model = tf.keras.Sequential([\n",
    "    NoisyLinear(4, noise_stddev = 0.1),\n",
    "    tf.keras.layers.Dense(units = 4, activation = 'relu'),\n",
    "    tf.keras.layers.Dense(units = 4, activation = 'relu'),\n",
    "    tf.keras.layers.Dense(units = 1, activation = 'sigmoid')])\n",
    "\n",
    "model.build(input_shape= (None, 2))\n",
    "model.summary()\n",
    "\n",
    "#Compile\n",
    "model.compile(optimizer = tf.keras.optimizers.SGD(),\n",
    "             loss = tf.keras.losses.BinaryCrossentropy(),\n",
    "             metrics = [tf.keras.metrics.BinaryAccuracy()])\n",
    "\n",
    "#Train\n",
    "hist = model.fit(x_train, y_train,\n",
    "                validation_data = (x_valid, y_valid),\n",
    "                epochs = 200, batch_size = 2, verbose = 0)\n",
    "\n",
    "#Plotting\n",
    "history = hist.history\n",
    "fig = plt.figure(figsize = (16, 4))\n",
    "ax = fig.add_subplot(1, 3, 1)\n",
    "plt.plot(history['loss'], lw = 4)\n",
    "plt.plot(history['val_loss'], lw = 4)\n",
    "plt.legend(['Training loss', 'Validation loss'], fontsize = 15)\n",
    "ax.set_xlabel('Epochs', size = 15)\n",
    "\n",
    "ax = fig.add_subplot(1, 3, 2)\n",
    "plt.plot(history['binary_accuracy'], lw = 4)\n",
    "plt.plot(history['val_binary_accuracy'], lw = 4)\n",
    "plt.legend(['Train acc.', 'Validation acc.'], fontsize = 15)\n",
    "ax.set_xlabel('Epochs', size = 15)\n",
    "\n",
    "ax = fig.add_subplot(1, 3, 3)\n",
    "plot_decision_regions(X = x_valid, y = y_valid.astype(np.integer),\n",
    "                      clf = model)\n",
    "\n",
    "ax.set_xlabel(r'$x_1$', size = 15)\n",
    "ax.xaxis.set_label_coords(1, -0.025)\n",
    "ax.set_ylabel(r'$x_2$', size = 15)\n",
    "ax.yaxis.set_label_coords(-0.025, 1)\n",
    "plt.show()\n"
   ]
  },
  {
   "cell_type": "code",
   "execution_count": null,
   "metadata": {},
   "outputs": [],
   "source": [
    "#########################\n",
    "# TensorFlow Estimators #\n",
    "#########################"
   ]
  },
  {
   "cell_type": "code",
   "execution_count": null,
   "metadata": {},
   "outputs": [],
   "source": [
    "################################\n",
    "# Working with Feature Columns #\n",
    "################################"
   ]
  },
  {
   "cell_type": "code",
   "execution_count": 24,
   "metadata": {},
   "outputs": [
    {
     "name": "stdout",
     "output_type": "stream",
     "text": [
      "Downloading data from http://archive.ics.uci.edu/ml/machine-learning-databases/auto-mpg/auto-mpg.data\n",
      "32768/30286 [================================] - 0s 0us/step\n"
     ]
    },
    {
     "data": {
      "text/html": [
       "<div>\n",
       "<style scoped>\n",
       "    .dataframe tbody tr th:only-of-type {\n",
       "        vertical-align: middle;\n",
       "    }\n",
       "\n",
       "    .dataframe tbody tr th {\n",
       "        vertical-align: top;\n",
       "    }\n",
       "\n",
       "    .dataframe thead th {\n",
       "        text-align: right;\n",
       "    }\n",
       "</style>\n",
       "<table border=\"1\" class=\"dataframe\">\n",
       "  <thead>\n",
       "    <tr style=\"text-align: right;\">\n",
       "      <th></th>\n",
       "      <th>MPG</th>\n",
       "      <th>Cylinders</th>\n",
       "      <th>Displacement</th>\n",
       "      <th>Horsepower</th>\n",
       "      <th>Weight</th>\n",
       "      <th>Acceleration</th>\n",
       "      <th>ModelYear</th>\n",
       "      <th>Origin</th>\n",
       "    </tr>\n",
       "  </thead>\n",
       "  <tbody>\n",
       "    <tr>\n",
       "      <th>299</th>\n",
       "      <td>34.2</td>\n",
       "      <td>-0.836182</td>\n",
       "      <td>-0.837172</td>\n",
       "      <td>-0.890427</td>\n",
       "      <td>-0.906475</td>\n",
       "      <td>-0.902880</td>\n",
       "      <td>79</td>\n",
       "      <td>1</td>\n",
       "    </tr>\n",
       "    <tr>\n",
       "      <th>283</th>\n",
       "      <td>17.0</td>\n",
       "      <td>1.532370</td>\n",
       "      <td>1.115943</td>\n",
       "      <td>0.736090</td>\n",
       "      <td>1.084095</td>\n",
       "      <td>-0.094503</td>\n",
       "      <td>79</td>\n",
       "      <td>1</td>\n",
       "    </tr>\n",
       "    <tr>\n",
       "      <th>211</th>\n",
       "      <td>13.0</td>\n",
       "      <td>1.532370</td>\n",
       "      <td>1.555393</td>\n",
       "      <td>1.142719</td>\n",
       "      <td>1.345054</td>\n",
       "      <td>-1.343814</td>\n",
       "      <td>76</td>\n",
       "      <td>1</td>\n",
       "    </tr>\n",
       "    <tr>\n",
       "      <th>176</th>\n",
       "      <td>23.0</td>\n",
       "      <td>-0.836182</td>\n",
       "      <td>-0.690688</td>\n",
       "      <td>-0.402472</td>\n",
       "      <td>0.012343</td>\n",
       "      <td>0.493409</td>\n",
       "      <td>75</td>\n",
       "      <td>2</td>\n",
       "    </tr>\n",
       "    <tr>\n",
       "      <th>199</th>\n",
       "      <td>18.5</td>\n",
       "      <td>0.348094</td>\n",
       "      <td>0.578836</td>\n",
       "      <td>0.193918</td>\n",
       "      <td>0.847412</td>\n",
       "      <td>0.199453</td>\n",
       "      <td>76</td>\n",
       "      <td>1</td>\n",
       "    </tr>\n",
       "  </tbody>\n",
       "</table>\n",
       "</div>"
      ],
      "text/plain": [
       "      MPG  Cylinders  Displacement  Horsepower    Weight  Acceleration  \\\n",
       "299  34.2  -0.836182     -0.837172   -0.890427 -0.906475     -0.902880   \n",
       "283  17.0   1.532370      1.115943    0.736090  1.084095     -0.094503   \n",
       "211  13.0   1.532370      1.555393    1.142719  1.345054     -1.343814   \n",
       "176  23.0  -0.836182     -0.690688   -0.402472  0.012343      0.493409   \n",
       "199  18.5   0.348094      0.578836    0.193918  0.847412      0.199453   \n",
       "\n",
       "     ModelYear  Origin  \n",
       "299         79       1  \n",
       "283         79       1  \n",
       "211         76       1  \n",
       "176         75       2  \n",
       "199         76       1  "
      ]
     },
     "execution_count": 24,
     "metadata": {},
     "output_type": "execute_result"
    }
   ],
   "source": [
    "# Using the Auto MPG dataset \n",
    "import pandas as pd\n",
    "\n",
    "dataset_path = tf.keras.utils.get_file(\n",
    "    \"auto-mpg.data\",\n",
    "    (\"http://archive.ics.uci.edu/ml/machine-learning\"\n",
    "    \"-databases/auto-mpg/auto-mpg.data\"))\n",
    "\n",
    "column_names = [\n",
    "    'MPG', 'Cylinders', 'Displacement',\n",
    "    'Horsepower', 'Weight', 'Acceleration',\n",
    "    'ModelYear', 'Origin'\n",
    "]\n",
    "\n",
    "df = pd.read_csv(dataset_path, names = column_names,\n",
    "                na_values = '?', comment = '\\t',\n",
    "                sep = ' ', skipinitialspace=True)\n",
    "\n",
    "#Drop the NA rows\n",
    "df = df.dropna()\n",
    "df = df.reset_index(drop = True)\n",
    "\n",
    "#Train/test split\n",
    "import sklearn\n",
    "import sklearn.model_selection\n",
    "\n",
    "df_train, df_test = sklearn.model_selection.train_test_split(\n",
    "    df, train_size = 0.8)\n",
    "train_stats = df_train.describe().transpose()\n",
    "\n",
    "numeric_column_names = [\n",
    "    'Cylinders', 'Displacement', \n",
    "    'Horsepower', 'Weight',\n",
    "    'Acceleration'\n",
    "]\n",
    "\n",
    "df_train_norm, df_test_norm = df_train.copy(), df_test.copy()\n",
    "\n",
    "for col_name in numeric_column_names:\n",
    "    mean = train_stats.loc[col_name, 'mean']\n",
    "    std = train_stats.loc[col_name, 'std']\n",
    "    df_train_norm.loc[:, col_name] = (\n",
    "        df_train_norm.loc[:, col_name] - mean) / std\n",
    "    df_test_norm.loc[:, col_name] = (\n",
    "        df_test_norm.loc[:, col_name] - mean)/std\n",
    "\n",
    "df_train_norm.tail()\n"
   ]
  },
  {
   "cell_type": "code",
   "execution_count": 25,
   "metadata": {},
   "outputs": [],
   "source": [
    "# We will now transform the 5 float columns into a feature column data structure that Estimators\n",
    "# can use\n",
    "\n",
    "numeric_features = []\n",
    "for col_name in numeric_column_names:\n",
    "    numeric_features.append(\n",
    "        tf.feature_column.numeric_column(key = col_name))"
   ]
  },
  {
   "cell_type": "code",
   "execution_count": 26,
   "metadata": {},
   "outputs": [],
   "source": [
    "# Next we are going to bucket the model year to simplify the learning task\n",
    "# We have to first define a numeric feature based on the years - then these numeric features\n",
    "# will be passed to bucketized_column function where we specify three cut off years (73, 76, 79)\n",
    "\n",
    "feature_year = tf.feature_column.numeric_column(key = 'ModelYear')\n",
    "bucketized_features = []\n",
    "bucketized_features.append(\n",
    "    tf.feature_column.bucketized_column(\n",
    "        source_column=feature_year,\n",
    "        boundaries=[73, 76, 79]))"
   ]
  },
  {
   "cell_type": "code",
   "execution_count": 27,
   "metadata": {},
   "outputs": [],
   "source": [
    "# Next we will define a list for the unordered categorical feature \"Origin\"\n",
    "# Because the list of names is small, we can use\n",
    "# tf.feature_column.categorical_column_with_vocabulary_list\n",
    "\n",
    "feature_origin = tf.feature_column.categorical_column_with_vocabulary_list(\n",
    "    key = 'Origin',\n",
    "    vocabulary_list=[1, 2, 3])"
   ]
  },
  {
   "cell_type": "code",
   "execution_count": 28,
   "metadata": {},
   "outputs": [],
   "source": [
    "# For certain Estimators - they require 'dense columns' - so next step is to convert the existing\n",
    "# categorical feature column to a dense column (from the step above).\n",
    "# Can be done in two ways - indicator columns which codes for one-hot encoded vectors\n",
    "# and embedding columns which map each index to a vector of random number floats which can be trained\n",
    "\n",
    "#Here we will use indicator columns\n",
    "\n",
    "categorical_indicator_features = []\n",
    "categorical_indicator_features.append(\n",
    "    tf.feature_column.indicator_column(feature_origin))"
   ]
  },
  {
   "cell_type": "code",
   "execution_count": null,
   "metadata": {},
   "outputs": [],
   "source": [
    "#############################################\n",
    "# Machine Learning with pre-made Estimators #\n",
    "#############################################"
   ]
  },
  {
   "cell_type": "code",
   "execution_count": 29,
   "metadata": {},
   "outputs": [],
   "source": [
    "#First step: define a function that processes the data and returns a TF dataset\n",
    "# consisting of a tuple that contains the input features and the labels.\n",
    "# Note the features must be in a dictionary with the keys matching the feature column names\n",
    "\n",
    "def train_input_fn(df_train, batch_size = 8):\n",
    "    df = df_train.copy()\n",
    "    train_x, train_y = df, df.pop('MPG')\n",
    "    dataset = tf.data.Dataset.from_tensor_slices(\n",
    "        (dict(train_x), train_y))\n",
    "    \n",
    "    #Shuffle, repeat, and batch the examples\n",
    "    return dataset.shuffle(1000).repeat().batch(batch_size)"
   ]
  },
  {
   "cell_type": "code",
   "execution_count": 31,
   "metadata": {},
   "outputs": [
    {
     "name": "stdout",
     "output_type": "stream",
     "text": [
      "Keys: dict_keys(['Cylinders', 'Displacement', 'Horsepower', 'Weight', 'Acceleration', 'ModelYear', 'Origin'])\n",
      "Batch Model Years: tf.Tensor([75 76 80 77 77 81 78 81], shape=(8,), dtype=int64)\n"
     ]
    }
   ],
   "source": [
    "#Loading a batch from the dataset\n",
    "ds = train_input_fn(df_train_norm)\n",
    "batch = next(iter(ds))\n",
    "print('Keys:', batch[0].keys())\n",
    "print('Batch Model Years:', batch[0]['ModelYear'])"
   ]
  },
  {
   "cell_type": "code",
   "execution_count": 32,
   "metadata": {},
   "outputs": [],
   "source": [
    "#Also need to define an input function for the test dataset\n",
    "def eval_input_fn(df_test, batch_size =8):\n",
    "    df = df_test.copy()\n",
    "    test_x, test_y = df, df.pop('MPG')\n",
    "    dataset = tf.data.Dataset.from_tensor_slices(\n",
    "        (dict(test_x), test_y))\n",
    "    return dataset.batch(batch_size)"
   ]
  },
  {
   "cell_type": "code",
   "execution_count": 33,
   "metadata": {},
   "outputs": [],
   "source": [
    "#Step 2: Define the feature columns\n",
    "# Concatenating the lists that we previously created\n",
    "\n",
    "all_feature_columns = (\n",
    "    numeric_features + \n",
    "    bucketized_features + \n",
    "    categorical_indicator_features)"
   ]
  },
  {
   "cell_type": "code",
   "execution_count": 34,
   "metadata": {},
   "outputs": [
    {
     "name": "stdout",
     "output_type": "stream",
     "text": [
      "INFO:tensorflow:Using default config.\n",
      "INFO:tensorflow:Using config: {'_model_dir': 'models/autompg-dnnregressor/', '_tf_random_seed': None, '_save_summary_steps': 100, '_save_checkpoints_steps': None, '_save_checkpoints_secs': 600, '_session_config': allow_soft_placement: true\n",
      "graph_options {\n",
      "  rewrite_options {\n",
      "    meta_optimizer_iterations: ONE\n",
      "  }\n",
      "}\n",
      ", '_keep_checkpoint_max': 5, '_keep_checkpoint_every_n_hours': 10000, '_log_step_count_steps': 100, '_train_distribute': None, '_device_fn': None, '_protocol': None, '_eval_distribute': None, '_experimental_distribute': None, '_experimental_max_worker_delay_secs': None, '_session_creation_timeout_secs': 7200, '_service': None, '_cluster_spec': ClusterSpec({}), '_task_type': 'worker', '_task_id': 0, '_global_id_in_cluster': 0, '_master': '', '_evaluation_master': '', '_is_chief': True, '_num_ps_replicas': 0, '_num_worker_replicas': 1}\n"
     ]
    }
   ],
   "source": [
    "#Step 3: Instantiate a new Estimator\n",
    "# Since we are predicting MPG - this is a regression task - will use tf.estimator.DNNRegressor\n",
    "# When instantiating - we provide the list of feature columns and specify the number of hidden units \n",
    "# in each layer\n",
    "\n",
    "#Here we will use 2 layers - first has 32 units and the second has 10\n",
    "\n",
    "regressor = tf.estimator.DNNRegressor(\n",
    "    feature_columns=all_feature_columns,\n",
    "    hidden_units=[32, 10],\n",
    "    model_dir='models/autompg-dnnregressor/') #directory for checkpoints"
   ]
  },
  {
   "cell_type": "code",
   "execution_count": 36,
   "metadata": {},
   "outputs": [
    {
     "name": "stdout",
     "output_type": "stream",
     "text": [
      "Training steps: 40000\n",
      "WARNING:tensorflow:From /Users/santiagocassalett/anaconda3/envs/py37/lib/python3.7/site-packages/tensorflow/python/ops/resource_variable_ops.py:1666: calling BaseResourceVariable.__init__ (from tensorflow.python.ops.resource_variable_ops) with constraint is deprecated and will be removed in a future version.\n",
      "Instructions for updating:\n",
      "If using Keras pass *_constraint arguments to layers.\n",
      "WARNING:tensorflow:From /Users/santiagocassalett/anaconda3/envs/py37/lib/python3.7/site-packages/tensorflow/python/training/training_util.py:236: Variable.initialized_value (from tensorflow.python.ops.variables) is deprecated and will be removed in a future version.\n",
      "Instructions for updating:\n",
      "Use Variable.read_value. Variables in 2.X are initialized automatically both in eager and graph (inside tf.defun) contexts.\n",
      "INFO:tensorflow:Calling model_fn.\n",
      "WARNING:tensorflow:Layer dnn is casting an input tensor from dtype float64 to the layer's dtype of float32, which is new behavior in TensorFlow 2.  The layer has dtype float32 because it's dtype defaults to floatx.\n",
      "\n",
      "If you intended to run this layer in float32, you can safely ignore this warning. If in doubt, this warning is likely only an issue if you are porting a TensorFlow 1.X model to TensorFlow 2.\n",
      "\n",
      "To change all layers to have dtype float64 by default, call `tf.keras.backend.set_floatx('float64')`. To change just this layer, pass dtype='float64' to the layer constructor. If you are the author of this layer, you can disable autocasting by passing autocast=False to the base Layer constructor.\n",
      "\n",
      "WARNING:tensorflow:From /Users/santiagocassalett/anaconda3/envs/py37/lib/python3.7/site-packages/tensorflow/python/keras/optimizer_v2/adagrad.py:106: calling Constant.__init__ (from tensorflow.python.ops.init_ops) with dtype is deprecated and will be removed in a future version.\n",
      "Instructions for updating:\n",
      "Call initializer instance with the dtype argument instead of passing it to the constructor\n",
      "INFO:tensorflow:Done calling model_fn.\n",
      "INFO:tensorflow:Create CheckpointSaverHook.\n",
      "INFO:tensorflow:Graph was finalized.\n",
      "INFO:tensorflow:Running local_init_op.\n",
      "INFO:tensorflow:Done running local_init_op.\n",
      "INFO:tensorflow:Calling checkpoint listeners before saving checkpoint 0...\n",
      "INFO:tensorflow:Saving checkpoints for 0 into models/autompg-dnnregressor/model.ckpt.\n",
      "INFO:tensorflow:Calling checkpoint listeners after saving checkpoint 0...\n",
      "INFO:tensorflow:loss = 540.3323, step = 0\n",
      "INFO:tensorflow:global_step/sec: 549.351\n",
      "INFO:tensorflow:loss = 506.05414, step = 100 (0.184 sec)\n",
      "INFO:tensorflow:global_step/sec: 424.28\n",
      "INFO:tensorflow:loss = 439.23633, step = 200 (0.235 sec)\n",
      "INFO:tensorflow:global_step/sec: 479.711\n",
      "INFO:tensorflow:loss = 419.91318, step = 300 (0.209 sec)\n",
      "WARNING:tensorflow:It seems that global step (tf.train.get_global_step) has not been increased. Current value (could be stable): 342 vs previous value: 342. You could increase the global step by passing tf.train.get_global_step() to Optimizer.apply_gradients or Optimizer.minimize.\n",
      "INFO:tensorflow:global_step/sec: 597.85\n",
      "INFO:tensorflow:loss = 310.95508, step = 400 (0.169 sec)\n",
      "INFO:tensorflow:global_step/sec: 585.008\n",
      "INFO:tensorflow:loss = 641.34216, step = 500 (0.168 sec)\n",
      "INFO:tensorflow:global_step/sec: 412.441\n",
      "INFO:tensorflow:loss = 671.57886, step = 600 (0.244 sec)\n",
      "INFO:tensorflow:global_step/sec: 397.72\n",
      "INFO:tensorflow:loss = 486.68887, step = 700 (0.251 sec)\n",
      "INFO:tensorflow:global_step/sec: 410.653\n",
      "INFO:tensorflow:loss = 462.90076, step = 800 (0.245 sec)\n",
      "INFO:tensorflow:global_step/sec: 611.06\n",
      "INFO:tensorflow:loss = 649.438, step = 900 (0.163 sec)\n",
      "WARNING:tensorflow:It seems that global step (tf.train.get_global_step) has not been increased. Current value (could be stable): 994 vs previous value: 994. You could increase the global step by passing tf.train.get_global_step() to Optimizer.apply_gradients or Optimizer.minimize.\n",
      "INFO:tensorflow:global_step/sec: 421.065\n",
      "INFO:tensorflow:loss = 404.35458, step = 1000 (0.239 sec)\n",
      "INFO:tensorflow:global_step/sec: 472.88\n",
      "INFO:tensorflow:loss = 421.1516, step = 1100 (0.212 sec)\n",
      "INFO:tensorflow:global_step/sec: 659.545\n",
      "INFO:tensorflow:loss = 760.8145, step = 1200 (0.152 sec)\n",
      "INFO:tensorflow:global_step/sec: 537.27\n",
      "INFO:tensorflow:loss = 425.22836, step = 1300 (0.182 sec)\n",
      "INFO:tensorflow:global_step/sec: 607.073\n",
      "INFO:tensorflow:loss = 488.60187, step = 1400 (0.165 sec)\n",
      "INFO:tensorflow:global_step/sec: 508.107\n",
      "INFO:tensorflow:loss = 505.51892, step = 1500 (0.197 sec)\n",
      "INFO:tensorflow:global_step/sec: 513.047\n",
      "INFO:tensorflow:loss = 401.35138, step = 1600 (0.203 sec)\n",
      "INFO:tensorflow:global_step/sec: 387.303\n",
      "INFO:tensorflow:loss = 496.42728, step = 1700 (0.251 sec)\n",
      "INFO:tensorflow:global_step/sec: 406.833\n",
      "INFO:tensorflow:loss = 628.7942, step = 1800 (0.246 sec)\n",
      "INFO:tensorflow:global_step/sec: 463.194\n",
      "INFO:tensorflow:loss = 556.69556, step = 1900 (0.216 sec)\n",
      "INFO:tensorflow:global_step/sec: 431.593\n",
      "INFO:tensorflow:loss = 291.71973, step = 2000 (0.237 sec)\n",
      "INFO:tensorflow:global_step/sec: 424.47\n",
      "INFO:tensorflow:loss = 424.37354, step = 2100 (0.230 sec)\n",
      "INFO:tensorflow:global_step/sec: 460.698\n",
      "INFO:tensorflow:loss = 450.14053, step = 2200 (0.221 sec)\n",
      "INFO:tensorflow:global_step/sec: 429.31\n",
      "INFO:tensorflow:loss = 635.04736, step = 2300 (0.228 sec)\n",
      "INFO:tensorflow:global_step/sec: 431.848\n",
      "INFO:tensorflow:loss = 587.1135, step = 2400 (0.232 sec)\n",
      "INFO:tensorflow:global_step/sec: 451.624\n",
      "INFO:tensorflow:loss = 554.9698, step = 2500 (0.225 sec)\n",
      "INFO:tensorflow:global_step/sec: 553.392\n",
      "INFO:tensorflow:loss = 463.19946, step = 2600 (0.177 sec)\n",
      "INFO:tensorflow:global_step/sec: 656.87\n",
      "INFO:tensorflow:loss = 408.99246, step = 2700 (0.153 sec)\n",
      "INFO:tensorflow:global_step/sec: 628.354\n",
      "INFO:tensorflow:loss = 447.10632, step = 2800 (0.158 sec)\n",
      "INFO:tensorflow:global_step/sec: 715.089\n",
      "INFO:tensorflow:loss = 402.71326, step = 2900 (0.141 sec)\n",
      "INFO:tensorflow:global_step/sec: 443.933\n",
      "INFO:tensorflow:loss = 464.48425, step = 3000 (0.232 sec)\n",
      "INFO:tensorflow:global_step/sec: 423.191\n",
      "INFO:tensorflow:loss = 410.37064, step = 3100 (0.230 sec)\n",
      "INFO:tensorflow:global_step/sec: 444.978\n",
      "INFO:tensorflow:loss = 372.45892, step = 3200 (0.224 sec)\n",
      "INFO:tensorflow:global_step/sec: 466.024\n",
      "INFO:tensorflow:loss = 458.3452, step = 3300 (0.218 sec)\n",
      "INFO:tensorflow:global_step/sec: 440.055\n",
      "INFO:tensorflow:loss = 370.4482, step = 3400 (0.225 sec)\n",
      "INFO:tensorflow:global_step/sec: 764.55\n",
      "INFO:tensorflow:loss = 331.9134, step = 3500 (0.129 sec)\n",
      "INFO:tensorflow:global_step/sec: 935.917\n",
      "INFO:tensorflow:loss = 405.51788, step = 3600 (0.107 sec)\n",
      "INFO:tensorflow:global_step/sec: 641.717\n",
      "INFO:tensorflow:loss = 503.05667, step = 3700 (0.157 sec)\n",
      "INFO:tensorflow:global_step/sec: 457.137\n",
      "INFO:tensorflow:loss = 393.4157, step = 3800 (0.219 sec)\n",
      "INFO:tensorflow:global_step/sec: 539.621\n",
      "INFO:tensorflow:loss = 323.74127, step = 3900 (0.183 sec)\n",
      "INFO:tensorflow:global_step/sec: 717.566\n",
      "INFO:tensorflow:loss = 573.10925, step = 4000 (0.139 sec)\n",
      "INFO:tensorflow:global_step/sec: 756.492\n",
      "INFO:tensorflow:loss = 282.27496, step = 4100 (0.133 sec)\n",
      "INFO:tensorflow:global_step/sec: 756.761\n",
      "INFO:tensorflow:loss = 415.16925, step = 4200 (0.132 sec)\n",
      "WARNING:tensorflow:It seems that global step (tf.train.get_global_step) has not been increased. Current value (could be stable): 4223 vs previous value: 4223. You could increase the global step by passing tf.train.get_global_step() to Optimizer.apply_gradients or Optimizer.minimize.\n",
      "INFO:tensorflow:global_step/sec: 663.086\n",
      "INFO:tensorflow:loss = 435.94025, step = 4300 (0.154 sec)\n",
      "INFO:tensorflow:global_step/sec: 536.493\n",
      "INFO:tensorflow:loss = 378.50464, step = 4400 (0.190 sec)\n",
      "INFO:tensorflow:global_step/sec: 459.214\n",
      "INFO:tensorflow:loss = 421.17084, step = 4500 (0.212 sec)\n",
      "INFO:tensorflow:global_step/sec: 740.111\n",
      "INFO:tensorflow:loss = 305.76297, step = 4600 (0.135 sec)\n",
      "INFO:tensorflow:global_step/sec: 725.784\n",
      "INFO:tensorflow:loss = 384.62512, step = 4700 (0.138 sec)\n",
      "INFO:tensorflow:global_step/sec: 721.934\n",
      "INFO:tensorflow:loss = 223.52975, step = 4800 (0.137 sec)\n",
      "INFO:tensorflow:global_step/sec: 859.29\n",
      "INFO:tensorflow:loss = 363.14658, step = 4900 (0.116 sec)\n",
      "INFO:tensorflow:global_step/sec: 532.718\n",
      "INFO:tensorflow:loss = 556.38556, step = 5000 (0.188 sec)\n"
     ]
    },
    {
     "name": "stdout",
     "output_type": "stream",
     "text": [
      "INFO:tensorflow:global_step/sec: 595.422\n",
      "INFO:tensorflow:loss = 351.8188, step = 5100 (0.168 sec)\n",
      "INFO:tensorflow:global_step/sec: 596.74\n",
      "INFO:tensorflow:loss = 218.88898, step = 5200 (0.169 sec)\n",
      "INFO:tensorflow:global_step/sec: 523.865\n",
      "INFO:tensorflow:loss = 313.65967, step = 5300 (0.191 sec)\n",
      "INFO:tensorflow:global_step/sec: 480.885\n",
      "INFO:tensorflow:loss = 399.51337, step = 5400 (0.219 sec)\n",
      "INFO:tensorflow:global_step/sec: 474.547\n",
      "INFO:tensorflow:loss = 226.05655, step = 5500 (0.199 sec)\n",
      "INFO:tensorflow:global_step/sec: 820.312\n",
      "INFO:tensorflow:loss = 182.90482, step = 5600 (0.121 sec)\n",
      "INFO:tensorflow:global_step/sec: 822.24\n",
      "INFO:tensorflow:loss = 355.47668, step = 5700 (0.122 sec)\n",
      "INFO:tensorflow:global_step/sec: 814.18\n",
      "INFO:tensorflow:loss = 234.07823, step = 5800 (0.123 sec)\n",
      "INFO:tensorflow:global_step/sec: 658.419\n",
      "INFO:tensorflow:loss = 278.69348, step = 5900 (0.152 sec)\n",
      "INFO:tensorflow:global_step/sec: 618.503\n",
      "INFO:tensorflow:loss = 207.98917, step = 6000 (0.164 sec)\n",
      "INFO:tensorflow:global_step/sec: 497\n",
      "INFO:tensorflow:loss = 219.10956, step = 6100 (0.204 sec)\n",
      "INFO:tensorflow:global_step/sec: 416.738\n",
      "INFO:tensorflow:loss = 456.16934, step = 6200 (0.237 sec)\n",
      "INFO:tensorflow:global_step/sec: 429.856\n",
      "INFO:tensorflow:loss = 278.29562, step = 6300 (0.233 sec)\n",
      "INFO:tensorflow:global_step/sec: 473.963\n",
      "INFO:tensorflow:loss = 116.31791, step = 6400 (0.208 sec)\n",
      "INFO:tensorflow:global_step/sec: 506.601\n",
      "INFO:tensorflow:loss = 289.05457, step = 6500 (0.197 sec)\n",
      "INFO:tensorflow:global_step/sec: 496.732\n",
      "INFO:tensorflow:loss = 376.02893, step = 6600 (0.203 sec)\n",
      "INFO:tensorflow:global_step/sec: 498.246\n",
      "INFO:tensorflow:loss = 377.59082, step = 6700 (0.204 sec)\n",
      "INFO:tensorflow:global_step/sec: 520.684\n",
      "INFO:tensorflow:loss = 292.05212, step = 6800 (0.189 sec)\n",
      "INFO:tensorflow:global_step/sec: 888.146\n",
      "INFO:tensorflow:loss = 165.30847, step = 6900 (0.112 sec)\n",
      "INFO:tensorflow:global_step/sec: 843.739\n",
      "INFO:tensorflow:loss = 141.38318, step = 7000 (0.117 sec)\n",
      "INFO:tensorflow:global_step/sec: 694.941\n",
      "INFO:tensorflow:loss = 232.7765, step = 7100 (0.144 sec)\n",
      "INFO:tensorflow:global_step/sec: 854.074\n",
      "INFO:tensorflow:loss = 254.4284, step = 7200 (0.119 sec)\n",
      "INFO:tensorflow:global_step/sec: 498.105\n",
      "INFO:tensorflow:loss = 292.81607, step = 7300 (0.199 sec)\n",
      "INFO:tensorflow:global_step/sec: 654.519\n",
      "INFO:tensorflow:loss = 316.76318, step = 7400 (0.152 sec)\n",
      "INFO:tensorflow:global_step/sec: 800.205\n",
      "INFO:tensorflow:loss = 262.96545, step = 7500 (0.125 sec)\n",
      "INFO:tensorflow:global_step/sec: 725.658\n",
      "INFO:tensorflow:loss = 233.73364, step = 7600 (0.139 sec)\n",
      "INFO:tensorflow:global_step/sec: 798.778\n",
      "INFO:tensorflow:loss = 151.37717, step = 7700 (0.124 sec)\n",
      "INFO:tensorflow:global_step/sec: 868.102\n",
      "INFO:tensorflow:loss = 181.20277, step = 7800 (0.114 sec)\n",
      "INFO:tensorflow:global_step/sec: 796.027\n",
      "INFO:tensorflow:loss = 249.44221, step = 7900 (0.126 sec)\n",
      "INFO:tensorflow:global_step/sec: 687.234\n",
      "INFO:tensorflow:loss = 148.51952, step = 8000 (0.146 sec)\n",
      "INFO:tensorflow:global_step/sec: 865.942\n",
      "INFO:tensorflow:loss = 201.89035, step = 8100 (0.116 sec)\n",
      "INFO:tensorflow:global_step/sec: 744.137\n",
      "INFO:tensorflow:loss = 178.32275, step = 8200 (0.134 sec)\n",
      "INFO:tensorflow:global_step/sec: 756.441\n",
      "INFO:tensorflow:loss = 134.9873, step = 8300 (0.132 sec)\n",
      "WARNING:tensorflow:It seems that global step (tf.train.get_global_step) has not been increased. Current value (could be stable): 8327 vs previous value: 8327. You could increase the global step by passing tf.train.get_global_step() to Optimizer.apply_gradients or Optimizer.minimize.\n",
      "INFO:tensorflow:global_step/sec: 545.756\n",
      "INFO:tensorflow:loss = 156.53873, step = 8400 (0.184 sec)\n",
      "WARNING:tensorflow:It seems that global step (tf.train.get_global_step) has not been increased. Current value (could be stable): 8478 vs previous value: 8478. You could increase the global step by passing tf.train.get_global_step() to Optimizer.apply_gradients or Optimizer.minimize.\n",
      "INFO:tensorflow:global_step/sec: 453.009\n",
      "INFO:tensorflow:loss = 335.4546, step = 8500 (0.221 sec)\n",
      "INFO:tensorflow:global_step/sec: 641.272\n",
      "INFO:tensorflow:loss = 121.94963, step = 8600 (0.155 sec)\n",
      "INFO:tensorflow:global_step/sec: 715.328\n",
      "INFO:tensorflow:loss = 233.45657, step = 8700 (0.139 sec)\n",
      "INFO:tensorflow:global_step/sec: 775.753\n",
      "INFO:tensorflow:loss = 170.72896, step = 8800 (0.129 sec)\n",
      "INFO:tensorflow:global_step/sec: 780.124\n",
      "INFO:tensorflow:loss = 171.38791, step = 8900 (0.129 sec)\n",
      "INFO:tensorflow:global_step/sec: 558.057\n",
      "INFO:tensorflow:loss = 186.1011, step = 9000 (0.179 sec)\n",
      "INFO:tensorflow:global_step/sec: 597.511\n",
      "INFO:tensorflow:loss = 132.13455, step = 9100 (0.167 sec)\n",
      "INFO:tensorflow:global_step/sec: 959.215\n",
      "INFO:tensorflow:loss = 164.60626, step = 9200 (0.104 sec)\n",
      "INFO:tensorflow:global_step/sec: 949.677\n",
      "INFO:tensorflow:loss = 123.18935, step = 9300 (0.105 sec)\n",
      "INFO:tensorflow:global_step/sec: 740.772\n",
      "INFO:tensorflow:loss = 169.5874, step = 9400 (0.136 sec)\n",
      "INFO:tensorflow:global_step/sec: 814.32\n",
      "INFO:tensorflow:loss = 181.31012, step = 9500 (0.122 sec)\n",
      "INFO:tensorflow:global_step/sec: 757.242\n",
      "INFO:tensorflow:loss = 173.06429, step = 9600 (0.132 sec)\n",
      "INFO:tensorflow:global_step/sec: 768.061\n",
      "INFO:tensorflow:loss = 82.78572, step = 9700 (0.130 sec)\n",
      "INFO:tensorflow:global_step/sec: 517.952\n",
      "INFO:tensorflow:loss = 179.04413, step = 9800 (0.193 sec)\n",
      "INFO:tensorflow:global_step/sec: 739.541\n",
      "INFO:tensorflow:loss = 144.4921, step = 9900 (0.135 sec)\n",
      "INFO:tensorflow:global_step/sec: 779.953\n",
      "INFO:tensorflow:loss = 95.57442, step = 10000 (0.128 sec)\n",
      "INFO:tensorflow:global_step/sec: 744.158\n",
      "INFO:tensorflow:loss = 91.57068, step = 10100 (0.135 sec)\n",
      "INFO:tensorflow:global_step/sec: 536.191\n",
      "INFO:tensorflow:loss = 146.83383, step = 10200 (0.187 sec)\n",
      "INFO:tensorflow:global_step/sec: 620.235\n",
      "INFO:tensorflow:loss = 217.57666, step = 10300 (0.160 sec)\n",
      "INFO:tensorflow:global_step/sec: 779.777\n",
      "INFO:tensorflow:loss = 94.88446, step = 10400 (0.128 sec)\n",
      "INFO:tensorflow:global_step/sec: 507.058\n",
      "INFO:tensorflow:loss = 130.23386, step = 10500 (0.201 sec)\n",
      "INFO:tensorflow:global_step/sec: 486.464\n",
      "INFO:tensorflow:loss = 140.50777, step = 10600 (0.202 sec)\n",
      "INFO:tensorflow:global_step/sec: 533.078\n",
      "INFO:tensorflow:loss = 137.49048, step = 10700 (0.188 sec)\n",
      "INFO:tensorflow:global_step/sec: 557.737\n",
      "INFO:tensorflow:loss = 82.05198, step = 10800 (0.179 sec)\n",
      "INFO:tensorflow:global_step/sec: 466.429\n",
      "INFO:tensorflow:loss = 127.22326, step = 10900 (0.217 sec)\n",
      "INFO:tensorflow:global_step/sec: 335.143\n",
      "INFO:tensorflow:loss = 114.78893, step = 11000 (0.296 sec)\n",
      "INFO:tensorflow:global_step/sec: 559.87\n",
      "INFO:tensorflow:loss = 111.085625, step = 11100 (0.177 sec)\n",
      "INFO:tensorflow:global_step/sec: 720.668\n",
      "INFO:tensorflow:loss = 62.919144, step = 11200 (0.139 sec)\n",
      "INFO:tensorflow:global_step/sec: 738.373\n",
      "INFO:tensorflow:loss = 109.6545, step = 11300 (0.136 sec)\n",
      "INFO:tensorflow:global_step/sec: 667.508\n",
      "INFO:tensorflow:loss = 143.00989, step = 11400 (0.150 sec)\n",
      "INFO:tensorflow:global_step/sec: 437.878\n",
      "INFO:tensorflow:loss = 130.36363, step = 11500 (0.229 sec)\n",
      "INFO:tensorflow:global_step/sec: 377.088\n",
      "INFO:tensorflow:loss = 95.36371, step = 11600 (0.268 sec)\n",
      "INFO:tensorflow:global_step/sec: 349.273\n",
      "INFO:tensorflow:loss = 69.29254, step = 11700 (0.287 sec)\n",
      "INFO:tensorflow:global_step/sec: 473.156\n",
      "INFO:tensorflow:loss = 77.53967, step = 11800 (0.206 sec)\n",
      "INFO:tensorflow:global_step/sec: 562.68\n",
      "INFO:tensorflow:loss = 111.81995, step = 11900 (0.178 sec)\n",
      "INFO:tensorflow:global_step/sec: 474.395\n",
      "INFO:tensorflow:loss = 157.18065, step = 12000 (0.211 sec)\n",
      "INFO:tensorflow:global_step/sec: 560.812\n",
      "INFO:tensorflow:loss = 69.4335, step = 12100 (0.180 sec)\n",
      "INFO:tensorflow:global_step/sec: 450.625\n",
      "INFO:tensorflow:loss = 139.18437, step = 12200 (0.221 sec)\n",
      "INFO:tensorflow:global_step/sec: 498.675\n",
      "INFO:tensorflow:loss = 36.22269, step = 12300 (0.202 sec)\n",
      "INFO:tensorflow:global_step/sec: 463.006\n",
      "INFO:tensorflow:loss = 46.24027, step = 12400 (0.216 sec)\n",
      "INFO:tensorflow:global_step/sec: 492.337\n",
      "INFO:tensorflow:loss = 36.803173, step = 12500 (0.208 sec)\n",
      "INFO:tensorflow:global_step/sec: 539.759\n",
      "INFO:tensorflow:loss = 132.60219, step = 12600 (0.184 sec)\n",
      "INFO:tensorflow:global_step/sec: 485.493\n",
      "INFO:tensorflow:loss = 73.62119, step = 12700 (0.201 sec)\n",
      "INFO:tensorflow:global_step/sec: 498.432\n"
     ]
    },
    {
     "name": "stdout",
     "output_type": "stream",
     "text": [
      "INFO:tensorflow:loss = 158.95325, step = 12800 (0.200 sec)\n",
      "INFO:tensorflow:global_step/sec: 444.101\n",
      "INFO:tensorflow:loss = 38.242775, step = 12900 (0.234 sec)\n",
      "INFO:tensorflow:global_step/sec: 505.318\n",
      "INFO:tensorflow:loss = 49.024246, step = 13000 (0.190 sec)\n",
      "INFO:tensorflow:global_step/sec: 452.798\n",
      "INFO:tensorflow:loss = 80.655594, step = 13100 (0.221 sec)\n",
      "INFO:tensorflow:global_step/sec: 509.606\n",
      "INFO:tensorflow:loss = 96.680664, step = 13200 (0.195 sec)\n",
      "INFO:tensorflow:global_step/sec: 509.793\n",
      "INFO:tensorflow:loss = 78.449615, step = 13300 (0.201 sec)\n",
      "INFO:tensorflow:global_step/sec: 551.773\n",
      "INFO:tensorflow:loss = 78.18213, step = 13400 (0.176 sec)\n",
      "INFO:tensorflow:global_step/sec: 517.719\n",
      "INFO:tensorflow:loss = 38.92402, step = 13500 (0.194 sec)\n",
      "INFO:tensorflow:global_step/sec: 490.071\n",
      "INFO:tensorflow:loss = 93.72141, step = 13600 (0.204 sec)\n",
      "INFO:tensorflow:global_step/sec: 470.491\n",
      "INFO:tensorflow:loss = 54.393127, step = 13700 (0.217 sec)\n",
      "INFO:tensorflow:global_step/sec: 440.522\n",
      "INFO:tensorflow:loss = 30.32293, step = 13800 (0.222 sec)\n",
      "INFO:tensorflow:global_step/sec: 504.185\n",
      "INFO:tensorflow:loss = 37.311314, step = 13900 (0.198 sec)\n",
      "INFO:tensorflow:global_step/sec: 500.793\n",
      "INFO:tensorflow:loss = 93.05778, step = 14000 (0.203 sec)\n",
      "INFO:tensorflow:global_step/sec: 536.541\n",
      "INFO:tensorflow:loss = 85.56842, step = 14100 (0.185 sec)\n",
      "INFO:tensorflow:global_step/sec: 695.044\n",
      "INFO:tensorflow:loss = 52.47934, step = 14200 (0.143 sec)\n",
      "INFO:tensorflow:global_step/sec: 832.952\n",
      "INFO:tensorflow:loss = 71.101265, step = 14300 (0.119 sec)\n",
      "INFO:tensorflow:global_step/sec: 804.039\n",
      "INFO:tensorflow:loss = 114.552246, step = 14400 (0.125 sec)\n",
      "INFO:tensorflow:global_step/sec: 794.811\n",
      "INFO:tensorflow:loss = 68.91807, step = 14500 (0.126 sec)\n",
      "INFO:tensorflow:global_step/sec: 428.363\n",
      "INFO:tensorflow:loss = 34.925377, step = 14600 (0.234 sec)\n",
      "INFO:tensorflow:global_step/sec: 490.047\n",
      "INFO:tensorflow:loss = 41.849705, step = 14700 (0.204 sec)\n",
      "INFO:tensorflow:global_step/sec: 491.703\n",
      "INFO:tensorflow:loss = 75.54032, step = 14800 (0.203 sec)\n",
      "INFO:tensorflow:global_step/sec: 497.146\n",
      "INFO:tensorflow:loss = 20.959623, step = 14900 (0.210 sec)\n",
      "INFO:tensorflow:global_step/sec: 532.746\n",
      "INFO:tensorflow:loss = 26.207438, step = 15000 (0.180 sec)\n",
      "INFO:tensorflow:global_step/sec: 486.525\n",
      "INFO:tensorflow:loss = 37.511227, step = 15100 (0.206 sec)\n",
      "INFO:tensorflow:global_step/sec: 506.976\n",
      "INFO:tensorflow:loss = 40.57328, step = 15200 (0.198 sec)\n",
      "INFO:tensorflow:global_step/sec: 491.449\n",
      "INFO:tensorflow:loss = 39.231663, step = 15300 (0.206 sec)\n",
      "INFO:tensorflow:global_step/sec: 604.025\n",
      "INFO:tensorflow:loss = 31.196423, step = 15400 (0.161 sec)\n",
      "INFO:tensorflow:global_step/sec: 970.176\n",
      "INFO:tensorflow:loss = 11.217557, step = 15500 (0.103 sec)\n",
      "INFO:tensorflow:global_step/sec: 864.768\n",
      "INFO:tensorflow:loss = 33.652985, step = 15600 (0.116 sec)\n",
      "INFO:tensorflow:global_step/sec: 962.058\n",
      "INFO:tensorflow:loss = 74.04899, step = 15700 (0.104 sec)\n",
      "INFO:tensorflow:global_step/sec: 857.023\n",
      "INFO:tensorflow:loss = 21.572954, step = 15800 (0.117 sec)\n",
      "INFO:tensorflow:global_step/sec: 546.932\n",
      "INFO:tensorflow:loss = 7.47464, step = 15900 (0.184 sec)\n",
      "INFO:tensorflow:global_step/sec: 664.228\n",
      "INFO:tensorflow:loss = 13.713427, step = 16000 (0.150 sec)\n",
      "INFO:tensorflow:global_step/sec: 983.699\n",
      "INFO:tensorflow:loss = 32.05101, step = 16100 (0.102 sec)\n",
      "INFO:tensorflow:global_step/sec: 806.101\n",
      "INFO:tensorflow:loss = 36.37317, step = 16200 (0.124 sec)\n",
      "INFO:tensorflow:global_step/sec: 981.93\n",
      "INFO:tensorflow:loss = 35.53704, step = 16300 (0.102 sec)\n",
      "INFO:tensorflow:global_step/sec: 941.931\n",
      "INFO:tensorflow:loss = 25.452545, step = 16400 (0.106 sec)\n",
      "INFO:tensorflow:global_step/sec: 913.326\n",
      "INFO:tensorflow:loss = 28.78439, step = 16500 (0.109 sec)\n",
      "INFO:tensorflow:global_step/sec: 857.559\n",
      "INFO:tensorflow:loss = 28.754126, step = 16600 (0.117 sec)\n",
      "INFO:tensorflow:global_step/sec: 795.317\n",
      "INFO:tensorflow:loss = 22.53659, step = 16700 (0.125 sec)\n",
      "INFO:tensorflow:global_step/sec: 778.907\n",
      "INFO:tensorflow:loss = 16.244165, step = 16800 (0.129 sec)\n",
      "INFO:tensorflow:global_step/sec: 846.39\n",
      "INFO:tensorflow:loss = 16.533504, step = 16900 (0.118 sec)\n",
      "INFO:tensorflow:global_step/sec: 899.893\n",
      "INFO:tensorflow:loss = 24.620083, step = 17000 (0.111 sec)\n",
      "INFO:tensorflow:global_step/sec: 825.131\n",
      "INFO:tensorflow:loss = 13.736827, step = 17100 (0.121 sec)\n",
      "INFO:tensorflow:global_step/sec: 901.291\n",
      "INFO:tensorflow:loss = 14.927311, step = 17200 (0.111 sec)\n",
      "INFO:tensorflow:global_step/sec: 885.7\n",
      "INFO:tensorflow:loss = 25.838772, step = 17300 (0.113 sec)\n",
      "INFO:tensorflow:global_step/sec: 514.234\n",
      "INFO:tensorflow:loss = 46.970768, step = 17400 (0.196 sec)\n",
      "INFO:tensorflow:global_step/sec: 520.427\n",
      "INFO:tensorflow:loss = 57.198875, step = 17500 (0.191 sec)\n",
      "INFO:tensorflow:global_step/sec: 849.877\n",
      "INFO:tensorflow:loss = 29.332932, step = 17600 (0.118 sec)\n",
      "INFO:tensorflow:global_step/sec: 764.877\n",
      "INFO:tensorflow:loss = 44.134544, step = 17700 (0.131 sec)\n",
      "INFO:tensorflow:global_step/sec: 542.634\n",
      "INFO:tensorflow:loss = 18.30521, step = 17800 (0.184 sec)\n",
      "INFO:tensorflow:global_step/sec: 531.649\n",
      "INFO:tensorflow:loss = 21.302868, step = 17900 (0.188 sec)\n",
      "INFO:tensorflow:global_step/sec: 747.379\n",
      "INFO:tensorflow:loss = 20.02959, step = 18000 (0.134 sec)\n",
      "INFO:tensorflow:global_step/sec: 525.534\n",
      "INFO:tensorflow:loss = 22.102898, step = 18100 (0.195 sec)\n",
      "INFO:tensorflow:global_step/sec: 523.311\n",
      "INFO:tensorflow:loss = 7.9749775, step = 18200 (0.193 sec)\n",
      "INFO:tensorflow:global_step/sec: 576.143\n",
      "INFO:tensorflow:loss = 8.641371, step = 18300 (0.166 sec)\n",
      "INFO:tensorflow:global_step/sec: 641.98\n",
      "INFO:tensorflow:loss = 7.566055, step = 18400 (0.160 sec)\n",
      "INFO:tensorflow:global_step/sec: 688.085\n",
      "INFO:tensorflow:loss = 15.344106, step = 18500 (0.141 sec)\n",
      "INFO:tensorflow:global_step/sec: 915.309\n",
      "INFO:tensorflow:loss = 22.17308, step = 18600 (0.109 sec)\n",
      "INFO:tensorflow:global_step/sec: 891.813\n",
      "INFO:tensorflow:loss = 16.03836, step = 18700 (0.113 sec)\n",
      "INFO:tensorflow:global_step/sec: 705.219\n",
      "INFO:tensorflow:loss = 20.110868, step = 18800 (0.142 sec)\n",
      "INFO:tensorflow:global_step/sec: 435.095\n",
      "INFO:tensorflow:loss = 24.878704, step = 18900 (0.233 sec)\n",
      "INFO:tensorflow:global_step/sec: 682.305\n",
      "INFO:tensorflow:loss = 20.376463, step = 19000 (0.142 sec)\n",
      "INFO:tensorflow:global_step/sec: 768.699\n",
      "INFO:tensorflow:loss = 13.267388, step = 19100 (0.130 sec)\n",
      "INFO:tensorflow:global_step/sec: 810.102\n",
      "INFO:tensorflow:loss = 37.481148, step = 19200 (0.123 sec)\n",
      "INFO:tensorflow:global_step/sec: 750.989\n",
      "INFO:tensorflow:loss = 8.828185, step = 19300 (0.133 sec)\n",
      "INFO:tensorflow:global_step/sec: 646.287\n",
      "INFO:tensorflow:loss = 24.161764, step = 19400 (0.155 sec)\n",
      "INFO:tensorflow:global_step/sec: 498.219\n",
      "INFO:tensorflow:loss = 10.346449, step = 19500 (0.201 sec)\n",
      "INFO:tensorflow:global_step/sec: 777.256\n",
      "INFO:tensorflow:loss = 24.435959, step = 19600 (0.128 sec)\n",
      "INFO:tensorflow:global_step/sec: 910.479\n",
      "INFO:tensorflow:loss = 15.130272, step = 19700 (0.110 sec)\n",
      "INFO:tensorflow:global_step/sec: 721.939\n",
      "INFO:tensorflow:loss = 5.353392, step = 19800 (0.139 sec)\n",
      "INFO:tensorflow:global_step/sec: 655.373\n",
      "INFO:tensorflow:loss = 54.46995, step = 19900 (0.152 sec)\n",
      "INFO:tensorflow:global_step/sec: 447.427\n",
      "INFO:tensorflow:loss = 21.487217, step = 20000 (0.237 sec)\n",
      "INFO:tensorflow:global_step/sec: 700.046\n",
      "INFO:tensorflow:loss = 26.459719, step = 20100 (0.130 sec)\n",
      "INFO:tensorflow:global_step/sec: 795.254\n",
      "INFO:tensorflow:loss = 12.459262, step = 20200 (0.127 sec)\n",
      "INFO:tensorflow:global_step/sec: 906.379\n",
      "INFO:tensorflow:loss = 7.731496, step = 20300 (0.110 sec)\n",
      "INFO:tensorflow:global_step/sec: 751.32\n",
      "INFO:tensorflow:loss = 6.5826526, step = 20400 (0.133 sec)\n",
      "INFO:tensorflow:global_step/sec: 645.017\n",
      "INFO:tensorflow:loss = 2.9358425, step = 20500 (0.155 sec)\n",
      "INFO:tensorflow:global_step/sec: 638.475\n",
      "INFO:tensorflow:loss = 7.544841, step = 20600 (0.157 sec)\n",
      "INFO:tensorflow:global_step/sec: 814.491\n",
      "INFO:tensorflow:loss = 15.862574, step = 20700 (0.122 sec)\n",
      "INFO:tensorflow:global_step/sec: 593.655\n",
      "INFO:tensorflow:loss = 21.669838, step = 20800 (0.176 sec)\n",
      "INFO:tensorflow:global_step/sec: 447.457\n",
      "INFO:tensorflow:loss = 22.138, step = 20900 (0.216 sec)\n",
      "INFO:tensorflow:global_step/sec: 723.254\n",
      "INFO:tensorflow:loss = 9.651012, step = 21000 (0.138 sec)\n"
     ]
    },
    {
     "name": "stdout",
     "output_type": "stream",
     "text": [
      "INFO:tensorflow:global_step/sec: 495.452\n",
      "INFO:tensorflow:loss = 19.334423, step = 21100 (0.202 sec)\n",
      "INFO:tensorflow:global_step/sec: 739.835\n",
      "INFO:tensorflow:loss = 16.141502, step = 21200 (0.135 sec)\n",
      "INFO:tensorflow:global_step/sec: 754.354\n",
      "INFO:tensorflow:loss = 37.00943, step = 21300 (0.133 sec)\n",
      "INFO:tensorflow:global_step/sec: 798.084\n",
      "INFO:tensorflow:loss = 28.45551, step = 21400 (0.126 sec)\n",
      "INFO:tensorflow:global_step/sec: 907.237\n",
      "INFO:tensorflow:loss = 8.434034, step = 21500 (0.112 sec)\n",
      "INFO:tensorflow:global_step/sec: 584.631\n",
      "INFO:tensorflow:loss = 13.700233, step = 21600 (0.177 sec)\n",
      "INFO:tensorflow:global_step/sec: 564.309\n",
      "INFO:tensorflow:loss = 20.319626, step = 21700 (0.169 sec)\n",
      "INFO:tensorflow:global_step/sec: 789.136\n",
      "INFO:tensorflow:loss = 8.109217, step = 21800 (0.127 sec)\n",
      "INFO:tensorflow:global_step/sec: 417.273\n",
      "INFO:tensorflow:loss = 18.565544, step = 21900 (0.245 sec)\n",
      "INFO:tensorflow:global_step/sec: 461.199\n",
      "INFO:tensorflow:loss = 9.651761, step = 22000 (0.213 sec)\n",
      "INFO:tensorflow:global_step/sec: 451.708\n",
      "INFO:tensorflow:loss = 3.9544907, step = 22100 (0.220 sec)\n",
      "INFO:tensorflow:global_step/sec: 538.656\n",
      "INFO:tensorflow:loss = 6.2424927, step = 22200 (0.185 sec)\n",
      "INFO:tensorflow:global_step/sec: 770.869\n",
      "INFO:tensorflow:loss = 7.6622195, step = 22300 (0.130 sec)\n",
      "INFO:tensorflow:global_step/sec: 677.52\n",
      "INFO:tensorflow:loss = 21.024683, step = 22400 (0.147 sec)\n",
      "INFO:tensorflow:global_step/sec: 827.062\n",
      "INFO:tensorflow:loss = 5.047298, step = 22500 (0.121 sec)\n",
      "INFO:tensorflow:global_step/sec: 709.929\n",
      "INFO:tensorflow:loss = 15.768914, step = 22600 (0.144 sec)\n",
      "INFO:tensorflow:global_step/sec: 483.038\n",
      "INFO:tensorflow:loss = 19.276775, step = 22700 (0.205 sec)\n",
      "INFO:tensorflow:global_step/sec: 531.344\n",
      "INFO:tensorflow:loss = 11.234183, step = 22800 (0.190 sec)\n",
      "INFO:tensorflow:global_step/sec: 439.099\n",
      "INFO:tensorflow:loss = 3.854611, step = 22900 (0.227 sec)\n",
      "INFO:tensorflow:global_step/sec: 508.016\n",
      "INFO:tensorflow:loss = 8.128949, step = 23000 (0.197 sec)\n",
      "INFO:tensorflow:global_step/sec: 761.737\n",
      "INFO:tensorflow:loss = 10.203814, step = 23100 (0.129 sec)\n",
      "INFO:tensorflow:global_step/sec: 844.274\n",
      "INFO:tensorflow:loss = 13.260108, step = 23200 (0.118 sec)\n",
      "INFO:tensorflow:global_step/sec: 876.716\n",
      "INFO:tensorflow:loss = 35.330673, step = 23300 (0.114 sec)\n",
      "INFO:tensorflow:global_step/sec: 939.567\n",
      "INFO:tensorflow:loss = 12.330812, step = 23400 (0.107 sec)\n",
      "INFO:tensorflow:global_step/sec: 798.5\n",
      "INFO:tensorflow:loss = 11.726365, step = 23500 (0.126 sec)\n",
      "INFO:tensorflow:global_step/sec: 435.509\n",
      "INFO:tensorflow:loss = 14.7943735, step = 23600 (0.229 sec)\n",
      "INFO:tensorflow:global_step/sec: 505.681\n",
      "INFO:tensorflow:loss = 14.328972, step = 23700 (0.198 sec)\n",
      "INFO:tensorflow:global_step/sec: 544.455\n",
      "INFO:tensorflow:loss = 9.97103, step = 23800 (0.183 sec)\n",
      "INFO:tensorflow:global_step/sec: 787.731\n",
      "INFO:tensorflow:loss = 13.172718, step = 23900 (0.128 sec)\n",
      "INFO:tensorflow:global_step/sec: 892.635\n",
      "INFO:tensorflow:loss = 10.875633, step = 24000 (0.112 sec)\n",
      "INFO:tensorflow:global_step/sec: 900.398\n",
      "INFO:tensorflow:loss = 8.575064, step = 24100 (0.111 sec)\n",
      "INFO:tensorflow:global_step/sec: 495.618\n",
      "INFO:tensorflow:loss = 6.933511, step = 24200 (0.208 sec)\n",
      "INFO:tensorflow:global_step/sec: 471.316\n",
      "INFO:tensorflow:loss = 46.992764, step = 24300 (0.206 sec)\n",
      "INFO:tensorflow:global_step/sec: 892.624\n",
      "INFO:tensorflow:loss = 4.323307, step = 24400 (0.112 sec)\n",
      "INFO:tensorflow:global_step/sec: 867.025\n",
      "INFO:tensorflow:loss = 5.7176046, step = 24500 (0.115 sec)\n",
      "INFO:tensorflow:global_step/sec: 636.17\n",
      "INFO:tensorflow:loss = 23.062317, step = 24600 (0.157 sec)\n",
      "INFO:tensorflow:global_step/sec: 621.072\n",
      "INFO:tensorflow:loss = 20.781626, step = 24700 (0.164 sec)\n",
      "INFO:tensorflow:global_step/sec: 589.893\n",
      "INFO:tensorflow:loss = 11.422209, step = 24800 (0.167 sec)\n",
      "INFO:tensorflow:global_step/sec: 851.281\n",
      "INFO:tensorflow:loss = 14.906357, step = 24900 (0.117 sec)\n",
      "INFO:tensorflow:global_step/sec: 792.808\n",
      "INFO:tensorflow:loss = 17.790928, step = 25000 (0.126 sec)\n",
      "INFO:tensorflow:global_step/sec: 914.186\n",
      "INFO:tensorflow:loss = 6.4027762, step = 25100 (0.109 sec)\n",
      "INFO:tensorflow:global_step/sec: 969.696\n",
      "INFO:tensorflow:loss = 6.54616, step = 25200 (0.103 sec)\n",
      "INFO:tensorflow:global_step/sec: 942.206\n",
      "INFO:tensorflow:loss = 9.503363, step = 25300 (0.106 sec)\n",
      "INFO:tensorflow:global_step/sec: 632.494\n",
      "INFO:tensorflow:loss = 3.3797634, step = 25400 (0.158 sec)\n",
      "INFO:tensorflow:global_step/sec: 779.916\n",
      "INFO:tensorflow:loss = 11.483745, step = 25500 (0.128 sec)\n",
      "INFO:tensorflow:global_step/sec: 808.937\n",
      "INFO:tensorflow:loss = 4.636083, step = 25600 (0.124 sec)\n",
      "INFO:tensorflow:global_step/sec: 738.805\n",
      "INFO:tensorflow:loss = 3.5030274, step = 25700 (0.135 sec)\n",
      "INFO:tensorflow:global_step/sec: 426.112\n",
      "INFO:tensorflow:loss = 6.181939, step = 25800 (0.244 sec)\n",
      "INFO:tensorflow:global_step/sec: 595.83\n",
      "INFO:tensorflow:loss = 9.287447, step = 25900 (0.158 sec)\n",
      "INFO:tensorflow:global_step/sec: 853.061\n",
      "INFO:tensorflow:loss = 10.299709, step = 26000 (0.117 sec)\n",
      "INFO:tensorflow:global_step/sec: 806.98\n",
      "INFO:tensorflow:loss = 35.685093, step = 26100 (0.125 sec)\n",
      "INFO:tensorflow:global_step/sec: 708.536\n",
      "INFO:tensorflow:loss = 49.679962, step = 26200 (0.140 sec)\n",
      "INFO:tensorflow:global_step/sec: 783.784\n",
      "INFO:tensorflow:loss = 12.510818, step = 26300 (0.127 sec)\n",
      "INFO:tensorflow:global_step/sec: 646.785\n",
      "INFO:tensorflow:loss = 2.4270775, step = 26400 (0.156 sec)\n",
      "INFO:tensorflow:global_step/sec: 565.531\n",
      "INFO:tensorflow:loss = 8.938823, step = 26500 (0.175 sec)\n",
      "INFO:tensorflow:global_step/sec: 776.602\n",
      "INFO:tensorflow:loss = 12.680771, step = 26600 (0.129 sec)\n",
      "INFO:tensorflow:global_step/sec: 800.256\n",
      "INFO:tensorflow:loss = 11.6483135, step = 26700 (0.125 sec)\n",
      "INFO:tensorflow:global_step/sec: 626.312\n",
      "INFO:tensorflow:loss = 27.626377, step = 26800 (0.160 sec)\n",
      "INFO:tensorflow:global_step/sec: 772.452\n",
      "INFO:tensorflow:loss = 23.114002, step = 26900 (0.130 sec)\n",
      "INFO:tensorflow:global_step/sec: 883.314\n",
      "INFO:tensorflow:loss = 3.3314233, step = 27000 (0.112 sec)\n",
      "INFO:tensorflow:global_step/sec: 676.823\n",
      "INFO:tensorflow:loss = 10.3612, step = 27100 (0.148 sec)\n",
      "INFO:tensorflow:global_step/sec: 433.892\n",
      "INFO:tensorflow:loss = 18.152662, step = 27200 (0.234 sec)\n",
      "INFO:tensorflow:global_step/sec: 352.996\n",
      "INFO:tensorflow:loss = 5.952833, step = 27300 (0.281 sec)\n",
      "INFO:tensorflow:global_step/sec: 431.65\n",
      "INFO:tensorflow:loss = 17.210909, step = 27400 (0.231 sec)\n",
      "INFO:tensorflow:global_step/sec: 715.717\n",
      "INFO:tensorflow:loss = 5.9924755, step = 27500 (0.139 sec)\n",
      "INFO:tensorflow:global_step/sec: 702.321\n",
      "INFO:tensorflow:loss = 34.376717, step = 27600 (0.144 sec)\n",
      "INFO:tensorflow:global_step/sec: 725.021\n",
      "INFO:tensorflow:loss = 3.0949965, step = 27700 (0.137 sec)\n",
      "INFO:tensorflow:global_step/sec: 484.309\n",
      "INFO:tensorflow:loss = 29.951363, step = 27800 (0.213 sec)\n",
      "INFO:tensorflow:global_step/sec: 482.132\n",
      "INFO:tensorflow:loss = 16.653639, step = 27900 (0.210 sec)\n",
      "INFO:tensorflow:global_step/sec: 478.473\n",
      "INFO:tensorflow:loss = 4.5129437, step = 28000 (0.201 sec)\n",
      "INFO:tensorflow:global_step/sec: 549.781\n",
      "INFO:tensorflow:loss = 7.2065887, step = 28100 (0.182 sec)\n",
      "INFO:tensorflow:global_step/sec: 644.051\n",
      "INFO:tensorflow:loss = 12.904865, step = 28200 (0.158 sec)\n",
      "INFO:tensorflow:global_step/sec: 550.53\n",
      "INFO:tensorflow:loss = 12.062008, step = 28300 (0.179 sec)\n",
      "INFO:tensorflow:global_step/sec: 705.707\n",
      "INFO:tensorflow:loss = 19.70121, step = 28400 (0.141 sec)\n",
      "INFO:tensorflow:global_step/sec: 731.24\n",
      "INFO:tensorflow:loss = 27.83229, step = 28500 (0.137 sec)\n",
      "INFO:tensorflow:global_step/sec: 616.946\n",
      "INFO:tensorflow:loss = 18.107172, step = 28600 (0.162 sec)\n",
      "INFO:tensorflow:global_step/sec: 570.704\n",
      "INFO:tensorflow:loss = 5.7319336, step = 28700 (0.176 sec)\n",
      "INFO:tensorflow:global_step/sec: 522.677\n",
      "INFO:tensorflow:loss = 13.219734, step = 28800 (0.201 sec)\n",
      "INFO:tensorflow:global_step/sec: 413.124\n",
      "INFO:tensorflow:loss = 21.584095, step = 28900 (0.231 sec)\n",
      "INFO:tensorflow:global_step/sec: 771.134\n",
      "INFO:tensorflow:loss = 11.72965, step = 29000 (0.130 sec)\n",
      "INFO:tensorflow:global_step/sec: 768.102\n",
      "INFO:tensorflow:loss = 6.4284353, step = 29100 (0.130 sec)\n",
      "INFO:tensorflow:global_step/sec: 740.66\n",
      "INFO:tensorflow:loss = 18.71204, step = 29200 (0.135 sec)\n",
      "INFO:tensorflow:global_step/sec: 483.912\n"
     ]
    },
    {
     "name": "stdout",
     "output_type": "stream",
     "text": [
      "INFO:tensorflow:loss = 22.051332, step = 29300 (0.207 sec)\n",
      "INFO:tensorflow:global_step/sec: 651.729\n",
      "INFO:tensorflow:loss = 7.332534, step = 29400 (0.154 sec)\n",
      "INFO:tensorflow:global_step/sec: 773.628\n",
      "INFO:tensorflow:loss = 5.4210196, step = 29500 (0.128 sec)\n",
      "INFO:tensorflow:global_step/sec: 543.083\n",
      "INFO:tensorflow:loss = 15.077811, step = 29600 (0.184 sec)\n",
      "INFO:tensorflow:global_step/sec: 840.363\n",
      "INFO:tensorflow:loss = 14.719494, step = 29700 (0.119 sec)\n",
      "INFO:tensorflow:global_step/sec: 998.523\n",
      "INFO:tensorflow:loss = 7.0428467, step = 29800 (0.100 sec)\n",
      "INFO:tensorflow:global_step/sec: 1006.12\n",
      "INFO:tensorflow:loss = 7.017431, step = 29900 (0.099 sec)\n",
      "INFO:tensorflow:global_step/sec: 986.981\n",
      "INFO:tensorflow:loss = 7.149973, step = 30000 (0.101 sec)\n",
      "INFO:tensorflow:global_step/sec: 997.158\n",
      "INFO:tensorflow:loss = 29.750494, step = 30100 (0.100 sec)\n",
      "INFO:tensorflow:global_step/sec: 849.553\n",
      "INFO:tensorflow:loss = 3.0548658, step = 30200 (0.118 sec)\n",
      "INFO:tensorflow:global_step/sec: 832.127\n",
      "INFO:tensorflow:loss = 11.380071, step = 30300 (0.120 sec)\n",
      "INFO:tensorflow:global_step/sec: 824.967\n",
      "INFO:tensorflow:loss = 5.25513, step = 30400 (0.121 sec)\n",
      "INFO:tensorflow:global_step/sec: 818.994\n",
      "INFO:tensorflow:loss = 20.277573, step = 30500 (0.122 sec)\n",
      "INFO:tensorflow:global_step/sec: 829.119\n",
      "INFO:tensorflow:loss = 15.665969, step = 30600 (0.121 sec)\n",
      "INFO:tensorflow:global_step/sec: 841.898\n",
      "INFO:tensorflow:loss = 3.3740616, step = 30700 (0.119 sec)\n",
      "INFO:tensorflow:global_step/sec: 984.253\n",
      "INFO:tensorflow:loss = 8.121063, step = 30800 (0.102 sec)\n",
      "INFO:tensorflow:global_step/sec: 989.463\n",
      "INFO:tensorflow:loss = 14.328548, step = 30900 (0.101 sec)\n",
      "INFO:tensorflow:global_step/sec: 1004.28\n",
      "INFO:tensorflow:loss = 7.2125916, step = 31000 (0.100 sec)\n",
      "INFO:tensorflow:global_step/sec: 824.941\n",
      "INFO:tensorflow:loss = 9.3606, step = 31100 (0.121 sec)\n",
      "INFO:tensorflow:global_step/sec: 824.117\n",
      "INFO:tensorflow:loss = 9.577118, step = 31200 (0.121 sec)\n",
      "INFO:tensorflow:global_step/sec: 822.111\n",
      "INFO:tensorflow:loss = 12.898577, step = 31300 (0.121 sec)\n",
      "INFO:tensorflow:global_step/sec: 900.438\n",
      "INFO:tensorflow:loss = 14.296205, step = 31400 (0.111 sec)\n",
      "INFO:tensorflow:global_step/sec: 817.001\n",
      "INFO:tensorflow:loss = 19.786947, step = 31500 (0.122 sec)\n",
      "INFO:tensorflow:global_step/sec: 821.118\n",
      "INFO:tensorflow:loss = 11.891608, step = 31600 (0.122 sec)\n",
      "INFO:tensorflow:global_step/sec: 824.988\n",
      "INFO:tensorflow:loss = 15.701172, step = 31700 (0.121 sec)\n",
      "INFO:tensorflow:global_step/sec: 818.243\n",
      "INFO:tensorflow:loss = 11.710459, step = 31800 (0.122 sec)\n",
      "INFO:tensorflow:global_step/sec: 817.434\n",
      "INFO:tensorflow:loss = 7.168045, step = 31900 (0.122 sec)\n",
      "INFO:tensorflow:global_step/sec: 834.878\n",
      "INFO:tensorflow:loss = 4.961445, step = 32000 (0.120 sec)\n",
      "INFO:tensorflow:global_step/sec: 819.042\n",
      "INFO:tensorflow:loss = 12.544495, step = 32100 (0.122 sec)\n",
      "INFO:tensorflow:global_step/sec: 832.479\n",
      "INFO:tensorflow:loss = 16.129591, step = 32200 (0.120 sec)\n",
      "INFO:tensorflow:global_step/sec: 804.511\n",
      "INFO:tensorflow:loss = 2.844197, step = 32300 (0.124 sec)\n",
      "INFO:tensorflow:global_step/sec: 827.287\n",
      "INFO:tensorflow:loss = 5.8423195, step = 32400 (0.121 sec)\n",
      "INFO:tensorflow:global_step/sec: 814.532\n",
      "INFO:tensorflow:loss = 10.729479, step = 32500 (0.123 sec)\n",
      "INFO:tensorflow:global_step/sec: 817.735\n",
      "INFO:tensorflow:loss = 18.01603, step = 32600 (0.122 sec)\n",
      "INFO:tensorflow:global_step/sec: 840.562\n",
      "INFO:tensorflow:loss = 6.947872, step = 32700 (0.119 sec)\n",
      "INFO:tensorflow:global_step/sec: 983.129\n",
      "INFO:tensorflow:loss = 14.919513, step = 32800 (0.102 sec)\n",
      "INFO:tensorflow:global_step/sec: 861.372\n",
      "INFO:tensorflow:loss = 12.228172, step = 32900 (0.116 sec)\n",
      "INFO:tensorflow:global_step/sec: 840.751\n",
      "INFO:tensorflow:loss = 10.750587, step = 33000 (0.119 sec)\n",
      "INFO:tensorflow:global_step/sec: 820.959\n",
      "INFO:tensorflow:loss = 7.8111463, step = 33100 (0.121 sec)\n",
      "INFO:tensorflow:global_step/sec: 826.555\n",
      "INFO:tensorflow:loss = 6.0172443, step = 33200 (0.121 sec)\n",
      "INFO:tensorflow:global_step/sec: 829.427\n",
      "INFO:tensorflow:loss = 9.787703, step = 33300 (0.121 sec)\n",
      "INFO:tensorflow:global_step/sec: 850.211\n",
      "INFO:tensorflow:loss = 13.532885, step = 33400 (0.118 sec)\n",
      "INFO:tensorflow:global_step/sec: 820.238\n",
      "INFO:tensorflow:loss = 19.996656, step = 33500 (0.122 sec)\n",
      "INFO:tensorflow:global_step/sec: 817.366\n",
      "INFO:tensorflow:loss = 11.678944, step = 33600 (0.122 sec)\n",
      "INFO:tensorflow:global_step/sec: 812.508\n",
      "INFO:tensorflow:loss = 12.28462, step = 33700 (0.123 sec)\n",
      "INFO:tensorflow:global_step/sec: 812.327\n",
      "INFO:tensorflow:loss = 5.148192, step = 33800 (0.123 sec)\n",
      "INFO:tensorflow:global_step/sec: 816.58\n",
      "INFO:tensorflow:loss = 16.192604, step = 33900 (0.122 sec)\n",
      "INFO:tensorflow:global_step/sec: 818.169\n",
      "INFO:tensorflow:loss = 13.2931595, step = 34000 (0.122 sec)\n",
      "INFO:tensorflow:global_step/sec: 811.503\n",
      "INFO:tensorflow:loss = 9.708406, step = 34100 (0.123 sec)\n",
      "INFO:tensorflow:global_step/sec: 822.64\n",
      "INFO:tensorflow:loss = 17.5068, step = 34200 (0.122 sec)\n",
      "INFO:tensorflow:global_step/sec: 826.679\n",
      "INFO:tensorflow:loss = 9.5559225, step = 34300 (0.121 sec)\n",
      "INFO:tensorflow:global_step/sec: 821.605\n",
      "INFO:tensorflow:loss = 12.622331, step = 34400 (0.122 sec)\n",
      "INFO:tensorflow:global_step/sec: 820.789\n",
      "INFO:tensorflow:loss = 11.954398, step = 34500 (0.122 sec)\n",
      "INFO:tensorflow:global_step/sec: 824.762\n",
      "INFO:tensorflow:loss = 8.581703, step = 34600 (0.121 sec)\n",
      "INFO:tensorflow:global_step/sec: 825.728\n",
      "INFO:tensorflow:loss = 11.303819, step = 34700 (0.121 sec)\n",
      "INFO:tensorflow:global_step/sec: 976.307\n",
      "INFO:tensorflow:loss = 4.5018463, step = 34800 (0.102 sec)\n",
      "INFO:tensorflow:global_step/sec: 984.812\n",
      "INFO:tensorflow:loss = 7.3570805, step = 34900 (0.102 sec)\n",
      "INFO:tensorflow:global_step/sec: 1001.57\n",
      "INFO:tensorflow:loss = 17.208553, step = 35000 (0.100 sec)\n",
      "INFO:tensorflow:global_step/sec: 810.924\n",
      "INFO:tensorflow:loss = 8.30633, step = 35100 (0.123 sec)\n",
      "INFO:tensorflow:global_step/sec: 827.93\n",
      "INFO:tensorflow:loss = 22.777248, step = 35200 (0.121 sec)\n",
      "INFO:tensorflow:global_step/sec: 810.151\n",
      "INFO:tensorflow:loss = 22.281511, step = 35300 (0.123 sec)\n",
      "INFO:tensorflow:global_step/sec: 806.724\n",
      "INFO:tensorflow:loss = 4.149478, step = 35400 (0.124 sec)\n",
      "INFO:tensorflow:global_step/sec: 813.676\n",
      "INFO:tensorflow:loss = 7.936066, step = 35500 (0.123 sec)\n",
      "INFO:tensorflow:global_step/sec: 819.685\n",
      "INFO:tensorflow:loss = 9.674147, step = 35600 (0.122 sec)\n",
      "INFO:tensorflow:global_step/sec: 819.136\n",
      "INFO:tensorflow:loss = 8.551324, step = 35700 (0.122 sec)\n",
      "INFO:tensorflow:global_step/sec: 810.052\n",
      "INFO:tensorflow:loss = 6.99628, step = 35800 (0.123 sec)\n",
      "INFO:tensorflow:global_step/sec: 811.226\n",
      "INFO:tensorflow:loss = 4.2257423, step = 35900 (0.123 sec)\n",
      "INFO:tensorflow:global_step/sec: 815.269\n",
      "INFO:tensorflow:loss = 23.311245, step = 36000 (0.123 sec)\n",
      "INFO:tensorflow:global_step/sec: 810.624\n",
      "INFO:tensorflow:loss = 40.0374, step = 36100 (0.123 sec)\n",
      "INFO:tensorflow:global_step/sec: 807.785\n",
      "INFO:tensorflow:loss = 8.221098, step = 36200 (0.124 sec)\n",
      "INFO:tensorflow:global_step/sec: 810.387\n",
      "INFO:tensorflow:loss = 5.4122596, step = 36300 (0.124 sec)\n",
      "INFO:tensorflow:global_step/sec: 797.308\n",
      "INFO:tensorflow:loss = 17.949467, step = 36400 (0.125 sec)\n",
      "INFO:tensorflow:global_step/sec: 970.762\n",
      "INFO:tensorflow:loss = 4.2391686, step = 36500 (0.103 sec)\n",
      "INFO:tensorflow:global_step/sec: 830.177\n",
      "INFO:tensorflow:loss = 12.086442, step = 36600 (0.121 sec)\n",
      "INFO:tensorflow:global_step/sec: 989.129\n",
      "INFO:tensorflow:loss = 6.3173947, step = 36700 (0.101 sec)\n",
      "INFO:tensorflow:global_step/sec: 827.028\n",
      "INFO:tensorflow:loss = 4.678585, step = 36800 (0.121 sec)\n",
      "INFO:tensorflow:global_step/sec: 1010.88\n",
      "INFO:tensorflow:loss = 14.876881, step = 36900 (0.099 sec)\n",
      "INFO:tensorflow:global_step/sec: 1005.19\n",
      "INFO:tensorflow:loss = 0.45165873, step = 37000 (0.099 sec)\n",
      "INFO:tensorflow:global_step/sec: 1003.9\n",
      "INFO:tensorflow:loss = 13.119347, step = 37100 (0.100 sec)\n",
      "INFO:tensorflow:global_step/sec: 992.007\n",
      "INFO:tensorflow:loss = 65.71211, step = 37200 (0.101 sec)\n",
      "INFO:tensorflow:global_step/sec: 849.725\n",
      "INFO:tensorflow:loss = 7.392457, step = 37300 (0.117 sec)\n",
      "INFO:tensorflow:global_step/sec: 799.507\n",
      "INFO:tensorflow:loss = 8.9499655, step = 37400 (0.125 sec)\n",
      "INFO:tensorflow:global_step/sec: 805.859\n",
      "INFO:tensorflow:loss = 15.32134, step = 37500 (0.124 sec)\n"
     ]
    },
    {
     "name": "stdout",
     "output_type": "stream",
     "text": [
      "INFO:tensorflow:global_step/sec: 803.562\n",
      "INFO:tensorflow:loss = 21.059118, step = 37600 (0.124 sec)\n",
      "INFO:tensorflow:global_step/sec: 968.825\n",
      "INFO:tensorflow:loss = 8.904739, step = 37700 (0.103 sec)\n",
      "INFO:tensorflow:global_step/sec: 840.06\n",
      "INFO:tensorflow:loss = 7.3204, step = 37800 (0.119 sec)\n",
      "INFO:tensorflow:global_step/sec: 846.474\n",
      "INFO:tensorflow:loss = 6.6902823, step = 37900 (0.118 sec)\n",
      "INFO:tensorflow:global_step/sec: 717.994\n",
      "INFO:tensorflow:loss = 5.4957943, step = 38000 (0.139 sec)\n",
      "INFO:tensorflow:global_step/sec: 826.234\n",
      "INFO:tensorflow:loss = 14.09829, step = 38100 (0.121 sec)\n",
      "INFO:tensorflow:global_step/sec: 984.34\n",
      "INFO:tensorflow:loss = 3.4618297, step = 38200 (0.102 sec)\n",
      "INFO:tensorflow:global_step/sec: 899.531\n",
      "INFO:tensorflow:loss = 26.317928, step = 38300 (0.111 sec)\n",
      "INFO:tensorflow:global_step/sec: 993.365\n",
      "INFO:tensorflow:loss = 47.24581, step = 38400 (0.101 sec)\n",
      "INFO:tensorflow:global_step/sec: 868.969\n",
      "INFO:tensorflow:loss = 9.91856, step = 38500 (0.115 sec)\n",
      "INFO:tensorflow:global_step/sec: 1001.08\n",
      "INFO:tensorflow:loss = 20.18578, step = 38600 (0.100 sec)\n",
      "INFO:tensorflow:global_step/sec: 1002.89\n",
      "INFO:tensorflow:loss = 8.177291, step = 38700 (0.100 sec)\n",
      "INFO:tensorflow:global_step/sec: 864.08\n",
      "INFO:tensorflow:loss = 4.297591, step = 38800 (0.116 sec)\n",
      "INFO:tensorflow:global_step/sec: 846.074\n",
      "INFO:tensorflow:loss = 4.4354334, step = 38900 (0.118 sec)\n",
      "INFO:tensorflow:global_step/sec: 1010.13\n",
      "INFO:tensorflow:loss = 17.398363, step = 39000 (0.099 sec)\n",
      "INFO:tensorflow:global_step/sec: 861.674\n",
      "INFO:tensorflow:loss = 14.424525, step = 39100 (0.116 sec)\n",
      "INFO:tensorflow:global_step/sec: 737.675\n",
      "INFO:tensorflow:loss = 42.24199, step = 39200 (0.136 sec)\n",
      "INFO:tensorflow:global_step/sec: 772.911\n",
      "INFO:tensorflow:loss = 13.002443, step = 39300 (0.130 sec)\n",
      "INFO:tensorflow:global_step/sec: 859.371\n",
      "INFO:tensorflow:loss = 8.471273, step = 39400 (0.116 sec)\n",
      "INFO:tensorflow:global_step/sec: 864.349\n",
      "INFO:tensorflow:loss = 16.408741, step = 39500 (0.116 sec)\n",
      "INFO:tensorflow:global_step/sec: 843.962\n",
      "INFO:tensorflow:loss = 6.6906767, step = 39600 (0.119 sec)\n",
      "INFO:tensorflow:global_step/sec: 823.14\n",
      "INFO:tensorflow:loss = 17.473269, step = 39700 (0.121 sec)\n",
      "INFO:tensorflow:global_step/sec: 826.945\n",
      "INFO:tensorflow:loss = 7.8637137, step = 39800 (0.121 sec)\n",
      "INFO:tensorflow:global_step/sec: 834.99\n",
      "INFO:tensorflow:loss = 10.811018, step = 39900 (0.120 sec)\n",
      "INFO:tensorflow:Calling checkpoint listeners before saving checkpoint 40000...\n",
      "INFO:tensorflow:Saving checkpoints for 40000 into models/autompg-dnnregressor/model.ckpt.\n",
      "INFO:tensorflow:Calling checkpoint listeners after saving checkpoint 40000...\n",
      "INFO:tensorflow:Loss for final step: 5.620602.\n"
     ]
    },
    {
     "data": {
      "text/plain": [
       "<tensorflow_estimator.python.estimator.canned.dnn.DNNRegressorV2 at 0x7fc0f62a2a90>"
      ]
     },
     "execution_count": 36,
     "metadata": {},
     "output_type": "execute_result"
    }
   ],
   "source": [
    "# Ready to use the Estimator for training, evaluation, and prediction\n",
    "# Can be trained be calling the train() method, for which we require the previously\n",
    "# defined input function\n",
    "\n",
    "EPOCHS = 1000\n",
    "BATCH_SIZE = 8\n",
    "total_steps = EPOCHS * int(np.ceil(len(df_train) / BATCH_SIZE))\n",
    "print('Training steps:', total_steps)\n",
    "\n",
    "regressor.train(\n",
    "    input_fn = lambda: train_input_fn(\n",
    "        df_train_norm, batch_size=BATCH_SIZE),\n",
    "    steps = total_steps)"
   ]
  },
  {
   "cell_type": "code",
   "execution_count": 37,
   "metadata": {},
   "outputs": [
    {
     "name": "stdout",
     "output_type": "stream",
     "text": [
      "INFO:tensorflow:Using default config.\n",
      "INFO:tensorflow:Using config: {'_model_dir': 'models/autompg-dnnregressor/', '_tf_random_seed': None, '_save_summary_steps': 100, '_save_checkpoints_steps': None, '_save_checkpoints_secs': 600, '_session_config': allow_soft_placement: true\n",
      "graph_options {\n",
      "  rewrite_options {\n",
      "    meta_optimizer_iterations: ONE\n",
      "  }\n",
      "}\n",
      ", '_keep_checkpoint_max': 5, '_keep_checkpoint_every_n_hours': 10000, '_log_step_count_steps': 100, '_train_distribute': None, '_device_fn': None, '_protocol': None, '_eval_distribute': None, '_experimental_distribute': None, '_experimental_max_worker_delay_secs': None, '_session_creation_timeout_secs': 7200, '_service': None, '_cluster_spec': ClusterSpec({}), '_task_type': 'worker', '_task_id': 0, '_global_id_in_cluster': 0, '_master': '', '_evaluation_master': '', '_is_chief': True, '_num_ps_replicas': 0, '_num_worker_replicas': 1}\n"
     ]
    }
   ],
   "source": [
    "# We can reload the last checkpoint\n",
    "reloaded_regressor = tf.estimator.DNNRegressor(\n",
    "    feature_columns=all_feature_columns,\n",
    "    hidden_units=[32, 10],\n",
    "    warm_start_from='models/autompg-dnnregressor/',\n",
    "    model_dir='models/autompg-dnnregressor/')"
   ]
  },
  {
   "cell_type": "code",
   "execution_count": 38,
   "metadata": {},
   "outputs": [
    {
     "name": "stdout",
     "output_type": "stream",
     "text": [
      "INFO:tensorflow:Calling model_fn.\n",
      "WARNING:tensorflow:Layer dnn is casting an input tensor from dtype float64 to the layer's dtype of float32, which is new behavior in TensorFlow 2.  The layer has dtype float32 because it's dtype defaults to floatx.\n",
      "\n",
      "If you intended to run this layer in float32, you can safely ignore this warning. If in doubt, this warning is likely only an issue if you are porting a TensorFlow 1.X model to TensorFlow 2.\n",
      "\n",
      "To change all layers to have dtype float64 by default, call `tf.keras.backend.set_floatx('float64')`. To change just this layer, pass dtype='float64' to the layer constructor. If you are the author of this layer, you can disable autocasting by passing autocast=False to the base Layer constructor.\n",
      "\n",
      "INFO:tensorflow:Done calling model_fn.\n",
      "INFO:tensorflow:Starting evaluation at 2020-06-18T14:24:52Z\n",
      "INFO:tensorflow:Graph was finalized.\n",
      "INFO:tensorflow:Restoring parameters from models/autompg-dnnregressor/model.ckpt-40000\n",
      "INFO:tensorflow:Running local_init_op.\n",
      "INFO:tensorflow:Done running local_init_op.\n",
      "INFO:tensorflow:Inference Time : 0.83679s\n",
      "INFO:tensorflow:Finished evaluation at 2020-06-18-14:24:53\n",
      "INFO:tensorflow:Saving dict for global step 40000: average_loss = 7.9081554, global_step = 40000, label/mean = 22.572153, loss = 7.9114327, prediction/mean = 22.770002\n",
      "INFO:tensorflow:Saving 'checkpoint_path' summary for global step 40000: models/autompg-dnnregressor/model.ckpt-40000\n",
      "Average loss 7.9082\n"
     ]
    }
   ],
   "source": [
    "# To evaluate the predictive performance of the trained model\n",
    "# we can use evaluate() method\n",
    "\n",
    "eval_results = reloaded_regressor.evaluate(\n",
    "    input_fn=lambda:eval_input_fn(df_test_norm, batch_size=8))\n",
    "\n",
    "print('Average loss {:.4f}'.format(\n",
    "    eval_results['average_loss']))"
   ]
  },
  {
   "cell_type": "code",
   "execution_count": 39,
   "metadata": {},
   "outputs": [
    {
     "name": "stdout",
     "output_type": "stream",
     "text": [
      "INFO:tensorflow:Calling model_fn.\n",
      "WARNING:tensorflow:Layer dnn is casting an input tensor from dtype float64 to the layer's dtype of float32, which is new behavior in TensorFlow 2.  The layer has dtype float32 because it's dtype defaults to floatx.\n",
      "\n",
      "If you intended to run this layer in float32, you can safely ignore this warning. If in doubt, this warning is likely only an issue if you are porting a TensorFlow 1.X model to TensorFlow 2.\n",
      "\n",
      "To change all layers to have dtype float64 by default, call `tf.keras.backend.set_floatx('float64')`. To change just this layer, pass dtype='float64' to the layer constructor. If you are the author of this layer, you can disable autocasting by passing autocast=False to the base Layer constructor.\n",
      "\n",
      "INFO:tensorflow:Done calling model_fn.\n",
      "INFO:tensorflow:Graph was finalized.\n",
      "INFO:tensorflow:Restoring parameters from models/autompg-dnnregressor/model.ckpt-40000\n",
      "INFO:tensorflow:Running local_init_op.\n",
      "INFO:tensorflow:Done running local_init_op.\n",
      "{'predictions': array([19.675968], dtype=float32)}\n"
     ]
    }
   ],
   "source": [
    "# Finally we will predict the target values on new data points with predict() method\n",
    "# Normally, the dataset would be new, unlabeled data points\n",
    "# Also note, the input function would only need to return a dataset consisting of features\n",
    "# as labels wouldnt be known\n",
    "\n",
    "\n",
    "#Here we are using the same input function\n",
    "pred_res = regressor.predict(\n",
    "    input_fn = lambda:eval_input_fn(\n",
    "        df_test_norm, batch_size=8))\n",
    "\n",
    "print(next(iter(pred_res)))"
   ]
  },
  {
   "cell_type": "code",
   "execution_count": 40,
   "metadata": {},
   "outputs": [
    {
     "name": "stdout",
     "output_type": "stream",
     "text": [
      "INFO:tensorflow:Using default config.\n",
      "WARNING:tensorflow:Using temporary folder as model directory: /var/folders/yn/5hhd3t215p7c414t13t3rzwm0000gn/T/tmpf52r2b_b\n",
      "INFO:tensorflow:Using config: {'_model_dir': '/var/folders/yn/5hhd3t215p7c414t13t3rzwm0000gn/T/tmpf52r2b_b', '_tf_random_seed': None, '_save_summary_steps': 100, '_save_checkpoints_steps': None, '_save_checkpoints_secs': 600, '_session_config': allow_soft_placement: true\n",
      "graph_options {\n",
      "  rewrite_options {\n",
      "    meta_optimizer_iterations: ONE\n",
      "  }\n",
      "}\n",
      ", '_keep_checkpoint_max': 5, '_keep_checkpoint_every_n_hours': 10000, '_log_step_count_steps': 100, '_train_distribute': None, '_device_fn': None, '_protocol': None, '_eval_distribute': None, '_experimental_distribute': None, '_experimental_max_worker_delay_secs': None, '_session_creation_timeout_secs': 7200, '_service': None, '_cluster_spec': ClusterSpec({}), '_task_type': 'worker', '_task_id': 0, '_global_id_in_cluster': 0, '_master': '', '_evaluation_master': '', '_is_chief': True, '_num_ps_replicas': 0, '_num_worker_replicas': 1}\n",
      "WARNING:tensorflow:From /Users/santiagocassalett/anaconda3/envs/py37/lib/python3.7/site-packages/tensorflow_estimator/python/estimator/canned/boosted_trees.py:398: VocabularyListCategoricalColumn._num_buckets (from tensorflow.python.feature_column.feature_column_v2) is deprecated and will be removed in a future version.\n",
      "Instructions for updating:\n",
      "The old _FeatureColumn APIs are being deprecated. Please use the new FeatureColumn APIs instead.\n",
      "INFO:tensorflow:Calling model_fn.\n",
      "INFO:tensorflow:Done calling model_fn.\n",
      "INFO:tensorflow:Create CheckpointSaverHook.\n",
      "WARNING:tensorflow:Issue encountered when serializing resources.\n",
      "Type is unsupported, or the types of the items don't match field type in CollectionDef. Note this is a warning and probably safe to ignore.\n",
      "'_Resource' object has no attribute 'name'\n",
      "INFO:tensorflow:Graph was finalized.\n",
      "INFO:tensorflow:Running local_init_op.\n",
      "INFO:tensorflow:Done running local_init_op.\n",
      "WARNING:tensorflow:Issue encountered when serializing resources.\n",
      "Type is unsupported, or the types of the items don't match field type in CollectionDef. Note this is a warning and probably safe to ignore.\n",
      "'_Resource' object has no attribute 'name'\n",
      "INFO:tensorflow:Calling checkpoint listeners before saving checkpoint 0...\n",
      "INFO:tensorflow:Saving checkpoints for 0 into /var/folders/yn/5hhd3t215p7c414t13t3rzwm0000gn/T/tmpf52r2b_b/model.ckpt.\n",
      "WARNING:tensorflow:Issue encountered when serializing resources.\n",
      "Type is unsupported, or the types of the items don't match field type in CollectionDef. Note this is a warning and probably safe to ignore.\n",
      "'_Resource' object has no attribute 'name'\n",
      "INFO:tensorflow:Calling checkpoint listeners after saving checkpoint 0...\n",
      "INFO:tensorflow:loss = 366.13, step = 0\n",
      "INFO:tensorflow:loss = 262.30463, step = 80 (0.630 sec)\n",
      "INFO:tensorflow:global_step/sec: 103.743\n",
      "INFO:tensorflow:loss = 94.5181, step = 180 (0.513 sec)\n",
      "INFO:tensorflow:global_step/sec: 440.761\n",
      "INFO:tensorflow:loss = 22.33758, step = 280 (0.367 sec)\n",
      "INFO:tensorflow:global_step/sec: 268.093\n",
      "INFO:tensorflow:loss = 10.600303, step = 380 (0.291 sec)\n",
      "INFO:tensorflow:global_step/sec: 349.478\n",
      "INFO:tensorflow:loss = 8.012892, step = 480 (0.308 sec)\n",
      "INFO:tensorflow:global_step/sec: 313.83\n",
      "INFO:tensorflow:loss = 4.207705, step = 580 (0.302 sec)\n",
      "INFO:tensorflow:global_step/sec: 313.246\n",
      "INFO:tensorflow:loss = 2.0799289, step = 680 (0.365 sec)\n",
      "INFO:tensorflow:global_step/sec: 261.837\n",
      "INFO:tensorflow:loss = 3.6416018, step = 780 (0.358 sec)\n",
      "INFO:tensorflow:global_step/sec: 324.154\n",
      "INFO:tensorflow:loss = 0.7215198, step = 880 (0.341 sec)\n",
      "INFO:tensorflow:global_step/sec: 285.348\n",
      "INFO:tensorflow:loss = 4.9371033, step = 980 (0.289 sec)\n",
      "INFO:tensorflow:global_step/sec: 367.131\n",
      "INFO:tensorflow:loss = 2.2637897, step = 1080 (0.406 sec)\n",
      "INFO:tensorflow:global_step/sec: 237.048\n",
      "INFO:tensorflow:loss = 3.4548254, step = 1180 (0.270 sec)\n",
      "INFO:tensorflow:global_step/sec: 336.406\n",
      "INFO:tensorflow:loss = 2.0936804, step = 1280 (0.311 sec)\n",
      "INFO:tensorflow:global_step/sec: 317.291\n",
      "INFO:tensorflow:loss = 2.9758792, step = 1380 (0.374 sec)\n",
      "INFO:tensorflow:global_step/sec: 293.782\n",
      "INFO:tensorflow:loss = 0.94049007, step = 1480 (0.268 sec)\n",
      "INFO:tensorflow:global_step/sec: 390.839\n",
      "INFO:tensorflow:loss = 1.2963408, step = 1580 (0.352 sec)\n",
      "INFO:tensorflow:global_step/sec: 236.649\n",
      "INFO:tensorflow:loss = 2.2638605, step = 1680 (0.501 sec)\n",
      "INFO:tensorflow:global_step/sec: 225.262\n",
      "INFO:tensorflow:loss = 1.0090479, step = 1780 (0.342 sec)\n",
      "INFO:tensorflow:global_step/sec: 251.995\n",
      "INFO:tensorflow:loss = 1.0000656, step = 1880 (0.362 sec)\n",
      "INFO:tensorflow:global_step/sec: 288.155\n",
      "INFO:tensorflow:loss = 2.0748198, step = 1980 (0.405 sec)\n",
      "INFO:tensorflow:global_step/sec: 260.369\n",
      "INFO:tensorflow:loss = 0.57830584, step = 2080 (0.350 sec)\n",
      "INFO:tensorflow:global_step/sec: 295.992\n",
      "INFO:tensorflow:loss = 1.0535587, step = 2180 (0.341 sec)\n",
      "INFO:tensorflow:global_step/sec: 308.722\n",
      "INFO:tensorflow:loss = 0.83151317, step = 2280 (0.384 sec)\n",
      "INFO:tensorflow:global_step/sec: 252.959\n",
      "INFO:tensorflow:loss = 1.2301372, step = 2380 (0.363 sec)\n",
      "INFO:tensorflow:global_step/sec: 234.268\n",
      "INFO:tensorflow:loss = 0.65233636, step = 2480 (0.367 sec)\n",
      "INFO:tensorflow:global_step/sec: 303.947\n",
      "INFO:tensorflow:loss = 1.4044374, step = 2580 (0.366 sec)\n",
      "INFO:tensorflow:global_step/sec: 268.03\n",
      "INFO:tensorflow:loss = 1.6610698, step = 2680 (0.419 sec)\n",
      "INFO:tensorflow:global_step/sec: 251.217\n",
      "INFO:tensorflow:loss = 1.5960393, step = 2780 (0.315 sec)\n",
      "INFO:tensorflow:global_step/sec: 341.441\n",
      "INFO:tensorflow:loss = 1.3408476, step = 2880 (0.322 sec)\n",
      "INFO:tensorflow:global_step/sec: 273.343\n",
      "INFO:tensorflow:loss = 0.87837815, step = 2980 (0.379 sec)\n",
      "INFO:tensorflow:global_step/sec: 244.816\n",
      "INFO:tensorflow:loss = 1.1583414, step = 3080 (0.350 sec)\n",
      "INFO:tensorflow:global_step/sec: 343.861\n",
      "INFO:tensorflow:loss = 0.9691978, step = 3180 (0.342 sec)\n",
      "INFO:tensorflow:global_step/sec: 290.13\n",
      "INFO:tensorflow:loss = 1.4505991, step = 3280 (0.278 sec)\n",
      "INFO:tensorflow:global_step/sec: 375.259\n",
      "INFO:tensorflow:loss = 0.65768075, step = 3380 (0.278 sec)\n",
      "INFO:tensorflow:global_step/sec: 367.56\n",
      "INFO:tensorflow:loss = 0.6902878, step = 3480 (0.385 sec)\n",
      "INFO:tensorflow:global_step/sec: 250.67\n",
      "INFO:tensorflow:loss = 0.5939208, step = 3580 (0.308 sec)\n",
      "INFO:tensorflow:global_step/sec: 280.752\n",
      "INFO:tensorflow:loss = 1.3707278, step = 3680 (0.319 sec)\n",
      "INFO:tensorflow:global_step/sec: 365.956\n",
      "INFO:tensorflow:loss = 0.59895825, step = 3780 (0.286 sec)\n",
      "INFO:tensorflow:global_step/sec: 348.483\n",
      "INFO:tensorflow:loss = 1.0475127, step = 3880 (0.362 sec)\n",
      "INFO:tensorflow:global_step/sec: 289.755\n",
      "INFO:tensorflow:loss = 1.0624942, step = 3980 (0.272 sec)\n",
      "INFO:tensorflow:global_step/sec: 369.156\n",
      "INFO:tensorflow:loss = 0.4526824, step = 4080 (0.321 sec)\n",
      "INFO:tensorflow:global_step/sec: 289.951\n",
      "INFO:tensorflow:loss = 0.72014844, step = 4180 (0.326 sec)\n",
      "INFO:tensorflow:global_step/sec: 267.394\n",
      "INFO:tensorflow:loss = 1.1862096, step = 4280 (0.375 sec)\n",
      "INFO:tensorflow:global_step/sec: 287.821\n",
      "INFO:tensorflow:loss = 0.40348145, step = 4380 (0.338 sec)\n",
      "INFO:tensorflow:global_step/sec: 331.148\n",
      "INFO:tensorflow:loss = 0.8246824, step = 4480 (0.290 sec)\n",
      "INFO:tensorflow:global_step/sec: 355.204\n",
      "INFO:tensorflow:loss = 0.41700098, step = 4580 (0.281 sec)\n",
      "INFO:tensorflow:global_step/sec: 354.713\n",
      "INFO:tensorflow:loss = 0.49364868, step = 4680 (0.425 sec)\n",
      "INFO:tensorflow:global_step/sec: 222.031\n",
      "INFO:tensorflow:loss = 0.4797528, step = 4780 (0.333 sec)\n",
      "INFO:tensorflow:global_step/sec: 293.921\n",
      "INFO:tensorflow:loss = 0.61493176, step = 4880 (0.273 sec)\n",
      "INFO:tensorflow:global_step/sec: 359.417\n",
      "INFO:tensorflow:loss = 0.7916627, step = 4980 (0.380 sec)\n",
      "INFO:tensorflow:global_step/sec: 282.303\n",
      "INFO:tensorflow:loss = 0.24911964, step = 5080 (0.363 sec)\n",
      "INFO:tensorflow:global_step/sec: 277.799\n",
      "INFO:tensorflow:loss = 0.2646076, step = 5180 (0.296 sec)\n",
      "INFO:tensorflow:global_step/sec: 348.237\n",
      "INFO:tensorflow:loss = 0.10804954, step = 5280 (0.308 sec)\n",
      "INFO:tensorflow:global_step/sec: 326.696\n",
      "INFO:tensorflow:loss = 0.42747992, step = 5380 (0.276 sec)\n",
      "INFO:tensorflow:global_step/sec: 315.766\n",
      "INFO:tensorflow:loss = 0.25252363, step = 5480 (0.285 sec)\n",
      "INFO:tensorflow:global_step/sec: 379.679\n"
     ]
    },
    {
     "name": "stdout",
     "output_type": "stream",
     "text": [
      "INFO:tensorflow:loss = 0.3689586, step = 5580 (0.316 sec)\n",
      "INFO:tensorflow:global_step/sec: 327.229\n",
      "INFO:tensorflow:loss = 0.17820144, step = 5680 (0.445 sec)\n",
      "INFO:tensorflow:global_step/sec: 227.878\n",
      "INFO:tensorflow:loss = 0.18125698, step = 5780 (0.251 sec)\n",
      "INFO:tensorflow:global_step/sec: 325.465\n",
      "INFO:tensorflow:loss = 0.1575427, step = 5880 (0.347 sec)\n",
      "INFO:tensorflow:global_step/sec: 343.649\n",
      "INFO:tensorflow:loss = 0.5644219, step = 5980 (0.252 sec)\n",
      "INFO:tensorflow:global_step/sec: 353.007\n",
      "INFO:tensorflow:loss = 0.13606131, step = 6080 (0.228 sec)\n",
      "INFO:tensorflow:global_step/sec: 470.732\n",
      "INFO:tensorflow:loss = 0.25506932, step = 6180 (0.241 sec)\n",
      "INFO:tensorflow:global_step/sec: 427.155\n",
      "INFO:tensorflow:loss = 0.0819938, step = 6280 (0.250 sec)\n",
      "INFO:tensorflow:global_step/sec: 410.004\n",
      "INFO:tensorflow:loss = 0.06707145, step = 6380 (0.312 sec)\n",
      "INFO:tensorflow:global_step/sec: 285.315\n",
      "INFO:tensorflow:loss = 0.25663835, step = 6480 (0.334 sec)\n",
      "INFO:tensorflow:global_step/sec: 329.056\n",
      "INFO:tensorflow:loss = 0.12700728, step = 6580 (0.305 sec)\n",
      "INFO:tensorflow:global_step/sec: 283.98\n",
      "INFO:tensorflow:loss = 0.13901708, step = 6680 (0.275 sec)\n",
      "INFO:tensorflow:global_step/sec: 428.418\n",
      "INFO:tensorflow:loss = 0.19673201, step = 6780 (0.247 sec)\n",
      "INFO:tensorflow:global_step/sec: 415.788\n",
      "INFO:tensorflow:loss = 0.11798855, step = 6880 (0.330 sec)\n",
      "INFO:tensorflow:global_step/sec: 302.847\n",
      "INFO:tensorflow:loss = 0.06434879, step = 6980 (0.319 sec)\n",
      "INFO:tensorflow:global_step/sec: 320.074\n",
      "INFO:tensorflow:loss = 0.12952296, step = 7080 (0.261 sec)\n",
      "INFO:tensorflow:global_step/sec: 384.502\n",
      "INFO:tensorflow:loss = 0.27751204, step = 7180 (0.233 sec)\n",
      "INFO:tensorflow:global_step/sec: 331.064\n",
      "INFO:tensorflow:loss = 0.16792403, step = 7280 (0.277 sec)\n",
      "INFO:tensorflow:global_step/sec: 453.275\n",
      "INFO:tensorflow:loss = 0.08103039, step = 7380 (0.309 sec)\n",
      "INFO:tensorflow:global_step/sec: 297.287\n",
      "INFO:tensorflow:loss = 0.07465387, step = 7480 (0.442 sec)\n",
      "INFO:tensorflow:global_step/sec: 235.206\n",
      "INFO:tensorflow:loss = 0.13856634, step = 7580 (0.384 sec)\n",
      "INFO:tensorflow:global_step/sec: 278.614\n",
      "INFO:tensorflow:loss = 0.11363192, step = 7680 (0.305 sec)\n",
      "INFO:tensorflow:global_step/sec: 326.118\n",
      "INFO:tensorflow:loss = 0.12612528, step = 7780 (0.295 sec)\n",
      "INFO:tensorflow:global_step/sec: 286.826\n",
      "INFO:tensorflow:loss = 0.087861836, step = 7880 (0.388 sec)\n",
      "INFO:tensorflow:global_step/sec: 286.377\n",
      "INFO:tensorflow:loss = 0.10794422, step = 7980 (0.251 sec)\n",
      "INFO:tensorflow:global_step/sec: 412.449\n",
      "INFO:tensorflow:loss = 0.04169111, step = 8080 (0.288 sec)\n",
      "INFO:tensorflow:global_step/sec: 332.769\n",
      "INFO:tensorflow:loss = 0.062677346, step = 8180 (0.348 sec)\n",
      "INFO:tensorflow:global_step/sec: 299.843\n",
      "INFO:tensorflow:loss = 0.13509817, step = 8280 (0.272 sec)\n",
      "INFO:tensorflow:global_step/sec: 369.955\n",
      "INFO:tensorflow:loss = 0.06626018, step = 8380 (0.240 sec)\n",
      "INFO:tensorflow:global_step/sec: 367.074\n",
      "INFO:tensorflow:loss = 0.060477026, step = 8480 (0.352 sec)\n",
      "INFO:tensorflow:global_step/sec: 289.323\n",
      "INFO:tensorflow:loss = 0.16483693, step = 8580 (0.315 sec)\n",
      "INFO:tensorflow:global_step/sec: 284.488\n",
      "INFO:tensorflow:loss = 0.02249515, step = 8680 (0.465 sec)\n",
      "INFO:tensorflow:global_step/sec: 228.994\n",
      "INFO:tensorflow:loss = 0.09996139, step = 8780 (0.446 sec)\n",
      "INFO:tensorflow:global_step/sec: 243.608\n",
      "INFO:tensorflow:loss = 0.06023246, step = 8880 (0.446 sec)\n",
      "INFO:tensorflow:global_step/sec: 224.488\n",
      "INFO:tensorflow:loss = 0.06069269, step = 8980 (0.238 sec)\n",
      "INFO:tensorflow:global_step/sec: 368.603\n",
      "INFO:tensorflow:loss = 0.07342237, step = 9080 (0.289 sec)\n",
      "INFO:tensorflow:global_step/sec: 322.332\n",
      "INFO:tensorflow:loss = 0.041661784, step = 9180 (0.382 sec)\n",
      "INFO:tensorflow:global_step/sec: 282.537\n",
      "INFO:tensorflow:loss = 0.05627605, step = 9280 (0.403 sec)\n",
      "INFO:tensorflow:global_step/sec: 246.134\n",
      "INFO:tensorflow:loss = 0.04534973, step = 9380 (0.323 sec)\n",
      "INFO:tensorflow:global_step/sec: 329.461\n",
      "INFO:tensorflow:loss = 0.03767316, step = 9480 (0.302 sec)\n",
      "INFO:tensorflow:global_step/sec: 322.152\n",
      "INFO:tensorflow:loss = 0.025260216, step = 9580 (0.355 sec)\n",
      "INFO:tensorflow:global_step/sec: 230.849\n",
      "INFO:tensorflow:loss = 0.039452907, step = 9680 (0.419 sec)\n",
      "INFO:tensorflow:global_step/sec: 290.709\n",
      "INFO:tensorflow:loss = 0.016463395, step = 9780 (0.343 sec)\n",
      "INFO:tensorflow:global_step/sec: 297.991\n",
      "INFO:tensorflow:loss = 0.09893381, step = 9880 (0.286 sec)\n",
      "INFO:tensorflow:global_step/sec: 358.252\n",
      "INFO:tensorflow:loss = 0.023711663, step = 9980 (0.433 sec)\n",
      "INFO:tensorflow:global_step/sec: 234.984\n",
      "INFO:tensorflow:loss = 0.043656543, step = 10080 (0.327 sec)\n",
      "INFO:tensorflow:global_step/sec: 303.215\n",
      "INFO:tensorflow:loss = 0.05251358, step = 10180 (0.310 sec)\n",
      "INFO:tensorflow:global_step/sec: 280.377\n",
      "INFO:tensorflow:loss = 0.029929766, step = 10280 (0.321 sec)\n",
      "INFO:tensorflow:global_step/sec: 339.214\n",
      "INFO:tensorflow:loss = 0.05008074, step = 10380 (0.271 sec)\n",
      "INFO:tensorflow:global_step/sec: 384.215\n",
      "INFO:tensorflow:loss = 0.013628463, step = 10480 (0.377 sec)\n",
      "INFO:tensorflow:global_step/sec: 268.275\n",
      "INFO:tensorflow:loss = 0.02970453, step = 10580 (0.281 sec)\n",
      "INFO:tensorflow:global_step/sec: 359.162\n",
      "INFO:tensorflow:loss = 0.03676061, step = 10680 (0.340 sec)\n",
      "INFO:tensorflow:global_step/sec: 267.301\n",
      "INFO:tensorflow:loss = 0.067065686, step = 10780 (0.326 sec)\n",
      "INFO:tensorflow:global_step/sec: 296.114\n",
      "INFO:tensorflow:loss = 0.035761975, step = 10880 (0.346 sec)\n",
      "INFO:tensorflow:global_step/sec: 308.854\n",
      "INFO:tensorflow:loss = 0.014153814, step = 10980 (0.349 sec)\n",
      "INFO:tensorflow:global_step/sec: 296.821\n",
      "INFO:tensorflow:loss = 0.03921818, step = 11080 (0.349 sec)\n",
      "INFO:tensorflow:global_step/sec: 289.365\n",
      "INFO:tensorflow:loss = 0.031282872, step = 11180 (0.344 sec)\n",
      "INFO:tensorflow:global_step/sec: 296.574\n",
      "INFO:tensorflow:loss = 0.07949765, step = 11280 (0.399 sec)\n",
      "INFO:tensorflow:global_step/sec: 252.236\n",
      "INFO:tensorflow:loss = 0.018741585, step = 11380 (0.294 sec)\n",
      "INFO:tensorflow:global_step/sec: 286.742\n",
      "INFO:tensorflow:loss = 0.016689962, step = 11480 (0.414 sec)\n",
      "INFO:tensorflow:global_step/sec: 253.241\n",
      "INFO:tensorflow:loss = 0.029239178, step = 11580 (0.288 sec)\n",
      "INFO:tensorflow:global_step/sec: 386.051\n",
      "INFO:tensorflow:loss = 0.04422839, step = 11680 (0.280 sec)\n",
      "INFO:tensorflow:global_step/sec: 345.142\n",
      "INFO:tensorflow:loss = 0.03614749, step = 11780 (0.457 sec)\n",
      "INFO:tensorflow:global_step/sec: 215.925\n",
      "INFO:tensorflow:loss = 0.026379533, step = 11880 (0.352 sec)\n",
      "INFO:tensorflow:global_step/sec: 301.122\n",
      "INFO:tensorflow:loss = 0.014132418, step = 11980 (0.384 sec)\n",
      "INFO:tensorflow:global_step/sec: 234.28\n",
      "INFO:tensorflow:loss = 0.0255733, step = 12080 (0.374 sec)\n",
      "INFO:tensorflow:global_step/sec: 280.418\n",
      "INFO:tensorflow:loss = 0.022595778, step = 12180 (0.385 sec)\n",
      "INFO:tensorflow:global_step/sec: 272.335\n",
      "INFO:tensorflow:loss = 0.01181951, step = 12280 (0.299 sec)\n",
      "INFO:tensorflow:global_step/sec: 341.231\n",
      "INFO:tensorflow:loss = 0.01791351, step = 12380 (0.326 sec)\n",
      "INFO:tensorflow:global_step/sec: 279.286\n",
      "INFO:tensorflow:loss = 0.02288469, step = 12480 (0.413 sec)\n",
      "INFO:tensorflow:global_step/sec: 261.275\n",
      "INFO:tensorflow:loss = 0.016525, step = 12580 (0.360 sec)\n",
      "INFO:tensorflow:global_step/sec: 225.474\n",
      "INFO:tensorflow:loss = 0.011561881, step = 12680 (0.409 sec)\n",
      "INFO:tensorflow:global_step/sec: 279.823\n",
      "INFO:tensorflow:loss = 0.015626557, step = 12780 (0.391 sec)\n",
      "INFO:tensorflow:global_step/sec: 276.328\n",
      "INFO:tensorflow:loss = 0.007201626, step = 12880 (0.283 sec)\n",
      "INFO:tensorflow:global_step/sec: 361.132\n",
      "INFO:tensorflow:loss = 0.023243021, step = 12980 (0.392 sec)\n",
      "INFO:tensorflow:global_step/sec: 225.097\n",
      "INFO:tensorflow:loss = 0.03158033, step = 13080 (0.398 sec)\n",
      "INFO:tensorflow:global_step/sec: 287.428\n",
      "INFO:tensorflow:loss = 0.0058681658, step = 13180 (0.400 sec)\n",
      "INFO:tensorflow:global_step/sec: 214.468\n",
      "INFO:tensorflow:loss = 0.006881304, step = 13280 (0.446 sec)\n",
      "INFO:tensorflow:global_step/sec: 237.856\n",
      "INFO:tensorflow:loss = 0.023534779, step = 13380 (0.453 sec)\n",
      "INFO:tensorflow:global_step/sec: 231.491\n",
      "INFO:tensorflow:loss = 0.004051018, step = 13480 (0.315 sec)\n",
      "INFO:tensorflow:global_step/sec: 314.966\n",
      "INFO:tensorflow:loss = 0.011088085, step = 13580 (0.439 sec)\n",
      "INFO:tensorflow:global_step/sec: 239.797\n",
      "INFO:tensorflow:loss = 0.017487489, step = 13680 (0.381 sec)\n"
     ]
    },
    {
     "name": "stdout",
     "output_type": "stream",
     "text": [
      "INFO:tensorflow:global_step/sec: 245.897\n",
      "INFO:tensorflow:loss = 0.01963302, step = 13780 (0.332 sec)\n",
      "INFO:tensorflow:global_step/sec: 293.674\n",
      "INFO:tensorflow:loss = 0.006488923, step = 13880 (0.383 sec)\n",
      "INFO:tensorflow:global_step/sec: 247.133\n",
      "INFO:tensorflow:loss = 0.017147252, step = 13980 (0.459 sec)\n",
      "INFO:tensorflow:global_step/sec: 244.536\n",
      "INFO:tensorflow:loss = 0.009291249, step = 14080 (0.405 sec)\n",
      "INFO:tensorflow:global_step/sec: 246.304\n",
      "INFO:tensorflow:loss = 0.0033008961, step = 14180 (0.354 sec)\n",
      "INFO:tensorflow:global_step/sec: 279.258\n",
      "INFO:tensorflow:loss = 0.012831043, step = 14280 (0.379 sec)\n",
      "INFO:tensorflow:global_step/sec: 248.05\n",
      "INFO:tensorflow:loss = 0.048148282, step = 14380 (0.360 sec)\n",
      "INFO:tensorflow:global_step/sec: 242.817\n",
      "INFO:tensorflow:loss = 0.010974282, step = 14480 (0.522 sec)\n",
      "INFO:tensorflow:global_step/sec: 215.661\n",
      "INFO:tensorflow:loss = 0.00793718, step = 14580 (0.308 sec)\n",
      "INFO:tensorflow:global_step/sec: 339.417\n",
      "INFO:tensorflow:loss = 0.01123783, step = 14680 (0.476 sec)\n",
      "INFO:tensorflow:global_step/sec: 216.724\n",
      "INFO:tensorflow:loss = 0.010459809, step = 14780 (0.303 sec)\n",
      "INFO:tensorflow:global_step/sec: 289.973\n",
      "INFO:tensorflow:loss = 0.017739946, step = 14880 (0.549 sec)\n",
      "INFO:tensorflow:global_step/sec: 189.097\n",
      "INFO:tensorflow:loss = 0.0049296664, step = 14980 (0.432 sec)\n",
      "INFO:tensorflow:global_step/sec: 202.031\n",
      "INFO:tensorflow:loss = 0.027184732, step = 15080 (0.425 sec)\n",
      "INFO:tensorflow:global_step/sec: 282.553\n",
      "INFO:tensorflow:loss = 0.0116996765, step = 15180 (0.417 sec)\n",
      "INFO:tensorflow:global_step/sec: 225.858\n",
      "INFO:tensorflow:loss = 0.015778817, step = 15280 (0.497 sec)\n",
      "INFO:tensorflow:global_step/sec: 206.453\n",
      "INFO:tensorflow:loss = 0.003644666, step = 15380 (0.504 sec)\n",
      "INFO:tensorflow:global_step/sec: 201.908\n",
      "INFO:tensorflow:loss = 0.0069090584, step = 15480 (0.405 sec)\n",
      "INFO:tensorflow:global_step/sec: 247.234\n",
      "INFO:tensorflow:loss = 0.0017056023, step = 15580 (0.458 sec)\n",
      "INFO:tensorflow:global_step/sec: 192.794\n",
      "INFO:tensorflow:loss = 0.0056867916, step = 15680 (0.505 sec)\n",
      "INFO:tensorflow:global_step/sec: 208.675\n",
      "INFO:tensorflow:loss = 0.007539596, step = 15780 (0.513 sec)\n",
      "INFO:tensorflow:global_step/sec: 193.557\n",
      "INFO:tensorflow:loss = 0.0072443197, step = 15880 (0.521 sec)\n",
      "INFO:tensorflow:global_step/sec: 199.131\n",
      "INFO:tensorflow:loss = 0.0027867854, step = 15980 (0.497 sec)\n",
      "INFO:tensorflow:global_step/sec: 206.174\n",
      "INFO:tensorflow:loss = 0.0049525322, step = 16080 (0.512 sec)\n",
      "INFO:tensorflow:global_step/sec: 193.773\n",
      "INFO:tensorflow:loss = 0.0009869928, step = 16180 (0.467 sec)\n",
      "INFO:tensorflow:global_step/sec: 193.872\n",
      "INFO:tensorflow:loss = 0.003332384, step = 16280 (0.505 sec)\n",
      "INFO:tensorflow:global_step/sec: 212.173\n",
      "INFO:tensorflow:loss = 0.006073241, step = 16380 (0.505 sec)\n",
      "INFO:tensorflow:global_step/sec: 202.638\n",
      "INFO:tensorflow:loss = 0.009273651, step = 16480 (0.525 sec)\n",
      "INFO:tensorflow:global_step/sec: 191.582\n",
      "INFO:tensorflow:loss = 0.0036502676, step = 16580 (0.528 sec)\n",
      "INFO:tensorflow:global_step/sec: 192.125\n",
      "INFO:tensorflow:loss = 0.0046562627, step = 16680 (0.502 sec)\n",
      "INFO:tensorflow:global_step/sec: 201.334\n",
      "INFO:tensorflow:loss = 0.0020260501, step = 16780 (0.311 sec)\n",
      "INFO:tensorflow:global_step/sec: 299.905\n",
      "INFO:tensorflow:loss = 0.002319716, step = 16880 (0.453 sec)\n",
      "INFO:tensorflow:global_step/sec: 213.151\n",
      "INFO:tensorflow:loss = 0.005213284, step = 16980 (0.514 sec)\n",
      "INFO:tensorflow:global_step/sec: 202.58\n",
      "INFO:tensorflow:loss = 0.006684992, step = 17080 (0.489 sec)\n",
      "INFO:tensorflow:global_step/sec: 216.921\n",
      "INFO:tensorflow:loss = 0.00450133, step = 17180 (0.423 sec)\n",
      "INFO:tensorflow:global_step/sec: 216.679\n",
      "INFO:tensorflow:loss = 0.009706259, step = 17280 (0.546 sec)\n",
      "INFO:tensorflow:global_step/sec: 189.347\n",
      "INFO:tensorflow:loss = 0.0021068894, step = 17380 (0.479 sec)\n",
      "INFO:tensorflow:global_step/sec: 201.21\n",
      "INFO:tensorflow:loss = 0.031065874, step = 17480 (0.319 sec)\n",
      "INFO:tensorflow:global_step/sec: 298.804\n",
      "INFO:tensorflow:loss = 0.01002106, step = 17580 (0.547 sec)\n",
      "INFO:tensorflow:global_step/sec: 190.08\n",
      "INFO:tensorflow:loss = 0.002634208, step = 17680 (0.464 sec)\n",
      "INFO:tensorflow:global_step/sec: 236.898\n",
      "INFO:tensorflow:loss = 0.0034633738, step = 17780 (0.372 sec)\n",
      "INFO:tensorflow:global_step/sec: 233.587\n",
      "INFO:tensorflow:loss = 0.0061316937, step = 17880 (0.503 sec)\n",
      "INFO:tensorflow:global_step/sec: 223.491\n",
      "INFO:tensorflow:loss = 0.0031863712, step = 17980 (0.354 sec)\n",
      "INFO:tensorflow:global_step/sec: 237.973\n",
      "INFO:tensorflow:loss = 0.0018933997, step = 18080 (0.469 sec)\n",
      "INFO:tensorflow:global_step/sec: 225.097\n",
      "INFO:tensorflow:loss = 0.0049498156, step = 18180 (0.400 sec)\n",
      "INFO:tensorflow:global_step/sec: 267.873\n",
      "INFO:tensorflow:loss = 0.001555872, step = 18280 (0.387 sec)\n",
      "INFO:tensorflow:global_step/sec: 254.851\n",
      "INFO:tensorflow:loss = 0.002804773, step = 18380 (0.455 sec)\n",
      "INFO:tensorflow:global_step/sec: 216.041\n",
      "INFO:tensorflow:loss = 0.0004329095, step = 18480 (0.513 sec)\n",
      "INFO:tensorflow:global_step/sec: 194.164\n",
      "INFO:tensorflow:loss = 0.0015785384, step = 18580 (0.434 sec)\n",
      "INFO:tensorflow:global_step/sec: 217.772\n",
      "INFO:tensorflow:loss = 0.0020692965, step = 18680 (0.356 sec)\n",
      "INFO:tensorflow:global_step/sec: 290.879\n",
      "INFO:tensorflow:loss = 0.0036637555, step = 18780 (0.391 sec)\n",
      "INFO:tensorflow:global_step/sec: 251.031\n",
      "INFO:tensorflow:loss = 0.003416692, step = 18880 (0.436 sec)\n",
      "INFO:tensorflow:global_step/sec: 252.206\n",
      "INFO:tensorflow:loss = 0.0027375, step = 18980 (0.336 sec)\n",
      "INFO:tensorflow:global_step/sec: 283.032\n",
      "INFO:tensorflow:loss = 0.0014283134, step = 19080 (0.492 sec)\n",
      "INFO:tensorflow:global_step/sec: 214.023\n",
      "INFO:tensorflow:loss = 0.0028511337, step = 19180 (0.426 sec)\n",
      "INFO:tensorflow:global_step/sec: 218.161\n",
      "INFO:tensorflow:loss = 0.0021575666, step = 19280 (0.309 sec)\n",
      "INFO:tensorflow:global_step/sec: 338.484\n",
      "INFO:tensorflow:loss = 0.00090226217, step = 19380 (0.446 sec)\n",
      "INFO:tensorflow:global_step/sec: 223.794\n",
      "INFO:tensorflow:loss = 0.0010935643, step = 19480 (0.426 sec)\n",
      "INFO:tensorflow:global_step/sec: 233.652\n",
      "INFO:tensorflow:loss = 0.0020268762, step = 19580 (0.455 sec)\n",
      "INFO:tensorflow:global_step/sec: 228.079\n",
      "INFO:tensorflow:loss = 0.002051344, step = 19680 (0.470 sec)\n",
      "INFO:tensorflow:global_step/sec: 194.311\n",
      "INFO:tensorflow:loss = 0.0013172679, step = 19780 (0.405 sec)\n",
      "INFO:tensorflow:global_step/sec: 231.866\n",
      "INFO:tensorflow:loss = 0.001692865, step = 19880 (0.394 sec)\n",
      "INFO:tensorflow:global_step/sec: 295.73\n",
      "INFO:tensorflow:loss = 0.00038631345, step = 19980 (0.339 sec)\n",
      "INFO:tensorflow:global_step/sec: 306.2\n",
      "INFO:tensorflow:loss = 0.0008639614, step = 20080 (0.335 sec)\n",
      "INFO:tensorflow:global_step/sec: 300.472\n",
      "INFO:tensorflow:loss = 0.0028648279, step = 20180 (0.336 sec)\n",
      "INFO:tensorflow:global_step/sec: 261.969\n",
      "INFO:tensorflow:loss = 0.002482068, step = 20280 (0.444 sec)\n",
      "INFO:tensorflow:global_step/sec: 253.095\n",
      "INFO:tensorflow:loss = 0.00096127845, step = 20380 (0.311 sec)\n",
      "INFO:tensorflow:global_step/sec: 289.995\n",
      "INFO:tensorflow:loss = 0.0013326863, step = 20480 (0.346 sec)\n",
      "INFO:tensorflow:global_step/sec: 269.007\n",
      "INFO:tensorflow:loss = 0.00072344946, step = 20580 (0.419 sec)\n",
      "INFO:tensorflow:global_step/sec: 271.13\n",
      "INFO:tensorflow:loss = 0.0011289755, step = 20680 (0.398 sec)\n",
      "INFO:tensorflow:global_step/sec: 237.622\n",
      "INFO:tensorflow:loss = 0.0012885781, step = 20780 (0.376 sec)\n",
      "INFO:tensorflow:global_step/sec: 289.628\n",
      "INFO:tensorflow:loss = 0.00052248023, step = 20880 (0.336 sec)\n",
      "INFO:tensorflow:global_step/sec: 296.569\n",
      "INFO:tensorflow:loss = 0.0007541462, step = 20980 (0.326 sec)\n",
      "INFO:tensorflow:global_step/sec: 271.177\n",
      "INFO:tensorflow:loss = 0.0009761533, step = 21080 (0.363 sec)\n",
      "INFO:tensorflow:global_step/sec: 293.331\n",
      "INFO:tensorflow:loss = 0.0018811389, step = 21180 (0.337 sec)\n",
      "INFO:tensorflow:global_step/sec: 314.762\n",
      "INFO:tensorflow:loss = 0.0005748415, step = 21280 (0.338 sec)\n",
      "INFO:tensorflow:global_step/sec: 296.267\n",
      "INFO:tensorflow:loss = 0.0006838908, step = 21380 (0.357 sec)\n",
      "INFO:tensorflow:global_step/sec: 280.52\n",
      "INFO:tensorflow:loss = 0.0005161019, step = 21480 (0.357 sec)\n",
      "INFO:tensorflow:global_step/sec: 275.032\n",
      "INFO:tensorflow:loss = 0.00084587454, step = 21580 (0.381 sec)\n",
      "INFO:tensorflow:global_step/sec: 234.222\n",
      "INFO:tensorflow:loss = 0.0019451597, step = 21680 (0.377 sec)\n"
     ]
    },
    {
     "name": "stdout",
     "output_type": "stream",
     "text": [
      "INFO:tensorflow:global_step/sec: 293.839\n",
      "INFO:tensorflow:loss = 0.038108855, step = 21780 (0.360 sec)\n",
      "INFO:tensorflow:global_step/sec: 280.143\n",
      "INFO:tensorflow:loss = 0.0012883081, step = 21880 (0.374 sec)\n",
      "INFO:tensorflow:global_step/sec: 271.29\n",
      "INFO:tensorflow:loss = 0.0011662443, step = 21980 (0.425 sec)\n",
      "INFO:tensorflow:global_step/sec: 235.417\n",
      "INFO:tensorflow:loss = 0.00090176106, step = 22080 (0.458 sec)\n",
      "INFO:tensorflow:global_step/sec: 219.044\n",
      "INFO:tensorflow:loss = 0.0016908254, step = 22180 (0.346 sec)\n",
      "INFO:tensorflow:global_step/sec: 256.715\n",
      "INFO:tensorflow:loss = 0.0005697271, step = 22280 (0.361 sec)\n",
      "INFO:tensorflow:global_step/sec: 305.143\n",
      "INFO:tensorflow:loss = 0.0011783497, step = 22380 (0.365 sec)\n",
      "INFO:tensorflow:global_step/sec: 263.26\n",
      "INFO:tensorflow:loss = 0.00035651983, step = 22480 (0.393 sec)\n",
      "INFO:tensorflow:global_step/sec: 277.283\n",
      "INFO:tensorflow:loss = 0.00067769794, step = 22580 (0.405 sec)\n",
      "INFO:tensorflow:global_step/sec: 218.768\n",
      "INFO:tensorflow:loss = 0.0015130385, step = 22680 (0.475 sec)\n",
      "INFO:tensorflow:global_step/sec: 231.073\n",
      "INFO:tensorflow:loss = 0.00036307797, step = 22780 (0.339 sec)\n",
      "INFO:tensorflow:global_step/sec: 278.917\n",
      "INFO:tensorflow:loss = 0.0005047981, step = 22880 (0.328 sec)\n",
      "INFO:tensorflow:global_step/sec: 309.736\n",
      "INFO:tensorflow:loss = 0.038148884, step = 22980 (0.458 sec)\n",
      "INFO:tensorflow:global_step/sec: 224.461\n",
      "INFO:tensorflow:loss = 0.00062110985, step = 23080 (0.420 sec)\n",
      "INFO:tensorflow:global_step/sec: 235.057\n",
      "INFO:tensorflow:loss = 0.00066733314, step = 23180 (0.399 sec)\n",
      "INFO:tensorflow:global_step/sec: 255.61\n",
      "INFO:tensorflow:loss = 0.00033859693, step = 23280 (0.484 sec)\n",
      "INFO:tensorflow:global_step/sec: 199.128\n",
      "INFO:tensorflow:loss = 0.00035415284, step = 23380 (0.497 sec)\n",
      "INFO:tensorflow:global_step/sec: 198.365\n",
      "INFO:tensorflow:loss = 0.001839497, step = 23480 (0.398 sec)\n",
      "INFO:tensorflow:global_step/sec: 261.051\n",
      "INFO:tensorflow:loss = 0.00032121874, step = 23580 (0.388 sec)\n",
      "INFO:tensorflow:global_step/sec: 218.458\n",
      "INFO:tensorflow:loss = 0.0007539793, step = 23680 (0.530 sec)\n",
      "INFO:tensorflow:global_step/sec: 212.034\n",
      "INFO:tensorflow:loss = 0.0007891836, step = 23780 (0.504 sec)\n",
      "INFO:tensorflow:global_step/sec: 208.422\n",
      "INFO:tensorflow:loss = 0.00019840608, step = 23880 (0.558 sec)\n",
      "INFO:tensorflow:global_step/sec: 170.294\n",
      "INFO:tensorflow:loss = 0.0012439775, step = 23980 (0.410 sec)\n",
      "INFO:tensorflow:global_step/sec: 240.576\n",
      "INFO:tensorflow:Calling checkpoint listeners before saving checkpoint 24000...\n",
      "INFO:tensorflow:Saving checkpoints for 24000 into /var/folders/yn/5hhd3t215p7c414t13t3rzwm0000gn/T/tmpf52r2b_b/model.ckpt.\n",
      "WARNING:tensorflow:Issue encountered when serializing resources.\n",
      "Type is unsupported, or the types of the items don't match field type in CollectionDef. Note this is a warning and probably safe to ignore.\n",
      "'_Resource' object has no attribute 'name'\n",
      "INFO:tensorflow:Calling checkpoint listeners after saving checkpoint 24000...\n",
      "INFO:tensorflow:Loss for final step: 0.00020040065.\n",
      "INFO:tensorflow:Calling model_fn.\n",
      "INFO:tensorflow:Done calling model_fn.\n",
      "INFO:tensorflow:Starting evaluation at 2020-06-18T14:34:55Z\n",
      "INFO:tensorflow:Graph was finalized.\n",
      "INFO:tensorflow:Restoring parameters from /var/folders/yn/5hhd3t215p7c414t13t3rzwm0000gn/T/tmpf52r2b_b/model.ckpt-24000\n",
      "INFO:tensorflow:Running local_init_op.\n",
      "INFO:tensorflow:Done running local_init_op.\n",
      "INFO:tensorflow:Inference Time : 0.54917s\n",
      "INFO:tensorflow:Finished evaluation at 2020-06-18-14:34:56\n",
      "INFO:tensorflow:Saving dict for global step 24000: average_loss = 5.838572, global_step = 24000, label/mean = 22.572153, loss = 5.8310924, prediction/mean = 22.570503\n",
      "WARNING:tensorflow:Issue encountered when serializing resources.\n",
      "Type is unsupported, or the types of the items don't match field type in CollectionDef. Note this is a warning and probably safe to ignore.\n",
      "'_Resource' object has no attribute 'name'\n",
      "INFO:tensorflow:Saving 'checkpoint_path' summary for global step 24000: /var/folders/yn/5hhd3t215p7c414t13t3rzwm0000gn/T/tmpf52r2b_b/model.ckpt-24000\n",
      "Average loss 5.8386\n"
     ]
    }
   ],
   "source": [
    "# We will now use a different pre-made Estimator: the boosted tree regressor\n",
    "# We just need to repeat steps 3 and 4 as steps 1 and 2 are the same the above\n",
    "\n",
    "boosted_tree = tf.estimator.BoostedTreesRegressor(\n",
    "    feature_columns=all_feature_columns,\n",
    "    n_batches_per_layer=20,\n",
    "    n_trees=200)\n",
    "\n",
    "boosted_tree.train(\n",
    "    input_fn = lambda:train_input_fn(\n",
    "        df_train_norm, batch_size = 8))\n",
    "\n",
    "eval_results = boosted_tree.evaluate(\n",
    "    input_fn = lambda:eval_input_fn(\n",
    "        df_test_norm, batch_size = 8))\n",
    "\n",
    "print('Average loss {:.4f}'.format(\n",
    "    eval_results['average_loss']))\n",
    "\n",
    "#Average loss of 5.8386 is much better than the 19 in the DNNRegessor\n",
    "#This is expected for a small dataset"
   ]
  },
  {
   "cell_type": "code",
   "execution_count": null,
   "metadata": {},
   "outputs": [],
   "source": [
    "###############################################################\n",
    "# Using Estimators for MNIST handwritten digit classification #\n",
    "###############################################################"
   ]
  },
  {
   "cell_type": "code",
   "execution_count": 1,
   "metadata": {},
   "outputs": [],
   "source": [
    "# Will be using the DNNClassifier Estimator to classify the MNIST dataset\n",
    "# Follows similar steps to the above regressor\n",
    "\n",
    "#Loading the dataset and specifying the hyperparameters\n",
    "import tensorflow as tf\n",
    "import tensorflow_datasets as tfds\n",
    "import numpy as np\n",
    "\n",
    "BUFFER_SIZE = 10000 #For shuffling the dataset\n",
    "BATCH_SIZE = 64 # size of the mini-batches\n",
    "NUM_EPOCHS = 20 # number of training epocs\n",
    "steps_per_epoch = np.ceil(60000 / BATCH_SIZE) #number of iterations in each epoch"
   ]
  },
  {
   "cell_type": "code",
   "execution_count": 2,
   "metadata": {},
   "outputs": [],
   "source": [
    "#Next we will define a helper function that will preprocess the input image and its label\n",
    "# The input image is of the type 'uint8' (range[0, 255])\n",
    "# we will use tf.image.covert_image_dtype() to convert to type tf.float(32)(range[0, 1])\n",
    "\n",
    "def preprocess(item):\n",
    "    image = item['image']\n",
    "    label = item['label']\n",
    "    image = tf.image.convert_image_dtype(\n",
    "        image, tf.float32)\n",
    "    image = tf.reshape(image, (-1, ))\n",
    "    \n",
    "    return {'image-pixels':image}, label[..., tf.newaxis] #dictionary of feature - one key"
   ]
  },
  {
   "cell_type": "code",
   "execution_count": 5,
   "metadata": {},
   "outputs": [],
   "source": [
    "#Step 1: define two input functions (one for training and one for evaluation)\n",
    "\n",
    "def train_input_fn():\n",
    "    datasets = tfds.load(name = 'mnist')\n",
    "    mnist_train = datasets['train']\n",
    "    \n",
    "    dataset = mnist_train.map(preprocess)\n",
    "    dataset = dataset.shuffle(BUFFER_SIZE)\n",
    "    dataset = dataset.batch(BATCH_SIZE)\n",
    "    return dataset.repeat()\n",
    "\n",
    "def eval_input_fn():\n",
    "    datasets = tfds.load(name = 'mnist')\n",
    "    mnist_test = datasets['test']\n",
    "    dataset = mnist_test.map(preprocess).batch(BATCH_SIZE)\n",
    "    return dataset\n"
   ]
  },
  {
   "cell_type": "code",
   "execution_count": null,
   "metadata": {},
   "outputs": [],
   "source": []
  },
  {
   "cell_type": "code",
   "execution_count": 7,
   "metadata": {},
   "outputs": [],
   "source": [
    "# Step 2: Define the feature columns:\n",
    "\n",
    "image_feature_column = tf.feature_column.numeric_column(\n",
    "    key = 'image-pixels', shape = (28 * 28)) # 28 * 28 is the size (784) of the MNIST images"
   ]
  },
  {
   "cell_type": "code",
   "execution_count": null,
   "metadata": {},
   "outputs": [],
   "source": []
  },
  {
   "cell_type": "code",
   "execution_count": 8,
   "metadata": {},
   "outputs": [
    {
     "name": "stdout",
     "output_type": "stream",
     "text": [
      "INFO:tensorflow:Using default config.\n"
     ]
    },
    {
     "name": "stderr",
     "output_type": "stream",
     "text": [
      "INFO:tensorflow:Using default config.\n"
     ]
    },
    {
     "name": "stdout",
     "output_type": "stream",
     "text": [
      "INFO:tensorflow:Using config: {'_model_dir': 'models/mnist-dnn', '_tf_random_seed': None, '_save_summary_steps': 100, '_save_checkpoints_steps': None, '_save_checkpoints_secs': 600, '_session_config': allow_soft_placement: true\n",
      "graph_options {\n",
      "  rewrite_options {\n",
      "    meta_optimizer_iterations: ONE\n",
      "  }\n",
      "}\n",
      ", '_keep_checkpoint_max': 5, '_keep_checkpoint_every_n_hours': 10000, '_log_step_count_steps': 100, '_train_distribute': None, '_device_fn': None, '_protocol': None, '_eval_distribute': None, '_experimental_distribute': None, '_experimental_max_worker_delay_secs': None, '_session_creation_timeout_secs': 7200, '_service': None, '_cluster_spec': ClusterSpec({}), '_task_type': 'worker', '_task_id': 0, '_global_id_in_cluster': 0, '_master': '', '_evaluation_master': '', '_is_chief': True, '_num_ps_replicas': 0, '_num_worker_replicas': 1}\n"
     ]
    },
    {
     "name": "stderr",
     "output_type": "stream",
     "text": [
      "INFO:tensorflow:Using config: {'_model_dir': 'models/mnist-dnn', '_tf_random_seed': None, '_save_summary_steps': 100, '_save_checkpoints_steps': None, '_save_checkpoints_secs': 600, '_session_config': allow_soft_placement: true\n",
      "graph_options {\n",
      "  rewrite_options {\n",
      "    meta_optimizer_iterations: ONE\n",
      "  }\n",
      "}\n",
      ", '_keep_checkpoint_max': 5, '_keep_checkpoint_every_n_hours': 10000, '_log_step_count_steps': 100, '_train_distribute': None, '_device_fn': None, '_protocol': None, '_eval_distribute': None, '_experimental_distribute': None, '_experimental_max_worker_delay_secs': None, '_session_creation_timeout_secs': 7200, '_service': None, '_cluster_spec': ClusterSpec({}), '_task_type': 'worker', '_task_id': 0, '_global_id_in_cluster': 0, '_master': '', '_evaluation_master': '', '_is_chief': True, '_num_ps_replicas': 0, '_num_worker_replicas': 1}\n"
     ]
    }
   ],
   "source": [
    "# Step 3: Create a new estimator - two hidden layers, 32 units in the first\n",
    "# and 16 units in the second\n",
    "# We also specify the number of classes (10 digits) using the n_classes argument\n",
    "\n",
    "dnn_classifier = tf.estimator.DNNClassifier(\n",
    "    feature_columns=[image_feature_column],\n",
    "    hidden_units=[32, 16],\n",
    "    n_classes=10,\n",
    "    model_dir = 'models/mnist-dnn')"
   ]
  },
  {
   "cell_type": "code",
   "execution_count": null,
   "metadata": {},
   "outputs": [],
   "source": []
  },
  {
   "cell_type": "code",
   "execution_count": 9,
   "metadata": {},
   "outputs": [
    {
     "name": "stdout",
     "output_type": "stream",
     "text": [
      "INFO:tensorflow:Calling model_fn.\n"
     ]
    },
    {
     "name": "stderr",
     "output_type": "stream",
     "text": [
      "INFO:tensorflow:Calling model_fn.\n"
     ]
    },
    {
     "name": "stdout",
     "output_type": "stream",
     "text": [
      "WARNING:tensorflow:From /Users/santiagocassalett/anaconda3/envs/py37/lib/python3.7/site-packages/tensorflow/python/keras/optimizer_v2/adagrad.py:106: calling Constant.__init__ (from tensorflow.python.ops.init_ops) with dtype is deprecated and will be removed in a future version.\n",
      "Instructions for updating:\n",
      "Call initializer instance with the dtype argument instead of passing it to the constructor\n"
     ]
    },
    {
     "name": "stderr",
     "output_type": "stream",
     "text": [
      "WARNING:tensorflow:From /Users/santiagocassalett/anaconda3/envs/py37/lib/python3.7/site-packages/tensorflow/python/keras/optimizer_v2/adagrad.py:106: calling Constant.__init__ (from tensorflow.python.ops.init_ops) with dtype is deprecated and will be removed in a future version.\n",
      "Instructions for updating:\n",
      "Call initializer instance with the dtype argument instead of passing it to the constructor\n"
     ]
    },
    {
     "name": "stdout",
     "output_type": "stream",
     "text": [
      "INFO:tensorflow:Done calling model_fn.\n"
     ]
    },
    {
     "name": "stderr",
     "output_type": "stream",
     "text": [
      "INFO:tensorflow:Done calling model_fn.\n"
     ]
    },
    {
     "name": "stdout",
     "output_type": "stream",
     "text": [
      "INFO:tensorflow:Create CheckpointSaverHook.\n"
     ]
    },
    {
     "name": "stderr",
     "output_type": "stream",
     "text": [
      "INFO:tensorflow:Create CheckpointSaverHook.\n"
     ]
    },
    {
     "name": "stdout",
     "output_type": "stream",
     "text": [
      "INFO:tensorflow:Graph was finalized.\n"
     ]
    },
    {
     "name": "stderr",
     "output_type": "stream",
     "text": [
      "INFO:tensorflow:Graph was finalized.\n"
     ]
    },
    {
     "name": "stdout",
     "output_type": "stream",
     "text": [
      "INFO:tensorflow:Running local_init_op.\n"
     ]
    },
    {
     "name": "stderr",
     "output_type": "stream",
     "text": [
      "INFO:tensorflow:Running local_init_op.\n"
     ]
    },
    {
     "name": "stdout",
     "output_type": "stream",
     "text": [
      "INFO:tensorflow:Done running local_init_op.\n"
     ]
    },
    {
     "name": "stderr",
     "output_type": "stream",
     "text": [
      "INFO:tensorflow:Done running local_init_op.\n"
     ]
    },
    {
     "name": "stdout",
     "output_type": "stream",
     "text": [
      "INFO:tensorflow:Calling checkpoint listeners before saving checkpoint 0...\n"
     ]
    },
    {
     "name": "stderr",
     "output_type": "stream",
     "text": [
      "INFO:tensorflow:Calling checkpoint listeners before saving checkpoint 0...\n"
     ]
    },
    {
     "name": "stdout",
     "output_type": "stream",
     "text": [
      "INFO:tensorflow:Saving checkpoints for 0 into models/mnist-dnn/model.ckpt.\n"
     ]
    },
    {
     "name": "stderr",
     "output_type": "stream",
     "text": [
      "INFO:tensorflow:Saving checkpoints for 0 into models/mnist-dnn/model.ckpt.\n"
     ]
    },
    {
     "name": "stdout",
     "output_type": "stream",
     "text": [
      "INFO:tensorflow:Calling checkpoint listeners after saving checkpoint 0...\n"
     ]
    },
    {
     "name": "stderr",
     "output_type": "stream",
     "text": [
      "INFO:tensorflow:Calling checkpoint listeners after saving checkpoint 0...\n"
     ]
    },
    {
     "name": "stdout",
     "output_type": "stream",
     "text": [
      "INFO:tensorflow:loss = 2.4188833, step = 0\n"
     ]
    },
    {
     "name": "stderr",
     "output_type": "stream",
     "text": [
      "INFO:tensorflow:loss = 2.4188833, step = 0\n"
     ]
    },
    {
     "name": "stdout",
     "output_type": "stream",
     "text": [
      "INFO:tensorflow:global_step/sec: 96.8801\n"
     ]
    },
    {
     "name": "stderr",
     "output_type": "stream",
     "text": [
      "INFO:tensorflow:global_step/sec: 96.8801\n"
     ]
    },
    {
     "name": "stdout",
     "output_type": "stream",
     "text": [
      "INFO:tensorflow:loss = 2.3102121, step = 100 (1.035 sec)\n"
     ]
    },
    {
     "name": "stderr",
     "output_type": "stream",
     "text": [
      "INFO:tensorflow:loss = 2.3102121, step = 100 (1.035 sec)\n"
     ]
    },
    {
     "name": "stdout",
     "output_type": "stream",
     "text": [
      "INFO:tensorflow:global_step/sec: 87.4216\n"
     ]
    },
    {
     "name": "stderr",
     "output_type": "stream",
     "text": [
      "INFO:tensorflow:global_step/sec: 87.4216\n"
     ]
    },
    {
     "name": "stdout",
     "output_type": "stream",
     "text": [
      "INFO:tensorflow:loss = 2.2271032, step = 200 (1.149 sec)\n"
     ]
    },
    {
     "name": "stderr",
     "output_type": "stream",
     "text": [
      "INFO:tensorflow:loss = 2.2271032, step = 200 (1.149 sec)\n"
     ]
    },
    {
     "name": "stdout",
     "output_type": "stream",
     "text": [
      "INFO:tensorflow:global_step/sec: 102.359\n"
     ]
    },
    {
     "name": "stderr",
     "output_type": "stream",
     "text": [
      "INFO:tensorflow:global_step/sec: 102.359\n"
     ]
    },
    {
     "name": "stdout",
     "output_type": "stream",
     "text": [
      "INFO:tensorflow:loss = 2.202654, step = 300 (0.972 sec)\n"
     ]
    },
    {
     "name": "stderr",
     "output_type": "stream",
     "text": [
      "INFO:tensorflow:loss = 2.202654, step = 300 (0.972 sec)\n"
     ]
    },
    {
     "name": "stdout",
     "output_type": "stream",
     "text": [
      "INFO:tensorflow:global_step/sec: 98.8577\n"
     ]
    },
    {
     "name": "stderr",
     "output_type": "stream",
     "text": [
      "INFO:tensorflow:global_step/sec: 98.8577\n"
     ]
    },
    {
     "name": "stdout",
     "output_type": "stream",
     "text": [
      "INFO:tensorflow:loss = 2.078441, step = 400 (1.020 sec)\n"
     ]
    },
    {
     "name": "stderr",
     "output_type": "stream",
     "text": [
      "INFO:tensorflow:loss = 2.078441, step = 400 (1.020 sec)\n"
     ]
    },
    {
     "name": "stdout",
     "output_type": "stream",
     "text": [
      "INFO:tensorflow:global_step/sec: 100.291\n"
     ]
    },
    {
     "name": "stderr",
     "output_type": "stream",
     "text": [
      "INFO:tensorflow:global_step/sec: 100.291\n"
     ]
    },
    {
     "name": "stdout",
     "output_type": "stream",
     "text": [
      "INFO:tensorflow:loss = 2.1541648, step = 500 (0.988 sec)\n"
     ]
    },
    {
     "name": "stderr",
     "output_type": "stream",
     "text": [
      "INFO:tensorflow:loss = 2.1541648, step = 500 (0.988 sec)\n"
     ]
    },
    {
     "name": "stdout",
     "output_type": "stream",
     "text": [
      "INFO:tensorflow:global_step/sec: 99.6473\n"
     ]
    },
    {
     "name": "stderr",
     "output_type": "stream",
     "text": [
      "INFO:tensorflow:global_step/sec: 99.6473\n"
     ]
    },
    {
     "name": "stdout",
     "output_type": "stream",
     "text": [
      "INFO:tensorflow:loss = 2.011963, step = 600 (1.004 sec)\n"
     ]
    },
    {
     "name": "stderr",
     "output_type": "stream",
     "text": [
      "INFO:tensorflow:loss = 2.011963, step = 600 (1.004 sec)\n"
     ]
    },
    {
     "name": "stdout",
     "output_type": "stream",
     "text": [
      "INFO:tensorflow:global_step/sec: 112.922\n"
     ]
    },
    {
     "name": "stderr",
     "output_type": "stream",
     "text": [
      "INFO:tensorflow:global_step/sec: 112.922\n"
     ]
    },
    {
     "name": "stdout",
     "output_type": "stream",
     "text": [
      "INFO:tensorflow:loss = 2.0133152, step = 700 (0.886 sec)\n"
     ]
    },
    {
     "name": "stderr",
     "output_type": "stream",
     "text": [
      "INFO:tensorflow:loss = 2.0133152, step = 700 (0.886 sec)\n"
     ]
    },
    {
     "name": "stdout",
     "output_type": "stream",
     "text": [
      "INFO:tensorflow:global_step/sec: 123.303\n"
     ]
    },
    {
     "name": "stderr",
     "output_type": "stream",
     "text": [
      "INFO:tensorflow:global_step/sec: 123.303\n"
     ]
    },
    {
     "name": "stdout",
     "output_type": "stream",
     "text": [
      "INFO:tensorflow:loss = 1.9438232, step = 800 (0.811 sec)\n"
     ]
    },
    {
     "name": "stderr",
     "output_type": "stream",
     "text": [
      "INFO:tensorflow:loss = 1.9438232, step = 800 (0.811 sec)\n"
     ]
    },
    {
     "name": "stdout",
     "output_type": "stream",
     "text": [
      "INFO:tensorflow:global_step/sec: 390.443\n"
     ]
    },
    {
     "name": "stderr",
     "output_type": "stream",
     "text": [
      "INFO:tensorflow:global_step/sec: 390.443\n"
     ]
    },
    {
     "name": "stdout",
     "output_type": "stream",
     "text": [
      "INFO:tensorflow:loss = 1.95366, step = 900 (0.258 sec)\n"
     ]
    },
    {
     "name": "stderr",
     "output_type": "stream",
     "text": [
      "INFO:tensorflow:loss = 1.95366, step = 900 (0.258 sec)\n"
     ]
    },
    {
     "name": "stdout",
     "output_type": "stream",
     "text": [
      "INFO:tensorflow:global_step/sec: 126.655\n"
     ]
    },
    {
     "name": "stderr",
     "output_type": "stream",
     "text": [
      "INFO:tensorflow:global_step/sec: 126.655\n"
     ]
    },
    {
     "name": "stdout",
     "output_type": "stream",
     "text": [
      "INFO:tensorflow:loss = 1.9475965, step = 1000 (0.788 sec)\n"
     ]
    },
    {
     "name": "stderr",
     "output_type": "stream",
     "text": [
      "INFO:tensorflow:loss = 1.9475965, step = 1000 (0.788 sec)\n"
     ]
    },
    {
     "name": "stdout",
     "output_type": "stream",
     "text": [
      "INFO:tensorflow:global_step/sec: 121.146\n"
     ]
    },
    {
     "name": "stderr",
     "output_type": "stream",
     "text": [
      "INFO:tensorflow:global_step/sec: 121.146\n"
     ]
    },
    {
     "name": "stdout",
     "output_type": "stream",
     "text": [
      "INFO:tensorflow:loss = 1.8197879, step = 1100 (0.826 sec)\n"
     ]
    },
    {
     "name": "stderr",
     "output_type": "stream",
     "text": [
      "INFO:tensorflow:loss = 1.8197879, step = 1100 (0.826 sec)\n"
     ]
    },
    {
     "name": "stdout",
     "output_type": "stream",
     "text": [
      "INFO:tensorflow:global_step/sec: 143.977\n"
     ]
    },
    {
     "name": "stderr",
     "output_type": "stream",
     "text": [
      "INFO:tensorflow:global_step/sec: 143.977\n"
     ]
    },
    {
     "name": "stdout",
     "output_type": "stream",
     "text": [
      "INFO:tensorflow:loss = 1.8374488, step = 1200 (0.694 sec)\n"
     ]
    },
    {
     "name": "stderr",
     "output_type": "stream",
     "text": [
      "INFO:tensorflow:loss = 1.8374488, step = 1200 (0.694 sec)\n"
     ]
    },
    {
     "name": "stdout",
     "output_type": "stream",
     "text": [
      "INFO:tensorflow:global_step/sec: 203.352\n"
     ]
    },
    {
     "name": "stderr",
     "output_type": "stream",
     "text": [
      "INFO:tensorflow:global_step/sec: 203.352\n"
     ]
    },
    {
     "name": "stdout",
     "output_type": "stream",
     "text": [
      "INFO:tensorflow:loss = 1.7134299, step = 1300 (0.492 sec)\n"
     ]
    },
    {
     "name": "stderr",
     "output_type": "stream",
     "text": [
      "INFO:tensorflow:loss = 1.7134299, step = 1300 (0.492 sec)\n"
     ]
    },
    {
     "name": "stdout",
     "output_type": "stream",
     "text": [
      "INFO:tensorflow:global_step/sec: 156.184\n"
     ]
    },
    {
     "name": "stderr",
     "output_type": "stream",
     "text": [
      "INFO:tensorflow:global_step/sec: 156.184\n"
     ]
    },
    {
     "name": "stdout",
     "output_type": "stream",
     "text": [
      "INFO:tensorflow:loss = 1.7343798, step = 1400 (0.647 sec)\n"
     ]
    },
    {
     "name": "stderr",
     "output_type": "stream",
     "text": [
      "INFO:tensorflow:loss = 1.7343798, step = 1400 (0.647 sec)\n"
     ]
    },
    {
     "name": "stdout",
     "output_type": "stream",
     "text": [
      "INFO:tensorflow:global_step/sec: 178.126\n"
     ]
    },
    {
     "name": "stderr",
     "output_type": "stream",
     "text": [
      "INFO:tensorflow:global_step/sec: 178.126\n"
     ]
    },
    {
     "name": "stdout",
     "output_type": "stream",
     "text": [
      "INFO:tensorflow:loss = 1.6007563, step = 1500 (0.557 sec)\n"
     ]
    },
    {
     "name": "stderr",
     "output_type": "stream",
     "text": [
      "INFO:tensorflow:loss = 1.6007563, step = 1500 (0.557 sec)\n"
     ]
    },
    {
     "name": "stdout",
     "output_type": "stream",
     "text": [
      "INFO:tensorflow:global_step/sec: 138.059\n"
     ]
    },
    {
     "name": "stderr",
     "output_type": "stream",
     "text": [
      "INFO:tensorflow:global_step/sec: 138.059\n"
     ]
    },
    {
     "name": "stdout",
     "output_type": "stream",
     "text": [
      "INFO:tensorflow:loss = 1.4848069, step = 1600 (0.722 sec)\n"
     ]
    },
    {
     "name": "stderr",
     "output_type": "stream",
     "text": [
      "INFO:tensorflow:loss = 1.4848069, step = 1600 (0.722 sec)\n"
     ]
    },
    {
     "name": "stdout",
     "output_type": "stream",
     "text": [
      "INFO:tensorflow:global_step/sec: 130.647\n"
     ]
    },
    {
     "name": "stderr",
     "output_type": "stream",
     "text": [
      "INFO:tensorflow:global_step/sec: 130.647\n"
     ]
    },
    {
     "name": "stdout",
     "output_type": "stream",
     "text": [
      "INFO:tensorflow:loss = 1.4525166, step = 1700 (0.767 sec)\n"
     ]
    },
    {
     "name": "stderr",
     "output_type": "stream",
     "text": [
      "INFO:tensorflow:loss = 1.4525166, step = 1700 (0.767 sec)\n"
     ]
    },
    {
     "name": "stdout",
     "output_type": "stream",
     "text": [
      "INFO:tensorflow:global_step/sec: 257.904\n"
     ]
    },
    {
     "name": "stderr",
     "output_type": "stream",
     "text": [
      "INFO:tensorflow:global_step/sec: 257.904\n"
     ]
    },
    {
     "name": "stdout",
     "output_type": "stream",
     "text": [
      "INFO:tensorflow:loss = 1.4207274, step = 1800 (0.390 sec)\n"
     ]
    },
    {
     "name": "stderr",
     "output_type": "stream",
     "text": [
      "INFO:tensorflow:loss = 1.4207274, step = 1800 (0.390 sec)\n"
     ]
    },
    {
     "name": "stdout",
     "output_type": "stream",
     "text": [
      "INFO:tensorflow:global_step/sec: 94.9472\n"
     ]
    },
    {
     "name": "stderr",
     "output_type": "stream",
     "text": [
      "INFO:tensorflow:global_step/sec: 94.9472\n"
     ]
    },
    {
     "name": "stdout",
     "output_type": "stream",
     "text": [
      "INFO:tensorflow:loss = 1.4391618, step = 1900 (1.050 sec)\n"
     ]
    },
    {
     "name": "stderr",
     "output_type": "stream",
     "text": [
      "INFO:tensorflow:loss = 1.4391618, step = 1900 (1.050 sec)\n"
     ]
    },
    {
     "name": "stdout",
     "output_type": "stream",
     "text": [
      "INFO:tensorflow:global_step/sec: 144.489\n"
     ]
    },
    {
     "name": "stderr",
     "output_type": "stream",
     "text": [
      "INFO:tensorflow:global_step/sec: 144.489\n"
     ]
    },
    {
     "name": "stdout",
     "output_type": "stream",
     "text": [
      "INFO:tensorflow:loss = 1.3448836, step = 2000 (0.692 sec)\n"
     ]
    },
    {
     "name": "stderr",
     "output_type": "stream",
     "text": [
      "INFO:tensorflow:loss = 1.3448836, step = 2000 (0.692 sec)\n"
     ]
    },
    {
     "name": "stdout",
     "output_type": "stream",
     "text": [
      "INFO:tensorflow:global_step/sec: 195.634\n"
     ]
    },
    {
     "name": "stderr",
     "output_type": "stream",
     "text": [
      "INFO:tensorflow:global_step/sec: 195.634\n"
     ]
    },
    {
     "name": "stdout",
     "output_type": "stream",
     "text": [
      "INFO:tensorflow:loss = 1.3031816, step = 2100 (0.511 sec)\n"
     ]
    },
    {
     "name": "stderr",
     "output_type": "stream",
     "text": [
      "INFO:tensorflow:loss = 1.3031816, step = 2100 (0.511 sec)\n"
     ]
    },
    {
     "name": "stdout",
     "output_type": "stream",
     "text": [
      "INFO:tensorflow:global_step/sec: 144.08\n"
     ]
    },
    {
     "name": "stderr",
     "output_type": "stream",
     "text": [
      "INFO:tensorflow:global_step/sec: 144.08\n"
     ]
    },
    {
     "name": "stdout",
     "output_type": "stream",
     "text": [
      "INFO:tensorflow:loss = 1.2155104, step = 2200 (0.694 sec)\n"
     ]
    },
    {
     "name": "stderr",
     "output_type": "stream",
     "text": [
      "INFO:tensorflow:loss = 1.2155104, step = 2200 (0.694 sec)\n"
     ]
    },
    {
     "name": "stdout",
     "output_type": "stream",
     "text": [
      "INFO:tensorflow:global_step/sec: 153.975\n"
     ]
    },
    {
     "name": "stderr",
     "output_type": "stream",
     "text": [
      "INFO:tensorflow:global_step/sec: 153.975\n"
     ]
    },
    {
     "name": "stdout",
     "output_type": "stream",
     "text": [
      "INFO:tensorflow:loss = 1.376236, step = 2300 (0.649 sec)\n"
     ]
    },
    {
     "name": "stderr",
     "output_type": "stream",
     "text": [
      "INFO:tensorflow:loss = 1.376236, step = 2300 (0.649 sec)\n"
     ]
    },
    {
     "name": "stdout",
     "output_type": "stream",
     "text": [
      "INFO:tensorflow:global_step/sec: 167.823\n"
     ]
    },
    {
     "name": "stderr",
     "output_type": "stream",
     "text": [
      "INFO:tensorflow:global_step/sec: 167.823\n"
     ]
    },
    {
     "name": "stdout",
     "output_type": "stream",
     "text": [
      "INFO:tensorflow:loss = 1.2295657, step = 2400 (0.597 sec)\n"
     ]
    },
    {
     "name": "stderr",
     "output_type": "stream",
     "text": [
      "INFO:tensorflow:loss = 1.2295657, step = 2400 (0.597 sec)\n"
     ]
    },
    {
     "name": "stdout",
     "output_type": "stream",
     "text": [
      "INFO:tensorflow:global_step/sec: 164.538\n"
     ]
    },
    {
     "name": "stderr",
     "output_type": "stream",
     "text": [
      "INFO:tensorflow:global_step/sec: 164.538\n"
     ]
    },
    {
     "name": "stdout",
     "output_type": "stream",
     "text": [
      "INFO:tensorflow:loss = 1.2323515, step = 2500 (0.608 sec)\n"
     ]
    },
    {
     "name": "stderr",
     "output_type": "stream",
     "text": [
      "INFO:tensorflow:loss = 1.2323515, step = 2500 (0.608 sec)\n"
     ]
    },
    {
     "name": "stdout",
     "output_type": "stream",
     "text": [
      "INFO:tensorflow:global_step/sec: 211.81\n"
     ]
    },
    {
     "name": "stderr",
     "output_type": "stream",
     "text": [
      "INFO:tensorflow:global_step/sec: 211.81\n"
     ]
    },
    {
     "name": "stdout",
     "output_type": "stream",
     "text": [
      "INFO:tensorflow:loss = 1.2552037, step = 2600 (0.473 sec)\n"
     ]
    },
    {
     "name": "stderr",
     "output_type": "stream",
     "text": [
      "INFO:tensorflow:loss = 1.2552037, step = 2600 (0.473 sec)\n"
     ]
    },
    {
     "name": "stdout",
     "output_type": "stream",
     "text": [
      "INFO:tensorflow:global_step/sec: 191.614\n"
     ]
    },
    {
     "name": "stderr",
     "output_type": "stream",
     "text": [
      "INFO:tensorflow:global_step/sec: 191.614\n"
     ]
    },
    {
     "name": "stdout",
     "output_type": "stream",
     "text": [
      "INFO:tensorflow:loss = 1.0581274, step = 2700 (0.521 sec)\n"
     ]
    },
    {
     "name": "stderr",
     "output_type": "stream",
     "text": [
      "INFO:tensorflow:loss = 1.0581274, step = 2700 (0.521 sec)\n"
     ]
    },
    {
     "name": "stdout",
     "output_type": "stream",
     "text": [
      "INFO:tensorflow:global_step/sec: 359.323\n"
     ]
    },
    {
     "name": "stderr",
     "output_type": "stream",
     "text": [
      "INFO:tensorflow:global_step/sec: 359.323\n"
     ]
    },
    {
     "name": "stdout",
     "output_type": "stream",
     "text": [
      "INFO:tensorflow:loss = 1.3034341, step = 2800 (0.278 sec)\n"
     ]
    },
    {
     "name": "stderr",
     "output_type": "stream",
     "text": [
      "INFO:tensorflow:loss = 1.3034341, step = 2800 (0.278 sec)\n"
     ]
    },
    {
     "name": "stdout",
     "output_type": "stream",
     "text": [
      "INFO:tensorflow:global_step/sec: 114.505\n"
     ]
    },
    {
     "name": "stderr",
     "output_type": "stream",
     "text": [
      "INFO:tensorflow:global_step/sec: 114.505\n"
     ]
    },
    {
     "name": "stdout",
     "output_type": "stream",
     "text": [
      "INFO:tensorflow:loss = 1.0877767, step = 2900 (0.873 sec)\n"
     ]
    },
    {
     "name": "stderr",
     "output_type": "stream",
     "text": [
      "INFO:tensorflow:loss = 1.0877767, step = 2900 (0.873 sec)\n"
     ]
    },
    {
     "name": "stdout",
     "output_type": "stream",
     "text": [
      "INFO:tensorflow:global_step/sec: 183.396\n"
     ]
    },
    {
     "name": "stderr",
     "output_type": "stream",
     "text": [
      "INFO:tensorflow:global_step/sec: 183.396\n"
     ]
    },
    {
     "name": "stdout",
     "output_type": "stream",
     "text": [
      "INFO:tensorflow:loss = 1.164623, step = 3000 (0.546 sec)\n"
     ]
    },
    {
     "name": "stderr",
     "output_type": "stream",
     "text": [
      "INFO:tensorflow:loss = 1.164623, step = 3000 (0.546 sec)\n"
     ]
    },
    {
     "name": "stdout",
     "output_type": "stream",
     "text": [
      "INFO:tensorflow:global_step/sec: 182.465\n"
     ]
    },
    {
     "name": "stderr",
     "output_type": "stream",
     "text": [
      "INFO:tensorflow:global_step/sec: 182.465\n"
     ]
    },
    {
     "name": "stdout",
     "output_type": "stream",
     "text": [
      "INFO:tensorflow:loss = 1.0814869, step = 3100 (0.547 sec)\n"
     ]
    },
    {
     "name": "stderr",
     "output_type": "stream",
     "text": [
      "INFO:tensorflow:loss = 1.0814869, step = 3100 (0.547 sec)\n"
     ]
    },
    {
     "name": "stdout",
     "output_type": "stream",
     "text": [
      "INFO:tensorflow:global_step/sec: 231.467\n"
     ]
    },
    {
     "name": "stderr",
     "output_type": "stream",
     "text": [
      "INFO:tensorflow:global_step/sec: 231.467\n"
     ]
    },
    {
     "name": "stdout",
     "output_type": "stream",
     "text": [
      "INFO:tensorflow:loss = 1.1635594, step = 3200 (0.432 sec)\n"
     ]
    },
    {
     "name": "stderr",
     "output_type": "stream",
     "text": [
      "INFO:tensorflow:loss = 1.1635594, step = 3200 (0.432 sec)\n"
     ]
    },
    {
     "name": "stdout",
     "output_type": "stream",
     "text": [
      "INFO:tensorflow:global_step/sec: 190.241\n"
     ]
    },
    {
     "name": "stderr",
     "output_type": "stream",
     "text": [
      "INFO:tensorflow:global_step/sec: 190.241\n"
     ]
    },
    {
     "name": "stdout",
     "output_type": "stream",
     "text": [
      "INFO:tensorflow:loss = 0.91411567, step = 3300 (0.526 sec)\n"
     ]
    },
    {
     "name": "stderr",
     "output_type": "stream",
     "text": [
      "INFO:tensorflow:loss = 0.91411567, step = 3300 (0.526 sec)\n"
     ]
    },
    {
     "name": "stdout",
     "output_type": "stream",
     "text": [
      "INFO:tensorflow:global_step/sec: 180.156\n"
     ]
    },
    {
     "name": "stderr",
     "output_type": "stream",
     "text": [
      "INFO:tensorflow:global_step/sec: 180.156\n"
     ]
    },
    {
     "name": "stdout",
     "output_type": "stream",
     "text": [
      "INFO:tensorflow:loss = 1.0763642, step = 3400 (0.555 sec)\n"
     ]
    },
    {
     "name": "stderr",
     "output_type": "stream",
     "text": [
      "INFO:tensorflow:loss = 1.0763642, step = 3400 (0.555 sec)\n"
     ]
    },
    {
     "name": "stdout",
     "output_type": "stream",
     "text": [
      "INFO:tensorflow:global_step/sec: 159.399\n"
     ]
    },
    {
     "name": "stderr",
     "output_type": "stream",
     "text": [
      "INFO:tensorflow:global_step/sec: 159.399\n"
     ]
    },
    {
     "name": "stdout",
     "output_type": "stream",
     "text": [
      "INFO:tensorflow:loss = 0.8856362, step = 3500 (0.627 sec)\n"
     ]
    },
    {
     "name": "stderr",
     "output_type": "stream",
     "text": [
      "INFO:tensorflow:loss = 0.8856362, step = 3500 (0.627 sec)\n"
     ]
    },
    {
     "name": "stdout",
     "output_type": "stream",
     "text": [
      "INFO:tensorflow:global_step/sec: 229.602\n"
     ]
    },
    {
     "name": "stderr",
     "output_type": "stream",
     "text": [
      "INFO:tensorflow:global_step/sec: 229.602\n"
     ]
    },
    {
     "name": "stdout",
     "output_type": "stream",
     "text": [
      "INFO:tensorflow:loss = 0.97418547, step = 3600 (0.435 sec)\n"
     ]
    },
    {
     "name": "stderr",
     "output_type": "stream",
     "text": [
      "INFO:tensorflow:loss = 0.97418547, step = 3600 (0.435 sec)\n"
     ]
    },
    {
     "name": "stdout",
     "output_type": "stream",
     "text": [
      "INFO:tensorflow:global_step/sec: 427.912\n"
     ]
    },
    {
     "name": "stderr",
     "output_type": "stream",
     "text": [
      "INFO:tensorflow:global_step/sec: 427.912\n"
     ]
    },
    {
     "name": "stdout",
     "output_type": "stream",
     "text": [
      "INFO:tensorflow:loss = 1.0423347, step = 3700 (0.236 sec)\n"
     ]
    },
    {
     "name": "stderr",
     "output_type": "stream",
     "text": [
      "INFO:tensorflow:loss = 1.0423347, step = 3700 (0.236 sec)\n"
     ]
    },
    {
     "name": "stdout",
     "output_type": "stream",
     "text": [
      "INFO:tensorflow:global_step/sec: 136.479\n"
     ]
    },
    {
     "name": "stderr",
     "output_type": "stream",
     "text": [
      "INFO:tensorflow:global_step/sec: 136.479\n"
     ]
    },
    {
     "name": "stdout",
     "output_type": "stream",
     "text": [
      "INFO:tensorflow:loss = 0.973033, step = 3800 (0.731 sec)\n"
     ]
    },
    {
     "name": "stderr",
     "output_type": "stream",
     "text": [
      "INFO:tensorflow:loss = 0.973033, step = 3800 (0.731 sec)\n"
     ]
    },
    {
     "name": "stdout",
     "output_type": "stream",
     "text": [
      "INFO:tensorflow:global_step/sec: 239.556\n"
     ]
    },
    {
     "name": "stderr",
     "output_type": "stream",
     "text": [
      "INFO:tensorflow:global_step/sec: 239.556\n"
     ]
    },
    {
     "name": "stdout",
     "output_type": "stream",
     "text": [
      "INFO:tensorflow:loss = 0.85308725, step = 3900 (0.417 sec)\n"
     ]
    },
    {
     "name": "stderr",
     "output_type": "stream",
     "text": [
      "INFO:tensorflow:loss = 0.85308725, step = 3900 (0.417 sec)\n"
     ]
    },
    {
     "name": "stdout",
     "output_type": "stream",
     "text": [
      "INFO:tensorflow:global_step/sec: 239.637\n"
     ]
    },
    {
     "name": "stderr",
     "output_type": "stream",
     "text": [
      "INFO:tensorflow:global_step/sec: 239.637\n"
     ]
    },
    {
     "name": "stdout",
     "output_type": "stream",
     "text": [
      "INFO:tensorflow:loss = 0.85986173, step = 4000 (0.418 sec)\n"
     ]
    },
    {
     "name": "stderr",
     "output_type": "stream",
     "text": [
      "INFO:tensorflow:loss = 0.85986173, step = 4000 (0.418 sec)\n"
     ]
    },
    {
     "name": "stdout",
     "output_type": "stream",
     "text": [
      "INFO:tensorflow:global_step/sec: 236.027\n"
     ]
    },
    {
     "name": "stderr",
     "output_type": "stream",
     "text": [
      "INFO:tensorflow:global_step/sec: 236.027\n"
     ]
    },
    {
     "name": "stdout",
     "output_type": "stream",
     "text": [
      "INFO:tensorflow:loss = 0.82142115, step = 4100 (0.424 sec)\n"
     ]
    },
    {
     "name": "stderr",
     "output_type": "stream",
     "text": [
      "INFO:tensorflow:loss = 0.82142115, step = 4100 (0.424 sec)\n"
     ]
    },
    {
     "name": "stdout",
     "output_type": "stream",
     "text": [
      "INFO:tensorflow:global_step/sec: 232.05\n"
     ]
    },
    {
     "name": "stderr",
     "output_type": "stream",
     "text": [
      "INFO:tensorflow:global_step/sec: 232.05\n"
     ]
    },
    {
     "name": "stdout",
     "output_type": "stream",
     "text": [
      "INFO:tensorflow:loss = 0.71004546, step = 4200 (0.431 sec)\n"
     ]
    },
    {
     "name": "stderr",
     "output_type": "stream",
     "text": [
      "INFO:tensorflow:loss = 0.71004546, step = 4200 (0.431 sec)\n"
     ]
    },
    {
     "name": "stdout",
     "output_type": "stream",
     "text": [
      "INFO:tensorflow:global_step/sec: 236.454\n"
     ]
    },
    {
     "name": "stderr",
     "output_type": "stream",
     "text": [
      "INFO:tensorflow:global_step/sec: 236.454\n"
     ]
    },
    {
     "name": "stdout",
     "output_type": "stream",
     "text": [
      "INFO:tensorflow:loss = 1.0609939, step = 4300 (0.423 sec)\n"
     ]
    },
    {
     "name": "stderr",
     "output_type": "stream",
     "text": [
      "INFO:tensorflow:loss = 1.0609939, step = 4300 (0.423 sec)\n"
     ]
    },
    {
     "name": "stdout",
     "output_type": "stream",
     "text": [
      "INFO:tensorflow:global_step/sec: 241.869\n"
     ]
    },
    {
     "name": "stderr",
     "output_type": "stream",
     "text": [
      "INFO:tensorflow:global_step/sec: 241.869\n"
     ]
    },
    {
     "name": "stdout",
     "output_type": "stream",
     "text": [
      "INFO:tensorflow:loss = 0.7974506, step = 4400 (0.413 sec)\n"
     ]
    },
    {
     "name": "stderr",
     "output_type": "stream",
     "text": [
      "INFO:tensorflow:loss = 0.7974506, step = 4400 (0.413 sec)\n"
     ]
    },
    {
     "name": "stdout",
     "output_type": "stream",
     "text": [
      "INFO:tensorflow:global_step/sec: 220.046\n"
     ]
    },
    {
     "name": "stderr",
     "output_type": "stream",
     "text": [
      "INFO:tensorflow:global_step/sec: 220.046\n"
     ]
    },
    {
     "name": "stdout",
     "output_type": "stream",
     "text": [
      "INFO:tensorflow:loss = 0.7676301, step = 4500 (0.454 sec)\n"
     ]
    },
    {
     "name": "stderr",
     "output_type": "stream",
     "text": [
      "INFO:tensorflow:loss = 0.7676301, step = 4500 (0.454 sec)\n"
     ]
    },
    {
     "name": "stdout",
     "output_type": "stream",
     "text": [
      "INFO:tensorflow:global_step/sec: 386.766\n"
     ]
    },
    {
     "name": "stderr",
     "output_type": "stream",
     "text": [
      "INFO:tensorflow:global_step/sec: 386.766\n"
     ]
    },
    {
     "name": "stdout",
     "output_type": "stream",
     "text": [
      "INFO:tensorflow:loss = 0.95645475, step = 4600 (0.259 sec)\n"
     ]
    },
    {
     "name": "stderr",
     "output_type": "stream",
     "text": [
      "INFO:tensorflow:loss = 0.95645475, step = 4600 (0.259 sec)\n"
     ]
    },
    {
     "name": "stdout",
     "output_type": "stream",
     "text": [
      "INFO:tensorflow:global_step/sec: 169.744\n"
     ]
    },
    {
     "name": "stderr",
     "output_type": "stream",
     "text": [
      "INFO:tensorflow:global_step/sec: 169.744\n"
     ]
    },
    {
     "name": "stdout",
     "output_type": "stream",
     "text": [
      "INFO:tensorflow:loss = 0.93234617, step = 4700 (0.589 sec)\n"
     ]
    },
    {
     "name": "stderr",
     "output_type": "stream",
     "text": [
      "INFO:tensorflow:loss = 0.93234617, step = 4700 (0.589 sec)\n"
     ]
    },
    {
     "name": "stdout",
     "output_type": "stream",
     "text": [
      "INFO:tensorflow:global_step/sec: 222.606\n"
     ]
    },
    {
     "name": "stderr",
     "output_type": "stream",
     "text": [
      "INFO:tensorflow:global_step/sec: 222.606\n"
     ]
    },
    {
     "name": "stdout",
     "output_type": "stream",
     "text": [
      "INFO:tensorflow:loss = 0.709085, step = 4800 (0.449 sec)\n"
     ]
    },
    {
     "name": "stderr",
     "output_type": "stream",
     "text": [
      "INFO:tensorflow:loss = 0.709085, step = 4800 (0.449 sec)\n"
     ]
    },
    {
     "name": "stdout",
     "output_type": "stream",
     "text": [
      "INFO:tensorflow:global_step/sec: 232.344\n"
     ]
    },
    {
     "name": "stderr",
     "output_type": "stream",
     "text": [
      "INFO:tensorflow:global_step/sec: 232.344\n"
     ]
    },
    {
     "name": "stdout",
     "output_type": "stream",
     "text": [
      "INFO:tensorflow:loss = 0.84751815, step = 4900 (0.430 sec)\n"
     ]
    },
    {
     "name": "stderr",
     "output_type": "stream",
     "text": [
      "INFO:tensorflow:loss = 0.84751815, step = 4900 (0.430 sec)\n"
     ]
    },
    {
     "name": "stdout",
     "output_type": "stream",
     "text": [
      "INFO:tensorflow:global_step/sec: 236.655\n"
     ]
    },
    {
     "name": "stderr",
     "output_type": "stream",
     "text": [
      "INFO:tensorflow:global_step/sec: 236.655\n"
     ]
    },
    {
     "name": "stdout",
     "output_type": "stream",
     "text": [
      "INFO:tensorflow:loss = 0.7606187, step = 5000 (0.422 sec)\n"
     ]
    },
    {
     "name": "stderr",
     "output_type": "stream",
     "text": [
      "INFO:tensorflow:loss = 0.7606187, step = 5000 (0.422 sec)\n"
     ]
    },
    {
     "name": "stdout",
     "output_type": "stream",
     "text": [
      "INFO:tensorflow:global_step/sec: 225.932\n"
     ]
    },
    {
     "name": "stderr",
     "output_type": "stream",
     "text": [
      "INFO:tensorflow:global_step/sec: 225.932\n"
     ]
    },
    {
     "name": "stdout",
     "output_type": "stream",
     "text": [
      "INFO:tensorflow:loss = 0.7956046, step = 5100 (0.443 sec)\n"
     ]
    },
    {
     "name": "stderr",
     "output_type": "stream",
     "text": [
      "INFO:tensorflow:loss = 0.7956046, step = 5100 (0.443 sec)\n"
     ]
    },
    {
     "name": "stdout",
     "output_type": "stream",
     "text": [
      "INFO:tensorflow:global_step/sec: 196.133\n"
     ]
    },
    {
     "name": "stderr",
     "output_type": "stream",
     "text": [
      "INFO:tensorflow:global_step/sec: 196.133\n"
     ]
    },
    {
     "name": "stdout",
     "output_type": "stream",
     "text": [
      "INFO:tensorflow:loss = 0.7943629, step = 5200 (0.509 sec)\n"
     ]
    },
    {
     "name": "stderr",
     "output_type": "stream",
     "text": [
      "INFO:tensorflow:loss = 0.7943629, step = 5200 (0.509 sec)\n"
     ]
    },
    {
     "name": "stdout",
     "output_type": "stream",
     "text": [
      "INFO:tensorflow:global_step/sec: 226.262\n"
     ]
    },
    {
     "name": "stderr",
     "output_type": "stream",
     "text": [
      "INFO:tensorflow:global_step/sec: 226.262\n"
     ]
    },
    {
     "name": "stdout",
     "output_type": "stream",
     "text": [
      "INFO:tensorflow:loss = 0.8230079, step = 5300 (0.442 sec)\n"
     ]
    },
    {
     "name": "stderr",
     "output_type": "stream",
     "text": [
      "INFO:tensorflow:loss = 0.8230079, step = 5300 (0.442 sec)\n"
     ]
    },
    {
     "name": "stdout",
     "output_type": "stream",
     "text": [
      "INFO:tensorflow:global_step/sec: 235.512\n"
     ]
    },
    {
     "name": "stderr",
     "output_type": "stream",
     "text": [
      "INFO:tensorflow:global_step/sec: 235.512\n"
     ]
    },
    {
     "name": "stdout",
     "output_type": "stream",
     "text": [
      "INFO:tensorflow:loss = 0.8753005, step = 5400 (0.425 sec)\n"
     ]
    },
    {
     "name": "stderr",
     "output_type": "stream",
     "text": [
      "INFO:tensorflow:loss = 0.8753005, step = 5400 (0.425 sec)\n"
     ]
    },
    {
     "name": "stdout",
     "output_type": "stream",
     "text": [
      "INFO:tensorflow:global_step/sec: 282.248\n"
     ]
    },
    {
     "name": "stderr",
     "output_type": "stream",
     "text": [
      "INFO:tensorflow:global_step/sec: 282.248\n"
     ]
    },
    {
     "name": "stdout",
     "output_type": "stream",
     "text": [
      "INFO:tensorflow:loss = 0.82815313, step = 5500 (0.354 sec)\n"
     ]
    },
    {
     "name": "stderr",
     "output_type": "stream",
     "text": [
      "INFO:tensorflow:loss = 0.82815313, step = 5500 (0.354 sec)\n"
     ]
    },
    {
     "name": "stdout",
     "output_type": "stream",
     "text": [
      "INFO:tensorflow:global_step/sec: 533.968\n"
     ]
    },
    {
     "name": "stderr",
     "output_type": "stream",
     "text": [
      "INFO:tensorflow:global_step/sec: 533.968\n"
     ]
    },
    {
     "name": "stdout",
     "output_type": "stream",
     "text": [
      "INFO:tensorflow:loss = 0.6762978, step = 5600 (0.188 sec)\n"
     ]
    },
    {
     "name": "stderr",
     "output_type": "stream",
     "text": [
      "INFO:tensorflow:loss = 0.6762978, step = 5600 (0.188 sec)\n"
     ]
    },
    {
     "name": "stdout",
     "output_type": "stream",
     "text": [
      "INFO:tensorflow:global_step/sec: 108.202\n"
     ]
    },
    {
     "name": "stderr",
     "output_type": "stream",
     "text": [
      "INFO:tensorflow:global_step/sec: 108.202\n"
     ]
    },
    {
     "name": "stdout",
     "output_type": "stream",
     "text": [
      "INFO:tensorflow:loss = 0.6538144, step = 5700 (0.924 sec)\n"
     ]
    },
    {
     "name": "stderr",
     "output_type": "stream",
     "text": [
      "INFO:tensorflow:loss = 0.6538144, step = 5700 (0.924 sec)\n"
     ]
    },
    {
     "name": "stdout",
     "output_type": "stream",
     "text": [
      "INFO:tensorflow:global_step/sec: 177.557\n"
     ]
    },
    {
     "name": "stderr",
     "output_type": "stream",
     "text": [
      "INFO:tensorflow:global_step/sec: 177.557\n"
     ]
    },
    {
     "name": "stdout",
     "output_type": "stream",
     "text": [
      "INFO:tensorflow:loss = 0.8349362, step = 5800 (0.568 sec)\n"
     ]
    },
    {
     "name": "stderr",
     "output_type": "stream",
     "text": [
      "INFO:tensorflow:loss = 0.8349362, step = 5800 (0.568 sec)\n"
     ]
    },
    {
     "name": "stdout",
     "output_type": "stream",
     "text": [
      "INFO:tensorflow:global_step/sec: 193.235\n"
     ]
    },
    {
     "name": "stderr",
     "output_type": "stream",
     "text": [
      "INFO:tensorflow:global_step/sec: 193.235\n"
     ]
    },
    {
     "name": "stdout",
     "output_type": "stream",
     "text": [
      "INFO:tensorflow:loss = 0.7301174, step = 5900 (0.513 sec)\n"
     ]
    },
    {
     "name": "stderr",
     "output_type": "stream",
     "text": [
      "INFO:tensorflow:loss = 0.7301174, step = 5900 (0.513 sec)\n"
     ]
    },
    {
     "name": "stdout",
     "output_type": "stream",
     "text": [
      "INFO:tensorflow:global_step/sec: 199.054\n"
     ]
    },
    {
     "name": "stderr",
     "output_type": "stream",
     "text": [
      "INFO:tensorflow:global_step/sec: 199.054\n"
     ]
    },
    {
     "name": "stdout",
     "output_type": "stream",
     "text": [
      "INFO:tensorflow:loss = 0.7373838, step = 6000 (0.503 sec)\n"
     ]
    },
    {
     "name": "stderr",
     "output_type": "stream",
     "text": [
      "INFO:tensorflow:loss = 0.7373838, step = 6000 (0.503 sec)\n"
     ]
    },
    {
     "name": "stdout",
     "output_type": "stream",
     "text": [
      "INFO:tensorflow:global_step/sec: 180.979\n"
     ]
    },
    {
     "name": "stderr",
     "output_type": "stream",
     "text": [
      "INFO:tensorflow:global_step/sec: 180.979\n"
     ]
    },
    {
     "name": "stdout",
     "output_type": "stream",
     "text": [
      "INFO:tensorflow:loss = 0.85592234, step = 6100 (0.551 sec)\n"
     ]
    },
    {
     "name": "stderr",
     "output_type": "stream",
     "text": [
      "INFO:tensorflow:loss = 0.85592234, step = 6100 (0.551 sec)\n"
     ]
    },
    {
     "name": "stdout",
     "output_type": "stream",
     "text": [
      "INFO:tensorflow:global_step/sec: 138.19\n"
     ]
    },
    {
     "name": "stderr",
     "output_type": "stream",
     "text": [
      "INFO:tensorflow:global_step/sec: 138.19\n"
     ]
    },
    {
     "name": "stdout",
     "output_type": "stream",
     "text": [
      "INFO:tensorflow:loss = 0.5655712, step = 6200 (0.727 sec)\n"
     ]
    },
    {
     "name": "stderr",
     "output_type": "stream",
     "text": [
      "INFO:tensorflow:loss = 0.5655712, step = 6200 (0.727 sec)\n"
     ]
    },
    {
     "name": "stdout",
     "output_type": "stream",
     "text": [
      "INFO:tensorflow:global_step/sec: 212.698\n"
     ]
    },
    {
     "name": "stderr",
     "output_type": "stream",
     "text": [
      "INFO:tensorflow:global_step/sec: 212.698\n"
     ]
    },
    {
     "name": "stdout",
     "output_type": "stream",
     "text": [
      "INFO:tensorflow:loss = 0.7051326, step = 6300 (0.469 sec)\n"
     ]
    },
    {
     "name": "stderr",
     "output_type": "stream",
     "text": [
      "INFO:tensorflow:loss = 0.7051326, step = 6300 (0.469 sec)\n"
     ]
    },
    {
     "name": "stdout",
     "output_type": "stream",
     "text": [
      "INFO:tensorflow:global_step/sec: 108.247\n"
     ]
    },
    {
     "name": "stderr",
     "output_type": "stream",
     "text": [
      "INFO:tensorflow:global_step/sec: 108.247\n"
     ]
    },
    {
     "name": "stdout",
     "output_type": "stream",
     "text": [
      "INFO:tensorflow:loss = 0.5491206, step = 6400 (0.924 sec)\n"
     ]
    },
    {
     "name": "stderr",
     "output_type": "stream",
     "text": [
      "INFO:tensorflow:loss = 0.5491206, step = 6400 (0.924 sec)\n"
     ]
    },
    {
     "name": "stdout",
     "output_type": "stream",
     "text": [
      "INFO:tensorflow:global_step/sec: 338.856\n"
     ]
    },
    {
     "name": "stderr",
     "output_type": "stream",
     "text": [
      "INFO:tensorflow:global_step/sec: 338.856\n"
     ]
    },
    {
     "name": "stdout",
     "output_type": "stream",
     "text": [
      "INFO:tensorflow:loss = 0.7127465, step = 6500 (0.295 sec)\n"
     ]
    },
    {
     "name": "stderr",
     "output_type": "stream",
     "text": [
      "INFO:tensorflow:loss = 0.7127465, step = 6500 (0.295 sec)\n"
     ]
    },
    {
     "name": "stdout",
     "output_type": "stream",
     "text": [
      "INFO:tensorflow:global_step/sec: 128.733\n"
     ]
    },
    {
     "name": "stderr",
     "output_type": "stream",
     "text": [
      "INFO:tensorflow:global_step/sec: 128.733\n"
     ]
    },
    {
     "name": "stdout",
     "output_type": "stream",
     "text": [
      "INFO:tensorflow:loss = 0.6214452, step = 6600 (0.776 sec)\n"
     ]
    },
    {
     "name": "stderr",
     "output_type": "stream",
     "text": [
      "INFO:tensorflow:loss = 0.6214452, step = 6600 (0.776 sec)\n"
     ]
    },
    {
     "name": "stdout",
     "output_type": "stream",
     "text": [
      "INFO:tensorflow:global_step/sec: 182.4\n"
     ]
    },
    {
     "name": "stderr",
     "output_type": "stream",
     "text": [
      "INFO:tensorflow:global_step/sec: 182.4\n"
     ]
    },
    {
     "name": "stdout",
     "output_type": "stream",
     "text": [
      "INFO:tensorflow:loss = 0.6498542, step = 6700 (0.548 sec)\n"
     ]
    },
    {
     "name": "stderr",
     "output_type": "stream",
     "text": [
      "INFO:tensorflow:loss = 0.6498542, step = 6700 (0.548 sec)\n"
     ]
    },
    {
     "name": "stdout",
     "output_type": "stream",
     "text": [
      "INFO:tensorflow:global_step/sec: 197.562\n"
     ]
    },
    {
     "name": "stderr",
     "output_type": "stream",
     "text": [
      "INFO:tensorflow:global_step/sec: 197.562\n"
     ]
    },
    {
     "name": "stdout",
     "output_type": "stream",
     "text": [
      "INFO:tensorflow:loss = 0.5595514, step = 6800 (0.506 sec)\n"
     ]
    },
    {
     "name": "stderr",
     "output_type": "stream",
     "text": [
      "INFO:tensorflow:loss = 0.5595514, step = 6800 (0.506 sec)\n"
     ]
    },
    {
     "name": "stdout",
     "output_type": "stream",
     "text": [
      "INFO:tensorflow:global_step/sec: 238.154\n"
     ]
    },
    {
     "name": "stderr",
     "output_type": "stream",
     "text": [
      "INFO:tensorflow:global_step/sec: 238.154\n"
     ]
    },
    {
     "name": "stdout",
     "output_type": "stream",
     "text": [
      "INFO:tensorflow:loss = 0.5441017, step = 6900 (0.419 sec)\n"
     ]
    },
    {
     "name": "stderr",
     "output_type": "stream",
     "text": [
      "INFO:tensorflow:loss = 0.5441017, step = 6900 (0.419 sec)\n"
     ]
    },
    {
     "name": "stdout",
     "output_type": "stream",
     "text": [
      "INFO:tensorflow:global_step/sec: 139.487\n"
     ]
    },
    {
     "name": "stderr",
     "output_type": "stream",
     "text": [
      "INFO:tensorflow:global_step/sec: 139.487\n"
     ]
    },
    {
     "name": "stdout",
     "output_type": "stream",
     "text": [
      "INFO:tensorflow:loss = 0.6604453, step = 7000 (0.718 sec)\n"
     ]
    },
    {
     "name": "stderr",
     "output_type": "stream",
     "text": [
      "INFO:tensorflow:loss = 0.6604453, step = 7000 (0.718 sec)\n"
     ]
    },
    {
     "name": "stdout",
     "output_type": "stream",
     "text": [
      "INFO:tensorflow:global_step/sec: 179.215\n"
     ]
    },
    {
     "name": "stderr",
     "output_type": "stream",
     "text": [
      "INFO:tensorflow:global_step/sec: 179.215\n"
     ]
    },
    {
     "name": "stdout",
     "output_type": "stream",
     "text": [
      "INFO:tensorflow:loss = 0.5953938, step = 7100 (0.557 sec)\n"
     ]
    },
    {
     "name": "stderr",
     "output_type": "stream",
     "text": [
      "INFO:tensorflow:loss = 0.5953938, step = 7100 (0.557 sec)\n"
     ]
    },
    {
     "name": "stdout",
     "output_type": "stream",
     "text": [
      "INFO:tensorflow:global_step/sec: 189.612\n"
     ]
    },
    {
     "name": "stderr",
     "output_type": "stream",
     "text": [
      "INFO:tensorflow:global_step/sec: 189.612\n"
     ]
    },
    {
     "name": "stdout",
     "output_type": "stream",
     "text": [
      "INFO:tensorflow:loss = 0.64335597, step = 7200 (0.528 sec)\n"
     ]
    },
    {
     "name": "stderr",
     "output_type": "stream",
     "text": [
      "INFO:tensorflow:loss = 0.64335597, step = 7200 (0.528 sec)\n"
     ]
    },
    {
     "name": "stdout",
     "output_type": "stream",
     "text": [
      "INFO:tensorflow:global_step/sec: 206.146\n"
     ]
    },
    {
     "name": "stderr",
     "output_type": "stream",
     "text": [
      "INFO:tensorflow:global_step/sec: 206.146\n"
     ]
    },
    {
     "name": "stdout",
     "output_type": "stream",
     "text": [
      "INFO:tensorflow:loss = 0.6226194, step = 7300 (0.487 sec)\n"
     ]
    },
    {
     "name": "stderr",
     "output_type": "stream",
     "text": [
      "INFO:tensorflow:loss = 0.6226194, step = 7300 (0.487 sec)\n"
     ]
    },
    {
     "name": "stdout",
     "output_type": "stream",
     "text": [
      "INFO:tensorflow:global_step/sec: 251.566\n"
     ]
    },
    {
     "name": "stderr",
     "output_type": "stream",
     "text": [
      "INFO:tensorflow:global_step/sec: 251.566\n"
     ]
    },
    {
     "name": "stdout",
     "output_type": "stream",
     "text": [
      "INFO:tensorflow:loss = 0.42804247, step = 7400 (0.395 sec)\n"
     ]
    },
    {
     "name": "stderr",
     "output_type": "stream",
     "text": [
      "INFO:tensorflow:loss = 0.42804247, step = 7400 (0.395 sec)\n"
     ]
    },
    {
     "name": "stdout",
     "output_type": "stream",
     "text": [
      "INFO:tensorflow:global_step/sec: 388.804\n"
     ]
    },
    {
     "name": "stderr",
     "output_type": "stream",
     "text": [
      "INFO:tensorflow:global_step/sec: 388.804\n"
     ]
    },
    {
     "name": "stdout",
     "output_type": "stream",
     "text": [
      "INFO:tensorflow:loss = 0.72915643, step = 7500 (0.260 sec)\n"
     ]
    },
    {
     "name": "stderr",
     "output_type": "stream",
     "text": [
      "INFO:tensorflow:loss = 0.72915643, step = 7500 (0.260 sec)\n"
     ]
    },
    {
     "name": "stdout",
     "output_type": "stream",
     "text": [
      "INFO:tensorflow:global_step/sec: 106.631\n"
     ]
    },
    {
     "name": "stderr",
     "output_type": "stream",
     "text": [
      "INFO:tensorflow:global_step/sec: 106.631\n"
     ]
    },
    {
     "name": "stdout",
     "output_type": "stream",
     "text": [
      "INFO:tensorflow:loss = 0.58673567, step = 7600 (0.935 sec)\n"
     ]
    },
    {
     "name": "stderr",
     "output_type": "stream",
     "text": [
      "INFO:tensorflow:loss = 0.58673567, step = 7600 (0.935 sec)\n"
     ]
    },
    {
     "name": "stdout",
     "output_type": "stream",
     "text": [
      "INFO:tensorflow:global_step/sec: 238.382\n"
     ]
    },
    {
     "name": "stderr",
     "output_type": "stream",
     "text": [
      "INFO:tensorflow:global_step/sec: 238.382\n"
     ]
    },
    {
     "name": "stdout",
     "output_type": "stream",
     "text": [
      "INFO:tensorflow:loss = 0.7954986, step = 7700 (0.419 sec)\n"
     ]
    },
    {
     "name": "stderr",
     "output_type": "stream",
     "text": [
      "INFO:tensorflow:loss = 0.7954986, step = 7700 (0.419 sec)\n"
     ]
    },
    {
     "name": "stdout",
     "output_type": "stream",
     "text": [
      "INFO:tensorflow:global_step/sec: 121.109\n"
     ]
    },
    {
     "name": "stderr",
     "output_type": "stream",
     "text": [
      "INFO:tensorflow:global_step/sec: 121.109\n"
     ]
    },
    {
     "name": "stdout",
     "output_type": "stream",
     "text": [
      "INFO:tensorflow:loss = 0.6259955, step = 7800 (0.843 sec)\n"
     ]
    },
    {
     "name": "stderr",
     "output_type": "stream",
     "text": [
      "INFO:tensorflow:loss = 0.6259955, step = 7800 (0.843 sec)\n"
     ]
    },
    {
     "name": "stdout",
     "output_type": "stream",
     "text": [
      "INFO:tensorflow:global_step/sec: 105.706\n"
     ]
    },
    {
     "name": "stderr",
     "output_type": "stream",
     "text": [
      "INFO:tensorflow:global_step/sec: 105.706\n"
     ]
    },
    {
     "name": "stdout",
     "output_type": "stream",
     "text": [
      "INFO:tensorflow:loss = 0.58511543, step = 7900 (0.947 sec)\n"
     ]
    },
    {
     "name": "stderr",
     "output_type": "stream",
     "text": [
      "INFO:tensorflow:loss = 0.58511543, step = 7900 (0.947 sec)\n"
     ]
    },
    {
     "name": "stdout",
     "output_type": "stream",
     "text": [
      "INFO:tensorflow:global_step/sec: 155.618\n"
     ]
    },
    {
     "name": "stderr",
     "output_type": "stream",
     "text": [
      "INFO:tensorflow:global_step/sec: 155.618\n"
     ]
    },
    {
     "name": "stdout",
     "output_type": "stream",
     "text": [
      "INFO:tensorflow:loss = 0.5556755, step = 8000 (0.626 sec)\n"
     ]
    },
    {
     "name": "stderr",
     "output_type": "stream",
     "text": [
      "INFO:tensorflow:loss = 0.5556755, step = 8000 (0.626 sec)\n"
     ]
    },
    {
     "name": "stdout",
     "output_type": "stream",
     "text": [
      "INFO:tensorflow:global_step/sec: 166.605\n"
     ]
    },
    {
     "name": "stderr",
     "output_type": "stream",
     "text": [
      "INFO:tensorflow:global_step/sec: 166.605\n"
     ]
    },
    {
     "name": "stdout",
     "output_type": "stream",
     "text": [
      "INFO:tensorflow:loss = 0.62697953, step = 8100 (0.601 sec)\n"
     ]
    },
    {
     "name": "stderr",
     "output_type": "stream",
     "text": [
      "INFO:tensorflow:loss = 0.62697953, step = 8100 (0.601 sec)\n"
     ]
    },
    {
     "name": "stdout",
     "output_type": "stream",
     "text": [
      "INFO:tensorflow:global_step/sec: 179.965\n"
     ]
    },
    {
     "name": "stderr",
     "output_type": "stream",
     "text": [
      "INFO:tensorflow:global_step/sec: 179.965\n"
     ]
    },
    {
     "name": "stdout",
     "output_type": "stream",
     "text": [
      "INFO:tensorflow:loss = 0.76355636, step = 8200 (0.556 sec)\n"
     ]
    },
    {
     "name": "stderr",
     "output_type": "stream",
     "text": [
      "INFO:tensorflow:loss = 0.76355636, step = 8200 (0.556 sec)\n"
     ]
    },
    {
     "name": "stdout",
     "output_type": "stream",
     "text": [
      "INFO:tensorflow:global_step/sec: 218.329\n"
     ]
    },
    {
     "name": "stderr",
     "output_type": "stream",
     "text": [
      "INFO:tensorflow:global_step/sec: 218.329\n"
     ]
    },
    {
     "name": "stdout",
     "output_type": "stream",
     "text": [
      "INFO:tensorflow:loss = 0.63175166, step = 8300 (0.458 sec)\n"
     ]
    },
    {
     "name": "stderr",
     "output_type": "stream",
     "text": [
      "INFO:tensorflow:loss = 0.63175166, step = 8300 (0.458 sec)\n"
     ]
    },
    {
     "name": "stdout",
     "output_type": "stream",
     "text": [
      "INFO:tensorflow:global_step/sec: 406.415\n"
     ]
    },
    {
     "name": "stderr",
     "output_type": "stream",
     "text": [
      "INFO:tensorflow:global_step/sec: 406.415\n"
     ]
    },
    {
     "name": "stdout",
     "output_type": "stream",
     "text": [
      "INFO:tensorflow:loss = 0.5635575, step = 8400 (0.248 sec)\n"
     ]
    },
    {
     "name": "stderr",
     "output_type": "stream",
     "text": [
      "INFO:tensorflow:loss = 0.5635575, step = 8400 (0.248 sec)\n"
     ]
    },
    {
     "name": "stdout",
     "output_type": "stream",
     "text": [
      "INFO:tensorflow:global_step/sec: 134.396\n"
     ]
    },
    {
     "name": "stderr",
     "output_type": "stream",
     "text": [
      "INFO:tensorflow:global_step/sec: 134.396\n"
     ]
    },
    {
     "name": "stdout",
     "output_type": "stream",
     "text": [
      "INFO:tensorflow:loss = 0.62091273, step = 8500 (0.740 sec)\n"
     ]
    },
    {
     "name": "stderr",
     "output_type": "stream",
     "text": [
      "INFO:tensorflow:loss = 0.62091273, step = 8500 (0.740 sec)\n"
     ]
    },
    {
     "name": "stdout",
     "output_type": "stream",
     "text": [
      "INFO:tensorflow:global_step/sec: 227.117\n"
     ]
    },
    {
     "name": "stderr",
     "output_type": "stream",
     "text": [
      "INFO:tensorflow:global_step/sec: 227.117\n"
     ]
    },
    {
     "name": "stdout",
     "output_type": "stream",
     "text": [
      "INFO:tensorflow:loss = 0.5139861, step = 8600 (0.440 sec)\n"
     ]
    },
    {
     "name": "stderr",
     "output_type": "stream",
     "text": [
      "INFO:tensorflow:loss = 0.5139861, step = 8600 (0.440 sec)\n"
     ]
    },
    {
     "name": "stdout",
     "output_type": "stream",
     "text": [
      "INFO:tensorflow:global_step/sec: 203.923\n"
     ]
    },
    {
     "name": "stderr",
     "output_type": "stream",
     "text": [
      "INFO:tensorflow:global_step/sec: 203.923\n"
     ]
    },
    {
     "name": "stdout",
     "output_type": "stream",
     "text": [
      "INFO:tensorflow:loss = 0.5239834, step = 8700 (0.490 sec)\n"
     ]
    },
    {
     "name": "stderr",
     "output_type": "stream",
     "text": [
      "INFO:tensorflow:loss = 0.5239834, step = 8700 (0.490 sec)\n"
     ]
    },
    {
     "name": "stdout",
     "output_type": "stream",
     "text": [
      "INFO:tensorflow:global_step/sec: 224.044\n"
     ]
    },
    {
     "name": "stderr",
     "output_type": "stream",
     "text": [
      "INFO:tensorflow:global_step/sec: 224.044\n"
     ]
    },
    {
     "name": "stdout",
     "output_type": "stream",
     "text": [
      "INFO:tensorflow:loss = 0.5976159, step = 8800 (0.448 sec)\n"
     ]
    },
    {
     "name": "stderr",
     "output_type": "stream",
     "text": [
      "INFO:tensorflow:loss = 0.5976159, step = 8800 (0.448 sec)\n"
     ]
    },
    {
     "name": "stdout",
     "output_type": "stream",
     "text": [
      "INFO:tensorflow:global_step/sec: 217.958\n"
     ]
    },
    {
     "name": "stderr",
     "output_type": "stream",
     "text": [
      "INFO:tensorflow:global_step/sec: 217.958\n"
     ]
    },
    {
     "name": "stdout",
     "output_type": "stream",
     "text": [
      "INFO:tensorflow:loss = 0.519613, step = 8900 (0.457 sec)\n"
     ]
    },
    {
     "name": "stderr",
     "output_type": "stream",
     "text": [
      "INFO:tensorflow:loss = 0.519613, step = 8900 (0.457 sec)\n"
     ]
    },
    {
     "name": "stdout",
     "output_type": "stream",
     "text": [
      "INFO:tensorflow:global_step/sec: 246.348\n"
     ]
    },
    {
     "name": "stderr",
     "output_type": "stream",
     "text": [
      "INFO:tensorflow:global_step/sec: 246.348\n"
     ]
    },
    {
     "name": "stdout",
     "output_type": "stream",
     "text": [
      "INFO:tensorflow:loss = 0.4663925, step = 9000 (0.406 sec)\n"
     ]
    },
    {
     "name": "stderr",
     "output_type": "stream",
     "text": [
      "INFO:tensorflow:loss = 0.4663925, step = 9000 (0.406 sec)\n"
     ]
    },
    {
     "name": "stdout",
     "output_type": "stream",
     "text": [
      "INFO:tensorflow:global_step/sec: 231.169\n"
     ]
    },
    {
     "name": "stderr",
     "output_type": "stream",
     "text": [
      "INFO:tensorflow:global_step/sec: 231.169\n"
     ]
    },
    {
     "name": "stdout",
     "output_type": "stream",
     "text": [
      "INFO:tensorflow:loss = 0.7422121, step = 9100 (0.433 sec)\n"
     ]
    },
    {
     "name": "stderr",
     "output_type": "stream",
     "text": [
      "INFO:tensorflow:loss = 0.7422121, step = 9100 (0.433 sec)\n"
     ]
    },
    {
     "name": "stdout",
     "output_type": "stream",
     "text": [
      "INFO:tensorflow:global_step/sec: 247.91\n"
     ]
    },
    {
     "name": "stderr",
     "output_type": "stream",
     "text": [
      "INFO:tensorflow:global_step/sec: 247.91\n"
     ]
    },
    {
     "name": "stdout",
     "output_type": "stream",
     "text": [
      "INFO:tensorflow:loss = 0.7940424, step = 9200 (0.403 sec)\n"
     ]
    },
    {
     "name": "stderr",
     "output_type": "stream",
     "text": [
      "INFO:tensorflow:loss = 0.7940424, step = 9200 (0.403 sec)\n"
     ]
    },
    {
     "name": "stdout",
     "output_type": "stream",
     "text": [
      "INFO:tensorflow:global_step/sec: 428.874\n"
     ]
    },
    {
     "name": "stderr",
     "output_type": "stream",
     "text": [
      "INFO:tensorflow:global_step/sec: 428.874\n"
     ]
    },
    {
     "name": "stdout",
     "output_type": "stream",
     "text": [
      "INFO:tensorflow:loss = 0.5667056, step = 9300 (0.233 sec)\n"
     ]
    },
    {
     "name": "stderr",
     "output_type": "stream",
     "text": [
      "INFO:tensorflow:loss = 0.5667056, step = 9300 (0.233 sec)\n"
     ]
    },
    {
     "name": "stdout",
     "output_type": "stream",
     "text": [
      "INFO:tensorflow:global_step/sec: 171.451\n"
     ]
    },
    {
     "name": "stderr",
     "output_type": "stream",
     "text": [
      "INFO:tensorflow:global_step/sec: 171.451\n"
     ]
    },
    {
     "name": "stdout",
     "output_type": "stream",
     "text": [
      "INFO:tensorflow:loss = 0.6239208, step = 9400 (0.584 sec)\n"
     ]
    },
    {
     "name": "stderr",
     "output_type": "stream",
     "text": [
      "INFO:tensorflow:loss = 0.6239208, step = 9400 (0.584 sec)\n"
     ]
    },
    {
     "name": "stdout",
     "output_type": "stream",
     "text": [
      "INFO:tensorflow:global_step/sec: 219.093\n"
     ]
    },
    {
     "name": "stderr",
     "output_type": "stream",
     "text": [
      "INFO:tensorflow:global_step/sec: 219.093\n"
     ]
    },
    {
     "name": "stdout",
     "output_type": "stream",
     "text": [
      "INFO:tensorflow:loss = 0.5739979, step = 9500 (0.456 sec)\n"
     ]
    },
    {
     "name": "stderr",
     "output_type": "stream",
     "text": [
      "INFO:tensorflow:loss = 0.5739979, step = 9500 (0.456 sec)\n"
     ]
    },
    {
     "name": "stdout",
     "output_type": "stream",
     "text": [
      "INFO:tensorflow:global_step/sec: 217.725\n"
     ]
    },
    {
     "name": "stderr",
     "output_type": "stream",
     "text": [
      "INFO:tensorflow:global_step/sec: 217.725\n"
     ]
    },
    {
     "name": "stdout",
     "output_type": "stream",
     "text": [
      "INFO:tensorflow:loss = 0.4073379, step = 9600 (0.459 sec)\n"
     ]
    },
    {
     "name": "stderr",
     "output_type": "stream",
     "text": [
      "INFO:tensorflow:loss = 0.4073379, step = 9600 (0.459 sec)\n"
     ]
    },
    {
     "name": "stdout",
     "output_type": "stream",
     "text": [
      "INFO:tensorflow:global_step/sec: 234.451\n"
     ]
    },
    {
     "name": "stderr",
     "output_type": "stream",
     "text": [
      "INFO:tensorflow:global_step/sec: 234.451\n"
     ]
    },
    {
     "name": "stdout",
     "output_type": "stream",
     "text": [
      "INFO:tensorflow:loss = 0.6718005, step = 9700 (0.427 sec)\n"
     ]
    },
    {
     "name": "stderr",
     "output_type": "stream",
     "text": [
      "INFO:tensorflow:loss = 0.6718005, step = 9700 (0.427 sec)\n"
     ]
    },
    {
     "name": "stdout",
     "output_type": "stream",
     "text": [
      "INFO:tensorflow:global_step/sec: 252.578\n"
     ]
    },
    {
     "name": "stderr",
     "output_type": "stream",
     "text": [
      "INFO:tensorflow:global_step/sec: 252.578\n"
     ]
    },
    {
     "name": "stdout",
     "output_type": "stream",
     "text": [
      "INFO:tensorflow:loss = 0.47854453, step = 9800 (0.396 sec)\n"
     ]
    },
    {
     "name": "stderr",
     "output_type": "stream",
     "text": [
      "INFO:tensorflow:loss = 0.47854453, step = 9800 (0.396 sec)\n"
     ]
    },
    {
     "name": "stdout",
     "output_type": "stream",
     "text": [
      "INFO:tensorflow:global_step/sec: 237.027\n"
     ]
    },
    {
     "name": "stderr",
     "output_type": "stream",
     "text": [
      "INFO:tensorflow:global_step/sec: 237.027\n"
     ]
    },
    {
     "name": "stdout",
     "output_type": "stream",
     "text": [
      "INFO:tensorflow:loss = 0.50427926, step = 9900 (0.422 sec)\n"
     ]
    },
    {
     "name": "stderr",
     "output_type": "stream",
     "text": [
      "INFO:tensorflow:loss = 0.50427926, step = 9900 (0.422 sec)\n"
     ]
    },
    {
     "name": "stdout",
     "output_type": "stream",
     "text": [
      "INFO:tensorflow:global_step/sec: 217.796\n"
     ]
    },
    {
     "name": "stderr",
     "output_type": "stream",
     "text": [
      "INFO:tensorflow:global_step/sec: 217.796\n"
     ]
    },
    {
     "name": "stdout",
     "output_type": "stream",
     "text": [
      "INFO:tensorflow:loss = 0.50029016, step = 10000 (0.459 sec)\n"
     ]
    },
    {
     "name": "stderr",
     "output_type": "stream",
     "text": [
      "INFO:tensorflow:loss = 0.50029016, step = 10000 (0.459 sec)\n"
     ]
    },
    {
     "name": "stdout",
     "output_type": "stream",
     "text": [
      "INFO:tensorflow:global_step/sec: 232.669\n"
     ]
    },
    {
     "name": "stderr",
     "output_type": "stream",
     "text": [
      "INFO:tensorflow:global_step/sec: 232.669\n"
     ]
    },
    {
     "name": "stdout",
     "output_type": "stream",
     "text": [
      "INFO:tensorflow:loss = 0.40798187, step = 10100 (0.430 sec)\n"
     ]
    },
    {
     "name": "stderr",
     "output_type": "stream",
     "text": [
      "INFO:tensorflow:loss = 0.40798187, step = 10100 (0.430 sec)\n"
     ]
    },
    {
     "name": "stdout",
     "output_type": "stream",
     "text": [
      "INFO:tensorflow:global_step/sec: 320.122\n"
     ]
    },
    {
     "name": "stderr",
     "output_type": "stream",
     "text": [
      "INFO:tensorflow:global_step/sec: 320.122\n"
     ]
    },
    {
     "name": "stdout",
     "output_type": "stream",
     "text": [
      "INFO:tensorflow:loss = 0.577842, step = 10200 (0.313 sec)\n"
     ]
    },
    {
     "name": "stderr",
     "output_type": "stream",
     "text": [
      "INFO:tensorflow:loss = 0.577842, step = 10200 (0.313 sec)\n"
     ]
    },
    {
     "name": "stdout",
     "output_type": "stream",
     "text": [
      "INFO:tensorflow:global_step/sec: 570.097\n"
     ]
    },
    {
     "name": "stderr",
     "output_type": "stream",
     "text": [
      "INFO:tensorflow:global_step/sec: 570.097\n"
     ]
    },
    {
     "name": "stdout",
     "output_type": "stream",
     "text": [
      "INFO:tensorflow:loss = 0.4284929, step = 10300 (0.177 sec)\n"
     ]
    },
    {
     "name": "stderr",
     "output_type": "stream",
     "text": [
      "INFO:tensorflow:loss = 0.4284929, step = 10300 (0.177 sec)\n"
     ]
    },
    {
     "name": "stdout",
     "output_type": "stream",
     "text": [
      "INFO:tensorflow:global_step/sec: 139.574\n"
     ]
    },
    {
     "name": "stderr",
     "output_type": "stream",
     "text": [
      "INFO:tensorflow:global_step/sec: 139.574\n"
     ]
    },
    {
     "name": "stdout",
     "output_type": "stream",
     "text": [
      "INFO:tensorflow:loss = 0.5636716, step = 10400 (0.716 sec)\n"
     ]
    },
    {
     "name": "stderr",
     "output_type": "stream",
     "text": [
      "INFO:tensorflow:loss = 0.5636716, step = 10400 (0.716 sec)\n"
     ]
    },
    {
     "name": "stdout",
     "output_type": "stream",
     "text": [
      "INFO:tensorflow:global_step/sec: 248.008\n"
     ]
    },
    {
     "name": "stderr",
     "output_type": "stream",
     "text": [
      "INFO:tensorflow:global_step/sec: 248.008\n"
     ]
    },
    {
     "name": "stdout",
     "output_type": "stream",
     "text": [
      "INFO:tensorflow:loss = 0.43882543, step = 10500 (0.401 sec)\n"
     ]
    },
    {
     "name": "stderr",
     "output_type": "stream",
     "text": [
      "INFO:tensorflow:loss = 0.43882543, step = 10500 (0.401 sec)\n"
     ]
    },
    {
     "name": "stdout",
     "output_type": "stream",
     "text": [
      "INFO:tensorflow:global_step/sec: 237.71\n"
     ]
    },
    {
     "name": "stderr",
     "output_type": "stream",
     "text": [
      "INFO:tensorflow:global_step/sec: 237.71\n"
     ]
    },
    {
     "name": "stdout",
     "output_type": "stream",
     "text": [
      "INFO:tensorflow:loss = 0.5006304, step = 10600 (0.421 sec)\n"
     ]
    },
    {
     "name": "stderr",
     "output_type": "stream",
     "text": [
      "INFO:tensorflow:loss = 0.5006304, step = 10600 (0.421 sec)\n"
     ]
    },
    {
     "name": "stdout",
     "output_type": "stream",
     "text": [
      "INFO:tensorflow:global_step/sec: 238.847\n"
     ]
    },
    {
     "name": "stderr",
     "output_type": "stream",
     "text": [
      "INFO:tensorflow:global_step/sec: 238.847\n"
     ]
    },
    {
     "name": "stdout",
     "output_type": "stream",
     "text": [
      "INFO:tensorflow:loss = 0.5847468, step = 10700 (0.419 sec)\n"
     ]
    },
    {
     "name": "stderr",
     "output_type": "stream",
     "text": [
      "INFO:tensorflow:loss = 0.5847468, step = 10700 (0.419 sec)\n"
     ]
    },
    {
     "name": "stdout",
     "output_type": "stream",
     "text": [
      "INFO:tensorflow:global_step/sec: 237.705\n"
     ]
    },
    {
     "name": "stderr",
     "output_type": "stream",
     "text": [
      "INFO:tensorflow:global_step/sec: 237.705\n"
     ]
    },
    {
     "name": "stdout",
     "output_type": "stream",
     "text": [
      "INFO:tensorflow:loss = 0.40307933, step = 10800 (0.421 sec)\n"
     ]
    },
    {
     "name": "stderr",
     "output_type": "stream",
     "text": [
      "INFO:tensorflow:loss = 0.40307933, step = 10800 (0.421 sec)\n"
     ]
    },
    {
     "name": "stdout",
     "output_type": "stream",
     "text": [
      "INFO:tensorflow:global_step/sec: 235.132\n"
     ]
    },
    {
     "name": "stderr",
     "output_type": "stream",
     "text": [
      "INFO:tensorflow:global_step/sec: 235.132\n"
     ]
    },
    {
     "name": "stdout",
     "output_type": "stream",
     "text": [
      "INFO:tensorflow:loss = 0.43765947, step = 10900 (0.425 sec)\n"
     ]
    },
    {
     "name": "stderr",
     "output_type": "stream",
     "text": [
      "INFO:tensorflow:loss = 0.43765947, step = 10900 (0.425 sec)\n"
     ]
    },
    {
     "name": "stdout",
     "output_type": "stream",
     "text": [
      "INFO:tensorflow:global_step/sec: 236.17\n"
     ]
    },
    {
     "name": "stderr",
     "output_type": "stream",
     "text": [
      "INFO:tensorflow:global_step/sec: 236.17\n"
     ]
    },
    {
     "name": "stdout",
     "output_type": "stream",
     "text": [
      "INFO:tensorflow:loss = 0.3812635, step = 11000 (0.424 sec)\n"
     ]
    },
    {
     "name": "stderr",
     "output_type": "stream",
     "text": [
      "INFO:tensorflow:loss = 0.3812635, step = 11000 (0.424 sec)\n"
     ]
    },
    {
     "name": "stdout",
     "output_type": "stream",
     "text": [
      "INFO:tensorflow:global_step/sec: 241.131\n"
     ]
    },
    {
     "name": "stderr",
     "output_type": "stream",
     "text": [
      "INFO:tensorflow:global_step/sec: 241.131\n"
     ]
    },
    {
     "name": "stdout",
     "output_type": "stream",
     "text": [
      "INFO:tensorflow:loss = 0.5656147, step = 11100 (0.414 sec)\n"
     ]
    },
    {
     "name": "stderr",
     "output_type": "stream",
     "text": [
      "INFO:tensorflow:loss = 0.5656147, step = 11100 (0.414 sec)\n"
     ]
    },
    {
     "name": "stdout",
     "output_type": "stream",
     "text": [
      "INFO:tensorflow:global_step/sec: 596.698\n"
     ]
    },
    {
     "name": "stderr",
     "output_type": "stream",
     "text": [
      "INFO:tensorflow:global_step/sec: 596.698\n"
     ]
    },
    {
     "name": "stdout",
     "output_type": "stream",
     "text": [
      "INFO:tensorflow:loss = 0.61142516, step = 11200 (0.167 sec)\n"
     ]
    },
    {
     "name": "stderr",
     "output_type": "stream",
     "text": [
      "INFO:tensorflow:loss = 0.61142516, step = 11200 (0.167 sec)\n"
     ]
    },
    {
     "name": "stdout",
     "output_type": "stream",
     "text": [
      "INFO:tensorflow:global_step/sec: 163.783\n"
     ]
    },
    {
     "name": "stderr",
     "output_type": "stream",
     "text": [
      "INFO:tensorflow:global_step/sec: 163.783\n"
     ]
    },
    {
     "name": "stdout",
     "output_type": "stream",
     "text": [
      "INFO:tensorflow:loss = 0.589778, step = 11300 (0.611 sec)\n"
     ]
    },
    {
     "name": "stderr",
     "output_type": "stream",
     "text": [
      "INFO:tensorflow:loss = 0.589778, step = 11300 (0.611 sec)\n"
     ]
    },
    {
     "name": "stdout",
     "output_type": "stream",
     "text": [
      "INFO:tensorflow:global_step/sec: 242.138\n"
     ]
    },
    {
     "name": "stderr",
     "output_type": "stream",
     "text": [
      "INFO:tensorflow:global_step/sec: 242.138\n"
     ]
    },
    {
     "name": "stdout",
     "output_type": "stream",
     "text": [
      "INFO:tensorflow:loss = 0.52845955, step = 11400 (0.413 sec)\n"
     ]
    },
    {
     "name": "stderr",
     "output_type": "stream",
     "text": [
      "INFO:tensorflow:loss = 0.52845955, step = 11400 (0.413 sec)\n"
     ]
    },
    {
     "name": "stdout",
     "output_type": "stream",
     "text": [
      "INFO:tensorflow:global_step/sec: 242.535\n"
     ]
    },
    {
     "name": "stderr",
     "output_type": "stream",
     "text": [
      "INFO:tensorflow:global_step/sec: 242.535\n"
     ]
    },
    {
     "name": "stdout",
     "output_type": "stream",
     "text": [
      "INFO:tensorflow:loss = 0.2905229, step = 11500 (0.412 sec)\n"
     ]
    },
    {
     "name": "stderr",
     "output_type": "stream",
     "text": [
      "INFO:tensorflow:loss = 0.2905229, step = 11500 (0.412 sec)\n"
     ]
    },
    {
     "name": "stdout",
     "output_type": "stream",
     "text": [
      "INFO:tensorflow:global_step/sec: 239.737\n"
     ]
    },
    {
     "name": "stderr",
     "output_type": "stream",
     "text": [
      "INFO:tensorflow:global_step/sec: 239.737\n"
     ]
    },
    {
     "name": "stdout",
     "output_type": "stream",
     "text": [
      "INFO:tensorflow:loss = 0.52972186, step = 11600 (0.417 sec)\n"
     ]
    },
    {
     "name": "stderr",
     "output_type": "stream",
     "text": [
      "INFO:tensorflow:loss = 0.52972186, step = 11600 (0.417 sec)\n"
     ]
    },
    {
     "name": "stdout",
     "output_type": "stream",
     "text": [
      "INFO:tensorflow:global_step/sec: 233.933\n"
     ]
    },
    {
     "name": "stderr",
     "output_type": "stream",
     "text": [
      "INFO:tensorflow:global_step/sec: 233.933\n"
     ]
    },
    {
     "name": "stdout",
     "output_type": "stream",
     "text": [
      "INFO:tensorflow:loss = 0.48071045, step = 11700 (0.430 sec)\n"
     ]
    },
    {
     "name": "stderr",
     "output_type": "stream",
     "text": [
      "INFO:tensorflow:loss = 0.48071045, step = 11700 (0.430 sec)\n"
     ]
    },
    {
     "name": "stdout",
     "output_type": "stream",
     "text": [
      "INFO:tensorflow:global_step/sec: 241.819\n"
     ]
    },
    {
     "name": "stderr",
     "output_type": "stream",
     "text": [
      "INFO:tensorflow:global_step/sec: 241.819\n"
     ]
    },
    {
     "name": "stdout",
     "output_type": "stream",
     "text": [
      "INFO:tensorflow:loss = 0.43185607, step = 11800 (0.412 sec)\n"
     ]
    },
    {
     "name": "stderr",
     "output_type": "stream",
     "text": [
      "INFO:tensorflow:loss = 0.43185607, step = 11800 (0.412 sec)\n"
     ]
    },
    {
     "name": "stdout",
     "output_type": "stream",
     "text": [
      "INFO:tensorflow:global_step/sec: 243.362\n"
     ]
    },
    {
     "name": "stderr",
     "output_type": "stream",
     "text": [
      "INFO:tensorflow:global_step/sec: 243.362\n"
     ]
    },
    {
     "name": "stdout",
     "output_type": "stream",
     "text": [
      "INFO:tensorflow:loss = 0.73370755, step = 11900 (0.410 sec)\n"
     ]
    },
    {
     "name": "stderr",
     "output_type": "stream",
     "text": [
      "INFO:tensorflow:loss = 0.73370755, step = 11900 (0.410 sec)\n"
     ]
    },
    {
     "name": "stdout",
     "output_type": "stream",
     "text": [
      "INFO:tensorflow:global_step/sec: 236.178\n"
     ]
    },
    {
     "name": "stderr",
     "output_type": "stream",
     "text": [
      "INFO:tensorflow:global_step/sec: 236.178\n"
     ]
    },
    {
     "name": "stdout",
     "output_type": "stream",
     "text": [
      "INFO:tensorflow:loss = 0.3435133, step = 12000 (0.423 sec)\n"
     ]
    },
    {
     "name": "stderr",
     "output_type": "stream",
     "text": [
      "INFO:tensorflow:loss = 0.3435133, step = 12000 (0.423 sec)\n"
     ]
    },
    {
     "name": "stdout",
     "output_type": "stream",
     "text": [
      "INFO:tensorflow:global_step/sec: 394.828\n"
     ]
    },
    {
     "name": "stderr",
     "output_type": "stream",
     "text": [
      "INFO:tensorflow:global_step/sec: 394.828\n"
     ]
    },
    {
     "name": "stdout",
     "output_type": "stream",
     "text": [
      "INFO:tensorflow:loss = 0.6682061, step = 12100 (0.254 sec)\n"
     ]
    },
    {
     "name": "stderr",
     "output_type": "stream",
     "text": [
      "INFO:tensorflow:loss = 0.6682061, step = 12100 (0.254 sec)\n"
     ]
    },
    {
     "name": "stdout",
     "output_type": "stream",
     "text": [
      "INFO:tensorflow:global_step/sec: 169.722\n"
     ]
    },
    {
     "name": "stderr",
     "output_type": "stream",
     "text": [
      "INFO:tensorflow:global_step/sec: 169.722\n"
     ]
    },
    {
     "name": "stdout",
     "output_type": "stream",
     "text": [
      "INFO:tensorflow:loss = 0.55124223, step = 12200 (0.590 sec)\n"
     ]
    },
    {
     "name": "stderr",
     "output_type": "stream",
     "text": [
      "INFO:tensorflow:loss = 0.55124223, step = 12200 (0.590 sec)\n"
     ]
    },
    {
     "name": "stdout",
     "output_type": "stream",
     "text": [
      "INFO:tensorflow:global_step/sec: 233.703\n"
     ]
    },
    {
     "name": "stderr",
     "output_type": "stream",
     "text": [
      "INFO:tensorflow:global_step/sec: 233.703\n"
     ]
    },
    {
     "name": "stdout",
     "output_type": "stream",
     "text": [
      "INFO:tensorflow:loss = 0.34639144, step = 12300 (0.427 sec)\n"
     ]
    },
    {
     "name": "stderr",
     "output_type": "stream",
     "text": [
      "INFO:tensorflow:loss = 0.34639144, step = 12300 (0.427 sec)\n"
     ]
    },
    {
     "name": "stdout",
     "output_type": "stream",
     "text": [
      "INFO:tensorflow:global_step/sec: 240.408\n"
     ]
    },
    {
     "name": "stderr",
     "output_type": "stream",
     "text": [
      "INFO:tensorflow:global_step/sec: 240.408\n"
     ]
    },
    {
     "name": "stdout",
     "output_type": "stream",
     "text": [
      "INFO:tensorflow:loss = 0.26968804, step = 12400 (0.416 sec)\n"
     ]
    },
    {
     "name": "stderr",
     "output_type": "stream",
     "text": [
      "INFO:tensorflow:loss = 0.26968804, step = 12400 (0.416 sec)\n"
     ]
    },
    {
     "name": "stdout",
     "output_type": "stream",
     "text": [
      "INFO:tensorflow:global_step/sec: 226.092\n"
     ]
    },
    {
     "name": "stderr",
     "output_type": "stream",
     "text": [
      "INFO:tensorflow:global_step/sec: 226.092\n"
     ]
    },
    {
     "name": "stdout",
     "output_type": "stream",
     "text": [
      "INFO:tensorflow:loss = 0.429391, step = 12500 (0.442 sec)\n"
     ]
    },
    {
     "name": "stderr",
     "output_type": "stream",
     "text": [
      "INFO:tensorflow:loss = 0.429391, step = 12500 (0.442 sec)\n"
     ]
    },
    {
     "name": "stdout",
     "output_type": "stream",
     "text": [
      "INFO:tensorflow:global_step/sec: 208.315\n"
     ]
    },
    {
     "name": "stderr",
     "output_type": "stream",
     "text": [
      "INFO:tensorflow:global_step/sec: 208.315\n"
     ]
    },
    {
     "name": "stdout",
     "output_type": "stream",
     "text": [
      "INFO:tensorflow:loss = 0.4016387, step = 12600 (0.482 sec)\n"
     ]
    },
    {
     "name": "stderr",
     "output_type": "stream",
     "text": [
      "INFO:tensorflow:loss = 0.4016387, step = 12600 (0.482 sec)\n"
     ]
    },
    {
     "name": "stdout",
     "output_type": "stream",
     "text": [
      "INFO:tensorflow:global_step/sec: 149.758\n"
     ]
    },
    {
     "name": "stderr",
     "output_type": "stream",
     "text": [
      "INFO:tensorflow:global_step/sec: 149.758\n"
     ]
    },
    {
     "name": "stdout",
     "output_type": "stream",
     "text": [
      "INFO:tensorflow:loss = 0.5524053, step = 12700 (0.666 sec)\n"
     ]
    },
    {
     "name": "stderr",
     "output_type": "stream",
     "text": [
      "INFO:tensorflow:loss = 0.5524053, step = 12700 (0.666 sec)\n"
     ]
    },
    {
     "name": "stdout",
     "output_type": "stream",
     "text": [
      "INFO:tensorflow:global_step/sec: 185.848\n"
     ]
    },
    {
     "name": "stderr",
     "output_type": "stream",
     "text": [
      "INFO:tensorflow:global_step/sec: 185.848\n"
     ]
    },
    {
     "name": "stdout",
     "output_type": "stream",
     "text": [
      "INFO:tensorflow:loss = 0.5339514, step = 12800 (0.538 sec)\n"
     ]
    },
    {
     "name": "stderr",
     "output_type": "stream",
     "text": [
      "INFO:tensorflow:loss = 0.5339514, step = 12800 (0.538 sec)\n"
     ]
    },
    {
     "name": "stdout",
     "output_type": "stream",
     "text": [
      "INFO:tensorflow:global_step/sec: 177.812\n"
     ]
    },
    {
     "name": "stderr",
     "output_type": "stream",
     "text": [
      "INFO:tensorflow:global_step/sec: 177.812\n"
     ]
    },
    {
     "name": "stdout",
     "output_type": "stream",
     "text": [
      "INFO:tensorflow:loss = 0.46423966, step = 12900 (0.563 sec)\n"
     ]
    },
    {
     "name": "stderr",
     "output_type": "stream",
     "text": [
      "INFO:tensorflow:loss = 0.46423966, step = 12900 (0.563 sec)\n"
     ]
    },
    {
     "name": "stdout",
     "output_type": "stream",
     "text": [
      "INFO:tensorflow:global_step/sec: 240.824\n"
     ]
    },
    {
     "name": "stderr",
     "output_type": "stream",
     "text": [
      "INFO:tensorflow:global_step/sec: 240.824\n"
     ]
    },
    {
     "name": "stdout",
     "output_type": "stream",
     "text": [
      "INFO:tensorflow:loss = 0.5148232, step = 13000 (0.415 sec)\n"
     ]
    },
    {
     "name": "stderr",
     "output_type": "stream",
     "text": [
      "INFO:tensorflow:loss = 0.5148232, step = 13000 (0.415 sec)\n"
     ]
    },
    {
     "name": "stdout",
     "output_type": "stream",
     "text": [
      "INFO:tensorflow:global_step/sec: 532.043\n"
     ]
    },
    {
     "name": "stderr",
     "output_type": "stream",
     "text": [
      "INFO:tensorflow:global_step/sec: 532.043\n"
     ]
    },
    {
     "name": "stdout",
     "output_type": "stream",
     "text": [
      "INFO:tensorflow:loss = 0.45110148, step = 13100 (0.188 sec)\n"
     ]
    },
    {
     "name": "stderr",
     "output_type": "stream",
     "text": [
      "INFO:tensorflow:loss = 0.45110148, step = 13100 (0.188 sec)\n"
     ]
    },
    {
     "name": "stdout",
     "output_type": "stream",
     "text": [
      "INFO:tensorflow:global_step/sec: 134.745\n"
     ]
    },
    {
     "name": "stderr",
     "output_type": "stream",
     "text": [
      "INFO:tensorflow:global_step/sec: 134.745\n"
     ]
    },
    {
     "name": "stdout",
     "output_type": "stream",
     "text": [
      "INFO:tensorflow:loss = 0.6420175, step = 13200 (0.742 sec)\n"
     ]
    },
    {
     "name": "stderr",
     "output_type": "stream",
     "text": [
      "INFO:tensorflow:loss = 0.6420175, step = 13200 (0.742 sec)\n"
     ]
    },
    {
     "name": "stdout",
     "output_type": "stream",
     "text": [
      "INFO:tensorflow:global_step/sec: 221.328\n"
     ]
    },
    {
     "name": "stderr",
     "output_type": "stream",
     "text": [
      "INFO:tensorflow:global_step/sec: 221.328\n"
     ]
    },
    {
     "name": "stdout",
     "output_type": "stream",
     "text": [
      "INFO:tensorflow:loss = 0.47900227, step = 13300 (0.452 sec)\n"
     ]
    },
    {
     "name": "stderr",
     "output_type": "stream",
     "text": [
      "INFO:tensorflow:loss = 0.47900227, step = 13300 (0.452 sec)\n"
     ]
    },
    {
     "name": "stdout",
     "output_type": "stream",
     "text": [
      "INFO:tensorflow:global_step/sec: 224.85\n"
     ]
    },
    {
     "name": "stderr",
     "output_type": "stream",
     "text": [
      "INFO:tensorflow:global_step/sec: 224.85\n"
     ]
    },
    {
     "name": "stdout",
     "output_type": "stream",
     "text": [
      "INFO:tensorflow:loss = 0.40103823, step = 13400 (0.445 sec)\n"
     ]
    },
    {
     "name": "stderr",
     "output_type": "stream",
     "text": [
      "INFO:tensorflow:loss = 0.40103823, step = 13400 (0.445 sec)\n"
     ]
    },
    {
     "name": "stdout",
     "output_type": "stream",
     "text": [
      "INFO:tensorflow:global_step/sec: 231.084\n"
     ]
    },
    {
     "name": "stderr",
     "output_type": "stream",
     "text": [
      "INFO:tensorflow:global_step/sec: 231.084\n"
     ]
    },
    {
     "name": "stdout",
     "output_type": "stream",
     "text": [
      "INFO:tensorflow:loss = 0.4118885, step = 13500 (0.434 sec)\n"
     ]
    },
    {
     "name": "stderr",
     "output_type": "stream",
     "text": [
      "INFO:tensorflow:loss = 0.4118885, step = 13500 (0.434 sec)\n"
     ]
    },
    {
     "name": "stdout",
     "output_type": "stream",
     "text": [
      "INFO:tensorflow:global_step/sec: 224.544\n"
     ]
    },
    {
     "name": "stderr",
     "output_type": "stream",
     "text": [
      "INFO:tensorflow:global_step/sec: 224.544\n"
     ]
    },
    {
     "name": "stdout",
     "output_type": "stream",
     "text": [
      "INFO:tensorflow:loss = 0.36999375, step = 13600 (0.445 sec)\n"
     ]
    },
    {
     "name": "stderr",
     "output_type": "stream",
     "text": [
      "INFO:tensorflow:loss = 0.36999375, step = 13600 (0.445 sec)\n"
     ]
    },
    {
     "name": "stdout",
     "output_type": "stream",
     "text": [
      "INFO:tensorflow:global_step/sec: 220.933\n"
     ]
    },
    {
     "name": "stderr",
     "output_type": "stream",
     "text": [
      "INFO:tensorflow:global_step/sec: 220.933\n"
     ]
    },
    {
     "name": "stdout",
     "output_type": "stream",
     "text": [
      "INFO:tensorflow:loss = 0.61402404, step = 13700 (0.451 sec)\n"
     ]
    },
    {
     "name": "stderr",
     "output_type": "stream",
     "text": [
      "INFO:tensorflow:loss = 0.61402404, step = 13700 (0.451 sec)\n"
     ]
    },
    {
     "name": "stdout",
     "output_type": "stream",
     "text": [
      "INFO:tensorflow:global_step/sec: 216.346\n"
     ]
    },
    {
     "name": "stderr",
     "output_type": "stream",
     "text": [
      "INFO:tensorflow:global_step/sec: 216.346\n"
     ]
    },
    {
     "name": "stdout",
     "output_type": "stream",
     "text": [
      "INFO:tensorflow:loss = 0.45858544, step = 13800 (0.462 sec)\n"
     ]
    },
    {
     "name": "stderr",
     "output_type": "stream",
     "text": [
      "INFO:tensorflow:loss = 0.45858544, step = 13800 (0.462 sec)\n"
     ]
    },
    {
     "name": "stdout",
     "output_type": "stream",
     "text": [
      "INFO:tensorflow:global_step/sec: 238.147\n"
     ]
    },
    {
     "name": "stderr",
     "output_type": "stream",
     "text": [
      "INFO:tensorflow:global_step/sec: 238.147\n"
     ]
    },
    {
     "name": "stdout",
     "output_type": "stream",
     "text": [
      "INFO:tensorflow:loss = 0.6592348, step = 13900 (0.420 sec)\n"
     ]
    },
    {
     "name": "stderr",
     "output_type": "stream",
     "text": [
      "INFO:tensorflow:loss = 0.6592348, step = 13900 (0.420 sec)\n"
     ]
    },
    {
     "name": "stdout",
     "output_type": "stream",
     "text": [
      "INFO:tensorflow:global_step/sec: 468.596\n"
     ]
    },
    {
     "name": "stderr",
     "output_type": "stream",
     "text": [
      "INFO:tensorflow:global_step/sec: 468.596\n"
     ]
    },
    {
     "name": "stdout",
     "output_type": "stream",
     "text": [
      "INFO:tensorflow:loss = 0.5037385, step = 14000 (0.214 sec)\n"
     ]
    },
    {
     "name": "stderr",
     "output_type": "stream",
     "text": [
      "INFO:tensorflow:loss = 0.5037385, step = 14000 (0.214 sec)\n"
     ]
    },
    {
     "name": "stdout",
     "output_type": "stream",
     "text": [
      "INFO:tensorflow:global_step/sec: 165.527\n"
     ]
    },
    {
     "name": "stderr",
     "output_type": "stream",
     "text": [
      "INFO:tensorflow:global_step/sec: 165.527\n"
     ]
    },
    {
     "name": "stdout",
     "output_type": "stream",
     "text": [
      "INFO:tensorflow:loss = 0.38354176, step = 14100 (0.603 sec)\n"
     ]
    },
    {
     "name": "stderr",
     "output_type": "stream",
     "text": [
      "INFO:tensorflow:loss = 0.38354176, step = 14100 (0.603 sec)\n"
     ]
    },
    {
     "name": "stdout",
     "output_type": "stream",
     "text": [
      "INFO:tensorflow:global_step/sec: 236.57\n"
     ]
    },
    {
     "name": "stderr",
     "output_type": "stream",
     "text": [
      "INFO:tensorflow:global_step/sec: 236.57\n"
     ]
    },
    {
     "name": "stdout",
     "output_type": "stream",
     "text": [
      "INFO:tensorflow:loss = 0.52725124, step = 14200 (0.423 sec)\n"
     ]
    },
    {
     "name": "stderr",
     "output_type": "stream",
     "text": [
      "INFO:tensorflow:loss = 0.52725124, step = 14200 (0.423 sec)\n"
     ]
    },
    {
     "name": "stdout",
     "output_type": "stream",
     "text": [
      "INFO:tensorflow:global_step/sec: 237.006\n"
     ]
    },
    {
     "name": "stderr",
     "output_type": "stream",
     "text": [
      "INFO:tensorflow:global_step/sec: 237.006\n"
     ]
    },
    {
     "name": "stdout",
     "output_type": "stream",
     "text": [
      "INFO:tensorflow:loss = 0.28690118, step = 14300 (0.422 sec)\n"
     ]
    },
    {
     "name": "stderr",
     "output_type": "stream",
     "text": [
      "INFO:tensorflow:loss = 0.28690118, step = 14300 (0.422 sec)\n"
     ]
    },
    {
     "name": "stdout",
     "output_type": "stream",
     "text": [
      "INFO:tensorflow:global_step/sec: 232.215\n"
     ]
    },
    {
     "name": "stderr",
     "output_type": "stream",
     "text": [
      "INFO:tensorflow:global_step/sec: 232.215\n"
     ]
    },
    {
     "name": "stdout",
     "output_type": "stream",
     "text": [
      "INFO:tensorflow:loss = 0.48671877, step = 14400 (0.431 sec)\n"
     ]
    },
    {
     "name": "stderr",
     "output_type": "stream",
     "text": [
      "INFO:tensorflow:loss = 0.48671877, step = 14400 (0.431 sec)\n"
     ]
    },
    {
     "name": "stdout",
     "output_type": "stream",
     "text": [
      "INFO:tensorflow:global_step/sec: 195.709\n"
     ]
    },
    {
     "name": "stderr",
     "output_type": "stream",
     "text": [
      "INFO:tensorflow:global_step/sec: 195.709\n"
     ]
    },
    {
     "name": "stdout",
     "output_type": "stream",
     "text": [
      "INFO:tensorflow:loss = 0.28348574, step = 14500 (0.514 sec)\n"
     ]
    },
    {
     "name": "stderr",
     "output_type": "stream",
     "text": [
      "INFO:tensorflow:loss = 0.28348574, step = 14500 (0.514 sec)\n"
     ]
    },
    {
     "name": "stdout",
     "output_type": "stream",
     "text": [
      "INFO:tensorflow:global_step/sec: 163.731\n"
     ]
    },
    {
     "name": "stderr",
     "output_type": "stream",
     "text": [
      "INFO:tensorflow:global_step/sec: 163.731\n"
     ]
    },
    {
     "name": "stdout",
     "output_type": "stream",
     "text": [
      "INFO:tensorflow:loss = 0.46115583, step = 14600 (0.607 sec)\n"
     ]
    },
    {
     "name": "stderr",
     "output_type": "stream",
     "text": [
      "INFO:tensorflow:loss = 0.46115583, step = 14600 (0.607 sec)\n"
     ]
    },
    {
     "name": "stdout",
     "output_type": "stream",
     "text": [
      "INFO:tensorflow:global_step/sec: 174.043\n"
     ]
    },
    {
     "name": "stderr",
     "output_type": "stream",
     "text": [
      "INFO:tensorflow:global_step/sec: 174.043\n"
     ]
    },
    {
     "name": "stdout",
     "output_type": "stream",
     "text": [
      "INFO:tensorflow:loss = 0.36904234, step = 14700 (0.576 sec)\n"
     ]
    },
    {
     "name": "stderr",
     "output_type": "stream",
     "text": [
      "INFO:tensorflow:loss = 0.36904234, step = 14700 (0.576 sec)\n"
     ]
    },
    {
     "name": "stdout",
     "output_type": "stream",
     "text": [
      "INFO:tensorflow:global_step/sec: 228.984\n"
     ]
    },
    {
     "name": "stderr",
     "output_type": "stream",
     "text": [
      "INFO:tensorflow:global_step/sec: 228.984\n"
     ]
    },
    {
     "name": "stdout",
     "output_type": "stream",
     "text": [
      "INFO:tensorflow:loss = 0.60993814, step = 14800 (0.436 sec)\n"
     ]
    },
    {
     "name": "stderr",
     "output_type": "stream",
     "text": [
      "INFO:tensorflow:loss = 0.60993814, step = 14800 (0.436 sec)\n"
     ]
    },
    {
     "name": "stdout",
     "output_type": "stream",
     "text": [
      "INFO:tensorflow:global_step/sec: 233.669\n"
     ]
    },
    {
     "name": "stderr",
     "output_type": "stream",
     "text": [
      "INFO:tensorflow:global_step/sec: 233.669\n"
     ]
    },
    {
     "name": "stdout",
     "output_type": "stream",
     "text": [
      "INFO:tensorflow:loss = 0.37851346, step = 14900 (0.428 sec)\n"
     ]
    },
    {
     "name": "stderr",
     "output_type": "stream",
     "text": [
      "INFO:tensorflow:loss = 0.37851346, step = 14900 (0.428 sec)\n"
     ]
    },
    {
     "name": "stdout",
     "output_type": "stream",
     "text": [
      "INFO:tensorflow:global_step/sec: 513.526\n"
     ]
    },
    {
     "name": "stderr",
     "output_type": "stream",
     "text": [
      "INFO:tensorflow:global_step/sec: 513.526\n"
     ]
    },
    {
     "name": "stdout",
     "output_type": "stream",
     "text": [
      "INFO:tensorflow:loss = 0.3304738, step = 15000 (0.195 sec)\n"
     ]
    },
    {
     "name": "stderr",
     "output_type": "stream",
     "text": [
      "INFO:tensorflow:loss = 0.3304738, step = 15000 (0.195 sec)\n"
     ]
    },
    {
     "name": "stdout",
     "output_type": "stream",
     "text": [
      "INFO:tensorflow:global_step/sec: 105.327\n"
     ]
    },
    {
     "name": "stderr",
     "output_type": "stream",
     "text": [
      "INFO:tensorflow:global_step/sec: 105.327\n"
     ]
    },
    {
     "name": "stdout",
     "output_type": "stream",
     "text": [
      "INFO:tensorflow:loss = 0.62047863, step = 15100 (0.949 sec)\n"
     ]
    },
    {
     "name": "stderr",
     "output_type": "stream",
     "text": [
      "INFO:tensorflow:loss = 0.62047863, step = 15100 (0.949 sec)\n"
     ]
    },
    {
     "name": "stdout",
     "output_type": "stream",
     "text": [
      "INFO:tensorflow:global_step/sec: 175.815\n"
     ]
    },
    {
     "name": "stderr",
     "output_type": "stream",
     "text": [
      "INFO:tensorflow:global_step/sec: 175.815\n"
     ]
    },
    {
     "name": "stdout",
     "output_type": "stream",
     "text": [
      "INFO:tensorflow:loss = 0.3635509, step = 15200 (0.569 sec)\n"
     ]
    },
    {
     "name": "stderr",
     "output_type": "stream",
     "text": [
      "INFO:tensorflow:loss = 0.3635509, step = 15200 (0.569 sec)\n"
     ]
    },
    {
     "name": "stdout",
     "output_type": "stream",
     "text": [
      "INFO:tensorflow:global_step/sec: 231.576\n"
     ]
    },
    {
     "name": "stderr",
     "output_type": "stream",
     "text": [
      "INFO:tensorflow:global_step/sec: 231.576\n"
     ]
    },
    {
     "name": "stdout",
     "output_type": "stream",
     "text": [
      "INFO:tensorflow:loss = 0.5513085, step = 15300 (0.432 sec)\n"
     ]
    },
    {
     "name": "stderr",
     "output_type": "stream",
     "text": [
      "INFO:tensorflow:loss = 0.5513085, step = 15300 (0.432 sec)\n"
     ]
    },
    {
     "name": "stdout",
     "output_type": "stream",
     "text": [
      "INFO:tensorflow:global_step/sec: 234.343\n"
     ]
    },
    {
     "name": "stderr",
     "output_type": "stream",
     "text": [
      "INFO:tensorflow:global_step/sec: 234.343\n"
     ]
    },
    {
     "name": "stdout",
     "output_type": "stream",
     "text": [
      "INFO:tensorflow:loss = 0.37524194, step = 15400 (0.427 sec)\n"
     ]
    },
    {
     "name": "stderr",
     "output_type": "stream",
     "text": [
      "INFO:tensorflow:loss = 0.37524194, step = 15400 (0.427 sec)\n"
     ]
    },
    {
     "name": "stdout",
     "output_type": "stream",
     "text": [
      "INFO:tensorflow:global_step/sec: 222.894\n"
     ]
    },
    {
     "name": "stderr",
     "output_type": "stream",
     "text": [
      "INFO:tensorflow:global_step/sec: 222.894\n"
     ]
    },
    {
     "name": "stdout",
     "output_type": "stream",
     "text": [
      "INFO:tensorflow:loss = 0.39633524, step = 15500 (0.448 sec)\n"
     ]
    },
    {
     "name": "stderr",
     "output_type": "stream",
     "text": [
      "INFO:tensorflow:loss = 0.39633524, step = 15500 (0.448 sec)\n"
     ]
    },
    {
     "name": "stdout",
     "output_type": "stream",
     "text": [
      "INFO:tensorflow:global_step/sec: 236.662\n"
     ]
    },
    {
     "name": "stderr",
     "output_type": "stream",
     "text": [
      "INFO:tensorflow:global_step/sec: 236.662\n"
     ]
    },
    {
     "name": "stdout",
     "output_type": "stream",
     "text": [
      "INFO:tensorflow:loss = 0.47731796, step = 15600 (0.423 sec)\n"
     ]
    },
    {
     "name": "stderr",
     "output_type": "stream",
     "text": [
      "INFO:tensorflow:loss = 0.47731796, step = 15600 (0.423 sec)\n"
     ]
    },
    {
     "name": "stdout",
     "output_type": "stream",
     "text": [
      "INFO:tensorflow:global_step/sec: 153.744\n"
     ]
    },
    {
     "name": "stderr",
     "output_type": "stream",
     "text": [
      "INFO:tensorflow:global_step/sec: 153.744\n"
     ]
    },
    {
     "name": "stdout",
     "output_type": "stream",
     "text": [
      "INFO:tensorflow:loss = 0.4387361, step = 15700 (0.650 sec)\n"
     ]
    },
    {
     "name": "stderr",
     "output_type": "stream",
     "text": [
      "INFO:tensorflow:loss = 0.4387361, step = 15700 (0.650 sec)\n"
     ]
    },
    {
     "name": "stdout",
     "output_type": "stream",
     "text": [
      "INFO:tensorflow:global_step/sec: 203.814\n"
     ]
    },
    {
     "name": "stderr",
     "output_type": "stream",
     "text": [
      "INFO:tensorflow:global_step/sec: 203.814\n"
     ]
    },
    {
     "name": "stdout",
     "output_type": "stream",
     "text": [
      "INFO:tensorflow:loss = 0.5114142, step = 15800 (0.491 sec)\n"
     ]
    },
    {
     "name": "stderr",
     "output_type": "stream",
     "text": [
      "INFO:tensorflow:loss = 0.5114142, step = 15800 (0.491 sec)\n"
     ]
    },
    {
     "name": "stdout",
     "output_type": "stream",
     "text": [
      "INFO:tensorflow:global_step/sec: 386.319\n"
     ]
    },
    {
     "name": "stderr",
     "output_type": "stream",
     "text": [
      "INFO:tensorflow:global_step/sec: 386.319\n"
     ]
    },
    {
     "name": "stdout",
     "output_type": "stream",
     "text": [
      "INFO:tensorflow:loss = 0.45542505, step = 15900 (0.260 sec)\n"
     ]
    },
    {
     "name": "stderr",
     "output_type": "stream",
     "text": [
      "INFO:tensorflow:loss = 0.45542505, step = 15900 (0.260 sec)\n"
     ]
    },
    {
     "name": "stdout",
     "output_type": "stream",
     "text": [
      "INFO:tensorflow:global_step/sec: 112.82\n"
     ]
    },
    {
     "name": "stderr",
     "output_type": "stream",
     "text": [
      "INFO:tensorflow:global_step/sec: 112.82\n"
     ]
    },
    {
     "name": "stdout",
     "output_type": "stream",
     "text": [
      "INFO:tensorflow:loss = 0.44694412, step = 16000 (0.887 sec)\n"
     ]
    },
    {
     "name": "stderr",
     "output_type": "stream",
     "text": [
      "INFO:tensorflow:loss = 0.44694412, step = 16000 (0.887 sec)\n"
     ]
    },
    {
     "name": "stdout",
     "output_type": "stream",
     "text": [
      "INFO:tensorflow:global_step/sec: 136.709\n"
     ]
    },
    {
     "name": "stderr",
     "output_type": "stream",
     "text": [
      "INFO:tensorflow:global_step/sec: 136.709\n"
     ]
    },
    {
     "name": "stdout",
     "output_type": "stream",
     "text": [
      "INFO:tensorflow:loss = 0.599217, step = 16100 (0.731 sec)\n"
     ]
    },
    {
     "name": "stderr",
     "output_type": "stream",
     "text": [
      "INFO:tensorflow:loss = 0.599217, step = 16100 (0.731 sec)\n"
     ]
    },
    {
     "name": "stdout",
     "output_type": "stream",
     "text": [
      "INFO:tensorflow:global_step/sec: 130.353\n"
     ]
    },
    {
     "name": "stderr",
     "output_type": "stream",
     "text": [
      "INFO:tensorflow:global_step/sec: 130.353\n"
     ]
    },
    {
     "name": "stdout",
     "output_type": "stream",
     "text": [
      "INFO:tensorflow:loss = 0.3814705, step = 16200 (0.768 sec)\n"
     ]
    },
    {
     "name": "stderr",
     "output_type": "stream",
     "text": [
      "INFO:tensorflow:loss = 0.3814705, step = 16200 (0.768 sec)\n"
     ]
    },
    {
     "name": "stdout",
     "output_type": "stream",
     "text": [
      "INFO:tensorflow:global_step/sec: 124.815\n"
     ]
    },
    {
     "name": "stderr",
     "output_type": "stream",
     "text": [
      "INFO:tensorflow:global_step/sec: 124.815\n"
     ]
    },
    {
     "name": "stdout",
     "output_type": "stream",
     "text": [
      "INFO:tensorflow:loss = 0.5486963, step = 16300 (0.801 sec)\n"
     ]
    },
    {
     "name": "stderr",
     "output_type": "stream",
     "text": [
      "INFO:tensorflow:loss = 0.5486963, step = 16300 (0.801 sec)\n"
     ]
    },
    {
     "name": "stdout",
     "output_type": "stream",
     "text": [
      "INFO:tensorflow:global_step/sec: 132.569\n"
     ]
    },
    {
     "name": "stderr",
     "output_type": "stream",
     "text": [
      "INFO:tensorflow:global_step/sec: 132.569\n"
     ]
    },
    {
     "name": "stdout",
     "output_type": "stream",
     "text": [
      "INFO:tensorflow:loss = 0.2847408, step = 16400 (0.755 sec)\n"
     ]
    },
    {
     "name": "stderr",
     "output_type": "stream",
     "text": [
      "INFO:tensorflow:loss = 0.2847408, step = 16400 (0.755 sec)\n"
     ]
    },
    {
     "name": "stdout",
     "output_type": "stream",
     "text": [
      "INFO:tensorflow:global_step/sec: 202.494\n"
     ]
    },
    {
     "name": "stderr",
     "output_type": "stream",
     "text": [
      "INFO:tensorflow:global_step/sec: 202.494\n"
     ]
    },
    {
     "name": "stdout",
     "output_type": "stream",
     "text": [
      "INFO:tensorflow:loss = 0.31831557, step = 16500 (0.492 sec)\n"
     ]
    },
    {
     "name": "stderr",
     "output_type": "stream",
     "text": [
      "INFO:tensorflow:loss = 0.31831557, step = 16500 (0.492 sec)\n"
     ]
    },
    {
     "name": "stdout",
     "output_type": "stream",
     "text": [
      "INFO:tensorflow:global_step/sec: 163.801\n"
     ]
    },
    {
     "name": "stderr",
     "output_type": "stream",
     "text": [
      "INFO:tensorflow:global_step/sec: 163.801\n"
     ]
    },
    {
     "name": "stdout",
     "output_type": "stream",
     "text": [
      "INFO:tensorflow:loss = 0.31609783, step = 16600 (0.611 sec)\n"
     ]
    },
    {
     "name": "stderr",
     "output_type": "stream",
     "text": [
      "INFO:tensorflow:loss = 0.31609783, step = 16600 (0.611 sec)\n"
     ]
    },
    {
     "name": "stdout",
     "output_type": "stream",
     "text": [
      "INFO:tensorflow:global_step/sec: 150.638\n"
     ]
    },
    {
     "name": "stderr",
     "output_type": "stream",
     "text": [
      "INFO:tensorflow:global_step/sec: 150.638\n"
     ]
    },
    {
     "name": "stdout",
     "output_type": "stream",
     "text": [
      "INFO:tensorflow:loss = 0.42686665, step = 16700 (0.664 sec)\n"
     ]
    },
    {
     "name": "stderr",
     "output_type": "stream",
     "text": [
      "INFO:tensorflow:loss = 0.42686665, step = 16700 (0.664 sec)\n"
     ]
    },
    {
     "name": "stdout",
     "output_type": "stream",
     "text": [
      "INFO:tensorflow:global_step/sec: 422.191\n"
     ]
    },
    {
     "name": "stderr",
     "output_type": "stream",
     "text": [
      "INFO:tensorflow:global_step/sec: 422.191\n"
     ]
    },
    {
     "name": "stdout",
     "output_type": "stream",
     "text": [
      "INFO:tensorflow:loss = 0.30267924, step = 16800 (0.236 sec)\n"
     ]
    },
    {
     "name": "stderr",
     "output_type": "stream",
     "text": [
      "INFO:tensorflow:loss = 0.30267924, step = 16800 (0.236 sec)\n"
     ]
    },
    {
     "name": "stdout",
     "output_type": "stream",
     "text": [
      "INFO:tensorflow:global_step/sec: 115.74\n"
     ]
    },
    {
     "name": "stderr",
     "output_type": "stream",
     "text": [
      "INFO:tensorflow:global_step/sec: 115.74\n"
     ]
    },
    {
     "name": "stdout",
     "output_type": "stream",
     "text": [
      "INFO:tensorflow:loss = 0.44710147, step = 16900 (0.864 sec)\n"
     ]
    },
    {
     "name": "stderr",
     "output_type": "stream",
     "text": [
      "INFO:tensorflow:loss = 0.44710147, step = 16900 (0.864 sec)\n"
     ]
    },
    {
     "name": "stdout",
     "output_type": "stream",
     "text": [
      "INFO:tensorflow:global_step/sec: 181.522\n"
     ]
    },
    {
     "name": "stderr",
     "output_type": "stream",
     "text": [
      "INFO:tensorflow:global_step/sec: 181.522\n"
     ]
    },
    {
     "name": "stdout",
     "output_type": "stream",
     "text": [
      "INFO:tensorflow:loss = 0.39084712, step = 17000 (0.551 sec)\n"
     ]
    },
    {
     "name": "stderr",
     "output_type": "stream",
     "text": [
      "INFO:tensorflow:loss = 0.39084712, step = 17000 (0.551 sec)\n"
     ]
    },
    {
     "name": "stdout",
     "output_type": "stream",
     "text": [
      "INFO:tensorflow:global_step/sec: 184.511\n"
     ]
    },
    {
     "name": "stderr",
     "output_type": "stream",
     "text": [
      "INFO:tensorflow:global_step/sec: 184.511\n"
     ]
    },
    {
     "name": "stdout",
     "output_type": "stream",
     "text": [
      "INFO:tensorflow:loss = 0.37882304, step = 17100 (0.542 sec)\n"
     ]
    },
    {
     "name": "stderr",
     "output_type": "stream",
     "text": [
      "INFO:tensorflow:loss = 0.37882304, step = 17100 (0.542 sec)\n"
     ]
    },
    {
     "name": "stdout",
     "output_type": "stream",
     "text": [
      "INFO:tensorflow:global_step/sec: 156.201\n"
     ]
    },
    {
     "name": "stderr",
     "output_type": "stream",
     "text": [
      "INFO:tensorflow:global_step/sec: 156.201\n"
     ]
    },
    {
     "name": "stdout",
     "output_type": "stream",
     "text": [
      "INFO:tensorflow:loss = 0.34526005, step = 17200 (0.641 sec)\n"
     ]
    },
    {
     "name": "stderr",
     "output_type": "stream",
     "text": [
      "INFO:tensorflow:loss = 0.34526005, step = 17200 (0.641 sec)\n"
     ]
    },
    {
     "name": "stdout",
     "output_type": "stream",
     "text": [
      "INFO:tensorflow:global_step/sec: 175.076\n"
     ]
    },
    {
     "name": "stderr",
     "output_type": "stream",
     "text": [
      "INFO:tensorflow:global_step/sec: 175.076\n"
     ]
    },
    {
     "name": "stdout",
     "output_type": "stream",
     "text": [
      "INFO:tensorflow:loss = 0.34323487, step = 17300 (0.571 sec)\n"
     ]
    },
    {
     "name": "stderr",
     "output_type": "stream",
     "text": [
      "INFO:tensorflow:loss = 0.34323487, step = 17300 (0.571 sec)\n"
     ]
    },
    {
     "name": "stdout",
     "output_type": "stream",
     "text": [
      "INFO:tensorflow:global_step/sec: 127.261\n"
     ]
    },
    {
     "name": "stderr",
     "output_type": "stream",
     "text": [
      "INFO:tensorflow:global_step/sec: 127.261\n"
     ]
    },
    {
     "name": "stdout",
     "output_type": "stream",
     "text": [
      "INFO:tensorflow:loss = 0.40841287, step = 17400 (0.786 sec)\n"
     ]
    },
    {
     "name": "stderr",
     "output_type": "stream",
     "text": [
      "INFO:tensorflow:loss = 0.40841287, step = 17400 (0.786 sec)\n"
     ]
    },
    {
     "name": "stdout",
     "output_type": "stream",
     "text": [
      "INFO:tensorflow:global_step/sec: 225.702\n"
     ]
    },
    {
     "name": "stderr",
     "output_type": "stream",
     "text": [
      "INFO:tensorflow:global_step/sec: 225.702\n"
     ]
    },
    {
     "name": "stdout",
     "output_type": "stream",
     "text": [
      "INFO:tensorflow:loss = 0.38540268, step = 17500 (0.443 sec)\n"
     ]
    },
    {
     "name": "stderr",
     "output_type": "stream",
     "text": [
      "INFO:tensorflow:loss = 0.38540268, step = 17500 (0.443 sec)\n"
     ]
    },
    {
     "name": "stdout",
     "output_type": "stream",
     "text": [
      "INFO:tensorflow:global_step/sec: 187.741\n"
     ]
    },
    {
     "name": "stderr",
     "output_type": "stream",
     "text": [
      "INFO:tensorflow:global_step/sec: 187.741\n"
     ]
    },
    {
     "name": "stdout",
     "output_type": "stream",
     "text": [
      "INFO:tensorflow:loss = 0.27884316, step = 17600 (0.532 sec)\n"
     ]
    },
    {
     "name": "stderr",
     "output_type": "stream",
     "text": [
      "INFO:tensorflow:loss = 0.27884316, step = 17600 (0.532 sec)\n"
     ]
    },
    {
     "name": "stdout",
     "output_type": "stream",
     "text": [
      "INFO:tensorflow:global_step/sec: 176.398\n"
     ]
    },
    {
     "name": "stderr",
     "output_type": "stream",
     "text": [
      "INFO:tensorflow:global_step/sec: 176.398\n"
     ]
    },
    {
     "name": "stdout",
     "output_type": "stream",
     "text": [
      "INFO:tensorflow:loss = 0.5964149, step = 17700 (0.568 sec)\n"
     ]
    },
    {
     "name": "stderr",
     "output_type": "stream",
     "text": [
      "INFO:tensorflow:loss = 0.5964149, step = 17700 (0.568 sec)\n"
     ]
    },
    {
     "name": "stdout",
     "output_type": "stream",
     "text": [
      "INFO:tensorflow:global_step/sec: 587.997\n"
     ]
    },
    {
     "name": "stderr",
     "output_type": "stream",
     "text": [
      "INFO:tensorflow:global_step/sec: 587.997\n"
     ]
    },
    {
     "name": "stdout",
     "output_type": "stream",
     "text": [
      "INFO:tensorflow:loss = 0.55747217, step = 17800 (0.171 sec)\n"
     ]
    },
    {
     "name": "stderr",
     "output_type": "stream",
     "text": [
      "INFO:tensorflow:loss = 0.55747217, step = 17800 (0.171 sec)\n"
     ]
    },
    {
     "name": "stdout",
     "output_type": "stream",
     "text": [
      "INFO:tensorflow:global_step/sec: 111.96\n"
     ]
    },
    {
     "name": "stderr",
     "output_type": "stream",
     "text": [
      "INFO:tensorflow:global_step/sec: 111.96\n"
     ]
    },
    {
     "name": "stdout",
     "output_type": "stream",
     "text": [
      "INFO:tensorflow:loss = 0.3810424, step = 17900 (0.899 sec)\n"
     ]
    },
    {
     "name": "stderr",
     "output_type": "stream",
     "text": [
      "INFO:tensorflow:loss = 0.3810424, step = 17900 (0.899 sec)\n"
     ]
    },
    {
     "name": "stdout",
     "output_type": "stream",
     "text": [
      "INFO:tensorflow:global_step/sec: 194\n"
     ]
    },
    {
     "name": "stderr",
     "output_type": "stream",
     "text": [
      "INFO:tensorflow:global_step/sec: 194\n"
     ]
    },
    {
     "name": "stdout",
     "output_type": "stream",
     "text": [
      "INFO:tensorflow:loss = 0.25708795, step = 18000 (0.508 sec)\n"
     ]
    },
    {
     "name": "stderr",
     "output_type": "stream",
     "text": [
      "INFO:tensorflow:loss = 0.25708795, step = 18000 (0.508 sec)\n"
     ]
    },
    {
     "name": "stdout",
     "output_type": "stream",
     "text": [
      "INFO:tensorflow:global_step/sec: 204.35\n"
     ]
    },
    {
     "name": "stderr",
     "output_type": "stream",
     "text": [
      "INFO:tensorflow:global_step/sec: 204.35\n"
     ]
    },
    {
     "name": "stdout",
     "output_type": "stream",
     "text": [
      "INFO:tensorflow:loss = 0.450762, step = 18100 (0.490 sec)\n"
     ]
    },
    {
     "name": "stderr",
     "output_type": "stream",
     "text": [
      "INFO:tensorflow:loss = 0.450762, step = 18100 (0.490 sec)\n"
     ]
    },
    {
     "name": "stdout",
     "output_type": "stream",
     "text": [
      "INFO:tensorflow:global_step/sec: 156.527\n"
     ]
    },
    {
     "name": "stderr",
     "output_type": "stream",
     "text": [
      "INFO:tensorflow:global_step/sec: 156.527\n"
     ]
    },
    {
     "name": "stdout",
     "output_type": "stream",
     "text": [
      "INFO:tensorflow:loss = 0.5313366, step = 18200 (0.639 sec)\n"
     ]
    },
    {
     "name": "stderr",
     "output_type": "stream",
     "text": [
      "INFO:tensorflow:loss = 0.5313366, step = 18200 (0.639 sec)\n"
     ]
    },
    {
     "name": "stdout",
     "output_type": "stream",
     "text": [
      "INFO:tensorflow:global_step/sec: 236.246\n"
     ]
    },
    {
     "name": "stderr",
     "output_type": "stream",
     "text": [
      "INFO:tensorflow:global_step/sec: 236.246\n"
     ]
    },
    {
     "name": "stdout",
     "output_type": "stream",
     "text": [
      "INFO:tensorflow:loss = 0.33420277, step = 18300 (0.426 sec)\n"
     ]
    },
    {
     "name": "stderr",
     "output_type": "stream",
     "text": [
      "INFO:tensorflow:loss = 0.33420277, step = 18300 (0.426 sec)\n"
     ]
    },
    {
     "name": "stdout",
     "output_type": "stream",
     "text": [
      "INFO:tensorflow:global_step/sec: 121.189\n"
     ]
    },
    {
     "name": "stderr",
     "output_type": "stream",
     "text": [
      "INFO:tensorflow:global_step/sec: 121.189\n"
     ]
    },
    {
     "name": "stdout",
     "output_type": "stream",
     "text": [
      "INFO:tensorflow:loss = 0.48471898, step = 18400 (0.827 sec)\n"
     ]
    },
    {
     "name": "stderr",
     "output_type": "stream",
     "text": [
      "INFO:tensorflow:loss = 0.48471898, step = 18400 (0.827 sec)\n"
     ]
    },
    {
     "name": "stdout",
     "output_type": "stream",
     "text": [
      "INFO:tensorflow:global_step/sec: 119.493\n"
     ]
    },
    {
     "name": "stderr",
     "output_type": "stream",
     "text": [
      "INFO:tensorflow:global_step/sec: 119.493\n"
     ]
    },
    {
     "name": "stdout",
     "output_type": "stream",
     "text": [
      "INFO:tensorflow:loss = 0.25774089, step = 18500 (0.833 sec)\n"
     ]
    },
    {
     "name": "stderr",
     "output_type": "stream",
     "text": [
      "INFO:tensorflow:loss = 0.25774089, step = 18500 (0.833 sec)\n"
     ]
    },
    {
     "name": "stdout",
     "output_type": "stream",
     "text": [
      "INFO:tensorflow:global_step/sec: 186.898\n"
     ]
    },
    {
     "name": "stderr",
     "output_type": "stream",
     "text": [
      "INFO:tensorflow:global_step/sec: 186.898\n"
     ]
    },
    {
     "name": "stdout",
     "output_type": "stream",
     "text": [
      "INFO:tensorflow:loss = 0.4449458, step = 18600 (0.538 sec)\n"
     ]
    },
    {
     "name": "stderr",
     "output_type": "stream",
     "text": [
      "INFO:tensorflow:loss = 0.4449458, step = 18600 (0.538 sec)\n"
     ]
    },
    {
     "name": "stdout",
     "output_type": "stream",
     "text": [
      "INFO:tensorflow:global_step/sec: 589.444\n"
     ]
    },
    {
     "name": "stderr",
     "output_type": "stream",
     "text": [
      "INFO:tensorflow:global_step/sec: 589.444\n"
     ]
    },
    {
     "name": "stdout",
     "output_type": "stream",
     "text": [
      "INFO:tensorflow:loss = 0.515495, step = 18700 (0.168 sec)\n"
     ]
    },
    {
     "name": "stderr",
     "output_type": "stream",
     "text": [
      "INFO:tensorflow:loss = 0.515495, step = 18700 (0.168 sec)\n"
     ]
    },
    {
     "name": "stdout",
     "output_type": "stream",
     "text": [
      "INFO:tensorflow:Calling checkpoint listeners before saving checkpoint 18760...\n"
     ]
    },
    {
     "name": "stderr",
     "output_type": "stream",
     "text": [
      "INFO:tensorflow:Calling checkpoint listeners before saving checkpoint 18760...\n"
     ]
    },
    {
     "name": "stdout",
     "output_type": "stream",
     "text": [
      "INFO:tensorflow:Saving checkpoints for 18760 into models/mnist-dnn/model.ckpt.\n"
     ]
    },
    {
     "name": "stderr",
     "output_type": "stream",
     "text": [
      "INFO:tensorflow:Saving checkpoints for 18760 into models/mnist-dnn/model.ckpt.\n"
     ]
    },
    {
     "name": "stdout",
     "output_type": "stream",
     "text": [
      "INFO:tensorflow:Calling checkpoint listeners after saving checkpoint 18760...\n"
     ]
    },
    {
     "name": "stderr",
     "output_type": "stream",
     "text": [
      "INFO:tensorflow:Calling checkpoint listeners after saving checkpoint 18760...\n"
     ]
    },
    {
     "name": "stdout",
     "output_type": "stream",
     "text": [
      "INFO:tensorflow:Loss for final step: 0.38648397.\n"
     ]
    },
    {
     "name": "stderr",
     "output_type": "stream",
     "text": [
      "INFO:tensorflow:Loss for final step: 0.38648397.\n"
     ]
    },
    {
     "name": "stdout",
     "output_type": "stream",
     "text": [
      "INFO:tensorflow:Calling model_fn.\n"
     ]
    },
    {
     "name": "stderr",
     "output_type": "stream",
     "text": [
      "INFO:tensorflow:Calling model_fn.\n"
     ]
    },
    {
     "name": "stdout",
     "output_type": "stream",
     "text": [
      "INFO:tensorflow:Done calling model_fn.\n"
     ]
    },
    {
     "name": "stderr",
     "output_type": "stream",
     "text": [
      "INFO:tensorflow:Done calling model_fn.\n"
     ]
    },
    {
     "name": "stdout",
     "output_type": "stream",
     "text": [
      "INFO:tensorflow:Starting evaluation at 2020-06-18T15:04:47Z\n"
     ]
    },
    {
     "name": "stderr",
     "output_type": "stream",
     "text": [
      "INFO:tensorflow:Starting evaluation at 2020-06-18T15:04:47Z\n"
     ]
    },
    {
     "name": "stdout",
     "output_type": "stream",
     "text": [
      "INFO:tensorflow:Graph was finalized.\n"
     ]
    },
    {
     "name": "stderr",
     "output_type": "stream",
     "text": [
      "INFO:tensorflow:Graph was finalized.\n"
     ]
    },
    {
     "name": "stdout",
     "output_type": "stream",
     "text": [
      "INFO:tensorflow:Restoring parameters from models/mnist-dnn/model.ckpt-18760\n"
     ]
    },
    {
     "name": "stderr",
     "output_type": "stream",
     "text": [
      "INFO:tensorflow:Restoring parameters from models/mnist-dnn/model.ckpt-18760\n"
     ]
    },
    {
     "name": "stdout",
     "output_type": "stream",
     "text": [
      "INFO:tensorflow:Running local_init_op.\n"
     ]
    },
    {
     "name": "stderr",
     "output_type": "stream",
     "text": [
      "INFO:tensorflow:Running local_init_op.\n"
     ]
    },
    {
     "name": "stdout",
     "output_type": "stream",
     "text": [
      "INFO:tensorflow:Done running local_init_op.\n"
     ]
    },
    {
     "name": "stderr",
     "output_type": "stream",
     "text": [
      "INFO:tensorflow:Done running local_init_op.\n"
     ]
    },
    {
     "name": "stdout",
     "output_type": "stream",
     "text": [
      "INFO:tensorflow:Inference Time : 2.48465s\n"
     ]
    },
    {
     "name": "stderr",
     "output_type": "stream",
     "text": [
      "INFO:tensorflow:Inference Time : 2.48465s\n"
     ]
    },
    {
     "name": "stdout",
     "output_type": "stream",
     "text": [
      "INFO:tensorflow:Finished evaluation at 2020-06-18-15:04:50\n"
     ]
    },
    {
     "name": "stderr",
     "output_type": "stream",
     "text": [
      "INFO:tensorflow:Finished evaluation at 2020-06-18-15:04:50\n"
     ]
    },
    {
     "name": "stdout",
     "output_type": "stream",
     "text": [
      "INFO:tensorflow:Saving dict for global step 18760: accuracy = 0.8936, average_loss = 0.39456338, global_step = 18760, loss = 0.39404497\n"
     ]
    },
    {
     "name": "stderr",
     "output_type": "stream",
     "text": [
      "INFO:tensorflow:Saving dict for global step 18760: accuracy = 0.8936, average_loss = 0.39456338, global_step = 18760, loss = 0.39404497\n"
     ]
    },
    {
     "name": "stdout",
     "output_type": "stream",
     "text": [
      "INFO:tensorflow:Saving 'checkpoint_path' summary for global step 18760: models/mnist-dnn/model.ckpt-18760\n"
     ]
    },
    {
     "name": "stderr",
     "output_type": "stream",
     "text": [
      "INFO:tensorflow:Saving 'checkpoint_path' summary for global step 18760: models/mnist-dnn/model.ckpt-18760\n"
     ]
    },
    {
     "name": "stdout",
     "output_type": "stream",
     "text": [
      "{'accuracy': 0.8936, 'average_loss': 0.39456338, 'loss': 0.39404497, 'global_step': 18760}\n"
     ]
    }
   ],
   "source": [
    "#Step 4: Use the estimator for training, evaluation, and prediction\n",
    "\n",
    "dnn_classifier.train(\n",
    "    input_fn=train_input_fn,\n",
    "    steps = NUM_EPOCHS * steps_per_epoch)\n",
    "\n",
    "eval_result = dnn_classifier.evaluate(\n",
    "    input_fn = eval_input_fn)\n",
    "\n",
    "print(eval_result)"
   ]
  },
  {
   "cell_type": "code",
   "execution_count": null,
   "metadata": {},
   "outputs": [],
   "source": [
    "############################################################\n",
    "# Creating a custom Estimator from an existing Keras model #\n",
    "############################################################"
   ]
  },
  {
   "cell_type": "code",
   "execution_count": 10,
   "metadata": {},
   "outputs": [],
   "source": [
    "# Creating an Estimator from an existing Keras model is useful for many reason \n",
    "# including auto-check pointing\n",
    "\n",
    "# We will do this with our XOR model\n",
    "# First, we regenerate the data and split it into training and validation datasets\n",
    "\n",
    "tf.random.set_seed(1)\n",
    "np.random.seed(1)\n",
    "\n",
    "#Create the data\n",
    "x = np.random.uniform(low = -1, high = 1, size = (200, 2))\n",
    "y = np.ones(len(x))\n",
    "y[x[:, 0] * x[:, 1] <0] = 0\n",
    "\n",
    "x_train = x[:100, :]\n",
    "y_train = y[:100]\n",
    "x_valid = x[100:, :]\n",
    "y_valid = y[100:]"
   ]
  },
  {
   "cell_type": "code",
   "execution_count": 11,
   "metadata": {},
   "outputs": [],
   "source": [
    "# Building the Keras model using Sequential() as before\n",
    "# this time we will also use tf.keras.layers.Input to give a name to the input\n",
    "\n",
    "model = tf.keras.Sequential([\n",
    "    tf.keras.layers.Input(shape = (2,), name = 'input-features'),\n",
    "    tf.keras.layers.Dense(units = 4, activation = 'relu'),\n",
    "    tf.keras.layers.Dense(units = 4, activation = 'relu'),\n",
    "    tf.keras.layers.Dense(units = 4, activation = 'relu'),\n",
    "    tf.keras.layers.Dense(units = 1, activation = 'sigmoid')])"
   ]
  },
  {
   "cell_type": "code",
   "execution_count": 12,
   "metadata": {},
   "outputs": [],
   "source": [
    "# Next we will do Steps 1, 2, and 4 in the same way as with the pre-made estimators\n",
    "# Note, the key name for the input feature we use in steps 1 and 2 must\n",
    "# match what we defined in the input layer\n",
    "\n",
    "#Step 1: Define the input function\n",
    "def train_input_fn(x_train, y_train, batch_size = 8):\n",
    "    dataset = tf.data.Dataset.from_tensor_slices(\n",
    "        ({'input-features': x_train}, y_train.reshape(-1, 1)))\n",
    "    \n",
    "    #Shuffle, repeat, and batch the examples\n",
    "    return dataset.shuffle(100).repeat().batch(batch_size)\n",
    "\n",
    "def eval_input_fn(x_test, y_test = None, batch_size = 8):\n",
    "    if y_test is None:\n",
    "        dataset = tf.dataset.Dataset.from_tensor_slices(\n",
    "            {'input-features':x_test})\n",
    "    \n",
    "    else:\n",
    "        dataset = tf.data.Dataset.from_tensor_slices(\n",
    "            ({'input-features': x_test}, y_test.reshape(-1, 1)))\n",
    "        \n",
    "    #Batch the examples\n",
    "    return dataset.batch(batch_size)\n",
    "\n",
    "#Step 2: Define the Feature Column\n",
    "\n",
    "features = [\n",
    "    tf.feature_column.numeric_column(\n",
    "        key = 'input-features:', shape = (2,))\n",
    "]\n"
   ]
  },
  {
   "cell_type": "code",
   "execution_count": 13,
   "metadata": {},
   "outputs": [
    {
     "name": "stdout",
     "output_type": "stream",
     "text": [
      "INFO:tensorflow:Using default config.\n"
     ]
    },
    {
     "name": "stderr",
     "output_type": "stream",
     "text": [
      "INFO:tensorflow:Using default config.\n"
     ]
    },
    {
     "name": "stdout",
     "output_type": "stream",
     "text": [
      "INFO:tensorflow:Using the Keras model provided.\n"
     ]
    },
    {
     "name": "stderr",
     "output_type": "stream",
     "text": [
      "INFO:tensorflow:Using the Keras model provided.\n"
     ]
    },
    {
     "name": "stdout",
     "output_type": "stream",
     "text": [
      "INFO:tensorflow:Using config: {'_model_dir': 'models/estimator-for-XOR/', '_tf_random_seed': None, '_save_summary_steps': 100, '_save_checkpoints_steps': None, '_save_checkpoints_secs': 600, '_session_config': allow_soft_placement: true\n",
      "graph_options {\n",
      "  rewrite_options {\n",
      "    meta_optimizer_iterations: ONE\n",
      "  }\n",
      "}\n",
      ", '_keep_checkpoint_max': 5, '_keep_checkpoint_every_n_hours': 10000, '_log_step_count_steps': 100, '_train_distribute': None, '_device_fn': None, '_protocol': None, '_eval_distribute': None, '_experimental_distribute': None, '_experimental_max_worker_delay_secs': None, '_session_creation_timeout_secs': 7200, '_service': None, '_cluster_spec': ClusterSpec({}), '_task_type': 'worker', '_task_id': 0, '_global_id_in_cluster': 0, '_master': '', '_evaluation_master': '', '_is_chief': True, '_num_ps_replicas': 0, '_num_worker_replicas': 1}\n"
     ]
    },
    {
     "name": "stderr",
     "output_type": "stream",
     "text": [
      "INFO:tensorflow:Using config: {'_model_dir': 'models/estimator-for-XOR/', '_tf_random_seed': None, '_save_summary_steps': 100, '_save_checkpoints_steps': None, '_save_checkpoints_secs': 600, '_session_config': allow_soft_placement: true\n",
      "graph_options {\n",
      "  rewrite_options {\n",
      "    meta_optimizer_iterations: ONE\n",
      "  }\n",
      "}\n",
      ", '_keep_checkpoint_max': 5, '_keep_checkpoint_every_n_hours': 10000, '_log_step_count_steps': 100, '_train_distribute': None, '_device_fn': None, '_protocol': None, '_eval_distribute': None, '_experimental_distribute': None, '_experimental_max_worker_delay_secs': None, '_session_creation_timeout_secs': 7200, '_service': None, '_cluster_spec': ClusterSpec({}), '_task_type': 'worker', '_task_id': 0, '_global_id_in_cluster': 0, '_master': '', '_evaluation_master': '', '_is_chief': True, '_num_ps_replicas': 0, '_num_worker_replicas': 1}\n"
     ]
    }
   ],
   "source": [
    "# For step 3: Convert the model to an Estimator instead of instanting one\n",
    "# of the pre-made Estimators\n",
    "# Before converting - we need to compile it\n",
    "\n",
    "#Compiling\n",
    "\n",
    "model.compile(optimizer=tf.keras.optimizers.SGD(),\n",
    "             loss = tf.keras.losses.BinaryCrossentropy(),\n",
    "             metrics = [tf.keras.metrics.BinaryAccuracy()])\n",
    "\n",
    "my_estimator = tf.keras.estimator.model_to_estimator(\n",
    "    keras_model = model,\n",
    "    model_dir = 'models/estimator-for-XOR/')"
   ]
  },
  {
   "cell_type": "code",
   "execution_count": 14,
   "metadata": {},
   "outputs": [
    {
     "name": "stdout",
     "output_type": "stream",
     "text": [
      "INFO:tensorflow:Calling model_fn.\n"
     ]
    },
    {
     "name": "stderr",
     "output_type": "stream",
     "text": [
      "INFO:tensorflow:Calling model_fn.\n"
     ]
    },
    {
     "name": "stdout",
     "output_type": "stream",
     "text": [
      "INFO:tensorflow:Done calling model_fn.\n"
     ]
    },
    {
     "name": "stderr",
     "output_type": "stream",
     "text": [
      "INFO:tensorflow:Done calling model_fn.\n"
     ]
    },
    {
     "name": "stdout",
     "output_type": "stream",
     "text": [
      "INFO:tensorflow:Warm-starting with WarmStartSettings: WarmStartSettings(ckpt_to_initialize_from='models/estimator-for-XOR/keras/keras_model.ckpt', vars_to_warm_start='.*', var_name_to_vocab_info={}, var_name_to_prev_var_name={})\n"
     ]
    },
    {
     "name": "stderr",
     "output_type": "stream",
     "text": [
      "INFO:tensorflow:Warm-starting with WarmStartSettings: WarmStartSettings(ckpt_to_initialize_from='models/estimator-for-XOR/keras/keras_model.ckpt', vars_to_warm_start='.*', var_name_to_vocab_info={}, var_name_to_prev_var_name={})\n"
     ]
    },
    {
     "name": "stdout",
     "output_type": "stream",
     "text": [
      "INFO:tensorflow:Warm-starting from: models/estimator-for-XOR/keras/keras_model.ckpt\n"
     ]
    },
    {
     "name": "stderr",
     "output_type": "stream",
     "text": [
      "INFO:tensorflow:Warm-starting from: models/estimator-for-XOR/keras/keras_model.ckpt\n"
     ]
    },
    {
     "name": "stdout",
     "output_type": "stream",
     "text": [
      "INFO:tensorflow:Warm-starting variables only in TRAINABLE_VARIABLES.\n"
     ]
    },
    {
     "name": "stderr",
     "output_type": "stream",
     "text": [
      "INFO:tensorflow:Warm-starting variables only in TRAINABLE_VARIABLES.\n"
     ]
    },
    {
     "name": "stdout",
     "output_type": "stream",
     "text": [
      "INFO:tensorflow:Warm-started 8 variables.\n"
     ]
    },
    {
     "name": "stderr",
     "output_type": "stream",
     "text": [
      "INFO:tensorflow:Warm-started 8 variables.\n"
     ]
    },
    {
     "name": "stdout",
     "output_type": "stream",
     "text": [
      "INFO:tensorflow:Create CheckpointSaverHook.\n"
     ]
    },
    {
     "name": "stderr",
     "output_type": "stream",
     "text": [
      "INFO:tensorflow:Create CheckpointSaverHook.\n"
     ]
    },
    {
     "name": "stdout",
     "output_type": "stream",
     "text": [
      "INFO:tensorflow:Graph was finalized.\n"
     ]
    },
    {
     "name": "stderr",
     "output_type": "stream",
     "text": [
      "INFO:tensorflow:Graph was finalized.\n"
     ]
    },
    {
     "name": "stdout",
     "output_type": "stream",
     "text": [
      "INFO:tensorflow:Running local_init_op.\n"
     ]
    },
    {
     "name": "stderr",
     "output_type": "stream",
     "text": [
      "INFO:tensorflow:Running local_init_op.\n"
     ]
    },
    {
     "name": "stdout",
     "output_type": "stream",
     "text": [
      "INFO:tensorflow:Done running local_init_op.\n"
     ]
    },
    {
     "name": "stderr",
     "output_type": "stream",
     "text": [
      "INFO:tensorflow:Done running local_init_op.\n"
     ]
    },
    {
     "name": "stdout",
     "output_type": "stream",
     "text": [
      "INFO:tensorflow:Calling checkpoint listeners before saving checkpoint 0...\n"
     ]
    },
    {
     "name": "stderr",
     "output_type": "stream",
     "text": [
      "INFO:tensorflow:Calling checkpoint listeners before saving checkpoint 0...\n"
     ]
    },
    {
     "name": "stdout",
     "output_type": "stream",
     "text": [
      "INFO:tensorflow:Saving checkpoints for 0 into models/estimator-for-XOR/model.ckpt.\n"
     ]
    },
    {
     "name": "stderr",
     "output_type": "stream",
     "text": [
      "INFO:tensorflow:Saving checkpoints for 0 into models/estimator-for-XOR/model.ckpt.\n"
     ]
    },
    {
     "name": "stdout",
     "output_type": "stream",
     "text": [
      "INFO:tensorflow:Calling checkpoint listeners after saving checkpoint 0...\n"
     ]
    },
    {
     "name": "stderr",
     "output_type": "stream",
     "text": [
      "INFO:tensorflow:Calling checkpoint listeners after saving checkpoint 0...\n"
     ]
    },
    {
     "name": "stdout",
     "output_type": "stream",
     "text": [
      "INFO:tensorflow:loss = 0.69072, step = 0\n"
     ]
    },
    {
     "name": "stderr",
     "output_type": "stream",
     "text": [
      "INFO:tensorflow:loss = 0.69072, step = 0\n"
     ]
    },
    {
     "name": "stdout",
     "output_type": "stream",
     "text": [
      "INFO:tensorflow:global_step/sec: 311.84\n"
     ]
    },
    {
     "name": "stderr",
     "output_type": "stream",
     "text": [
      "INFO:tensorflow:global_step/sec: 311.84\n"
     ]
    },
    {
     "name": "stdout",
     "output_type": "stream",
     "text": [
      "INFO:tensorflow:loss = 0.6936444, step = 100 (0.324 sec)\n"
     ]
    },
    {
     "name": "stderr",
     "output_type": "stream",
     "text": [
      "INFO:tensorflow:loss = 0.6936444, step = 100 (0.324 sec)\n"
     ]
    },
    {
     "name": "stdout",
     "output_type": "stream",
     "text": [
      "INFO:tensorflow:global_step/sec: 411.24\n"
     ]
    },
    {
     "name": "stderr",
     "output_type": "stream",
     "text": [
      "INFO:tensorflow:global_step/sec: 411.24\n"
     ]
    },
    {
     "name": "stdout",
     "output_type": "stream",
     "text": [
      "INFO:tensorflow:loss = 0.6544625, step = 200 (0.255 sec)\n"
     ]
    },
    {
     "name": "stderr",
     "output_type": "stream",
     "text": [
      "INFO:tensorflow:loss = 0.6544625, step = 200 (0.255 sec)\n"
     ]
    },
    {
     "name": "stdout",
     "output_type": "stream",
     "text": [
      "WARNING:tensorflow:It seems that global step (tf.train.get_global_step) has not been increased. Current value (could be stable): 226 vs previous value: 226. You could increase the global step by passing tf.train.get_global_step() to Optimizer.apply_gradients or Optimizer.minimize.\n"
     ]
    },
    {
     "name": "stderr",
     "output_type": "stream",
     "text": [
      "WARNING:tensorflow:It seems that global step (tf.train.get_global_step) has not been increased. Current value (could be stable): 226 vs previous value: 226. You could increase the global step by passing tf.train.get_global_step() to Optimizer.apply_gradients or Optimizer.minimize.\n"
     ]
    },
    {
     "name": "stdout",
     "output_type": "stream",
     "text": [
      "WARNING:tensorflow:It seems that global step (tf.train.get_global_step) has not been increased. Current value (could be stable): 291 vs previous value: 291. You could increase the global step by passing tf.train.get_global_step() to Optimizer.apply_gradients or Optimizer.minimize.\n"
     ]
    },
    {
     "name": "stderr",
     "output_type": "stream",
     "text": [
      "WARNING:tensorflow:It seems that global step (tf.train.get_global_step) has not been increased. Current value (could be stable): 291 vs previous value: 291. You could increase the global step by passing tf.train.get_global_step() to Optimizer.apply_gradients or Optimizer.minimize.\n"
     ]
    },
    {
     "name": "stdout",
     "output_type": "stream",
     "text": [
      "INFO:tensorflow:global_step/sec: 517.497\n"
     ]
    },
    {
     "name": "stderr",
     "output_type": "stream",
     "text": [
      "INFO:tensorflow:global_step/sec: 517.497\n"
     ]
    },
    {
     "name": "stdout",
     "output_type": "stream",
     "text": [
      "INFO:tensorflow:loss = 0.687117, step = 300 (0.181 sec)\n"
     ]
    },
    {
     "name": "stderr",
     "output_type": "stream",
     "text": [
      "INFO:tensorflow:loss = 0.687117, step = 300 (0.181 sec)\n"
     ]
    },
    {
     "name": "stdout",
     "output_type": "stream",
     "text": [
      "INFO:tensorflow:global_step/sec: 546.376\n"
     ]
    },
    {
     "name": "stderr",
     "output_type": "stream",
     "text": [
      "INFO:tensorflow:global_step/sec: 546.376\n"
     ]
    },
    {
     "name": "stdout",
     "output_type": "stream",
     "text": [
      "INFO:tensorflow:loss = 0.7352212, step = 400 (0.185 sec)\n"
     ]
    },
    {
     "name": "stderr",
     "output_type": "stream",
     "text": [
      "INFO:tensorflow:loss = 0.7352212, step = 400 (0.185 sec)\n"
     ]
    },
    {
     "name": "stdout",
     "output_type": "stream",
     "text": [
      "INFO:tensorflow:global_step/sec: 484.051\n"
     ]
    },
    {
     "name": "stderr",
     "output_type": "stream",
     "text": [
      "INFO:tensorflow:global_step/sec: 484.051\n"
     ]
    },
    {
     "name": "stdout",
     "output_type": "stream",
     "text": [
      "INFO:tensorflow:loss = 0.6776589, step = 500 (0.223 sec)\n"
     ]
    },
    {
     "name": "stderr",
     "output_type": "stream",
     "text": [
      "INFO:tensorflow:loss = 0.6776589, step = 500 (0.223 sec)\n"
     ]
    },
    {
     "name": "stdout",
     "output_type": "stream",
     "text": [
      "INFO:tensorflow:global_step/sec: 469.801\n"
     ]
    },
    {
     "name": "stderr",
     "output_type": "stream",
     "text": [
      "INFO:tensorflow:global_step/sec: 469.801\n"
     ]
    },
    {
     "name": "stdout",
     "output_type": "stream",
     "text": [
      "INFO:tensorflow:loss = 0.70812243, step = 600 (0.195 sec)\n"
     ]
    },
    {
     "name": "stderr",
     "output_type": "stream",
     "text": [
      "INFO:tensorflow:loss = 0.70812243, step = 600 (0.195 sec)\n"
     ]
    },
    {
     "name": "stdout",
     "output_type": "stream",
     "text": [
      "INFO:tensorflow:global_step/sec: 320.863\n"
     ]
    },
    {
     "name": "stderr",
     "output_type": "stream",
     "text": [
      "INFO:tensorflow:global_step/sec: 320.863\n"
     ]
    },
    {
     "name": "stdout",
     "output_type": "stream",
     "text": [
      "INFO:tensorflow:loss = 0.68545425, step = 700 (0.330 sec)\n"
     ]
    },
    {
     "name": "stderr",
     "output_type": "stream",
     "text": [
      "INFO:tensorflow:loss = 0.68545425, step = 700 (0.330 sec)\n"
     ]
    },
    {
     "name": "stdout",
     "output_type": "stream",
     "text": [
      "INFO:tensorflow:global_step/sec: 531.062\n"
     ]
    },
    {
     "name": "stderr",
     "output_type": "stream",
     "text": [
      "INFO:tensorflow:global_step/sec: 531.062\n"
     ]
    },
    {
     "name": "stdout",
     "output_type": "stream",
     "text": [
      "INFO:tensorflow:loss = 0.69420266, step = 800 (0.170 sec)\n"
     ]
    },
    {
     "name": "stderr",
     "output_type": "stream",
     "text": [
      "INFO:tensorflow:loss = 0.69420266, step = 800 (0.170 sec)\n"
     ]
    },
    {
     "name": "stdout",
     "output_type": "stream",
     "text": [
      "INFO:tensorflow:global_step/sec: 818.807\n"
     ]
    },
    {
     "name": "stderr",
     "output_type": "stream",
     "text": [
      "INFO:tensorflow:global_step/sec: 818.807\n"
     ]
    },
    {
     "name": "stdout",
     "output_type": "stream",
     "text": [
      "INFO:tensorflow:loss = 0.7393913, step = 900 (0.123 sec)\n"
     ]
    },
    {
     "name": "stderr",
     "output_type": "stream",
     "text": [
      "INFO:tensorflow:loss = 0.7393913, step = 900 (0.123 sec)\n"
     ]
    },
    {
     "name": "stdout",
     "output_type": "stream",
     "text": [
      "INFO:tensorflow:global_step/sec: 1006.57\n"
     ]
    },
    {
     "name": "stderr",
     "output_type": "stream",
     "text": [
      "INFO:tensorflow:global_step/sec: 1006.57\n"
     ]
    },
    {
     "name": "stdout",
     "output_type": "stream",
     "text": [
      "INFO:tensorflow:loss = 0.6436434, step = 1000 (0.098 sec)\n"
     ]
    },
    {
     "name": "stderr",
     "output_type": "stream",
     "text": [
      "INFO:tensorflow:loss = 0.6436434, step = 1000 (0.098 sec)\n"
     ]
    },
    {
     "name": "stdout",
     "output_type": "stream",
     "text": [
      "INFO:tensorflow:global_step/sec: 623.881\n"
     ]
    },
    {
     "name": "stderr",
     "output_type": "stream",
     "text": [
      "INFO:tensorflow:global_step/sec: 623.881\n"
     ]
    },
    {
     "name": "stdout",
     "output_type": "stream",
     "text": [
      "INFO:tensorflow:loss = 0.6941415, step = 1100 (0.164 sec)\n"
     ]
    },
    {
     "name": "stderr",
     "output_type": "stream",
     "text": [
      "INFO:tensorflow:loss = 0.6941415, step = 1100 (0.164 sec)\n"
     ]
    },
    {
     "name": "stdout",
     "output_type": "stream",
     "text": [
      "INFO:tensorflow:global_step/sec: 448.743\n"
     ]
    },
    {
     "name": "stderr",
     "output_type": "stream",
     "text": [
      "INFO:tensorflow:global_step/sec: 448.743\n"
     ]
    },
    {
     "name": "stdout",
     "output_type": "stream",
     "text": [
      "INFO:tensorflow:loss = 0.6766397, step = 1200 (0.226 sec)\n"
     ]
    },
    {
     "name": "stderr",
     "output_type": "stream",
     "text": [
      "INFO:tensorflow:loss = 0.6766397, step = 1200 (0.226 sec)\n"
     ]
    },
    {
     "name": "stdout",
     "output_type": "stream",
     "text": [
      "INFO:tensorflow:global_step/sec: 526.545\n"
     ]
    },
    {
     "name": "stderr",
     "output_type": "stream",
     "text": [
      "INFO:tensorflow:global_step/sec: 526.545\n"
     ]
    },
    {
     "name": "stdout",
     "output_type": "stream",
     "text": [
      "INFO:tensorflow:loss = 0.61577475, step = 1300 (0.189 sec)\n"
     ]
    },
    {
     "name": "stderr",
     "output_type": "stream",
     "text": [
      "INFO:tensorflow:loss = 0.61577475, step = 1300 (0.189 sec)\n"
     ]
    },
    {
     "name": "stdout",
     "output_type": "stream",
     "text": [
      "INFO:tensorflow:global_step/sec: 678.252\n"
     ]
    },
    {
     "name": "stderr",
     "output_type": "stream",
     "text": [
      "INFO:tensorflow:global_step/sec: 678.252\n"
     ]
    },
    {
     "name": "stdout",
     "output_type": "stream",
     "text": [
      "INFO:tensorflow:loss = 0.6255254, step = 1400 (0.142 sec)\n"
     ]
    },
    {
     "name": "stderr",
     "output_type": "stream",
     "text": [
      "INFO:tensorflow:loss = 0.6255254, step = 1400 (0.142 sec)\n"
     ]
    },
    {
     "name": "stdout",
     "output_type": "stream",
     "text": [
      "INFO:tensorflow:global_step/sec: 801.699\n"
     ]
    },
    {
     "name": "stderr",
     "output_type": "stream",
     "text": [
      "INFO:tensorflow:global_step/sec: 801.699\n"
     ]
    },
    {
     "name": "stdout",
     "output_type": "stream",
     "text": [
      "INFO:tensorflow:loss = 0.7383484, step = 1500 (0.124 sec)\n"
     ]
    },
    {
     "name": "stderr",
     "output_type": "stream",
     "text": [
      "INFO:tensorflow:loss = 0.7383484, step = 1500 (0.124 sec)\n"
     ]
    },
    {
     "name": "stdout",
     "output_type": "stream",
     "text": [
      "INFO:tensorflow:global_step/sec: 679.708\n"
     ]
    },
    {
     "name": "stderr",
     "output_type": "stream",
     "text": [
      "INFO:tensorflow:global_step/sec: 679.708\n"
     ]
    },
    {
     "name": "stdout",
     "output_type": "stream",
     "text": [
      "INFO:tensorflow:loss = 0.6513956, step = 1600 (0.147 sec)\n"
     ]
    },
    {
     "name": "stderr",
     "output_type": "stream",
     "text": [
      "INFO:tensorflow:loss = 0.6513956, step = 1600 (0.147 sec)\n"
     ]
    },
    {
     "name": "stdout",
     "output_type": "stream",
     "text": [
      "INFO:tensorflow:global_step/sec: 786.065\n"
     ]
    },
    {
     "name": "stderr",
     "output_type": "stream",
     "text": [
      "INFO:tensorflow:global_step/sec: 786.065\n"
     ]
    },
    {
     "name": "stdout",
     "output_type": "stream",
     "text": [
      "INFO:tensorflow:loss = 0.71636236, step = 1700 (0.128 sec)\n"
     ]
    },
    {
     "name": "stderr",
     "output_type": "stream",
     "text": [
      "INFO:tensorflow:loss = 0.71636236, step = 1700 (0.128 sec)\n"
     ]
    },
    {
     "name": "stdout",
     "output_type": "stream",
     "text": [
      "INFO:tensorflow:global_step/sec: 518.741\n"
     ]
    },
    {
     "name": "stderr",
     "output_type": "stream",
     "text": [
      "INFO:tensorflow:global_step/sec: 518.741\n"
     ]
    },
    {
     "name": "stdout",
     "output_type": "stream",
     "text": [
      "INFO:tensorflow:loss = 0.7866358, step = 1800 (0.198 sec)\n"
     ]
    },
    {
     "name": "stderr",
     "output_type": "stream",
     "text": [
      "INFO:tensorflow:loss = 0.7866358, step = 1800 (0.198 sec)\n"
     ]
    },
    {
     "name": "stdout",
     "output_type": "stream",
     "text": [
      "INFO:tensorflow:global_step/sec: 629.204\n"
     ]
    },
    {
     "name": "stderr",
     "output_type": "stream",
     "text": [
      "INFO:tensorflow:global_step/sec: 629.204\n"
     ]
    },
    {
     "name": "stdout",
     "output_type": "stream",
     "text": [
      "INFO:tensorflow:loss = 0.706358, step = 1900 (0.162 sec)\n"
     ]
    },
    {
     "name": "stderr",
     "output_type": "stream",
     "text": [
      "INFO:tensorflow:loss = 0.706358, step = 1900 (0.162 sec)\n"
     ]
    },
    {
     "name": "stdout",
     "output_type": "stream",
     "text": [
      "INFO:tensorflow:global_step/sec: 479.239\n"
     ]
    },
    {
     "name": "stderr",
     "output_type": "stream",
     "text": [
      "INFO:tensorflow:global_step/sec: 479.239\n"
     ]
    },
    {
     "name": "stdout",
     "output_type": "stream",
     "text": [
      "INFO:tensorflow:loss = 0.6422326, step = 2000 (0.199 sec)\n"
     ]
    },
    {
     "name": "stderr",
     "output_type": "stream",
     "text": [
      "INFO:tensorflow:loss = 0.6422326, step = 2000 (0.199 sec)\n"
     ]
    },
    {
     "name": "stdout",
     "output_type": "stream",
     "text": [
      "INFO:tensorflow:global_step/sec: 585.785\n"
     ]
    },
    {
     "name": "stderr",
     "output_type": "stream",
     "text": [
      "INFO:tensorflow:global_step/sec: 585.785\n"
     ]
    },
    {
     "name": "stdout",
     "output_type": "stream",
     "text": [
      "INFO:tensorflow:loss = 0.60927075, step = 2100 (0.174 sec)\n"
     ]
    },
    {
     "name": "stderr",
     "output_type": "stream",
     "text": [
      "INFO:tensorflow:loss = 0.60927075, step = 2100 (0.174 sec)\n"
     ]
    },
    {
     "name": "stdout",
     "output_type": "stream",
     "text": [
      "INFO:tensorflow:global_step/sec: 486.687\n"
     ]
    },
    {
     "name": "stderr",
     "output_type": "stream",
     "text": [
      "INFO:tensorflow:global_step/sec: 486.687\n"
     ]
    },
    {
     "name": "stdout",
     "output_type": "stream",
     "text": [
      "INFO:tensorflow:loss = 0.69236076, step = 2200 (0.204 sec)\n"
     ]
    },
    {
     "name": "stderr",
     "output_type": "stream",
     "text": [
      "INFO:tensorflow:loss = 0.69236076, step = 2200 (0.204 sec)\n"
     ]
    },
    {
     "name": "stdout",
     "output_type": "stream",
     "text": [
      "INFO:tensorflow:global_step/sec: 501.058\n"
     ]
    },
    {
     "name": "stderr",
     "output_type": "stream",
     "text": [
      "INFO:tensorflow:global_step/sec: 501.058\n"
     ]
    },
    {
     "name": "stdout",
     "output_type": "stream",
     "text": [
      "INFO:tensorflow:loss = 0.58576274, step = 2300 (0.202 sec)\n"
     ]
    },
    {
     "name": "stderr",
     "output_type": "stream",
     "text": [
      "INFO:tensorflow:loss = 0.58576274, step = 2300 (0.202 sec)\n"
     ]
    },
    {
     "name": "stdout",
     "output_type": "stream",
     "text": [
      "INFO:tensorflow:global_step/sec: 588.678\n"
     ]
    },
    {
     "name": "stderr",
     "output_type": "stream",
     "text": [
      "INFO:tensorflow:global_step/sec: 588.678\n"
     ]
    },
    {
     "name": "stdout",
     "output_type": "stream",
     "text": [
      "INFO:tensorflow:loss = 0.5902374, step = 2400 (0.170 sec)\n"
     ]
    },
    {
     "name": "stderr",
     "output_type": "stream",
     "text": [
      "INFO:tensorflow:loss = 0.5902374, step = 2400 (0.170 sec)\n"
     ]
    },
    {
     "name": "stdout",
     "output_type": "stream",
     "text": [
      "INFO:tensorflow:global_step/sec: 518.468\n"
     ]
    },
    {
     "name": "stderr",
     "output_type": "stream",
     "text": [
      "INFO:tensorflow:global_step/sec: 518.468\n"
     ]
    },
    {
     "name": "stdout",
     "output_type": "stream",
     "text": [
      "INFO:tensorflow:loss = 0.72052383, step = 2500 (0.189 sec)\n"
     ]
    },
    {
     "name": "stderr",
     "output_type": "stream",
     "text": [
      "INFO:tensorflow:loss = 0.72052383, step = 2500 (0.189 sec)\n"
     ]
    },
    {
     "name": "stdout",
     "output_type": "stream",
     "text": [
      "INFO:tensorflow:global_step/sec: 549.279\n"
     ]
    },
    {
     "name": "stderr",
     "output_type": "stream",
     "text": [
      "INFO:tensorflow:global_step/sec: 549.279\n"
     ]
    },
    {
     "name": "stdout",
     "output_type": "stream",
     "text": [
      "INFO:tensorflow:loss = 0.5704249, step = 2600 (0.194 sec)\n"
     ]
    },
    {
     "name": "stderr",
     "output_type": "stream",
     "text": [
      "INFO:tensorflow:loss = 0.5704249, step = 2600 (0.194 sec)\n"
     ]
    },
    {
     "name": "stdout",
     "output_type": "stream",
     "text": [
      "INFO:tensorflow:global_step/sec: 409.561\n"
     ]
    },
    {
     "name": "stderr",
     "output_type": "stream",
     "text": [
      "INFO:tensorflow:global_step/sec: 409.561\n"
     ]
    },
    {
     "name": "stdout",
     "output_type": "stream",
     "text": [
      "INFO:tensorflow:loss = 0.562556, step = 2700 (0.234 sec)\n"
     ]
    },
    {
     "name": "stderr",
     "output_type": "stream",
     "text": [
      "INFO:tensorflow:loss = 0.562556, step = 2700 (0.234 sec)\n"
     ]
    },
    {
     "name": "stdout",
     "output_type": "stream",
     "text": [
      "INFO:tensorflow:global_step/sec: 635.018\n"
     ]
    },
    {
     "name": "stderr",
     "output_type": "stream",
     "text": [
      "INFO:tensorflow:global_step/sec: 635.018\n"
     ]
    },
    {
     "name": "stdout",
     "output_type": "stream",
     "text": [
      "INFO:tensorflow:loss = 0.3994966, step = 2800 (0.164 sec)\n"
     ]
    },
    {
     "name": "stderr",
     "output_type": "stream",
     "text": [
      "INFO:tensorflow:loss = 0.3994966, step = 2800 (0.164 sec)\n"
     ]
    },
    {
     "name": "stdout",
     "output_type": "stream",
     "text": [
      "INFO:tensorflow:global_step/sec: 445.631\n"
     ]
    },
    {
     "name": "stderr",
     "output_type": "stream",
     "text": [
      "INFO:tensorflow:global_step/sec: 445.631\n"
     ]
    },
    {
     "name": "stdout",
     "output_type": "stream",
     "text": [
      "INFO:tensorflow:loss = 0.61734056, step = 2900 (0.223 sec)\n"
     ]
    },
    {
     "name": "stderr",
     "output_type": "stream",
     "text": [
      "INFO:tensorflow:loss = 0.61734056, step = 2900 (0.223 sec)\n"
     ]
    },
    {
     "name": "stdout",
     "output_type": "stream",
     "text": [
      "INFO:tensorflow:global_step/sec: 576.1\n"
     ]
    },
    {
     "name": "stderr",
     "output_type": "stream",
     "text": [
      "INFO:tensorflow:global_step/sec: 576.1\n"
     ]
    },
    {
     "name": "stdout",
     "output_type": "stream",
     "text": [
      "INFO:tensorflow:loss = 0.65922517, step = 3000 (0.171 sec)\n"
     ]
    },
    {
     "name": "stderr",
     "output_type": "stream",
     "text": [
      "INFO:tensorflow:loss = 0.65922517, step = 3000 (0.171 sec)\n"
     ]
    },
    {
     "name": "stdout",
     "output_type": "stream",
     "text": [
      "INFO:tensorflow:global_step/sec: 535.18\n"
     ]
    },
    {
     "name": "stderr",
     "output_type": "stream",
     "text": [
      "INFO:tensorflow:global_step/sec: 535.18\n"
     ]
    },
    {
     "name": "stdout",
     "output_type": "stream",
     "text": [
      "INFO:tensorflow:loss = 0.65235704, step = 3100 (0.183 sec)\n"
     ]
    },
    {
     "name": "stderr",
     "output_type": "stream",
     "text": [
      "INFO:tensorflow:loss = 0.65235704, step = 3100 (0.183 sec)\n"
     ]
    },
    {
     "name": "stdout",
     "output_type": "stream",
     "text": [
      "WARNING:tensorflow:It seems that global step (tf.train.get_global_step) has not been increased. Current value (could be stable): 3163 vs previous value: 3163. You could increase the global step by passing tf.train.get_global_step() to Optimizer.apply_gradients or Optimizer.minimize.\n"
     ]
    },
    {
     "name": "stderr",
     "output_type": "stream",
     "text": [
      "WARNING:tensorflow:It seems that global step (tf.train.get_global_step) has not been increased. Current value (could be stable): 3163 vs previous value: 3163. You could increase the global step by passing tf.train.get_global_step() to Optimizer.apply_gradients or Optimizer.minimize.\n"
     ]
    },
    {
     "name": "stdout",
     "output_type": "stream",
     "text": [
      "INFO:tensorflow:global_step/sec: 468.81\n"
     ]
    },
    {
     "name": "stderr",
     "output_type": "stream",
     "text": [
      "INFO:tensorflow:global_step/sec: 468.81\n"
     ]
    },
    {
     "name": "stdout",
     "output_type": "stream",
     "text": [
      "INFO:tensorflow:loss = 0.6957921, step = 3200 (0.214 sec)\n"
     ]
    },
    {
     "name": "stderr",
     "output_type": "stream",
     "text": [
      "INFO:tensorflow:loss = 0.6957921, step = 3200 (0.214 sec)\n"
     ]
    },
    {
     "name": "stdout",
     "output_type": "stream",
     "text": [
      "WARNING:tensorflow:It seems that global step (tf.train.get_global_step) has not been increased. Current value (could be stable): 3235 vs previous value: 3235. You could increase the global step by passing tf.train.get_global_step() to Optimizer.apply_gradients or Optimizer.minimize.\n"
     ]
    },
    {
     "name": "stderr",
     "output_type": "stream",
     "text": [
      "WARNING:tensorflow:It seems that global step (tf.train.get_global_step) has not been increased. Current value (could be stable): 3235 vs previous value: 3235. You could increase the global step by passing tf.train.get_global_step() to Optimizer.apply_gradients or Optimizer.minimize.\n"
     ]
    },
    {
     "name": "stdout",
     "output_type": "stream",
     "text": [
      "INFO:tensorflow:global_step/sec: 667.044\n"
     ]
    },
    {
     "name": "stderr",
     "output_type": "stream",
     "text": [
      "INFO:tensorflow:global_step/sec: 667.044\n"
     ]
    },
    {
     "name": "stdout",
     "output_type": "stream",
     "text": [
      "INFO:tensorflow:loss = 0.69465715, step = 3300 (0.149 sec)\n"
     ]
    },
    {
     "name": "stderr",
     "output_type": "stream",
     "text": [
      "INFO:tensorflow:loss = 0.69465715, step = 3300 (0.149 sec)\n"
     ]
    },
    {
     "name": "stdout",
     "output_type": "stream",
     "text": [
      "INFO:tensorflow:global_step/sec: 463.049\n"
     ]
    },
    {
     "name": "stderr",
     "output_type": "stream",
     "text": [
      "INFO:tensorflow:global_step/sec: 463.049\n"
     ]
    },
    {
     "name": "stdout",
     "output_type": "stream",
     "text": [
      "INFO:tensorflow:loss = 0.23610461, step = 3400 (0.217 sec)\n"
     ]
    },
    {
     "name": "stderr",
     "output_type": "stream",
     "text": [
      "INFO:tensorflow:loss = 0.23610461, step = 3400 (0.217 sec)\n"
     ]
    },
    {
     "name": "stdout",
     "output_type": "stream",
     "text": [
      "INFO:tensorflow:global_step/sec: 498.527\n"
     ]
    },
    {
     "name": "stderr",
     "output_type": "stream",
     "text": [
      "INFO:tensorflow:global_step/sec: 498.527\n"
     ]
    },
    {
     "name": "stdout",
     "output_type": "stream",
     "text": [
      "INFO:tensorflow:loss = 0.6462592, step = 3500 (0.202 sec)\n"
     ]
    },
    {
     "name": "stderr",
     "output_type": "stream",
     "text": [
      "INFO:tensorflow:loss = 0.6462592, step = 3500 (0.202 sec)\n"
     ]
    },
    {
     "name": "stdout",
     "output_type": "stream",
     "text": [
      "INFO:tensorflow:global_step/sec: 650.851\n"
     ]
    },
    {
     "name": "stderr",
     "output_type": "stream",
     "text": [
      "INFO:tensorflow:global_step/sec: 650.851\n"
     ]
    },
    {
     "name": "stdout",
     "output_type": "stream",
     "text": [
      "INFO:tensorflow:loss = 0.15417352, step = 3600 (0.155 sec)\n"
     ]
    },
    {
     "name": "stderr",
     "output_type": "stream",
     "text": [
      "INFO:tensorflow:loss = 0.15417352, step = 3600 (0.155 sec)\n"
     ]
    },
    {
     "name": "stdout",
     "output_type": "stream",
     "text": [
      "INFO:tensorflow:global_step/sec: 560.96\n"
     ]
    },
    {
     "name": "stderr",
     "output_type": "stream",
     "text": [
      "INFO:tensorflow:global_step/sec: 560.96\n"
     ]
    },
    {
     "name": "stdout",
     "output_type": "stream",
     "text": [
      "INFO:tensorflow:loss = 0.4433386, step = 3700 (0.180 sec)\n"
     ]
    },
    {
     "name": "stderr",
     "output_type": "stream",
     "text": [
      "INFO:tensorflow:loss = 0.4433386, step = 3700 (0.180 sec)\n"
     ]
    },
    {
     "name": "stdout",
     "output_type": "stream",
     "text": [
      "INFO:tensorflow:global_step/sec: 407.388\n"
     ]
    },
    {
     "name": "stderr",
     "output_type": "stream",
     "text": [
      "INFO:tensorflow:global_step/sec: 407.388\n"
     ]
    },
    {
     "name": "stdout",
     "output_type": "stream",
     "text": [
      "INFO:tensorflow:loss = 0.68653715, step = 3800 (0.241 sec)\n"
     ]
    },
    {
     "name": "stderr",
     "output_type": "stream",
     "text": [
      "INFO:tensorflow:loss = 0.68653715, step = 3800 (0.241 sec)\n"
     ]
    },
    {
     "name": "stdout",
     "output_type": "stream",
     "text": [
      "INFO:tensorflow:global_step/sec: 651.776\n"
     ]
    },
    {
     "name": "stderr",
     "output_type": "stream",
     "text": [
      "INFO:tensorflow:global_step/sec: 651.776\n"
     ]
    },
    {
     "name": "stdout",
     "output_type": "stream",
     "text": [
      "INFO:tensorflow:loss = 0.39424527, step = 3900 (0.152 sec)\n"
     ]
    },
    {
     "name": "stderr",
     "output_type": "stream",
     "text": [
      "INFO:tensorflow:loss = 0.39424527, step = 3900 (0.152 sec)\n"
     ]
    },
    {
     "name": "stdout",
     "output_type": "stream",
     "text": [
      "INFO:tensorflow:global_step/sec: 703.185\n"
     ]
    },
    {
     "name": "stderr",
     "output_type": "stream",
     "text": [
      "INFO:tensorflow:global_step/sec: 703.185\n"
     ]
    },
    {
     "name": "stdout",
     "output_type": "stream",
     "text": [
      "INFO:tensorflow:loss = 0.049254075, step = 4000 (0.146 sec)\n"
     ]
    },
    {
     "name": "stderr",
     "output_type": "stream",
     "text": [
      "INFO:tensorflow:loss = 0.049254075, step = 4000 (0.146 sec)\n"
     ]
    },
    {
     "name": "stdout",
     "output_type": "stream",
     "text": [
      "INFO:tensorflow:global_step/sec: 670.426\n"
     ]
    },
    {
     "name": "stderr",
     "output_type": "stream",
     "text": [
      "INFO:tensorflow:global_step/sec: 670.426\n"
     ]
    },
    {
     "name": "stdout",
     "output_type": "stream",
     "text": [
      "INFO:tensorflow:loss = 0.42671728, step = 4100 (0.151 sec)\n"
     ]
    },
    {
     "name": "stderr",
     "output_type": "stream",
     "text": [
      "INFO:tensorflow:loss = 0.42671728, step = 4100 (0.151 sec)\n"
     ]
    },
    {
     "name": "stdout",
     "output_type": "stream",
     "text": [
      "INFO:tensorflow:global_step/sec: 517.955\n"
     ]
    },
    {
     "name": "stderr",
     "output_type": "stream",
     "text": [
      "INFO:tensorflow:global_step/sec: 517.955\n"
     ]
    },
    {
     "name": "stdout",
     "output_type": "stream",
     "text": [
      "INFO:tensorflow:loss = 0.28983784, step = 4200 (0.197 sec)\n"
     ]
    },
    {
     "name": "stderr",
     "output_type": "stream",
     "text": [
      "INFO:tensorflow:loss = 0.28983784, step = 4200 (0.197 sec)\n"
     ]
    },
    {
     "name": "stdout",
     "output_type": "stream",
     "text": [
      "INFO:tensorflow:global_step/sec: 566.251\n"
     ]
    },
    {
     "name": "stderr",
     "output_type": "stream",
     "text": [
      "INFO:tensorflow:global_step/sec: 566.251\n"
     ]
    },
    {
     "name": "stdout",
     "output_type": "stream",
     "text": [
      "INFO:tensorflow:loss = 0.01955374, step = 4300 (0.169 sec)\n"
     ]
    },
    {
     "name": "stderr",
     "output_type": "stream",
     "text": [
      "INFO:tensorflow:loss = 0.01955374, step = 4300 (0.169 sec)\n"
     ]
    },
    {
     "name": "stdout",
     "output_type": "stream",
     "text": [
      "INFO:tensorflow:global_step/sec: 656.086\n"
     ]
    },
    {
     "name": "stderr",
     "output_type": "stream",
     "text": [
      "INFO:tensorflow:global_step/sec: 656.086\n"
     ]
    },
    {
     "name": "stdout",
     "output_type": "stream",
     "text": [
      "INFO:tensorflow:loss = 0.10383789, step = 4400 (0.157 sec)\n"
     ]
    },
    {
     "name": "stderr",
     "output_type": "stream",
     "text": [
      "INFO:tensorflow:loss = 0.10383789, step = 4400 (0.157 sec)\n"
     ]
    },
    {
     "name": "stdout",
     "output_type": "stream",
     "text": [
      "INFO:tensorflow:global_step/sec: 617.197\n"
     ]
    },
    {
     "name": "stderr",
     "output_type": "stream",
     "text": [
      "INFO:tensorflow:global_step/sec: 617.197\n"
     ]
    },
    {
     "name": "stdout",
     "output_type": "stream",
     "text": [
      "INFO:tensorflow:loss = 0.19183728, step = 4500 (0.172 sec)\n"
     ]
    },
    {
     "name": "stderr",
     "output_type": "stream",
     "text": [
      "INFO:tensorflow:loss = 0.19183728, step = 4500 (0.172 sec)\n"
     ]
    },
    {
     "name": "stdout",
     "output_type": "stream",
     "text": [
      "INFO:tensorflow:global_step/sec: 532.665\n"
     ]
    },
    {
     "name": "stderr",
     "output_type": "stream",
     "text": [
      "INFO:tensorflow:global_step/sec: 532.665\n"
     ]
    },
    {
     "name": "stdout",
     "output_type": "stream",
     "text": [
      "INFO:tensorflow:loss = 0.18751028, step = 4600 (0.174 sec)\n"
     ]
    },
    {
     "name": "stderr",
     "output_type": "stream",
     "text": [
      "INFO:tensorflow:loss = 0.18751028, step = 4600 (0.174 sec)\n"
     ]
    },
    {
     "name": "stdout",
     "output_type": "stream",
     "text": [
      "WARNING:tensorflow:It seems that global step (tf.train.get_global_step) has not been increased. Current value (could be stable): 4619 vs previous value: 4619. You could increase the global step by passing tf.train.get_global_step() to Optimizer.apply_gradients or Optimizer.minimize.\n"
     ]
    },
    {
     "name": "stderr",
     "output_type": "stream",
     "text": [
      "WARNING:tensorflow:It seems that global step (tf.train.get_global_step) has not been increased. Current value (could be stable): 4619 vs previous value: 4619. You could increase the global step by passing tf.train.get_global_step() to Optimizer.apply_gradients or Optimizer.minimize.\n"
     ]
    },
    {
     "name": "stdout",
     "output_type": "stream",
     "text": [
      "INFO:tensorflow:global_step/sec: 540.584\n"
     ]
    },
    {
     "name": "stderr",
     "output_type": "stream",
     "text": [
      "INFO:tensorflow:global_step/sec: 540.584\n"
     ]
    },
    {
     "name": "stdout",
     "output_type": "stream",
     "text": [
      "INFO:tensorflow:loss = 0.28962833, step = 4700 (0.186 sec)\n"
     ]
    },
    {
     "name": "stderr",
     "output_type": "stream",
     "text": [
      "INFO:tensorflow:loss = 0.28962833, step = 4700 (0.186 sec)\n"
     ]
    },
    {
     "name": "stdout",
     "output_type": "stream",
     "text": [
      "INFO:tensorflow:global_step/sec: 652.973\n"
     ]
    },
    {
     "name": "stderr",
     "output_type": "stream",
     "text": [
      "INFO:tensorflow:global_step/sec: 652.973\n"
     ]
    },
    {
     "name": "stdout",
     "output_type": "stream",
     "text": [
      "INFO:tensorflow:loss = 0.0075502247, step = 4800 (0.156 sec)\n"
     ]
    },
    {
     "name": "stderr",
     "output_type": "stream",
     "text": [
      "INFO:tensorflow:loss = 0.0075502247, step = 4800 (0.156 sec)\n"
     ]
    },
    {
     "name": "stdout",
     "output_type": "stream",
     "text": [
      "INFO:tensorflow:global_step/sec: 753.427\n"
     ]
    },
    {
     "name": "stderr",
     "output_type": "stream",
     "text": [
      "INFO:tensorflow:global_step/sec: 753.427\n"
     ]
    },
    {
     "name": "stdout",
     "output_type": "stream",
     "text": [
      "INFO:tensorflow:loss = 0.48984772, step = 4900 (0.130 sec)\n"
     ]
    },
    {
     "name": "stderr",
     "output_type": "stream",
     "text": [
      "INFO:tensorflow:loss = 0.48984772, step = 4900 (0.130 sec)\n"
     ]
    },
    {
     "name": "stdout",
     "output_type": "stream",
     "text": [
      "INFO:tensorflow:global_step/sec: 788.015\n"
     ]
    },
    {
     "name": "stderr",
     "output_type": "stream",
     "text": [
      "INFO:tensorflow:global_step/sec: 788.015\n"
     ]
    },
    {
     "name": "stdout",
     "output_type": "stream",
     "text": [
      "INFO:tensorflow:loss = 0.112861626, step = 5000 (0.122 sec)\n"
     ]
    },
    {
     "name": "stderr",
     "output_type": "stream",
     "text": [
      "INFO:tensorflow:loss = 0.112861626, step = 5000 (0.122 sec)\n"
     ]
    },
    {
     "name": "stdout",
     "output_type": "stream",
     "text": [
      "INFO:tensorflow:global_step/sec: 845.795\n"
     ]
    },
    {
     "name": "stderr",
     "output_type": "stream",
     "text": [
      "INFO:tensorflow:global_step/sec: 845.795\n"
     ]
    },
    {
     "name": "stdout",
     "output_type": "stream",
     "text": [
      "INFO:tensorflow:loss = 0.15244783, step = 5100 (0.119 sec)\n"
     ]
    },
    {
     "name": "stderr",
     "output_type": "stream",
     "text": [
      "INFO:tensorflow:loss = 0.15244783, step = 5100 (0.119 sec)\n"
     ]
    },
    {
     "name": "stdout",
     "output_type": "stream",
     "text": [
      "INFO:tensorflow:global_step/sec: 800.142\n"
     ]
    },
    {
     "name": "stderr",
     "output_type": "stream",
     "text": [
      "INFO:tensorflow:global_step/sec: 800.142\n"
     ]
    },
    {
     "name": "stdout",
     "output_type": "stream",
     "text": [
      "INFO:tensorflow:loss = 0.0775281, step = 5200 (0.127 sec)\n"
     ]
    },
    {
     "name": "stderr",
     "output_type": "stream",
     "text": [
      "INFO:tensorflow:loss = 0.0775281, step = 5200 (0.127 sec)\n"
     ]
    },
    {
     "name": "stdout",
     "output_type": "stream",
     "text": [
      "INFO:tensorflow:global_step/sec: 513.8\n"
     ]
    },
    {
     "name": "stderr",
     "output_type": "stream",
     "text": [
      "INFO:tensorflow:global_step/sec: 513.8\n"
     ]
    },
    {
     "name": "stdout",
     "output_type": "stream",
     "text": [
      "INFO:tensorflow:loss = 0.021097317, step = 5300 (0.206 sec)\n"
     ]
    },
    {
     "name": "stderr",
     "output_type": "stream",
     "text": [
      "INFO:tensorflow:loss = 0.021097317, step = 5300 (0.206 sec)\n"
     ]
    },
    {
     "name": "stdout",
     "output_type": "stream",
     "text": [
      "INFO:tensorflow:global_step/sec: 553.542\n"
     ]
    },
    {
     "name": "stderr",
     "output_type": "stream",
     "text": [
      "INFO:tensorflow:global_step/sec: 553.542\n"
     ]
    },
    {
     "name": "stdout",
     "output_type": "stream",
     "text": [
      "INFO:tensorflow:loss = 0.062250245, step = 5400 (0.168 sec)\n"
     ]
    },
    {
     "name": "stderr",
     "output_type": "stream",
     "text": [
      "INFO:tensorflow:loss = 0.062250245, step = 5400 (0.168 sec)\n"
     ]
    },
    {
     "name": "stdout",
     "output_type": "stream",
     "text": [
      "INFO:tensorflow:global_step/sec: 596.662\n"
     ]
    },
    {
     "name": "stderr",
     "output_type": "stream",
     "text": [
      "INFO:tensorflow:global_step/sec: 596.662\n"
     ]
    },
    {
     "name": "stdout",
     "output_type": "stream",
     "text": [
      "INFO:tensorflow:loss = 0.037375666, step = 5500 (0.168 sec)\n"
     ]
    },
    {
     "name": "stderr",
     "output_type": "stream",
     "text": [
      "INFO:tensorflow:loss = 0.037375666, step = 5500 (0.168 sec)\n"
     ]
    },
    {
     "name": "stdout",
     "output_type": "stream",
     "text": [
      "INFO:tensorflow:global_step/sec: 684.838\n"
     ]
    },
    {
     "name": "stderr",
     "output_type": "stream",
     "text": [
      "INFO:tensorflow:global_step/sec: 684.838\n"
     ]
    },
    {
     "name": "stdout",
     "output_type": "stream",
     "text": [
      "INFO:tensorflow:loss = 0.44624916, step = 5600 (0.146 sec)\n"
     ]
    },
    {
     "name": "stderr",
     "output_type": "stream",
     "text": [
      "INFO:tensorflow:loss = 0.44624916, step = 5600 (0.146 sec)\n"
     ]
    },
    {
     "name": "stdout",
     "output_type": "stream",
     "text": [
      "INFO:tensorflow:global_step/sec: 581.659\n"
     ]
    },
    {
     "name": "stderr",
     "output_type": "stream",
     "text": [
      "INFO:tensorflow:global_step/sec: 581.659\n"
     ]
    },
    {
     "name": "stdout",
     "output_type": "stream",
     "text": [
      "INFO:tensorflow:loss = 0.0023765569, step = 5700 (0.172 sec)\n"
     ]
    },
    {
     "name": "stderr",
     "output_type": "stream",
     "text": [
      "INFO:tensorflow:loss = 0.0023765569, step = 5700 (0.172 sec)\n"
     ]
    },
    {
     "name": "stdout",
     "output_type": "stream",
     "text": [
      "INFO:tensorflow:global_step/sec: 501.749\n"
     ]
    },
    {
     "name": "stderr",
     "output_type": "stream",
     "text": [
      "INFO:tensorflow:global_step/sec: 501.749\n"
     ]
    },
    {
     "name": "stdout",
     "output_type": "stream",
     "text": [
      "INFO:tensorflow:loss = 0.3899423, step = 5800 (0.203 sec)\n"
     ]
    },
    {
     "name": "stderr",
     "output_type": "stream",
     "text": [
      "INFO:tensorflow:loss = 0.3899423, step = 5800 (0.203 sec)\n"
     ]
    },
    {
     "name": "stdout",
     "output_type": "stream",
     "text": [
      "INFO:tensorflow:global_step/sec: 567.112\n"
     ]
    },
    {
     "name": "stderr",
     "output_type": "stream",
     "text": [
      "INFO:tensorflow:global_step/sec: 567.112\n"
     ]
    },
    {
     "name": "stdout",
     "output_type": "stream",
     "text": [
      "INFO:tensorflow:loss = 0.00023217426, step = 5900 (0.174 sec)\n"
     ]
    },
    {
     "name": "stderr",
     "output_type": "stream",
     "text": [
      "INFO:tensorflow:loss = 0.00023217426, step = 5900 (0.174 sec)\n"
     ]
    },
    {
     "name": "stdout",
     "output_type": "stream",
     "text": [
      "INFO:tensorflow:global_step/sec: 443.901\n"
     ]
    },
    {
     "name": "stderr",
     "output_type": "stream",
     "text": [
      "INFO:tensorflow:global_step/sec: 443.901\n"
     ]
    },
    {
     "name": "stdout",
     "output_type": "stream",
     "text": [
      "INFO:tensorflow:loss = 0.1753595, step = 6000 (0.236 sec)\n"
     ]
    },
    {
     "name": "stderr",
     "output_type": "stream",
     "text": [
      "INFO:tensorflow:loss = 0.1753595, step = 6000 (0.236 sec)\n"
     ]
    },
    {
     "name": "stdout",
     "output_type": "stream",
     "text": [
      "INFO:tensorflow:global_step/sec: 545.185\n"
     ]
    },
    {
     "name": "stderr",
     "output_type": "stream",
     "text": [
      "INFO:tensorflow:global_step/sec: 545.185\n"
     ]
    },
    {
     "name": "stdout",
     "output_type": "stream",
     "text": [
      "INFO:tensorflow:loss = 0.050448075, step = 6100 (0.177 sec)\n"
     ]
    },
    {
     "name": "stderr",
     "output_type": "stream",
     "text": [
      "INFO:tensorflow:loss = 0.050448075, step = 6100 (0.177 sec)\n"
     ]
    },
    {
     "name": "stdout",
     "output_type": "stream",
     "text": [
      "INFO:tensorflow:global_step/sec: 468.034\n"
     ]
    },
    {
     "name": "stderr",
     "output_type": "stream",
     "text": [
      "INFO:tensorflow:global_step/sec: 468.034\n"
     ]
    },
    {
     "name": "stdout",
     "output_type": "stream",
     "text": [
      "INFO:tensorflow:loss = 0.045732725, step = 6200 (0.208 sec)\n"
     ]
    },
    {
     "name": "stderr",
     "output_type": "stream",
     "text": [
      "INFO:tensorflow:loss = 0.045732725, step = 6200 (0.208 sec)\n"
     ]
    },
    {
     "name": "stdout",
     "output_type": "stream",
     "text": [
      "INFO:tensorflow:global_step/sec: 574.422\n"
     ]
    },
    {
     "name": "stderr",
     "output_type": "stream",
     "text": [
      "INFO:tensorflow:global_step/sec: 574.422\n"
     ]
    },
    {
     "name": "stdout",
     "output_type": "stream",
     "text": [
      "INFO:tensorflow:loss = 0.020810911, step = 6300 (0.178 sec)\n"
     ]
    },
    {
     "name": "stderr",
     "output_type": "stream",
     "text": [
      "INFO:tensorflow:loss = 0.020810911, step = 6300 (0.178 sec)\n"
     ]
    },
    {
     "name": "stdout",
     "output_type": "stream",
     "text": [
      "INFO:tensorflow:global_step/sec: 382.821\n"
     ]
    },
    {
     "name": "stderr",
     "output_type": "stream",
     "text": [
      "INFO:tensorflow:global_step/sec: 382.821\n"
     ]
    },
    {
     "name": "stdout",
     "output_type": "stream",
     "text": [
      "INFO:tensorflow:loss = 0.03208722, step = 6400 (0.265 sec)\n"
     ]
    },
    {
     "name": "stderr",
     "output_type": "stream",
     "text": [
      "INFO:tensorflow:loss = 0.03208722, step = 6400 (0.265 sec)\n"
     ]
    },
    {
     "name": "stdout",
     "output_type": "stream",
     "text": [
      "INFO:tensorflow:global_step/sec: 747.696\n"
     ]
    },
    {
     "name": "stderr",
     "output_type": "stream",
     "text": [
      "INFO:tensorflow:global_step/sec: 747.696\n"
     ]
    },
    {
     "name": "stdout",
     "output_type": "stream",
     "text": [
      "INFO:tensorflow:loss = 0.023962688, step = 6500 (0.125 sec)\n"
     ]
    },
    {
     "name": "stderr",
     "output_type": "stream",
     "text": [
      "INFO:tensorflow:loss = 0.023962688, step = 6500 (0.125 sec)\n"
     ]
    },
    {
     "name": "stdout",
     "output_type": "stream",
     "text": [
      "INFO:tensorflow:global_step/sec: 766.831\n"
     ]
    },
    {
     "name": "stderr",
     "output_type": "stream",
     "text": [
      "INFO:tensorflow:global_step/sec: 766.831\n"
     ]
    },
    {
     "name": "stdout",
     "output_type": "stream",
     "text": [
      "INFO:tensorflow:loss = 0.016825287, step = 6600 (0.130 sec)\n"
     ]
    },
    {
     "name": "stderr",
     "output_type": "stream",
     "text": [
      "INFO:tensorflow:loss = 0.016825287, step = 6600 (0.130 sec)\n"
     ]
    },
    {
     "name": "stdout",
     "output_type": "stream",
     "text": [
      "INFO:tensorflow:global_step/sec: 572.728\n"
     ]
    },
    {
     "name": "stderr",
     "output_type": "stream",
     "text": [
      "INFO:tensorflow:global_step/sec: 572.728\n"
     ]
    },
    {
     "name": "stdout",
     "output_type": "stream",
     "text": [
      "INFO:tensorflow:loss = 0.02699152, step = 6700 (0.178 sec)\n"
     ]
    },
    {
     "name": "stderr",
     "output_type": "stream",
     "text": [
      "INFO:tensorflow:loss = 0.02699152, step = 6700 (0.178 sec)\n"
     ]
    },
    {
     "name": "stdout",
     "output_type": "stream",
     "text": [
      "INFO:tensorflow:global_step/sec: 485.467\n"
     ]
    },
    {
     "name": "stderr",
     "output_type": "stream",
     "text": [
      "INFO:tensorflow:global_step/sec: 485.467\n"
     ]
    },
    {
     "name": "stdout",
     "output_type": "stream",
     "text": [
      "INFO:tensorflow:loss = 0.024672281, step = 6800 (0.204 sec)\n"
     ]
    },
    {
     "name": "stderr",
     "output_type": "stream",
     "text": [
      "INFO:tensorflow:loss = 0.024672281, step = 6800 (0.204 sec)\n"
     ]
    },
    {
     "name": "stdout",
     "output_type": "stream",
     "text": [
      "INFO:tensorflow:global_step/sec: 667.803\n"
     ]
    },
    {
     "name": "stderr",
     "output_type": "stream",
     "text": [
      "INFO:tensorflow:global_step/sec: 667.803\n"
     ]
    },
    {
     "name": "stdout",
     "output_type": "stream",
     "text": [
      "INFO:tensorflow:loss = 0.038157653, step = 6900 (0.150 sec)\n"
     ]
    },
    {
     "name": "stderr",
     "output_type": "stream",
     "text": [
      "INFO:tensorflow:loss = 0.038157653, step = 6900 (0.150 sec)\n"
     ]
    },
    {
     "name": "stdout",
     "output_type": "stream",
     "text": [
      "INFO:tensorflow:global_step/sec: 780.767\n"
     ]
    },
    {
     "name": "stderr",
     "output_type": "stream",
     "text": [
      "INFO:tensorflow:global_step/sec: 780.767\n"
     ]
    },
    {
     "name": "stdout",
     "output_type": "stream",
     "text": [
      "INFO:tensorflow:loss = 0.07753678, step = 7000 (0.127 sec)\n"
     ]
    },
    {
     "name": "stderr",
     "output_type": "stream",
     "text": [
      "INFO:tensorflow:loss = 0.07753678, step = 7000 (0.127 sec)\n"
     ]
    },
    {
     "name": "stdout",
     "output_type": "stream",
     "text": [
      "INFO:tensorflow:global_step/sec: 792.375\n"
     ]
    },
    {
     "name": "stderr",
     "output_type": "stream",
     "text": [
      "INFO:tensorflow:global_step/sec: 792.375\n"
     ]
    },
    {
     "name": "stdout",
     "output_type": "stream",
     "text": [
      "INFO:tensorflow:loss = 0.086315736, step = 7100 (0.128 sec)\n"
     ]
    },
    {
     "name": "stderr",
     "output_type": "stream",
     "text": [
      "INFO:tensorflow:loss = 0.086315736, step = 7100 (0.128 sec)\n"
     ]
    },
    {
     "name": "stdout",
     "output_type": "stream",
     "text": [
      "INFO:tensorflow:global_step/sec: 532.408\n"
     ]
    },
    {
     "name": "stderr",
     "output_type": "stream",
     "text": [
      "INFO:tensorflow:global_step/sec: 532.408\n"
     ]
    },
    {
     "name": "stdout",
     "output_type": "stream",
     "text": [
      "INFO:tensorflow:loss = 0.00501155, step = 7200 (0.187 sec)\n"
     ]
    },
    {
     "name": "stderr",
     "output_type": "stream",
     "text": [
      "INFO:tensorflow:loss = 0.00501155, step = 7200 (0.187 sec)\n"
     ]
    },
    {
     "name": "stdout",
     "output_type": "stream",
     "text": [
      "INFO:tensorflow:global_step/sec: 586.431\n"
     ]
    },
    {
     "name": "stderr",
     "output_type": "stream",
     "text": [
      "INFO:tensorflow:global_step/sec: 586.431\n"
     ]
    },
    {
     "name": "stdout",
     "output_type": "stream",
     "text": [
      "INFO:tensorflow:loss = 0.20201594, step = 7300 (0.184 sec)\n"
     ]
    },
    {
     "name": "stderr",
     "output_type": "stream",
     "text": [
      "INFO:tensorflow:loss = 0.20201594, step = 7300 (0.184 sec)\n"
     ]
    },
    {
     "name": "stdout",
     "output_type": "stream",
     "text": [
      "INFO:tensorflow:global_step/sec: 555.599\n"
     ]
    },
    {
     "name": "stderr",
     "output_type": "stream",
     "text": [
      "INFO:tensorflow:global_step/sec: 555.599\n"
     ]
    },
    {
     "name": "stdout",
     "output_type": "stream",
     "text": [
      "INFO:tensorflow:loss = 0.019712806, step = 7400 (0.167 sec)\n"
     ]
    },
    {
     "name": "stderr",
     "output_type": "stream",
     "text": [
      "INFO:tensorflow:loss = 0.019712806, step = 7400 (0.167 sec)\n"
     ]
    },
    {
     "name": "stdout",
     "output_type": "stream",
     "text": [
      "INFO:tensorflow:global_step/sec: 587.189\n"
     ]
    },
    {
     "name": "stderr",
     "output_type": "stream",
     "text": [
      "INFO:tensorflow:global_step/sec: 587.189\n"
     ]
    },
    {
     "name": "stdout",
     "output_type": "stream",
     "text": [
      "INFO:tensorflow:loss = 0.056306247, step = 7500 (0.171 sec)\n"
     ]
    },
    {
     "name": "stderr",
     "output_type": "stream",
     "text": [
      "INFO:tensorflow:loss = 0.056306247, step = 7500 (0.171 sec)\n"
     ]
    },
    {
     "name": "stdout",
     "output_type": "stream",
     "text": [
      "INFO:tensorflow:global_step/sec: 567.035\n"
     ]
    },
    {
     "name": "stderr",
     "output_type": "stream",
     "text": [
      "INFO:tensorflow:global_step/sec: 567.035\n"
     ]
    },
    {
     "name": "stdout",
     "output_type": "stream",
     "text": [
      "INFO:tensorflow:loss = 0.020852532, step = 7600 (0.178 sec)\n"
     ]
    },
    {
     "name": "stderr",
     "output_type": "stream",
     "text": [
      "INFO:tensorflow:loss = 0.020852532, step = 7600 (0.178 sec)\n"
     ]
    },
    {
     "name": "stdout",
     "output_type": "stream",
     "text": [
      "INFO:tensorflow:global_step/sec: 578.175\n"
     ]
    },
    {
     "name": "stderr",
     "output_type": "stream",
     "text": [
      "INFO:tensorflow:global_step/sec: 578.175\n"
     ]
    },
    {
     "name": "stdout",
     "output_type": "stream",
     "text": [
      "INFO:tensorflow:loss = 0.18412408, step = 7700 (0.178 sec)\n"
     ]
    },
    {
     "name": "stderr",
     "output_type": "stream",
     "text": [
      "INFO:tensorflow:loss = 0.18412408, step = 7700 (0.178 sec)\n"
     ]
    },
    {
     "name": "stdout",
     "output_type": "stream",
     "text": [
      "INFO:tensorflow:global_step/sec: 563.863\n"
     ]
    },
    {
     "name": "stderr",
     "output_type": "stream",
     "text": [
      "INFO:tensorflow:global_step/sec: 563.863\n"
     ]
    },
    {
     "name": "stdout",
     "output_type": "stream",
     "text": [
      "INFO:tensorflow:loss = 0.01584181, step = 7800 (0.167 sec)\n"
     ]
    },
    {
     "name": "stderr",
     "output_type": "stream",
     "text": [
      "INFO:tensorflow:loss = 0.01584181, step = 7800 (0.167 sec)\n"
     ]
    },
    {
     "name": "stdout",
     "output_type": "stream",
     "text": [
      "INFO:tensorflow:global_step/sec: 503.499\n"
     ]
    },
    {
     "name": "stderr",
     "output_type": "stream",
     "text": [
      "INFO:tensorflow:global_step/sec: 503.499\n"
     ]
    },
    {
     "name": "stdout",
     "output_type": "stream",
     "text": [
      "INFO:tensorflow:loss = 0.007935159, step = 7900 (0.205 sec)\n"
     ]
    },
    {
     "name": "stderr",
     "output_type": "stream",
     "text": [
      "INFO:tensorflow:loss = 0.007935159, step = 7900 (0.205 sec)\n"
     ]
    },
    {
     "name": "stdout",
     "output_type": "stream",
     "text": [
      "INFO:tensorflow:global_step/sec: 611.763\n"
     ]
    },
    {
     "name": "stderr",
     "output_type": "stream",
     "text": [
      "INFO:tensorflow:global_step/sec: 611.763\n"
     ]
    },
    {
     "name": "stdout",
     "output_type": "stream",
     "text": [
      "INFO:tensorflow:loss = 0.00066761277, step = 8000 (0.158 sec)\n"
     ]
    },
    {
     "name": "stderr",
     "output_type": "stream",
     "text": [
      "INFO:tensorflow:loss = 0.00066761277, step = 8000 (0.158 sec)\n"
     ]
    },
    {
     "name": "stdout",
     "output_type": "stream",
     "text": [
      "INFO:tensorflow:global_step/sec: 638.521\n"
     ]
    },
    {
     "name": "stderr",
     "output_type": "stream",
     "text": [
      "INFO:tensorflow:global_step/sec: 638.521\n"
     ]
    },
    {
     "name": "stdout",
     "output_type": "stream",
     "text": [
      "INFO:tensorflow:loss = 0.0008333731, step = 8100 (0.157 sec)\n"
     ]
    },
    {
     "name": "stderr",
     "output_type": "stream",
     "text": [
      "INFO:tensorflow:loss = 0.0008333731, step = 8100 (0.157 sec)\n"
     ]
    },
    {
     "name": "stdout",
     "output_type": "stream",
     "text": [
      "INFO:tensorflow:global_step/sec: 647.97\n"
     ]
    },
    {
     "name": "stderr",
     "output_type": "stream",
     "text": [
      "INFO:tensorflow:global_step/sec: 647.97\n"
     ]
    },
    {
     "name": "stdout",
     "output_type": "stream",
     "text": [
      "INFO:tensorflow:loss = 0.006906319, step = 8200 (0.166 sec)\n"
     ]
    },
    {
     "name": "stderr",
     "output_type": "stream",
     "text": [
      "INFO:tensorflow:loss = 0.006906319, step = 8200 (0.166 sec)\n"
     ]
    },
    {
     "name": "stdout",
     "output_type": "stream",
     "text": [
      "INFO:tensorflow:global_step/sec: 588.499\n"
     ]
    },
    {
     "name": "stderr",
     "output_type": "stream",
     "text": [
      "INFO:tensorflow:global_step/sec: 588.499\n"
     ]
    },
    {
     "name": "stdout",
     "output_type": "stream",
     "text": [
      "INFO:tensorflow:loss = 0.029920748, step = 8300 (0.169 sec)\n"
     ]
    },
    {
     "name": "stderr",
     "output_type": "stream",
     "text": [
      "INFO:tensorflow:loss = 0.029920748, step = 8300 (0.169 sec)\n"
     ]
    },
    {
     "name": "stdout",
     "output_type": "stream",
     "text": [
      "INFO:tensorflow:global_step/sec: 486.348\n"
     ]
    },
    {
     "name": "stderr",
     "output_type": "stream",
     "text": [
      "INFO:tensorflow:global_step/sec: 486.348\n"
     ]
    },
    {
     "name": "stdout",
     "output_type": "stream",
     "text": [
      "INFO:tensorflow:loss = 0.035075087, step = 8400 (0.196 sec)\n"
     ]
    },
    {
     "name": "stderr",
     "output_type": "stream",
     "text": [
      "INFO:tensorflow:loss = 0.035075087, step = 8400 (0.196 sec)\n"
     ]
    },
    {
     "name": "stdout",
     "output_type": "stream",
     "text": [
      "INFO:tensorflow:global_step/sec: 532.586\n"
     ]
    },
    {
     "name": "stderr",
     "output_type": "stream",
     "text": [
      "INFO:tensorflow:global_step/sec: 532.586\n"
     ]
    },
    {
     "name": "stdout",
     "output_type": "stream",
     "text": [
      "INFO:tensorflow:loss = 5.0596657e-07, step = 8500 (0.189 sec)\n"
     ]
    },
    {
     "name": "stderr",
     "output_type": "stream",
     "text": [
      "INFO:tensorflow:loss = 5.0596657e-07, step = 8500 (0.189 sec)\n"
     ]
    },
    {
     "name": "stdout",
     "output_type": "stream",
     "text": [
      "INFO:tensorflow:global_step/sec: 587.113\n"
     ]
    },
    {
     "name": "stderr",
     "output_type": "stream",
     "text": [
      "INFO:tensorflow:global_step/sec: 587.113\n"
     ]
    },
    {
     "name": "stdout",
     "output_type": "stream",
     "text": [
      "INFO:tensorflow:loss = 3.6472347e-06, step = 8600 (0.168 sec)\n"
     ]
    },
    {
     "name": "stderr",
     "output_type": "stream",
     "text": [
      "INFO:tensorflow:loss = 3.6472347e-06, step = 8600 (0.168 sec)\n"
     ]
    },
    {
     "name": "stdout",
     "output_type": "stream",
     "text": [
      "INFO:tensorflow:global_step/sec: 612.779\n"
     ]
    },
    {
     "name": "stderr",
     "output_type": "stream",
     "text": [
      "INFO:tensorflow:global_step/sec: 612.779\n"
     ]
    },
    {
     "name": "stdout",
     "output_type": "stream",
     "text": [
      "INFO:tensorflow:loss = 0.008800312, step = 8700 (0.164 sec)\n"
     ]
    },
    {
     "name": "stderr",
     "output_type": "stream",
     "text": [
      "INFO:tensorflow:loss = 0.008800312, step = 8700 (0.164 sec)\n"
     ]
    },
    {
     "name": "stdout",
     "output_type": "stream",
     "text": [
      "INFO:tensorflow:global_step/sec: 693.222\n"
     ]
    },
    {
     "name": "stderr",
     "output_type": "stream",
     "text": [
      "INFO:tensorflow:global_step/sec: 693.222\n"
     ]
    },
    {
     "name": "stdout",
     "output_type": "stream",
     "text": [
      "INFO:tensorflow:loss = 0.018215483, step = 8800 (0.145 sec)\n"
     ]
    },
    {
     "name": "stderr",
     "output_type": "stream",
     "text": [
      "INFO:tensorflow:loss = 0.018215483, step = 8800 (0.145 sec)\n"
     ]
    },
    {
     "name": "stdout",
     "output_type": "stream",
     "text": [
      "INFO:tensorflow:global_step/sec: 576.206\n"
     ]
    },
    {
     "name": "stderr",
     "output_type": "stream",
     "text": [
      "INFO:tensorflow:global_step/sec: 576.206\n"
     ]
    },
    {
     "name": "stdout",
     "output_type": "stream",
     "text": [
      "INFO:tensorflow:loss = 0.004966177, step = 8900 (0.175 sec)\n"
     ]
    },
    {
     "name": "stderr",
     "output_type": "stream",
     "text": [
      "INFO:tensorflow:loss = 0.004966177, step = 8900 (0.175 sec)\n"
     ]
    },
    {
     "name": "stdout",
     "output_type": "stream",
     "text": [
      "INFO:tensorflow:global_step/sec: 618.808\n"
     ]
    },
    {
     "name": "stderr",
     "output_type": "stream",
     "text": [
      "INFO:tensorflow:global_step/sec: 618.808\n"
     ]
    },
    {
     "name": "stdout",
     "output_type": "stream",
     "text": [
      "INFO:tensorflow:loss = 0.0094503155, step = 9000 (0.163 sec)\n"
     ]
    },
    {
     "name": "stderr",
     "output_type": "stream",
     "text": [
      "INFO:tensorflow:loss = 0.0094503155, step = 9000 (0.163 sec)\n"
     ]
    },
    {
     "name": "stdout",
     "output_type": "stream",
     "text": [
      "INFO:tensorflow:global_step/sec: 573.598\n"
     ]
    },
    {
     "name": "stderr",
     "output_type": "stream",
     "text": [
      "INFO:tensorflow:global_step/sec: 573.598\n"
     ]
    },
    {
     "name": "stdout",
     "output_type": "stream",
     "text": [
      "INFO:tensorflow:loss = 2.0206799e-05, step = 9100 (0.170 sec)\n"
     ]
    },
    {
     "name": "stderr",
     "output_type": "stream",
     "text": [
      "INFO:tensorflow:loss = 2.0206799e-05, step = 9100 (0.170 sec)\n"
     ]
    },
    {
     "name": "stdout",
     "output_type": "stream",
     "text": [
      "INFO:tensorflow:global_step/sec: 506.368\n"
     ]
    },
    {
     "name": "stderr",
     "output_type": "stream",
     "text": [
      "INFO:tensorflow:global_step/sec: 506.368\n"
     ]
    },
    {
     "name": "stdout",
     "output_type": "stream",
     "text": [
      "INFO:tensorflow:loss = 0.012670839, step = 9200 (0.199 sec)\n"
     ]
    },
    {
     "name": "stderr",
     "output_type": "stream",
     "text": [
      "INFO:tensorflow:loss = 0.012670839, step = 9200 (0.199 sec)\n"
     ]
    },
    {
     "name": "stdout",
     "output_type": "stream",
     "text": [
      "INFO:tensorflow:global_step/sec: 564.022\n"
     ]
    },
    {
     "name": "stderr",
     "output_type": "stream",
     "text": [
      "INFO:tensorflow:global_step/sec: 564.022\n"
     ]
    },
    {
     "name": "stdout",
     "output_type": "stream",
     "text": [
      "INFO:tensorflow:loss = 0.02671388, step = 9300 (0.176 sec)\n"
     ]
    },
    {
     "name": "stderr",
     "output_type": "stream",
     "text": [
      "INFO:tensorflow:loss = 0.02671388, step = 9300 (0.176 sec)\n"
     ]
    },
    {
     "name": "stdout",
     "output_type": "stream",
     "text": [
      "INFO:tensorflow:global_step/sec: 579.681\n"
     ]
    },
    {
     "name": "stderr",
     "output_type": "stream",
     "text": [
      "INFO:tensorflow:global_step/sec: 579.681\n"
     ]
    },
    {
     "name": "stdout",
     "output_type": "stream",
     "text": [
      "INFO:tensorflow:loss = 0.00024787724, step = 9400 (0.180 sec)\n"
     ]
    },
    {
     "name": "stderr",
     "output_type": "stream",
     "text": [
      "INFO:tensorflow:loss = 0.00024787724, step = 9400 (0.180 sec)\n"
     ]
    },
    {
     "name": "stdout",
     "output_type": "stream",
     "text": [
      "INFO:tensorflow:global_step/sec: 507.634\n"
     ]
    },
    {
     "name": "stderr",
     "output_type": "stream",
     "text": [
      "INFO:tensorflow:global_step/sec: 507.634\n"
     ]
    },
    {
     "name": "stdout",
     "output_type": "stream",
     "text": [
      "INFO:tensorflow:loss = 0.049045634, step = 9500 (0.189 sec)\n"
     ]
    },
    {
     "name": "stderr",
     "output_type": "stream",
     "text": [
      "INFO:tensorflow:loss = 0.049045634, step = 9500 (0.189 sec)\n"
     ]
    },
    {
     "name": "stdout",
     "output_type": "stream",
     "text": [
      "INFO:tensorflow:global_step/sec: 519.767\n"
     ]
    },
    {
     "name": "stderr",
     "output_type": "stream",
     "text": [
      "INFO:tensorflow:global_step/sec: 519.767\n"
     ]
    },
    {
     "name": "stdout",
     "output_type": "stream",
     "text": [
      "INFO:tensorflow:loss = 0.09232744, step = 9600 (0.193 sec)\n"
     ]
    },
    {
     "name": "stderr",
     "output_type": "stream",
     "text": [
      "INFO:tensorflow:loss = 0.09232744, step = 9600 (0.193 sec)\n"
     ]
    },
    {
     "name": "stdout",
     "output_type": "stream",
     "text": [
      "INFO:tensorflow:global_step/sec: 716.128\n"
     ]
    },
    {
     "name": "stderr",
     "output_type": "stream",
     "text": [
      "INFO:tensorflow:global_step/sec: 716.128\n"
     ]
    },
    {
     "name": "stdout",
     "output_type": "stream",
     "text": [
      "INFO:tensorflow:loss = 0.0074454676, step = 9700 (0.141 sec)\n"
     ]
    },
    {
     "name": "stderr",
     "output_type": "stream",
     "text": [
      "INFO:tensorflow:loss = 0.0074454676, step = 9700 (0.141 sec)\n"
     ]
    },
    {
     "name": "stdout",
     "output_type": "stream",
     "text": [
      "INFO:tensorflow:global_step/sec: 643.384\n"
     ]
    },
    {
     "name": "stderr",
     "output_type": "stream",
     "text": [
      "INFO:tensorflow:global_step/sec: 643.384\n"
     ]
    },
    {
     "name": "stdout",
     "output_type": "stream",
     "text": [
      "INFO:tensorflow:loss = 0.0009597965, step = 9800 (0.162 sec)\n"
     ]
    },
    {
     "name": "stderr",
     "output_type": "stream",
     "text": [
      "INFO:tensorflow:loss = 0.0009597965, step = 9800 (0.162 sec)\n"
     ]
    },
    {
     "name": "stdout",
     "output_type": "stream",
     "text": [
      "INFO:tensorflow:global_step/sec: 514.274\n"
     ]
    },
    {
     "name": "stderr",
     "output_type": "stream",
     "text": [
      "INFO:tensorflow:global_step/sec: 514.274\n"
     ]
    },
    {
     "name": "stdout",
     "output_type": "stream",
     "text": [
      "INFO:tensorflow:loss = 0.00031451235, step = 9900 (0.187 sec)\n"
     ]
    },
    {
     "name": "stderr",
     "output_type": "stream",
     "text": [
      "INFO:tensorflow:loss = 0.00031451235, step = 9900 (0.187 sec)\n"
     ]
    },
    {
     "name": "stdout",
     "output_type": "stream",
     "text": [
      "INFO:tensorflow:Calling checkpoint listeners before saving checkpoint 10000...\n"
     ]
    },
    {
     "name": "stderr",
     "output_type": "stream",
     "text": [
      "INFO:tensorflow:Calling checkpoint listeners before saving checkpoint 10000...\n"
     ]
    },
    {
     "name": "stdout",
     "output_type": "stream",
     "text": [
      "INFO:tensorflow:Saving checkpoints for 10000 into models/estimator-for-XOR/model.ckpt.\n"
     ]
    },
    {
     "name": "stderr",
     "output_type": "stream",
     "text": [
      "INFO:tensorflow:Saving checkpoints for 10000 into models/estimator-for-XOR/model.ckpt.\n"
     ]
    },
    {
     "name": "stdout",
     "output_type": "stream",
     "text": [
      "INFO:tensorflow:Calling checkpoint listeners after saving checkpoint 10000...\n"
     ]
    },
    {
     "name": "stderr",
     "output_type": "stream",
     "text": [
      "INFO:tensorflow:Calling checkpoint listeners after saving checkpoint 10000...\n"
     ]
    },
    {
     "name": "stdout",
     "output_type": "stream",
     "text": [
      "INFO:tensorflow:Loss for final step: 3.1733722e-07.\n"
     ]
    },
    {
     "name": "stderr",
     "output_type": "stream",
     "text": [
      "INFO:tensorflow:Loss for final step: 3.1733722e-07.\n"
     ]
    },
    {
     "name": "stdout",
     "output_type": "stream",
     "text": [
      "INFO:tensorflow:Calling model_fn.\n"
     ]
    },
    {
     "name": "stderr",
     "output_type": "stream",
     "text": [
      "INFO:tensorflow:Calling model_fn.\n"
     ]
    },
    {
     "name": "stdout",
     "output_type": "stream",
     "text": [
      "INFO:tensorflow:Done calling model_fn.\n"
     ]
    },
    {
     "name": "stderr",
     "output_type": "stream",
     "text": [
      "INFO:tensorflow:Done calling model_fn.\n"
     ]
    },
    {
     "name": "stdout",
     "output_type": "stream",
     "text": [
      "INFO:tensorflow:Starting evaluation at 2020-06-18T15:25:22Z\n"
     ]
    },
    {
     "name": "stderr",
     "output_type": "stream",
     "text": [
      "INFO:tensorflow:Starting evaluation at 2020-06-18T15:25:22Z\n"
     ]
    },
    {
     "name": "stdout",
     "output_type": "stream",
     "text": [
      "INFO:tensorflow:Graph was finalized.\n"
     ]
    },
    {
     "name": "stderr",
     "output_type": "stream",
     "text": [
      "INFO:tensorflow:Graph was finalized.\n"
     ]
    },
    {
     "name": "stdout",
     "output_type": "stream",
     "text": [
      "INFO:tensorflow:Restoring parameters from models/estimator-for-XOR/model.ckpt-10000\n"
     ]
    },
    {
     "name": "stderr",
     "output_type": "stream",
     "text": [
      "INFO:tensorflow:Restoring parameters from models/estimator-for-XOR/model.ckpt-10000\n"
     ]
    },
    {
     "name": "stdout",
     "output_type": "stream",
     "text": [
      "INFO:tensorflow:Running local_init_op.\n"
     ]
    },
    {
     "name": "stderr",
     "output_type": "stream",
     "text": [
      "INFO:tensorflow:Running local_init_op.\n"
     ]
    },
    {
     "name": "stdout",
     "output_type": "stream",
     "text": [
      "INFO:tensorflow:Done running local_init_op.\n"
     ]
    },
    {
     "name": "stderr",
     "output_type": "stream",
     "text": [
      "INFO:tensorflow:Done running local_init_op.\n"
     ]
    },
    {
     "name": "stdout",
     "output_type": "stream",
     "text": [
      "INFO:tensorflow:Inference Time : 0.35829s\n"
     ]
    },
    {
     "name": "stderr",
     "output_type": "stream",
     "text": [
      "INFO:tensorflow:Inference Time : 0.35829s\n"
     ]
    },
    {
     "name": "stdout",
     "output_type": "stream",
     "text": [
      "INFO:tensorflow:Finished evaluation at 2020-06-18-15:25:22\n"
     ]
    },
    {
     "name": "stderr",
     "output_type": "stream",
     "text": [
      "INFO:tensorflow:Finished evaluation at 2020-06-18-15:25:22\n"
     ]
    },
    {
     "name": "stdout",
     "output_type": "stream",
     "text": [
      "INFO:tensorflow:Saving dict for global step 10000: binary_accuracy = 0.96, global_step = 10000, loss = 0.08568959\n"
     ]
    },
    {
     "name": "stderr",
     "output_type": "stream",
     "text": [
      "INFO:tensorflow:Saving dict for global step 10000: binary_accuracy = 0.96, global_step = 10000, loss = 0.08568959\n"
     ]
    },
    {
     "name": "stdout",
     "output_type": "stream",
     "text": [
      "INFO:tensorflow:Saving 'checkpoint_path' summary for global step 10000: models/estimator-for-XOR/model.ckpt-10000\n"
     ]
    },
    {
     "name": "stderr",
     "output_type": "stream",
     "text": [
      "INFO:tensorflow:Saving 'checkpoint_path' summary for global step 10000: models/estimator-for-XOR/model.ckpt-10000\n"
     ]
    },
    {
     "data": {
      "text/plain": [
       "{'binary_accuracy': 0.96, 'loss': 0.08568959, 'global_step': 10000}"
      ]
     },
     "execution_count": 14,
     "metadata": {},
     "output_type": "execute_result"
    }
   ],
   "source": [
    "# Finally step 4: training using the new Estimator and evaluating on the validation set\n",
    "\n",
    "num_epochs = 200\n",
    "batch_size = 2\n",
    "steps_per_epoch = np.ceil(len(x_train) / batch_size)\n",
    "\n",
    "my_estimator.train(\n",
    "    input_fn=lambda: train_input_fn(x_train, y_train,\n",
    "                                   batch_size),\n",
    "    steps = num_epochs * steps_per_epoch)\n",
    "\n",
    "my_estimator.evaluate(\n",
    "    input_fn = lambda: eval_input_fn(x_valid, y_valid,\n",
    "                                    batch_size))\n",
    "\n"
   ]
  }
 ],
 "metadata": {
  "kernelspec": {
   "display_name": "Python 3",
   "language": "python",
   "name": "python3"
  },
  "language_info": {
   "codemirror_mode": {
    "name": "ipython",
    "version": 3
   },
   "file_extension": ".py",
   "mimetype": "text/x-python",
   "name": "python",
   "nbconvert_exporter": "python",
   "pygments_lexer": "ipython3",
   "version": "3.7.5"
  }
 },
 "nbformat": 4,
 "nbformat_minor": 4
}
