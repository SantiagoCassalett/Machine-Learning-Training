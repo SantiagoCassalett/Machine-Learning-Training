{
 "cells": [
  {
   "cell_type": "code",
   "execution_count": 2,
   "metadata": {},
   "outputs": [
    {
     "name": "stderr",
     "output_type": "stream",
     "text": [
      "/Users/santiagocassalett/anaconda3/envs/py37/lib/python3.7/importlib/_bootstrap.py:219: RuntimeWarning: numpy.ufunc size changed, may indicate binary incompatibility. Expected 192 from C header, got 216 from PyObject\n",
      "  return f(*args, **kwds)\n",
      "/Users/santiagocassalett/anaconda3/envs/py37/lib/python3.7/importlib/_bootstrap.py:219: RuntimeWarning: numpy.ufunc size changed, may indicate binary incompatibility. Expected 192 from C header, got 216 from PyObject\n",
      "  return f(*args, **kwds)\n"
     ]
    },
    {
     "data": {
      "text/plain": [
       "0.03432750701904297"
      ]
     },
     "execution_count": 2,
     "metadata": {},
     "output_type": "execute_result"
    }
   ],
   "source": [
    "#Probably mass function - predicting class label via simple majority or plurality voting\n",
    "#This is the ensemble error - this error is smaller than the error of the individual classifiers (0.034 vs 0.25)\n",
    "#An assumption is that the errors are the same for all of the classifiers\n",
    "\n",
    "from scipy.special import comb\n",
    "import math\n",
    "\n",
    "def ensemble_error(n_classifier, error):\n",
    "    k_start = int(math.ceil(n_classifier / 2.))\n",
    "    probs = [comb(n_classifier, k) *\n",
    "            error ** k *\n",
    "            (1 - error) ** (n_classifier - k)\n",
    "            for k in range(k_start, n_classifier + 1)]\n",
    "    return sum(probs)\n",
    "ensemble_error(n_classifier= 11, error= 0.25)"
   ]
  },
  {
   "cell_type": "code",
   "execution_count": null,
   "metadata": {},
   "outputs": [],
   "source": [
    "#Computing a range of ensemble error rates from 0.0 to 1.0\n",
    "\n",
    "import numpy as np\n",
    "import matplotlib.pyplot as plt\n",
    "\n",
    "error_range = np.arange(0.0, 1.0, 0.01)\n",
    "ens_errors = [ensemble_error(n_classifier=11, error = error)\n",
    "             for error in error_range]\n",
    "\n",
    "plt.plot(error_range, ens_errors,\n",
    "        label = 'Ensemble error',\n",
    "        linewidth = 2)\n",
    "plt.plot(error_range, error_range,\n",
    "        linestyle = '--', label = 'Base error',\n",
    "        linewidth = 2)\n",
    "plt.xlabel('Base error')\n",
    "plt.ylabel('Base/Ensemble error')\n",
    "plt.legend(loc = 'upper left')\n",
    "plt.grid(alpha = 0.5)\n",
    "plt.show()\n",
    "\n",
    "#Ensemble is always better than individual classifiers as long as the base classifiers have an\n",
    "# error that is better than random guessing (e < 0.5)"
   ]
  },
  {
   "cell_type": "code",
   "execution_count": 5,
   "metadata": {},
   "outputs": [
    {
     "data": {
      "text/plain": [
       "1"
      ]
     },
     "execution_count": 5,
     "metadata": {},
     "output_type": "execute_result"
    }
   ],
   "source": [
    "#Weighted majority vote - gives more weight to certain classifiers\n",
    "\n",
    "import numpy as np\n",
    "np.argmax(np.bincount([0, 0, 1],\n",
    "                     weights = [0.2, 0.2, 0.6]))"
   ]
  },
  {
   "cell_type": "code",
   "execution_count": 10,
   "metadata": {},
   "outputs": [
    {
     "data": {
      "text/plain": [
       "0"
      ]
     },
     "execution_count": 10,
     "metadata": {},
     "output_type": "execute_result"
    }
   ],
   "source": [
    "#Weighted majority vote based on class probabilities instead of labels\n",
    "\n",
    "ex = np.array([[0.9, 0.1],\n",
    "             [0.8, 0.2],\n",
    "             [0.4, 0.6]])\n",
    "\n",
    "p = np.average(ex, axis = 0, weights = [0.2, 0.2, 0.6])\n",
    "p\n",
    "np.argmax(p)"
   ]
  },
  {
   "cell_type": "code",
   "execution_count": 44,
   "metadata": {},
   "outputs": [],
   "source": [
    "#Combining all of the above - MajorityVoteClassifier\n",
    "# Different than the book - got rid of \"Six\" which was only necessary for python 2.6 compatability\n",
    "\n",
    "from sklearn.base import BaseEstimator\n",
    "from sklearn.base import ClassifierMixin\n",
    "from sklearn.preprocessing import LabelEncoder\n",
    "from sklearn.base import clone\n",
    "from sklearn.pipeline import _name_estimators\n",
    "import numpy as np\n",
    "import operator\n",
    "\n",
    "class MajorityVoteClassifier(BaseEstimator,\n",
    "                            ClassifierMixin):\n",
    "    \"\"\"A majority vote classifier\n",
    "    \n",
    "    Parameters\n",
    "    ----------\n",
    "    classifiers: array-like, shape = [n_classifiers]\n",
    "        Different classifiers for the ensemble\n",
    "    \n",
    "    vote: str, {'classlabel', 'probability'}\n",
    "        Default: 'classlabel'\n",
    "        If 'classlabel' the prediction is based on\n",
    "        the argmax of class labels. Else if\n",
    "        'probablity', the argmax of the sum of\n",
    "        probabilities is used to predict the class label\n",
    "        (recommended for calibrated classifiers).\n",
    "        \n",
    "    weights: array-like, shape = [n_classifiers]\n",
    "        Optional, default: None\n",
    "        If a list of `int` or `float` values are\n",
    "        provided, the classifiers are weighted by\n",
    "        importance; Uses uniform weights if `weights = None`\n",
    "        \n",
    "        \"\"\"\n",
    "    def __init__(self, classifiers,\n",
    "                vote = 'classlabel', weights = None):\n",
    "\n",
    "        self.classifiers = classifiers\n",
    "        self.named_classifiers = {key: value for\n",
    "                                 key, value in \n",
    "                                 _name_estimators(classifiers)}\n",
    "        self.vote = vote\n",
    "        self.weights = weights\n",
    "    \n",
    "    def fit(self, X, y):\n",
    "        \"\"\" Fit Classifiers.\n",
    "        \n",
    "        Parameters\n",
    "        ----------\n",
    "        X: {array-like, sparse matrix},\n",
    "            shape = [n_samples, n_features]\n",
    "            Matrix of training samples.\n",
    "            \n",
    "        y: array-like, shape = [n_samples]\n",
    "            Vector of target class labels.\n",
    "            \n",
    "        Returns\n",
    "        -------\n",
    "        self:object\n",
    "        \n",
    "        \"\"\"\n",
    "        \n",
    "        #Use LabelEncoder to ensure class labels start\n",
    "        #with 0, which is important for np.argmax\n",
    "        #call in self.predict\n",
    "        \n",
    "        self.lablenc_ = LabelEncoder()\n",
    "        self.lablenc_.fit(y)\n",
    "        self.classes_ = self.lablenc_.classes_\n",
    "        self.classifiers_ = []\n",
    "        for clf in self.classifiers:\n",
    "            fitted_clf = clone(clf).fit(X,\n",
    "                                       self.lablenc_.transform(y))\n",
    "            self.classifiers_.append(fitted_clf)\n",
    "        return self\n",
    "    \n",
    "    def predict(self, X):\n",
    "        \"\"\"Predict class labels for X.\n",
    "        \n",
    "        Parameters\n",
    "        ----------\n",
    "        \n",
    "        maj_vote : array-like, shape = [n_samples]\n",
    "            Predicted class labels.\n",
    "        \n",
    "        \"\"\"\n",
    "        \n",
    "        if self.vote == \"probability\":\n",
    "            maj_vote = np.argmax(self.predict_proba(X),\n",
    "                                axis = 1)\n",
    "        \n",
    "        else: # 'class label' vote\n",
    "            \n",
    "            #Collect results from clf.predict calls\n",
    "            predictions = np.asarray([clf.predict(X)\n",
    "                                     for clf in \n",
    "                                     self.classifiers_]).T\n",
    "            \n",
    "            maj_vote = np.apply_along_axis(\n",
    "                        lambda x:\n",
    "                        np.argmax(np.bincount(x,\n",
    "                                             weights = self.weights)),\n",
    "                        axis = 1,\n",
    "                        arr = predictions)\n",
    "        maj_vote = self.lablenc_.inverse_transform(maj_vote)\n",
    "        return(maj_vote)\n",
    "    \n",
    "    def predict_proba(self, X):\n",
    "        \"\"\"Predict class probabilities for X.\n",
    "        \n",
    "        Parameters\n",
    "        ----------\n",
    "        X: {array-like, sparse matrix},\n",
    "            shape = [n_samples, n_features]\n",
    "            Training vectors, where n_samples is\n",
    "            the number of samples and\n",
    "            n_features is the number of features.\n",
    "            \n",
    "        Returns\n",
    "        --------\n",
    "        avg_proba: array-like,\n",
    "            shape = [n_samples, n_classes]\n",
    "            Weighted average probability for\n",
    "            each class per sample.\n",
    "        \n",
    "        \"\"\"\n",
    "        probas = np.asarray([clf.predict_proba(X)\n",
    "                            for clf in self.classifiers_])\n",
    "        avg_proba = np.average(probas,\n",
    "                              axis = 0, weights = self.weights)\n",
    "        return avg_proba\n",
    "    \n",
    "    def get_params(self, deep = True):\n",
    "        \"\"\"Get classifier parameter names for GridSearch\"\"\"\n",
    "        if not deep:\n",
    "            return super(MajorityVoteClassifier,\n",
    "                        self).get_params(deep = False)\n",
    "        else:\n",
    "            out = self.named_classifiers.copy()\n",
    "            for name, step in self.named_classifiers.items():\n",
    "                for key, value in step.get_params(deep = True).items():\n",
    "                    out['%s__%s' % (name, key)] = value\n",
    "            return out"
   ]
  },
  {
   "cell_type": "code",
   "execution_count": null,
   "metadata": {},
   "outputs": [],
   "source": []
  },
  {
   "cell_type": "code",
   "execution_count": 13,
   "metadata": {},
   "outputs": [
    {
     "name": "stderr",
     "output_type": "stream",
     "text": [
      "/Users/santiagocassalett/anaconda3/envs/py37/lib/python3.7/importlib/_bootstrap.py:219: RuntimeWarning: numpy.ufunc size changed, may indicate binary incompatibility. Expected 192 from C header, got 216 from PyObject\n",
      "  return f(*args, **kwds)\n"
     ]
    }
   ],
   "source": [
    "#Importing Iris dataset from sklearn - only going to pull out two variables to make classification\n",
    "# more difficult and also only two classes\n",
    "\n",
    "from sklearn import datasets\n",
    "from sklearn.model_selection import train_test_split\n",
    "from sklearn.preprocessing import StandardScaler\n",
    "from sklearn.preprocessing import LabelEncoder\n",
    "\n",
    "iris = datasets.load_iris()\n",
    "X, y = iris.data[50:, [1, 2]], iris.target[50:]\n",
    "le = LabelEncoder()\n",
    "y = le.fit_transform(y)"
   ]
  },
  {
   "cell_type": "code",
   "execution_count": 14,
   "metadata": {},
   "outputs": [],
   "source": [
    "X_train, X_test, y_train, y_test =\\\n",
    "    train_test_split(X, y, \n",
    "                    test_size = 0.5,\n",
    "                    random_state = 1,\n",
    "                    stratify = y)"
   ]
  },
  {
   "cell_type": "code",
   "execution_count": null,
   "metadata": {},
   "outputs": [],
   "source": []
  },
  {
   "cell_type": "code",
   "execution_count": null,
   "metadata": {},
   "outputs": [],
   "source": [
    "#Now will train three different classifiers: Logistic regression classifier, Decision Tree,\n",
    "# and K-nearest neighbors \n",
    "#Then evaluate the classifiers using 10-fold cross-validation before combining into\n",
    "# the ensemble classifier:\n",
    "\n",
    "from sklearn.model_selection import cross_val_score\n",
    "from sklearn.linear_model import LogisticRegression\n",
    "from sklearn.tree import DecisionTreeClassifier\n",
    "from sklearn.neighbors import KNeighborsClassifier\n",
    "from sklearn.pipeline import Pipeline\n",
    "import numpy as np\n",
    "\n",
    "clf1 = LogisticRegression(penalty='l2',\n",
    "                         C = 0.001,\n",
    "                         random_state=1)\n",
    "\n",
    "clf2 = DecisionTreeClassifier(max_depth=1,\n",
    "                             criterion='entropy',\n",
    "                             random_state=0)\n",
    "\n",
    "clf3 = KNeighborsClassifier(n_neighbors=1,\n",
    "                           p=2, #Euclidean distance\n",
    "                           metric='minkowski')\n",
    "\n",
    "pipe1 = Pipeline([['sc', StandardScaler()],\n",
    "                 ['clf', clf1]])\n",
    "pipe3 = Pipeline([['sc', StandardScaler()],\n",
    "                 ['clf', clf3]])\n",
    "\n",
    "clf_labels = ['Logistic Regression', 'Decision Tree',\n",
    "             'KNN']\n",
    "print('10-fold cross validation:\\n')\n",
    "\n",
    "for clf, label in zip([pipe1, clf2, pipe3], clf_labels):\n",
    "    scores = cross_val_score(estimator = clf,\n",
    "                            X = X_train,\n",
    "                            y = y_train,\n",
    "                            cv = 10,\n",
    "                            scoring = 'roc_auc')\n",
    "    print('ROC AUC: %0.2f (+/- %0.2f) [%s]'\n",
    "         % (scores.mean(), scores.std(), label))\n",
    "\n",
    "    \n",
    "#Only logistic regression and KNN are trained with the pipeline because they need to be scaled/standardized\n",
    "# and Decision Trees do not."
   ]
  },
  {
   "cell_type": "code",
   "execution_count": null,
   "metadata": {},
   "outputs": [],
   "source": []
  },
  {
   "cell_type": "code",
   "execution_count": null,
   "metadata": {},
   "outputs": [],
   "source": []
  },
  {
   "cell_type": "code",
   "execution_count": 46,
   "metadata": {},
   "outputs": [
    {
     "name": "stdout",
     "output_type": "stream",
     "text": [
      "Accuracy: 0.92 (+/- 0.15) [Logistic Regression]\n",
      "Accuracy: 0.87 (+/- 0.18) [Decision Tree]\n",
      "Accuracy: 0.85 (+/- 0.13) [KNN]\n",
      "Accuracy: 0.98 (+/- 0.05) [Majority voting]\n"
     ]
    }
   ],
   "source": [
    "#Combining the individual classifiers into the ensemble\n",
    "\n",
    "mv_clf = MajorityVoteClassifier(\n",
    "                    classifiers= [pipe1, clf2, pipe3])\n",
    "clf_labels += ['Majority voting']\n",
    "all_clf = [pipe1, clf2, pipe3, mv_clf]\n",
    "\n",
    "for clf, label in zip(all_clf, clf_labels):\n",
    "    scores = cross_val_score(estimator=clf,\n",
    "                            X=X_train,\n",
    "                            y=y_train,\n",
    "                            cv = 10,\n",
    "                            scoring = 'roc_auc')\n",
    "    print('Accuracy: %0.2f (+/- %0.2f) [%s]'\n",
    "            % (scores.mean(), scores.std(), label))\n",
    "    \n",
    "#Accuracy of the ensemble is better than individual classifiers"
   ]
  },
  {
   "cell_type": "code",
   "execution_count": null,
   "metadata": {},
   "outputs": [],
   "source": []
  },
  {
   "cell_type": "code",
   "execution_count": null,
   "metadata": {},
   "outputs": [],
   "source": []
  },
  {
   "cell_type": "code",
   "execution_count": 37,
   "metadata": {},
   "outputs": [
    {
     "data": {
      "text/plain": [
       "['Logistic Regression', 'Decision Tree', 'KNN', 'Majority voting']"
      ]
     },
     "execution_count": 37,
     "metadata": {},
     "output_type": "execute_result"
    }
   ],
   "source": [
    "clf_labels"
   ]
  },
  {
   "cell_type": "code",
   "execution_count": 47,
   "metadata": {},
   "outputs": [
    {
     "data": {
      "image/png": "[encoded data removed]",
      "text/plain": [
       "<Figure size 432x288 with 1 Axes>"
      ]
     },
     "metadata": {
      "needs_background": "light"
     },
     "output_type": "display_data"
    }
   ],
   "source": [
    "from sklearn.metrics import roc_curve\n",
    "from sklearn.metrics import auc\n",
    "\n",
    "colors = ['black', 'orange', 'blue', 'green']\n",
    "linestyles = [':', '--', '-.', '-']\n",
    "\n",
    "for clf, label, clr, ls in zip(all_clf, clf_labels, \n",
    "                                colors, linestyles):\n",
    "    # assuming the label of the positive class is 1\n",
    "    \n",
    "    y_pred = clf.fit(X_train,\n",
    "                    y_train).predict_proba(X_test)[:, 1]\n",
    "    fpr, tpr, thresholds = roc_curve(y_true = y_test,\n",
    "                                    y_score = y_pred)\n",
    "    roc_auc = auc(x=fpr, y=tpr)\n",
    "    plt.plot(fpr, tpr,\n",
    "            color = clr,\n",
    "            linestyle = ls,\n",
    "            label = '%s (auc = %0.2f)' % (label, roc_auc))\n",
    "plt.legend(loc = 'lower right')\n",
    "plt.plot([0,1], [0,1],\n",
    "            linestyle = '--',\n",
    "            color = 'gray',\n",
    "            linewidth = 2)\n",
    "plt.xlim([-0.1, 1.1])\n",
    "plt.ylim([-0.1, 1.1])\n",
    "plt.grid(alpha = 0.5)\n",
    "plt.xlabel('False Positive Rate (FPR)')\n",
    "plt.ylabel('True Positive Rate (TPR)')\n",
    "plt.show()"
   ]
  },
  {
   "cell_type": "code",
   "execution_count": null,
   "metadata": {},
   "outputs": [],
   "source": []
  },
  {
   "cell_type": "code",
   "execution_count": 51,
   "metadata": {},
   "outputs": [
    {
     "data": {
      "image/png": "[encoded data removed]",
      "text/plain": [
       "<Figure size 504x360 with 4 Axes>"
      ]
     },
     "metadata": {
      "needs_background": "light"
     },
     "output_type": "display_data"
    }
   ],
   "source": [
    "#Plotting the decision boundary\n",
    "\n",
    "sc = StandardScaler()\n",
    "X_train_std = sc.fit_transform(X_train)\n",
    "\n",
    "from itertools import product\n",
    "\n",
    "x_min = X_train_std[:, 0].min() - 1\n",
    "x_max = X_train_std[:, 0].max() + 1\n",
    "y_min = X_train_std[:, 1].min() - 1\n",
    "y_max = X_train_std[:, 1].max() + 1\n",
    "\n",
    "xx, yy = np.meshgrid(np.arange(x_min, x_max, 0.1),\n",
    "                     np.arange(y_min, y_max, 0.1))\n",
    "f, axarr = plt.subplots(nrows = 2, ncols = 2,\n",
    "                       sharex='col',\n",
    "                       sharey='row',\n",
    "                       figsize = (7, 5))\n",
    "\n",
    "for idx, clf, tt in zip(product([0,1], [0,1]),\n",
    "                       all_clf, clf_labels):\n",
    "    clf.fit(X_train_std, y_train)\n",
    "    Z = clf.predict(np.c_[xx.ravel(), yy.ravel()])\n",
    "    Z = Z.reshape(xx.shape)\n",
    "    axarr[idx[0], idx[1]].contourf(xx, yy, Z, alpha = 0.3)\n",
    "    axarr[idx[0], idx[1]].scatter(X_train_std[y_train == 0, 0],\n",
    "                                 X_train_std[y_train == 0, 1],\n",
    "                                 c = 'blue',\n",
    "                                 marker = '^',\n",
    "                                 s = 50)\n",
    "    axarr[idx[0], idx[1]].scatter(X_train_std[y_train == 1, 0],\n",
    "                                 X_train_std[y_train == 1, 1],\n",
    "                                 c = 'green',\n",
    "                                 marker = 'o',\n",
    "                                 s = 50)\n",
    "    axarr[idx[0], idx[1]].set_title(tt)\n",
    "\n",
    "plt.text(-3.5, -5.0,\n",
    "        s = 'Sepal width [standardized]',\n",
    "        ha = 'center', va = 'center', fontsize = 12)\n",
    "plt.text(-12.5, 4.5,\n",
    "        s = 'Petal length [standardized]',\n",
    "        ha = 'center', va = 'center', fontsize = 12,\n",
    "        rotation = 90)\n",
    "plt.show()"
   ]
  },
  {
   "cell_type": "code",
   "execution_count": 52,
   "metadata": {},
   "outputs": [
    {
     "data": {
      "text/plain": [
       "{'pipeline-1': Pipeline(memory=None,\n",
       "          steps=[('sc',\n",
       "                  StandardScaler(copy=True, with_mean=True, with_std=True)),\n",
       "                 ['clf',\n",
       "                  LogisticRegression(C=0.001, class_weight=None, dual=False,\n",
       "                                     fit_intercept=True, intercept_scaling=1,\n",
       "                                     l1_ratio=None, max_iter=100,\n",
       "                                     multi_class='auto', n_jobs=None,\n",
       "                                     penalty='l2', random_state=1,\n",
       "                                     solver='lbfgs', tol=0.0001, verbose=0,\n",
       "                                     warm_start=False)]],\n",
       "          verbose=False),\n",
       " 'decisiontreeclassifier': DecisionTreeClassifier(ccp_alpha=0.0, class_weight=None, criterion='entropy',\n",
       "                        max_depth=1, max_features=None, max_leaf_nodes=None,\n",
       "                        min_impurity_decrease=0.0, min_impurity_split=None,\n",
       "                        min_samples_leaf=1, min_samples_split=2,\n",
       "                        min_weight_fraction_leaf=0.0, presort='deprecated',\n",
       "                        random_state=0, splitter='best'),\n",
       " 'pipeline-2': Pipeline(memory=None,\n",
       "          steps=[('sc',\n",
       "                  StandardScaler(copy=True, with_mean=True, with_std=True)),\n",
       "                 ['clf',\n",
       "                  KNeighborsClassifier(algorithm='auto', leaf_size=30,\n",
       "                                       metric='minkowski', metric_params=None,\n",
       "                                       n_jobs=None, n_neighbors=1, p=2,\n",
       "                                       weights='uniform')]],\n",
       "          verbose=False),\n",
       " 'pipeline-1__memory': None,\n",
       " 'pipeline-1__steps': [('sc',\n",
       "   StandardScaler(copy=True, with_mean=True, with_std=True)),\n",
       "  ['clf',\n",
       "   LogisticRegression(C=0.001, class_weight=None, dual=False, fit_intercept=True,\n",
       "                      intercept_scaling=1, l1_ratio=None, max_iter=100,\n",
       "                      multi_class='auto', n_jobs=None, penalty='l2',\n",
       "                      random_state=1, solver='lbfgs', tol=0.0001, verbose=0,\n",
       "                      warm_start=False)]],\n",
       " 'pipeline-1__verbose': False,\n",
       " 'pipeline-1__sc': StandardScaler(copy=True, with_mean=True, with_std=True),\n",
       " 'pipeline-1__clf': LogisticRegression(C=0.001, class_weight=None, dual=False, fit_intercept=True,\n",
       "                    intercept_scaling=1, l1_ratio=None, max_iter=100,\n",
       "                    multi_class='auto', n_jobs=None, penalty='l2',\n",
       "                    random_state=1, solver='lbfgs', tol=0.0001, verbose=0,\n",
       "                    warm_start=False),\n",
       " 'pipeline-1__sc__copy': True,\n",
       " 'pipeline-1__sc__with_mean': True,\n",
       " 'pipeline-1__sc__with_std': True,\n",
       " 'pipeline-1__clf__C': 0.001,\n",
       " 'pipeline-1__clf__class_weight': None,\n",
       " 'pipeline-1__clf__dual': False,\n",
       " 'pipeline-1__clf__fit_intercept': True,\n",
       " 'pipeline-1__clf__intercept_scaling': 1,\n",
       " 'pipeline-1__clf__l1_ratio': None,\n",
       " 'pipeline-1__clf__max_iter': 100,\n",
       " 'pipeline-1__clf__multi_class': 'auto',\n",
       " 'pipeline-1__clf__n_jobs': None,\n",
       " 'pipeline-1__clf__penalty': 'l2',\n",
       " 'pipeline-1__clf__random_state': 1,\n",
       " 'pipeline-1__clf__solver': 'lbfgs',\n",
       " 'pipeline-1__clf__tol': 0.0001,\n",
       " 'pipeline-1__clf__verbose': 0,\n",
       " 'pipeline-1__clf__warm_start': False,\n",
       " 'decisiontreeclassifier__ccp_alpha': 0.0,\n",
       " 'decisiontreeclassifier__class_weight': None,\n",
       " 'decisiontreeclassifier__criterion': 'entropy',\n",
       " 'decisiontreeclassifier__max_depth': 1,\n",
       " 'decisiontreeclassifier__max_features': None,\n",
       " 'decisiontreeclassifier__max_leaf_nodes': None,\n",
       " 'decisiontreeclassifier__min_impurity_decrease': 0.0,\n",
       " 'decisiontreeclassifier__min_impurity_split': None,\n",
       " 'decisiontreeclassifier__min_samples_leaf': 1,\n",
       " 'decisiontreeclassifier__min_samples_split': 2,\n",
       " 'decisiontreeclassifier__min_weight_fraction_leaf': 0.0,\n",
       " 'decisiontreeclassifier__presort': 'deprecated',\n",
       " 'decisiontreeclassifier__random_state': 0,\n",
       " 'decisiontreeclassifier__splitter': 'best',\n",
       " 'pipeline-2__memory': None,\n",
       " 'pipeline-2__steps': [('sc',\n",
       "   StandardScaler(copy=True, with_mean=True, with_std=True)),\n",
       "  ['clf',\n",
       "   KNeighborsClassifier(algorithm='auto', leaf_size=30, metric='minkowski',\n",
       "                        metric_params=None, n_jobs=None, n_neighbors=1, p=2,\n",
       "                        weights='uniform')]],\n",
       " 'pipeline-2__verbose': False,\n",
       " 'pipeline-2__sc': StandardScaler(copy=True, with_mean=True, with_std=True),\n",
       " 'pipeline-2__clf': KNeighborsClassifier(algorithm='auto', leaf_size=30, metric='minkowski',\n",
       "                      metric_params=None, n_jobs=None, n_neighbors=1, p=2,\n",
       "                      weights='uniform'),\n",
       " 'pipeline-2__sc__copy': True,\n",
       " 'pipeline-2__sc__with_mean': True,\n",
       " 'pipeline-2__sc__with_std': True,\n",
       " 'pipeline-2__clf__algorithm': 'auto',\n",
       " 'pipeline-2__clf__leaf_size': 30,\n",
       " 'pipeline-2__clf__metric': 'minkowski',\n",
       " 'pipeline-2__clf__metric_params': None,\n",
       " 'pipeline-2__clf__n_jobs': None,\n",
       " 'pipeline-2__clf__n_neighbors': 1,\n",
       " 'pipeline-2__clf__p': 2,\n",
       " 'pipeline-2__clf__weights': 'uniform'}"
      ]
     },
     "execution_count": 52,
     "metadata": {},
     "output_type": "execute_result"
    }
   ],
   "source": [
    "mv_clf.get_params()"
   ]
  },
  {
   "cell_type": "code",
   "execution_count": 57,
   "metadata": {},
   "outputs": [
    {
     "name": "stdout",
     "output_type": "stream",
     "text": [
      "0.983 +/- 0.02 {'decisiontreeclassifier__max_depth': 1, 'pipeline-1__clf__C': 0.001}\n",
      "0.983 +/- 0.02 {'decisiontreeclassifier__max_depth': 1, 'pipeline-1__clf__C': 0.1}\n",
      "0.967 +/- 0.05 {'decisiontreeclassifier__max_depth': 1, 'pipeline-1__clf__C': 100.0}\n",
      "0.983 +/- 0.02 {'decisiontreeclassifier__max_depth': 2, 'pipeline-1__clf__C': 0.001}\n",
      "0.983 +/- 0.02 {'decisiontreeclassifier__max_depth': 2, 'pipeline-1__clf__C': 0.1}\n",
      "0.967 +/- 0.05 {'decisiontreeclassifier__max_depth': 2, 'pipeline-1__clf__C': 100.0}\n",
      "Best parameters: {'decisiontreeclassifier__max_depth': 1, 'pipeline-1__clf__C': 0.001}\n"
     ]
    }
   ],
   "source": [
    "# Tuning individual classifier's parameters using grid search\n",
    "# tuning the C of the logisitic regression and depth of the decision tree\n",
    "#Different than the book - GridSearchCV no longer has grid_scores_\n",
    "\n",
    "from sklearn.model_selection import GridSearchCV\n",
    "\n",
    "params = {'decisiontreeclassifier__max_depth': [1, 2],\n",
    "         'pipeline-1__clf__C': [0.001, 0.1, 100.0]}\n",
    "\n",
    "grid = GridSearchCV(estimator=mv_clf,\n",
    "                   param_grid=params,\n",
    "                   cv = 10,\n",
    "                   scoring='roc_auc')\n",
    "\n",
    "grid.fit(X_train, y_train)\n",
    "\n",
    "for r, _ in enumerate(grid.cv_results_['mean_test_score']):\n",
    "    print(\"%0.3f +/- %0.2f %r\"\n",
    "          % (grid.cv_results_['mean_test_score'][r], \n",
    "             grid.cv_results_['std_test_score'][r] / 2.0, \n",
    "             grid.cv_results_['params'][r]))\n"
   ]
  },
  {
   "cell_type": "code",
   "execution_count": 60,
   "metadata": {},
   "outputs": [
    {
     "name": "stdout",
     "output_type": "stream",
     "text": [
      "Best parameters: {'decisiontreeclassifier__max_depth': 1, 'pipeline-1__clf__C': 0.001}\n",
      "Accuracy: 0.98\n"
     ]
    }
   ],
   "source": [
    "print('Best parameters: %s' %grid.best_params_)\n",
    "print('Accuracy: %.2f' %grid.best_score_)"
   ]
  },
  {
   "cell_type": "code",
   "execution_count": 1,
   "metadata": {},
   "outputs": [],
   "source": [
    "#Bagging - only considering wine classes 2 and 3 and two features: alcohol and OD280\n",
    "\n",
    "import pandas as pd\n",
    "df_wine = pd.read_csv(\"wine.data\")"
   ]
  },
  {
   "cell_type": "code",
   "execution_count": 3,
   "metadata": {},
   "outputs": [],
   "source": [
    "df_wine.columns = ['Class label', 'Alcohol', 'Malic acid',\n",
    "                  'Ash', 'Alcalinity of ash', 'Magnesium', \n",
    "                  'Total phenols', 'Flavanoids', 'Nonflavanoid phenols',\n",
    "                  'Proanthocyanins', 'Color intensity', 'Hue',\n",
    "                  'OD280/OD315 of diluted wines', 'Proline']\n",
    "\n",
    "#Drop 1 class\n",
    "\n",
    "df_wine = df_wine[df_wine['Class label'] != 1]\n",
    "\n",
    "y = df_wine['Class label'].values\n",
    "X = df_wine[['Alcohol', 'OD280/OD315 of diluted wines']].values"
   ]
  },
  {
   "cell_type": "code",
   "execution_count": 5,
   "metadata": {},
   "outputs": [],
   "source": [
    "from sklearn.preprocessing import LabelEncoder\n",
    "from sklearn.model_selection import train_test_split\n",
    "\n",
    "le = LabelEncoder()\n",
    "y = le.fit_transform(y)\n",
    "\n",
    "X_train, X_test, y_train, y_test = \\\n",
    "            train_test_split(X, y, \n",
    "                            test_size = 0.2,\n",
    "                            random_state = 1,\n",
    "                            stratify = y)"
   ]
  },
  {
   "cell_type": "code",
   "execution_count": 8,
   "metadata": {},
   "outputs": [],
   "source": [
    "#Bagging 500 trees on different bootstrapped samples\n",
    "#Both of these (tree and bag) are initializations of the classifier and not actually\n",
    "# fit to any data yet\n",
    "\n",
    "from sklearn.ensemble import BaggingClassifier\n",
    "\n",
    "tree = DecisionTreeClassifier(criterion = 'entropy',\n",
    "                             random_state=1,\n",
    "                             max_depth=None)\n",
    "bag = BaggingClassifier(base_estimator=tree,\n",
    "                       n_estimators=500,\n",
    "                       max_samples=1.0,\n",
    "                       max_features = 1.0,\n",
    "                       bootstrap = True,\n",
    "                       bootstrap_features = False,\n",
    "                       n_jobs = 1,\n",
    "                       random_state = 1)"
   ]
  },
  {
   "cell_type": "code",
   "execution_count": 9,
   "metadata": {},
   "outputs": [
    {
     "name": "stdout",
     "output_type": "stream",
     "text": [
      "Decision tree train/test accuracy 1.000/0.833\n"
     ]
    }
   ],
   "source": [
    "#Fitting the classifiers - calculating the accuracy scores for the \n",
    "# test and training datasets on the single tree (tree) or the ensemble (bag)\n",
    "\n",
    "from sklearn.metrics import accuracy_score\n",
    "\n",
    "tree = tree.fit(X_train, y_train)\n",
    "y_train_pred = tree.predict(X_train)\n",
    "y_test_pred = tree.predict(X_test)\n",
    "\n",
    "tree_train = accuracy_score(y_train, y_train_pred)\n",
    "tree_test = accuracy_score(y_test, y_test_pred)\n",
    "\n",
    "print('Decision tree train/test accuracy %.3f/%.3f'\n",
    "         %(tree_train, tree_test))\n",
    "\n",
    "#Results suggest that the single tree had a train accuracy of 100 but only 83 for test accuracy\n",
    "# this suggests overfitting (high variance)"
   ]
  },
  {
   "cell_type": "code",
   "execution_count": 10,
   "metadata": {},
   "outputs": [
    {
     "name": "stdout",
     "output_type": "stream",
     "text": [
      "Bagging train/test accuracy 1.000/0.917\n"
     ]
    }
   ],
   "source": [
    "bag = bag.fit(X_train, y_train)\n",
    "y_train_pred = bag.predict(X_train)\n",
    "y_test_pred = bag.predict(X_test)\n",
    "bag_train = accuracy_score(y_train, y_train_pred)\n",
    "bag_test = accuracy_score(y_test, y_test_pred)\n",
    "\n",
    "print('Bagging train/test accuracy %.3f/%.3f'\n",
    "         %(bag_train, bag_test))\n",
    "\n",
    "#Slightly better generalization performance (test set) but same 100% training accuracy\n",
    "# bagging is therefore slightly better (less overfit)"
   ]
  },
  {
   "cell_type": "code",
   "execution_count": 13,
   "metadata": {},
   "outputs": [
    {
     "data": {
      "image/png": "[encoded data removed]",
      "text/plain": [
       "<Figure size 576x216 with 2 Axes>"
      ]
     },
     "metadata": {
      "needs_background": "light"
     },
     "output_type": "display_data"
    }
   ],
   "source": [
    "#Decision region for the two classifiers\n",
    "\n",
    "x_min = X_train[:, 0].min()-1\n",
    "x_max = X_train[:, 0].max()+1\n",
    "y_min = X_train[:, 1].min()-1\n",
    "y_max = X_train[:, 1].max()+1\n",
    "xx,yy = np.meshgrid(np.arange(x_min, x_max, 0.1),\n",
    "                   np.arange(y_min, y_max, 0.1))\n",
    "\n",
    "f, axarr = plt.subplots(nrows = 1, ncols = 2,\n",
    "                       sharex = 'col',\n",
    "                       sharey = 'row',\n",
    "                       figsize = (8, 3))\n",
    "\n",
    "for idx, clf, tt in zip([0, 1],\n",
    "                       [tree, bag],\n",
    "                       ['Decision Tree', 'Bagging']):\n",
    "    clf.fit(X_train, y_train)\n",
    "    \n",
    "    Z = clf.predict(np.c_[xx.ravel(), yy.ravel()])\n",
    "    Z = Z.reshape(xx.shape)\n",
    "    \n",
    "    axarr[idx].contourf(xx, yy, Z, alpha = 0.3)\n",
    "    axarr[idx].scatter(X_train[y_train == 0, 0],\n",
    "                      X_train[y_train == 0, 1],\n",
    "                      c = 'blue', marker = '^')\n",
    "    axarr[idx].scatter(X_train[y_train == 1, 0],\n",
    "                      X_train[y_train == 1, 1],\n",
    "                      c = 'green', marker = 'o')\n",
    "    axarr[idx].set_title(tt)\n",
    "\n",
    "axarr[0].set_ylabel('Alcohol', fontsize = 12)\n",
    "plt.text(10.2, -1.2,\n",
    "        s = 'OD280/OD315 of diluted wines',\n",
    "        ha = 'center', va = 'center', fontsize = 12)\n",
    "plt.show()\n",
    "    \n"
   ]
  },
  {
   "cell_type": "code",
   "execution_count": 15,
   "metadata": {},
   "outputs": [
    {
     "name": "stdout",
     "output_type": "stream",
     "text": [
      "Decision tree train/test accuracies 0.916/0.875\n"
     ]
    }
   ],
   "source": [
    "#Using AdaBoost - ensemble of multiple trees - different than bagging above\n",
    "# all start with equal weights but misclassified samples are upweighted and \n",
    "# correctly classified samples are downweighted - final trees are then \n",
    "# combined and majority vote is done for the classifications\n",
    "\n",
    "from sklearn.ensemble import AdaBoostClassifier\n",
    "tree = DecisionTreeClassifier(criterion='entropy',\n",
    "                             random_state=1,\n",
    "                             max_depth=1)\n",
    "ada = AdaBoostClassifier(base_estimator=tree,\n",
    "                        n_estimators=500,\n",
    "                        learning_rate=0.1,\n",
    "                        random_state=1)\n",
    "\n",
    "tree = tree.fit(X_train, y_train)\n",
    "y_train_pred = tree.predict(X_train)\n",
    "y_test_pred = tree.predict(X_test)\n",
    "\n",
    "tree_train = accuracy_score(y_train, y_train_pred)\n",
    "tree_test = accuracy_score(y_test, y_test_pred)\n",
    "\n",
    "print('Decision tree train/test accuracies %.3f/%.3f' \n",
    "         % (tree_train, tree_test))\n",
    "\n",
    "#Underfits the training data - decision tree stump because max depth of 1\n",
    "# versus the last was unprunned\n",
    "\n",
    "#Adaboost gives very similar results to the bagging example above"
   ]
  },
  {
   "cell_type": "code",
   "execution_count": 16,
   "metadata": {},
   "outputs": [
    {
     "name": "stdout",
     "output_type": "stream",
     "text": [
      "Adaboost train/test accuracies 1.000/0.917\n"
     ]
    }
   ],
   "source": [
    "ada = ada.fit(X_train, y_train)\n",
    "\n",
    "y_train_pred = ada.predict(X_train)\n",
    "y_test_pred = ada.predict(X_test)\n",
    "\n",
    "ada_train = accuracy_score(y_train, y_train_pred)\n",
    "ada_test = accuracy_score(y_test, y_test_pred)\n",
    "\n",
    "print('Adaboost train/test accuracies %.3f/%.3f' \n",
    "         % (ada_train, ada_test))\n",
    "\n",
    "#We perfectly fit the training data but we increased the variance between the training data\n",
    "# and the test data suggesting we are overfitting but decreases bias "
   ]
  },
  {
   "cell_type": "code",
   "execution_count": 19,
   "metadata": {},
   "outputs": [
    {
     "data": {
      "image/png": "[encoded data removed]",
      "text/plain": [
       "<Figure size 576x216 with 2 Axes>"
      ]
     },
     "metadata": {
      "needs_background": "light"
     },
     "output_type": "display_data"
    }
   ],
   "source": [
    "#Decision region for the two classifiers\n",
    "\n",
    "x_min = X_train[:, 0].min()-1\n",
    "x_max = X_train[:, 0].max()+1\n",
    "y_min = X_train[:, 1].min()-1\n",
    "y_max = X_train[:, 1].max()+1\n",
    "xx,yy = np.meshgrid(np.arange(x_min, x_max, 0.1),\n",
    "                   np.arange(y_min, y_max, 0.1))\n",
    "\n",
    "f, axarr = plt.subplots(nrows = 1, ncols = 2,\n",
    "                       sharex = 'col',\n",
    "                       sharey = 'row',\n",
    "                       figsize = (8, 3))\n",
    "\n",
    "for idx, clf, tt in zip([0, 1],\n",
    "                       [tree, ada],\n",
    "                       ['Decision Tree', 'AdaBoost']):\n",
    "    clf.fit(X_train, y_train)\n",
    "    \n",
    "    Z = clf.predict(np.c_[xx.ravel(), yy.ravel()])\n",
    "    Z = Z.reshape(xx.shape)\n",
    "    \n",
    "    axarr[idx].contourf(xx, yy, Z, alpha = 0.3)\n",
    "    axarr[idx].scatter(X_train[y_train == 0, 0],\n",
    "                      X_train[y_train == 0, 1],\n",
    "                      c = 'blue', marker = '^')\n",
    "    axarr[idx].scatter(X_train[y_train == 1, 0],\n",
    "                      X_train[y_train == 1, 1],\n",
    "                      c = 'green', marker = 'o')\n",
    "    axarr[idx].set_title(tt)\n",
    "\n",
    "axarr[0].set_ylabel('Alcohol', fontsize = 12)\n",
    "plt.text(10.2, -0.5,\n",
    "        s = 'OD280/OD315 of diluted wines',\n",
    "        ha = 'center', va = 'center', fontsize = 12)\n",
    "plt.show()\n",
    "    \n"
   ]
  }
 ],
 "metadata": {
  "kernelspec": {
   "display_name": "Python 3",
   "language": "python",
   "name": "python3"
  },
  "language_info": {
   "codemirror_mode": {
    "name": "ipython",
    "version": 3
   },
   "file_extension": ".py",
   "mimetype": "text/x-python",
   "name": "python",
   "nbconvert_exporter": "python",
   "pygments_lexer": "ipython3",
   "version": "3.7.5"
  }
 },
 "nbformat": 4,
 "nbformat_minor": 2
}
