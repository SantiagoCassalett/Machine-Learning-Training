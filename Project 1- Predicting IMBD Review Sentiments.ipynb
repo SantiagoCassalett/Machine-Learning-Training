{
 "cells": [
  {
   "cell_type": "code",
   "execution_count": 1,
   "metadata": {},
   "outputs": [],
   "source": [
    "##############################\n",
    "#Preparing movie review data #\n",
    "##############################"
   ]
  },
  {
   "cell_type": "code",
   "execution_count": 1,
   "metadata": {},
   "outputs": [],
   "source": [
    "import tensorflow as tf\n",
    "import tensorflow_datasets as tfds\n",
    "import numpy as np\n",
    "import pandas as pd\n",
    "\n",
    "df = pd.read_csv('movie_data.csv', encoding='utf-8')"
   ]
  },
  {
   "cell_type": "code",
   "execution_count": null,
   "metadata": {},
   "outputs": [],
   "source": []
  },
  {
   "cell_type": "code",
   "execution_count": null,
   "metadata": {},
   "outputs": [],
   "source": []
  },
  {
   "cell_type": "code",
   "execution_count": 3,
   "metadata": {},
   "outputs": [],
   "source": [
    "#Before feeding the data into the RNN - need to apply preprocessing steps\n",
    "# 1) Create a TF dataset object - split into training, test, and validation partitions\n",
    "# 2) Identify the unique words in the training dataset\n",
    "# 3) Map each unique word to a unique integer and encode the review text into encoded integers\n",
    "# 4) Divide the dataset into mini-batches as input to the model"
   ]
  },
  {
   "cell_type": "code",
   "execution_count": 2,
   "metadata": {},
   "outputs": [
    {
     "name": "stdout",
     "output_type": "stream",
     "text": [
      "b'In 1974, the teenager Martha Moxley (Maggie Grace)' 1\n",
      "b'OK... so... I really like Kris Kristofferson and h' 0\n",
      "b'***SPOILER*** Do not read this, if you think about' 0\n"
     ]
    }
   ],
   "source": [
    "#Step 1) Creating a tensorflow dataset\n",
    "\n",
    "target = df.pop('sentiment')\n",
    "ds_raw = tf.data.Dataset.from_tensor_slices(\n",
    "    (df.values, target.values))\n",
    "\n",
    "## Inspection:\n",
    "for ex in ds_raw.take(3):\n",
    "    tf.print(ex[0].numpy()[0][ :50], ex[1])"
   ]
  },
  {
   "cell_type": "code",
   "execution_count": null,
   "metadata": {},
   "outputs": [],
   "source": []
  },
  {
   "cell_type": "code",
   "execution_count": 3,
   "metadata": {},
   "outputs": [],
   "source": [
    "# Splitting the data set - 50,000 total sample - 25,000 to evaluation, 20,000 for training and 5000 for validation\n",
    "tf.random.set_seed(1)\n",
    "ds_raw = ds_raw.shuffle(\n",
    "    50000, reshuffle_each_iteration=False)\n",
    "\n",
    "ds_raw_test = ds_raw.take(25000)\n",
    "ds_raw_train_valid = ds_raw.skip(25000)\n",
    "ds_raw_train = ds_raw_train_valid.take(20000)\n",
    "ds_raw_valid = ds_raw_train_valid.skip(20000)\n"
   ]
  },
  {
   "cell_type": "code",
   "execution_count": null,
   "metadata": {},
   "outputs": [],
   "source": []
  },
  {
   "cell_type": "code",
   "execution_count": 4,
   "metadata": {},
   "outputs": [
    {
     "name": "stdout",
     "output_type": "stream",
     "text": [
      "Vocab-size: 87007\n"
     ]
    }
   ],
   "source": [
    "# Step 2: find unique tokens (words)\n",
    "\n",
    "from collections import Counter\n",
    "\n",
    "tokenizer = tfds.features.text.Tokenizer()\n",
    "token_counts = Counter()\n",
    "\n",
    "for example in ds_raw_train:\n",
    "    tokens = tokenizer.tokenize(example[0].numpy()[0])\n",
    "    token_counts.update(tokens)\n",
    "    \n",
    "print('Vocab-size:', len(token_counts))\n"
   ]
  },
  {
   "cell_type": "code",
   "execution_count": null,
   "metadata": {},
   "outputs": [],
   "source": []
  },
  {
   "cell_type": "code",
   "execution_count": 5,
   "metadata": {},
   "outputs": [
    {
     "name": "stdout",
     "output_type": "stream",
     "text": [
      "[232, 9, 270, 1123]\n"
     ]
    }
   ],
   "source": [
    "# Step 3: encoding unique tokens to integers\n",
    "encoder = tfds.features.text.TokenTextEncoder(token_counts) #ignores the counts and just takes the words\n",
    "example_str = 'This is an example!'\n",
    "\n",
    "print(encoder.encode(example_str))\n"
   ]
  },
  {
   "cell_type": "code",
   "execution_count": null,
   "metadata": {},
   "outputs": [],
   "source": []
  },
  {
   "cell_type": "code",
   "execution_count": 6,
   "metadata": {},
   "outputs": [],
   "source": [
    "# Next step is to use the .map() method to transform the text using the encoder but\n",
    "# first need to do the below\n",
    "\n",
    "# Step 3-A: Define the function for transformation\n",
    "# Because the text data is enclosed in a tensor object - we cant use the .map() method directly\n",
    "# We need to create two functions\n",
    "\n",
    "#This first function treats the input tensors as if the .numpy() method was in eager execution mode\n",
    "# The .numpy() method is able to read the text data that is in the tensor object\n",
    "\n",
    "def encode(text_tensor, label):\n",
    "    text = text_tensor.numpy()[0]\n",
    "    encoded_text = encoder.encode(text)\n",
    "    return encoded_text, label"
   ]
  },
  {
   "cell_type": "code",
   "execution_count": null,
   "metadata": {},
   "outputs": [],
   "source": []
  },
  {
   "cell_type": "code",
   "execution_count": 7,
   "metadata": {},
   "outputs": [
    {
     "name": "stdout",
     "output_type": "stream",
     "text": [
      "Sequence length: (24,)\n",
      "Sequence length: (179,)\n",
      "Sequence length: (262,)\n",
      "Sequence length: (535,)\n",
      "Sequence length: (130,)\n"
     ]
    }
   ],
   "source": [
    "# Function 2) A wrapper for the first function using tf.py_function - convert it to a TF operator\n",
    "# .map() method can then be used\n",
    "\n",
    "#Step 3-B: Wrap the encode function to a TF op.\n",
    "\n",
    "def encode_map_fn(text, label):\n",
    "    return tf.py_function(encode, inp = [text, label],\n",
    "                         Tout = (tf.int64, tf.int64))\n",
    "\n",
    "#Using the wrapper function to use map and to transform the text to tokens\n",
    "ds_train = ds_raw_train.map(encode_map_fn)\n",
    "ds_valid = ds_raw_valid.map(encode_map_fn)\n",
    "ds_test = ds_raw_test.map(encode_map_fn)\n",
    "\n",
    "#Look at the shape of some examples:\n",
    "tf.random.set_seed(1)\n",
    "\n",
    "for example in ds_train.shuffle(1000).take(5):\n",
    "    print('Sequence length:', example[0].shape)"
   ]
  },
  {
   "cell_type": "code",
   "execution_count": null,
   "metadata": {},
   "outputs": [],
   "source": []
  },
  {
   "cell_type": "code",
   "execution_count": 8,
   "metadata": {},
   "outputs": [
    {
     "name": "stdout",
     "output_type": "stream",
     "text": [
      "Individual size: (119,)\n",
      "Individual size: (688,)\n",
      "Individual size: (308,)\n",
      "Individual size: (204,)\n",
      "Individual size: (326,)\n",
      "Individual size: (240,)\n",
      "Individual size: (127,)\n",
      "Individual size: (453,)\n"
     ]
    }
   ],
   "source": [
    "# An issue that still exists after converting the sequences of words into sequences of intergers, is \n",
    "# that they have different lengths - RNN are more efficient if they are the same length\n",
    "\n",
    "#Can use padded_batch() to combine different sizes sequences into mini-batches\n",
    "# takes the maximum (largest) sequence and pad the smaller ones to be the same length (using 0s)\n",
    "\n",
    "#Take a small subset\n",
    "ds_subset = ds_train.take(8)\n",
    "for example in ds_subset:\n",
    "    print('Individual size:', example[0].shape)\n",
    "\n",
    "# Can see for the 8 samples, all are different lengths"
   ]
  },
  {
   "cell_type": "code",
   "execution_count": null,
   "metadata": {},
   "outputs": [],
   "source": []
  },
  {
   "cell_type": "code",
   "execution_count": 9,
   "metadata": {},
   "outputs": [
    {
     "name": "stdout",
     "output_type": "stream",
     "text": [
      "Batch dimension: (4, 688)\n",
      "Batch dimension: (4, 453)\n"
     ]
    }
   ],
   "source": [
    "# Dividing the dataset into batches\n",
    "ds_batched = ds_subset.padded_batch(4, padded_shapes=([-1], []))\n",
    "\n",
    "for batch in ds_batched:\n",
    "    print('Batch dimension:', batch[0].shape)\n",
    "    \n",
    "#Here we can see the 4 batches and the columns being 688 and 453 (batch.shape[1])\n",
    "# 688 is the maximum size from the samples in the batch so all others are padded to match\n",
    "# same with the 453"
   ]
  },
  {
   "cell_type": "code",
   "execution_count": null,
   "metadata": {},
   "outputs": [],
   "source": []
  },
  {
   "cell_type": "code",
   "execution_count": 10,
   "metadata": {},
   "outputs": [],
   "source": [
    "# Will do the above to batch the all the samples into batch size of 32\n",
    "\n",
    "train_data = ds_train.padded_batch(32, padded_shapes=([-1], []))\n",
    "\n",
    "valid_data = ds_valid.padded_batch(32, padded_shapes=([-1], []))\n",
    "\n",
    "test_data = ds_test.padded_batch(32, padded_shapes=([-1], []))\n",
    "\n",
    "#Now the data is in a suitable format for the RNN model\n",
    "# First we will go over feature embedding which is optional but recommended \n",
    "# for reducing dimensionality of the word vectors"
   ]
  },
  {
   "cell_type": "code",
   "execution_count": null,
   "metadata": {},
   "outputs": [],
   "source": [
    "##########################################\n",
    "# Embedding layers for sentence encoding #\n",
    "##########################################"
   ]
  },
  {
   "cell_type": "code",
   "execution_count": 11,
   "metadata": {},
   "outputs": [
    {
     "name": "stdout",
     "output_type": "stream",
     "text": [
      "Model: \"sequential\"\n",
      "_________________________________________________________________\n",
      "Layer (type)                 Output Shape              Param #   \n",
      "=================================================================\n",
      "embed-layer (Embedding)      (None, 20, 6)             600       \n",
      "=================================================================\n",
      "Total params: 600\n",
      "Trainable params: 600\n",
      "Non-trainable params: 0\n",
      "_________________________________________________________________\n"
     ]
    }
   ],
   "source": [
    "from tensorflow.keras.layers import Embedding\n",
    "\n",
    "model = tf.keras.Sequential()\n",
    "\n",
    "model.add(Embedding(input_dim = 100, #unique integer values that the model will receive as input\n",
    "                   output_dim=6, # output size of the embedding feature\n",
    "                   input_length=20, # length of the sequence inputs - can be set to None for variable\n",
    "                   name = 'embed-layer'))\n",
    "\n",
    "model.summary()"
   ]
  },
  {
   "cell_type": "code",
   "execution_count": null,
   "metadata": {},
   "outputs": [],
   "source": [
    "#########################\n",
    "# Building an RNN Model #\n",
    "#########################"
   ]
  },
  {
   "cell_type": "code",
   "execution_count": 12,
   "metadata": {},
   "outputs": [
    {
     "name": "stdout",
     "output_type": "stream",
     "text": [
      "Model: \"sequential_1\"\n",
      "_________________________________________________________________\n",
      "Layer (type)                 Output Shape              Param #   \n",
      "=================================================================\n",
      "embedding (Embedding)        (None, None, 32)          32000     \n",
      "_________________________________________________________________\n",
      "simple_rnn (SimpleRNN)       (None, None, 32)          2080      \n",
      "_________________________________________________________________\n",
      "simple_rnn_1 (SimpleRNN)     (None, 32)                2080      \n",
      "_________________________________________________________________\n",
      "dense (Dense)                (None, 1)                 33        \n",
      "=================================================================\n",
      "Total params: 36,193\n",
      "Trainable params: 36,193\n",
      "Non-trainable params: 0\n",
      "_________________________________________________________________\n"
     ]
    }
   ],
   "source": [
    "# We begin by building an RNN model, starting with an embedding layer with input_dim = 1000 and output_dim = 32.\n",
    "# Then two recurrent layers of SimpleRNN (regular, fully connected recurrent layer - not gated or LSTM)\n",
    "# Lastly, a non-recurrent dense layer as the output layer with a single output value as the prediction\n",
    "\n",
    "from tensorflow.keras import Sequential\n",
    "from tensorflow.keras.layers import Embedding\n",
    "from tensorflow.keras.layers import SimpleRNN\n",
    "from tensorflow.keras.layers import Dense\n",
    "\n",
    "model = Sequential()\n",
    "model.add(Embedding(input_dim=1000, output_dim=32))\n",
    "model.add(SimpleRNN(32, return_sequences=True))\n",
    "model.add(SimpleRNN(32))\n",
    "model.add(Dense(1))\n",
    "\n",
    "model.summary()\n",
    "\n",
    "\n",
    "#The above is just an example of how to build an RNN model\n",
    "# Below we will build one for the sentiment analysis"
   ]
  },
  {
   "cell_type": "code",
   "execution_count": null,
   "metadata": {},
   "outputs": [],
   "source": [
    "################################################\n",
    "# Building an RNN model for sentiment analysis #\n",
    "################################################"
   ]
  },
  {
   "cell_type": "code",
   "execution_count": null,
   "metadata": {},
   "outputs": [],
   "source": [
    "# We have long sequences (input data length) so we are going to use a LSTM layer\n",
    "# to account for long-term effects - we will also put the LSTM layer inside\n",
    "# a Bidirectional wrapper - makes the recurrent layers pass through the input sequences\n",
    "# from both directions - start to end as well as the reverse"
   ]
  },
  {
   "cell_type": "code",
   "execution_count": 13,
   "metadata": {},
   "outputs": [
    {
     "name": "stdout",
     "output_type": "stream",
     "text": [
      "Model: \"sequential_2\"\n",
      "_________________________________________________________________\n",
      "Layer (type)                 Output Shape              Param #   \n",
      "=================================================================\n",
      "embed-layer (Embedding)      (None, None, 20)          1740180   \n",
      "_________________________________________________________________\n",
      "bidir-lstm (Bidirectional)   (None, 128)               43520     \n",
      "_________________________________________________________________\n",
      "dense_1 (Dense)              (None, 64)                8256      \n",
      "_________________________________________________________________\n",
      "dense_2 (Dense)              (None, 1)                 65        \n",
      "=================================================================\n",
      "Total params: 1,792,021\n",
      "Trainable params: 1,792,021\n",
      "Non-trainable params: 0\n",
      "_________________________________________________________________\n",
      "Epoch 1/10\n",
      "625/625 [==============================] - 451s 722ms/step - loss: 0.5071 - accuracy: 0.7369 - val_loss: 0.3690 - val_accuracy: 0.8528\n",
      "Epoch 2/10\n",
      "625/625 [==============================] - 456s 729ms/step - loss: 0.2578 - accuracy: 0.9049 - val_loss: 0.4068 - val_accuracy: 0.8434\n",
      "Epoch 3/10\n",
      "625/625 [==============================] - 453s 725ms/step - loss: 0.1642 - accuracy: 0.9427 - val_loss: 0.4231 - val_accuracy: 0.8328\n",
      "Epoch 4/10\n",
      "625/625 [==============================] - 458s 733ms/step - loss: 0.0927 - accuracy: 0.9699 - val_loss: 0.4899 - val_accuracy: 0.8492\n",
      "Epoch 5/10\n",
      "625/625 [==============================] - 478s 764ms/step - loss: 0.0880 - accuracy: 0.9690 - val_loss: 0.6070 - val_accuracy: 0.8450\n",
      "Epoch 6/10\n",
      "625/625 [==============================] - 450s 720ms/step - loss: 0.0791 - accuracy: 0.9722 - val_loss: 0.7883 - val_accuracy: 0.8284\n",
      "Epoch 7/10\n",
      "625/625 [==============================] - 431s 689ms/step - loss: 0.0341 - accuracy: 0.9895 - val_loss: 0.8197 - val_accuracy: 0.8242\n",
      "Epoch 8/10\n",
      "625/625 [==============================] - 480s 768ms/step - loss: 0.0255 - accuracy: 0.9923 - val_loss: 0.8285 - val_accuracy: 0.8276\n",
      "Epoch 9/10\n",
      "625/625 [==============================] - 392s 627ms/step - loss: 0.0185 - accuracy: 0.9937 - val_loss: 0.8054 - val_accuracy: 0.8458\n",
      "Epoch 10/10\n",
      "625/625 [==============================] - 437s 699ms/step - loss: 0.0354 - accuracy: 0.9875 - val_loss: 0.6209 - val_accuracy: 0.8128\n",
      "782/782 [==============================] - 111s 141ms/step - loss: 0.6147 - accuracy: 0.8081\n",
      "Test acc.: 80.81%\n"
     ]
    }
   ],
   "source": [
    "embedding_dim = 20\n",
    "vocab_size = len(token_counts) + 2\n",
    "\n",
    "tf.random.set_seed(1)\n",
    "\n",
    "# Build the model\n",
    "bi_lstm_model = tf.keras.Sequential([ #Start with the embedding - length is sample size + 2\n",
    "    tf.keras.layers.Embedding(\n",
    "        input_dim = vocab_size,\n",
    "        output_dim = embedding_dim,\n",
    "        name = 'embed-layer'),\n",
    "    \n",
    "    tf.keras.layers.Bidirectional(\n",
    "        tf.keras.layers.LSTM(64, name = 'lstm-layer'), # bidirectional LSTM layer\n",
    "        name = 'bidir-lstm'),\n",
    "    \n",
    "    tf.keras.layers.Dense(64, activation = 'relu'), # first dense layer - relu activation - feature size = 64\n",
    "    \n",
    "    tf.keras.layers.Dense(1, activation = 'sigmoid')\n",
    "])\n",
    "\n",
    "bi_lstm_model.summary()\n",
    "\n",
    "## Compile and train:\n",
    "bi_lstm_model.compile(\n",
    "    optimizer = tf.keras.optimizers.Adam(1e-3),\n",
    "    loss = tf.keras.losses.BinaryCrossentropy(from_logits=False), \n",
    "    metrics = ['accuracy'])\n",
    "#since we specify sigmoid activation in the last layer - our outputs are probabilities - from_logits=False\n",
    "\n",
    "history = bi_lstm_model.fit( # training the data\n",
    "    train_data,\n",
    "    validation_data = valid_data,\n",
    "    epochs = 10)\n",
    "\n",
    "##Evaluate on the test data\n",
    "\n",
    "test_results = bi_lstm_model.evaluate(test_data)\n",
    "\n",
    "print('Test acc.: {:.2f}%'.format(test_results[1]*100))\n"
   ]
  },
  {
   "cell_type": "code",
   "execution_count": 17,
   "metadata": {},
   "outputs": [],
   "source": [
    "#Creating a pre-processing wrapper that only take the last portion of each review\n",
    "# doing this to use the SimpleRNN which fails with the above task because the sequence lengths are too long\n",
    "# The helpful function below, preprocess_datasets(), combines preprocessing steps 2-4\n",
    "\n",
    "from collections import Counter\n",
    "\n",
    "def preprocess_datasets(\n",
    "    ds_raw_train,\n",
    "    ds_raw_valid,\n",
    "    ds_raw_test,\n",
    "    max_seq_length = None, #optional - how many tokens from each review - if 100, then only the last 100 tokens\n",
    "    batch_size = 32):\n",
    "    \n",
    "    ##(step 1 is already done)\n",
    "    ## Step 2: find unique tokens\n",
    "    tokenizer = tfds.features.text.Tokenizer()\n",
    "    token_counts = Counter()\n",
    "    \n",
    "    for example in ds_raw_train:\n",
    "        tokens = tokenizer.tokenize(example[0].numpy()[0])\n",
    "        if max_seq_length is not None:\n",
    "            tokens = tokens[-max_seq_length:]\n",
    "        token_counts.update(tokens)\n",
    "        \n",
    "    print('Vocab-size:', len(token_counts))\n",
    "    \n",
    "    #Step 3: encoding the texts\n",
    "    encoder = tfds.features.text.TokenTextEncoder(\n",
    "        token_counts)\n",
    "    \n",
    "    def encode(text_tensor, label):\n",
    "        text = text_tensor.numpy()[0]\n",
    "        encoded_text = encoder.encode(text)\n",
    "        if max_seq_length is not None:\n",
    "            encoded_text = encoded_text[-max_seq_length:]\n",
    "        return encoded_text, label\n",
    "    \n",
    "    def encode_map_fn(text, label):\n",
    "        return tf.py_function(encode, inp=[text, label],\n",
    "                             Tout=(tf.int64, tf.int64))\n",
    "    \n",
    "    ds_train = ds_raw_train.map(encode_map_fn)\n",
    "    ds_valid = ds_raw_valid.map(encode_map_fn)\n",
    "    ds_test = ds_raw_test.map(encode_map_fn)\n",
    "    \n",
    "    #Step 4: batching the datasets\n",
    "    train_data = ds_train.padded_batch(\n",
    "        batch_size, padded_shapes = ([-1], []))\n",
    "    \n",
    "    valid_data = ds_valid.padded_batch(\n",
    "        batch_size, padded_shapes = ([-1], []))\n",
    "    \n",
    "    test_data = ds_test.padded_batch(\n",
    "    batch_size, padded_shapes = ([-1], []))\n",
    "    \n",
    "    return(train_data, valid_data, test_data, \n",
    "          len(token_counts))\n",
    "    \n",
    "    \n",
    "    \n"
   ]
  },
  {
   "cell_type": "code",
   "execution_count": null,
   "metadata": {},
   "outputs": [],
   "source": []
  },
  {
   "cell_type": "code",
   "execution_count": 15,
   "metadata": {},
   "outputs": [],
   "source": [
    "#Now another helper function, build_rnn_model(), for building models with different architecture\n",
    "# more easily\n",
    "\n",
    "from tensorflow.keras.layers import Embedding\n",
    "from tensorflow.keras.layers import Bidirectional\n",
    "from tensorflow.keras.layers import SimpleRNN\n",
    "from tensorflow.keras.layers import LSTM\n",
    "from tensorflow.keras.layers import GRU\n",
    "\n",
    "def build_rnn_model(embedding_dim, vocab_size,\n",
    "                   recurrent_type = 'SimpleRNN',\n",
    "                   n_recurrent_units = 64,\n",
    "                   n_recurrent_layers = 1,\n",
    "                   bidirectional = True):\n",
    "    \n",
    "    tf.random.set_seed(1)\n",
    "    \n",
    "    #build the model\n",
    "    model = tf.keras.Sequential()\n",
    "    \n",
    "    model.add(Embedding(\n",
    "        input_dim = vocab_size,\n",
    "        output_dim= embedding_dim,\n",
    "        name = 'embed-layer'))\n",
    "    \n",
    "    for i in range(n_recurrent_layers):\n",
    "        return_sequences = (i < n_recurrent_layers-1)\n",
    "        \n",
    "        if recurrent_type == 'SimpleRNN':\n",
    "            recurrent_layer = SimpleRNN(\n",
    "                units = n_recurrent_units,\n",
    "                return_sequences=return_sequences,\n",
    "                name = 'simprnn-layer-{}'.format(i))\n",
    "        \n",
    "        elif recurrent_type == 'LSTM':\n",
    "            recurrent_layer = LSTM(\n",
    "                units = n_recurrent_units,\n",
    "                return_sequences=return_sequences,\n",
    "                name = 'lstm-layer-{}'.format(i))\n",
    "        \n",
    "        elif recurrent_type == 'GRU':\n",
    "            recurrent_layer = GRU(\n",
    "                units = n_recurrent_units,\n",
    "                return_sequences=return_sequences,\n",
    "                name = 'gru-rnn_layer{}'.format(i))\n",
    "            \n",
    "        if bidirectional:\n",
    "            recurrent_layer = Bidirectional(\n",
    "                recurrent_layer, name = 'bidir-'+\n",
    "                recurrent_layer.name)\n",
    "            \n",
    "        model.add(recurrent_layer)\n",
    "        \n",
    "    model.add(tf.keras.layers.Dense(64, activation = 'relu'))\n",
    "    model.add(tf.keras.layers.Dense(1, activation = 'sigmoid'))\n",
    "    \n",
    "    return model"
   ]
  },
  {
   "cell_type": "code",
   "execution_count": 18,
   "metadata": {},
   "outputs": [
    {
     "name": "stdout",
     "output_type": "stream",
     "text": [
      "Vocab-size: 58063\n",
      "Model: \"sequential_3\"\n",
      "_________________________________________________________________\n",
      "Layer (type)                 Output Shape              Param #   \n",
      "=================================================================\n",
      "embed-layer (Embedding)      (None, None, 20)          1161300   \n",
      "_________________________________________________________________\n",
      "bidir-simprnn-layer-0 (Bidir (None, 128)               10880     \n",
      "_________________________________________________________________\n",
      "dense_3 (Dense)              (None, 64)                8256      \n",
      "_________________________________________________________________\n",
      "dense_4 (Dense)              (None, 1)                 65        \n",
      "=================================================================\n",
      "Total params: 1,180,501\n",
      "Trainable params: 1,180,501\n",
      "Non-trainable params: 0\n",
      "_________________________________________________________________\n"
     ]
    }
   ],
   "source": [
    "#With the above simple functions - it is possible to compare different RNN models with\n",
    "# different input sequence lengths\n",
    "\n",
    "#Below is an example where the maximum length is set at 100 tokens\n",
    "\n",
    "batch_size = 32\n",
    "embedding_dim = 20\n",
    "max_seq_length = 100\n",
    "\n",
    "train_data, valid_data, test_data, n = preprocess_datasets(\n",
    "    ds_raw_train, ds_raw_valid, ds_raw_test,\n",
    "    max_seq_length=max_seq_length,\n",
    "    batch_size=batch_size)\n",
    "\n",
    "vocab_size = n + 2\n",
    "\n",
    "rnn_model = build_rnn_model(\n",
    "    embedding_dim, vocab_size,\n",
    "    recurrent_type='SimpleRNN',\n",
    "    n_recurrent_units=64,\n",
    "    n_recurrent_layers=1,\n",
    "    bidirectional=True)\n",
    "\n",
    "rnn_model.summary()"
   ]
  },
  {
   "cell_type": "code",
   "execution_count": 19,
   "metadata": {},
   "outputs": [
    {
     "name": "stdout",
     "output_type": "stream",
     "text": [
      "Epoch 1/10\n",
      "625/625 [==============================] - 55s 88ms/step - loss: 0.6986 - accuracy: 0.5056 - val_loss: 0.6909 - val_accuracy: 0.5336\n",
      "Epoch 2/10\n",
      "625/625 [==============================] - 61s 98ms/step - loss: 0.6649 - accuracy: 0.5901 - val_loss: 0.5811 - val_accuracy: 0.7062\n",
      "Epoch 3/10\n",
      "625/625 [==============================] - 63s 101ms/step - loss: 0.4421 - accuracy: 0.7872 - val_loss: 0.4584 - val_accuracy: 0.7888\n",
      "Epoch 4/10\n",
      "625/625 [==============================] - 56s 90ms/step - loss: 0.1862 - accuracy: 0.9261 - val_loss: 0.6248 - val_accuracy: 0.7490\n",
      "Epoch 5/10\n",
      "625/625 [==============================] - 53s 85ms/step - loss: 0.0653 - accuracy: 0.9779 - val_loss: 0.7481 - val_accuracy: 0.8074\n",
      "Epoch 6/10\n",
      "625/625 [==============================] - 57s 91ms/step - loss: 0.0274 - accuracy: 0.9907 - val_loss: 0.8246 - val_accuracy: 0.7814\n",
      "Epoch 7/10\n",
      "625/625 [==============================] - 61s 98ms/step - loss: 0.0160 - accuracy: 0.9945 - val_loss: 0.8612 - val_accuracy: 0.7954\n",
      "Epoch 8/10\n",
      "625/625 [==============================] - 56s 89ms/step - loss: 0.0172 - accuracy: 0.9940 - val_loss: 1.0206 - val_accuracy: 0.7794\n",
      "Epoch 9/10\n",
      "625/625 [==============================] - 54s 87ms/step - loss: 0.0149 - accuracy: 0.9951 - val_loss: 1.2821 - val_accuracy: 0.7710\n",
      "Epoch 10/10\n",
      "625/625 [==============================] - 65s 104ms/step - loss: 0.0256 - accuracy: 0.9909 - val_loss: 1.1238 - val_accuracy: 0.7828\n"
     ]
    }
   ],
   "source": [
    "rnn_model.compile(\n",
    "    optimizer=tf.keras.optimizers.Adam(1e-3),\n",
    "    loss = tf.keras.losses.BinaryCrossentropy(from_logits=False),\n",
    "    metrics=['accuracy'])\n",
    "\n",
    "history = rnn_model.fit(\n",
    "    train_data,\n",
    "    validation_data = valid_data,\n",
    "    epochs = 10)"
   ]
  }
 ],
 "metadata": {
  "kernelspec": {
   "display_name": "Python 3",
   "language": "python",
   "name": "python3"
  },
  "language_info": {
   "codemirror_mode": {
    "name": "ipython",
    "version": 3
   },
   "file_extension": ".py",
   "mimetype": "text/x-python",
   "name": "python",
   "nbconvert_exporter": "python",
   "pygments_lexer": "ipython3",
   "version": "3.7.5"
  }
 },
 "nbformat": 4,
 "nbformat_minor": 4
}
