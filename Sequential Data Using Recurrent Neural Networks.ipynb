{
 "cells": [
  {
   "cell_type": "code",
   "execution_count": 1,
   "metadata": {},
   "outputs": [],
   "source": [
    "########################################\n",
    "#SimpleRNN - out-to-output recurrence #\n",
    "########################################"
   ]
  },
  {
   "cell_type": "code",
   "execution_count": 2,
   "metadata": {},
   "outputs": [
    {
     "name": "stdout",
     "output_type": "stream",
     "text": [
      "W_xh shape: (5, 2)\n",
      "W_oo shape: (2, 2)\n",
      "b_h shape: (2,)\n"
     ]
    }
   ],
   "source": [
    "import tensorflow as tf\n",
    "tf.random.set_seed(1)\n",
    "\n",
    "rnn_layer = tf.keras.layers.SimpleRNN( \n",
    "    units = 2, use_bias = True,\n",
    "    return_sequences=True) #return_sequence gives a sequence output rather than just a final output\n",
    "\n",
    "rnn_layer.build(input_shape = (None, None, 5)) #first dimension is the batch dimension (none for variable size),\n",
    "                                               #Second dimension corresponds to the sequence \n",
    "                                               # (none for variable length)\n",
    "                                               #Last dimension corresponds to the features\n",
    "\n",
    "w_xh, w_oo, b_h = rnn_layer.weights\n",
    "\n",
    "print('W_xh shape:', w_xh.shape)\n",
    "print('W_oo shape:', w_oo.shape)\n",
    "print('b_h shape:', b_h.shape)"
   ]
  },
  {
   "cell_type": "code",
   "execution_count": 5,
   "metadata": {},
   "outputs": [
    {
     "name": "stdout",
     "output_type": "stream",
     "text": [
      "Time step 0 =>\n",
      "   Input       : [[1. 1. 1. 1. 1.]]\n",
      "   Hidden      : [[0.41464037 0.96012145]]\n",
      "   Output (manual) : [[0.39240566 0.74433106]]\n",
      "   SimpleRNN output: [0.39240566 0.74433106]\n",
      "\n",
      "Time step 1 =>\n",
      "   Input       : [[2. 2. 2. 2. 2.]]\n",
      "   Hidden      : [[0.82928073 1.9202429 ]]\n",
      "   Output (manual) : [[0.80116504 0.9912947 ]]\n",
      "   SimpleRNN output: [0.80116504 0.9912947 ]\n",
      "\n",
      "Time step 2 =>\n",
      "   Input       : [[3. 3. 3. 3. 3.]]\n",
      "   Hidden      : [[1.243921  2.8803642]]\n",
      "   Output (manual) : [[0.95468265 0.9993069 ]]\n",
      "   SimpleRNN output: [0.95468265 0.9993069 ]\n",
      "\n"
     ]
    }
   ],
   "source": [
    "#Now we call the forward pass of the rnn_layer and manually compute \n",
    "# the outputs at each time step and compare them:\n",
    "\n",
    "x_seq = tf.convert_to_tensor(\n",
    "    [[1.0] * 5, [2.0] * 5, [3.0] * 5],\n",
    "    dtype = tf.float32)\n",
    "\n",
    "##Output of SimpleRNN\n",
    "output = rnn_layer(tf.reshape(x_seq, shape = (1, 3, 5))) #1 batch, 3 sequence length, 5 features\n",
    "\n",
    "#Manually computing the output\n",
    "out_man = []\n",
    "for t in range(len(x_seq)):\n",
    "    xt = tf.reshape(x_seq[t], (1, 5))\n",
    "    print('Time step {} =>'.format(t))\n",
    "    print('   Input       :', xt.numpy())\n",
    "    \n",
    "    ht = tf.matmul(xt, w_xh) + b_h\n",
    "    print('   Hidden      :', ht.numpy())\n",
    "    \n",
    "    if t > 0:\n",
    "        prev_o = out_man[t-1]\n",
    "    \n",
    "    else:\n",
    "        prev_o = tf.zeros(shape = (ht.shape))\n",
    "        \n",
    "    ot = ht + tf.matmul(prev_o, w_oo)\n",
    "    ot = tf.math.tanh(ot)\n",
    "    out_man.append(ot)\n",
    "    \n",
    "    print('   Output (manual) :', ot.numpy())\n",
    "    print('   SimpleRNN output:'.format(t),\n",
    "         output[0][t].numpy())\n",
    "    print()\n",
    "    \n",
    "    "
   ]
  }
 ],
 "metadata": {
  "kernelspec": {
   "display_name": "Python 3",
   "language": "python",
   "name": "python3"
  },
  "language_info": {
   "codemirror_mode": {
    "name": "ipython",
    "version": 3
   },
   "file_extension": ".py",
   "mimetype": "text/x-python",
   "name": "python",
   "nbconvert_exporter": "python",
   "pygments_lexer": "ipython3",
   "version": "3.7.5"
  }
 },
 "nbformat": 4,
 "nbformat_minor": 4
}
